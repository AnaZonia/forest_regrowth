{
 "cells": [
  {
   "cell_type": "markdown",
   "metadata": {},
   "source": [
    "# Age and Biomass\n",
    "\n",
    "This script outputs the satellite-based rasters into the Google Earth Engine Cloud.\n",
    "\n",
    "Inputs:\n",
    "\n",
    "\n"
   ]
  },
  {
   "cell_type": "code",
   "execution_count": 1,
   "metadata": {
    "id": "cOBmvER1OjFM"
   },
   "outputs": [],
   "source": [
    "import ee\n",
    "import geemap\n",
    "from utils import *\n",
    "initialize()\n",
    "\n",
    "config = ProjectConfig()\n",
    "roi = config.roi\n",
    "data_folder = config.data_folder\n",
    "last_year = config.last_year\n",
    "\n",
    "mapbiomas, lulc = desired_lulc()\n"
   ]
  },
  {
   "cell_type": "markdown",
   "metadata": {},
   "source": [
    "## Biomass - Export secondary\n",
    "\n",
    "Biomass data is in hectares, but mapbiomas data is 30m resolution.\n",
    "\n",
    "To deal with edge pixels, we aggregate biomass values to 30m by using the mean (so there is a buffer for land use pixels caught in between two biomass values).\n",
    "\n",
    "## Remove isolated pixels\n",
    "\n",
    "In the map, there were isolated pixels, often around the edges of forest patches. These would likely be due to misclassification, or follow different behaviors due to edge effects.\n",
    "\n",
    "To avoid this issue, a kernel is applied here to include only secondary forest patches that are mostly surrounded by other secondary forest pixels."
   ]
  },
  {
   "cell_type": "code",
   "execution_count": null,
   "metadata": {},
   "outputs": [
    {
     "data": {
      "text/html": [
       "\n",
       "            <style>\n",
       "                .geemap-dark {\n",
       "                    --jp-widgets-color: white;\n",
       "                    --jp-widgets-label-color: white;\n",
       "                    --jp-ui-font-color1: white;\n",
       "                    --jp-layout-color2: #454545;\n",
       "                    background-color: #383838;\n",
       "                }\n",
       "\n",
       "                .geemap-dark .jupyter-button {\n",
       "                    --jp-layout-color3: #383838;\n",
       "                }\n",
       "\n",
       "                .geemap-colab {\n",
       "                    background-color: var(--colab-primary-surface-color, white);\n",
       "                }\n",
       "\n",
       "                .geemap-colab .jupyter-button {\n",
       "                    --jp-layout-color3: var(--colab-primary-surface-color, white);\n",
       "                }\n",
       "            </style>\n",
       "            "
      ],
      "text/plain": [
       "<IPython.core.display.HTML object>"
      ]
     },
     "metadata": {},
     "output_type": "display_data"
    }
   ],
   "source": [
    "def export_secondary(age, name):\n",
    "\n",
    "    # select the data points that match their classification as young or old by IPCC\n",
    "    filter1 = ee.Image(\"NASA/ORNL/global_forest_classification_2020/V1/00N_10N\")\n",
    "    filter2 = ee.Image(\"NASA/ORNL/global_forest_classification_2020/V1/10N_20N\")\n",
    "    filter_ages = ee.ImageCollection([filter1, filter2]).mosaic()\n",
    "    filter_young_secondary = filter_ages.eq(2)\n",
    "    filter_old_secondary = filter_ages.eq(3)\n",
    "    young_secondary = age.lte(20).updateMask(filter_young_secondary).unmask(0)\n",
    "    old_secondary = age.gt(20).updateMask(filter_old_secondary).unmask(0)\n",
    "    ipcc_mask = young_secondary.add(old_secondary)\n",
    "\n",
    "    # # ----------------  Select only patches of at least one hectare  ----------------\n",
    "    # # Identify all connected components (patches) in the image\n",
    "    # age_patches = age.connectedComponents(ee.Kernel.plus(1), 256)\n",
    "    # # Calculate the area of each patch\n",
    "    # patchAreas = age_patches.select(\"labels\").selfMask().addBands(ee.Image.pixelArea()).reduceConnectedComponents(ee.Reducer.sum(), 'labels', 256)\n",
    "    # # Select only patches of at least one hectare\n",
    "    # largePatches = patchAreas.gte(10000).selfMask()\n",
    "\n",
    "    # ----------------  Exclude edge pixels ----------------\n",
    "    # convert non-forest pixels from NA to zero\n",
    "    # check what is the most frequent value within each hectare - if it's zero, it means the pixel is surrounded by non-forest cover\n",
    "    exclude_edge_mask = age.unmask(0).focalMode(kernelType = \"circle\", radius = 100, units = \"meters\").gt(0).selfMask()\n",
    "\n",
    "    distance_to_border_mask = ee.Image(f\"{data_folder}/distance_to_border_mask\")\n",
    "\n",
    "    age = age.updateMask(ipcc_mask.And(exclude_edge_mask).And(distance_to_border_mask)).rename(\"age\")\n",
    "\n",
    "    export_image(age, name, region = roi, scale = 30)\n",
    "\n",
    "\n",
    "export_secondary(mapbiomas, f\"mapbiomas_{last_year}\")"
   ]
  }
 ],
 "metadata": {
  "colab": {
   "provenance": []
  },
  "kernelspec": {
   "display_name": "regrowth-env",
   "language": "python",
   "name": "python3"
  },
  "language_info": {
   "codemirror_mode": {
    "name": "ipython",
    "version": 3
   },
   "file_extension": ".py",
   "mimetype": "text/x-python",
   "name": "python",
   "nbconvert_exporter": "python",
   "pygments_lexer": "ipython3",
   "version": "3.11.12"
  }
 },
 "nbformat": 4,
 "nbformat_minor": 4
}
