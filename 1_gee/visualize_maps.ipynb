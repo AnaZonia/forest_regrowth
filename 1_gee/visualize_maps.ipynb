{
 "cells": [
  {
   "cell_type": "code",
   "execution_count": 1,
   "id": "cc1e492e",
   "metadata": {},
   "outputs": [],
   "source": [
    "import ee\n",
    "import geemap\n",
    "from gee_0_utils import *\n",
    "\n",
    "initialize()\n",
    "config = ProjectConfig()\n",
    "roi = config.roi\n",
    "data_folder = config.data_folder\n",
    "\n",
    "def fc_to_image(fc, property, scale = 1000):\n",
    "    # Convert the feature collection to an image\n",
    "    return fc.reduceToImage(\n",
    "            properties = [property],\n",
    "            reducer = ee.Reducer.first()\n",
    "        ).reproject(\n",
    "            crs = 'EPSG:4326',  # or match your source CRS\n",
    "            scale = scale\n",
    "        ).rename(property)\n",
    "\n",
    "\n",
    "def export_image(image, description):\n",
    "    task = ee.batch.Export.image.toDrive(\n",
    "        image = image,\n",
    "        description = description,\n",
    "        fileNamePrefix = description,\n",
    "        region = roi,\n",
    "        scale = image.projection().nominalScale(),\n",
    "        maxPixels = 1e13,\n",
    "        crs = 'EPSG:4326',\n",
    "        fileFormat = 'GeoTIFF'\n",
    "    )\n",
    "    task.start()"
   ]
  },
  {
   "cell_type": "markdown",
   "id": "8f1bf6cf",
   "metadata": {},
   "source": [
    "## Export asymptotes for Figure 2"
   ]
  },
  {
   "cell_type": "code",
   "execution_count": null,
   "id": "cd4ef2ee",
   "metadata": {},
   "outputs": [
    {
     "data": {
      "text/html": [
       "\n",
       "            <style>\n",
       "                .geemap-dark {\n",
       "                    --jp-widgets-color: white;\n",
       "                    --jp-widgets-label-color: white;\n",
       "                    --jp-ui-font-color1: white;\n",
       "                    --jp-layout-color2: #454545;\n",
       "                    background-color: #383838;\n",
       "                }\n",
       "\n",
       "                .geemap-dark .jupyter-button {\n",
       "                    --jp-layout-color3: #383838;\n",
       "                }\n",
       "\n",
       "                .geemap-colab {\n",
       "                    background-color: var(--colab-primary-surface-color, white);\n",
       "                }\n",
       "\n",
       "                .geemap-colab .jupyter-button {\n",
       "                    --jp-layout-color3: var(--colab-primary-surface-color, white);\n",
       "                }\n",
       "            </style>\n",
       "            "
      ],
      "text/plain": [
       "<IPython.core.display.HTML object>"
      ]
     },
     "metadata": {},
     "output_type": "display_data"
    }
   ],
   "source": [
    "nearest_mature = ee.Image(f\"{data_folder}/nearest_mature\").selfMask()\n",
    "\n",
    "quarters_ecoreg_biomass = ee.Image(f\"{data_folder}/quarters_ecoreg_biomass\").select(\"quarter_biomass\").selfMask()\n",
    "\n",
    "biomes = ee.Image(f\"{data_folder}/categorical\").select(\"biome\")\n",
    "biomes_mask = biomes.eq(1).rename(\"biome_mask\").selfMask()\n",
    "\n",
    "# nearest_mature = ee.Image(f\"{data_folder}/nearest_mature\").selfMask()\n",
    "\n",
    "\n",
    "# export_image(nearest_mature, \"nearest_mature\")\n",
    "# export_image(quarters_ecoreg_biomass, \"quarters_ecoreg_biomass\")\n",
    "# export_image(biomes_mask, \"biome_mask\")"
   ]
  },
  {
   "cell_type": "markdown",
   "id": "7628d901",
   "metadata": {},
   "source": [
    "## Export predictions for Figure 4"
   ]
  },
  {
   "cell_type": "code",
   "execution_count": null,
   "id": "d13f4000",
   "metadata": {},
   "outputs": [
    {
     "data": {
      "text/html": [
       "\n",
       "            <style>\n",
       "                .geemap-dark {\n",
       "                    --jp-widgets-color: white;\n",
       "                    --jp-widgets-label-color: white;\n",
       "                    --jp-ui-font-color1: white;\n",
       "                    --jp-layout-color2: #454545;\n",
       "                    background-color: #383838;\n",
       "                }\n",
       "\n",
       "                .geemap-dark .jupyter-button {\n",
       "                    --jp-layout-color3: #383838;\n",
       "                }\n",
       "\n",
       "                .geemap-colab {\n",
       "                    background-color: var(--colab-primary-surface-color, white);\n",
       "                }\n",
       "\n",
       "                .geemap-colab .jupyter-button {\n",
       "                    --jp-layout-color3: var(--colab-primary-surface-color, white);\n",
       "                }\n",
       "            </style>\n",
       "            "
      ],
      "text/plain": [
       "<IPython.core.display.HTML object>"
      ]
     },
     "metadata": {},
     "output_type": "display_data"
    },
    {
     "data": {
      "application/vnd.jupyter.widget-view+json": {
       "model_id": "3a2c41b7cebd41ad9585115d7313f8ea",
       "version_major": 2,
       "version_minor": 0
      },
      "text/plain": [
       "Map(center=[0, 0], controls=(WidgetControl(options=['position', 'transparent_bg'], widget=SearchDataGUI(childr…"
      ]
     },
     "execution_count": 7,
     "metadata": {},
     "output_type": "execute_result"
    }
   ],
   "source": [
    "\n",
    "# Predictions for 2050\n",
    "pred_lag_2050 = ee.FeatureCollection(f\"{data_folder}/results/pred_lag_2050\")\n",
    "pred_lag_2050 = fc_to_image(pred_lag_2050, \"pred_lag_2\", scale=1000)\n",
    "\n",
    "pred_delta = pred_lag_2050.subtract(biomass).rename(\"pred_delta\")\n",
    "\n",
    "# Aggregate the high-resolution pixels into the 10 km grid\n",
    "pred_delta_10k = pred_delta.reduceResolution(\n",
    "    reducer = ee.Reducer.median(),\n",
    "    maxPixels = 120000,\n",
    "    bestEffort = True # Use all pixels that can fit in the larger pixel\n",
    ").reproject(\n",
    "    crs = 'EPSG:4326',\n",
    "    scale = 10000\n",
    ").rename(\"pred_delta\")\n",
    "\n",
    "vis_params = {'min': -50, 'max': 120, 'palette': ['red', 'green']}\n",
    "map = geemap.Map(basemap = 'CartoDB.Positron')\n",
    "# map.centerObject(roi, 6)\n",
    "# map.addLayer(biomass, vis_params, \"biomass_2020\")\n",
    "# map.addLayer(pred_lag_2050, vis_params, \"biomass_2050\")\n",
    "# map.addLayer(asymptote, vis_params, \"asymptote\")\n",
    "map.addLayer(pred_delta, vis_params, \"pred_delta\")\n",
    "map.addLayer(pred_delta_10k, vis_params, \"pred_delta_10k\")\n",
    "map.add_colorbar(vis_params, label = \"biomass (Mg/ha)\", layer_name = \"biomass\")\n",
    "map"
   ]
  },
  {
   "cell_type": "markdown",
   "id": "ec03ab06",
   "metadata": {},
   "source": [
    "## Export Extended Data Maps"
   ]
  },
  {
   "cell_type": "code",
   "execution_count": null,
   "id": "e78e6984",
   "metadata": {},
   "outputs": [
    {
     "data": {
      "text/html": [
       "\n",
       "            <style>\n",
       "                .geemap-dark {\n",
       "                    --jp-widgets-color: white;\n",
       "                    --jp-widgets-label-color: white;\n",
       "                    --jp-ui-font-color1: white;\n",
       "                    --jp-layout-color2: #454545;\n",
       "                    background-color: #383838;\n",
       "                }\n",
       "\n",
       "                .geemap-dark .jupyter-button {\n",
       "                    --jp-layout-color3: #383838;\n",
       "                }\n",
       "\n",
       "                .geemap-colab {\n",
       "                    background-color: var(--colab-primary-surface-color, white);\n",
       "                }\n",
       "\n",
       "                .geemap-colab .jupyter-button {\n",
       "                    --jp-layout-color3: var(--colab-primary-surface-color, white);\n",
       "                }\n",
       "            </style>\n",
       "            "
      ],
      "text/plain": [
       "<IPython.core.display.HTML object>"
      ]
     },
     "metadata": {},
     "output_type": "display_data"
    },
    {
     "data": {
      "application/vnd.jupyter.widget-view+json": {
       "model_id": "420b85202163412eac73a523cab26cd7",
       "version_major": 2,
       "version_minor": 0
      },
      "text/plain": [
       "Map(center=[0, 0], controls=(WidgetControl(options=['position', 'transparent_bg'], widget=SearchDataGUI(childr…"
      ]
     },
     "metadata": {},
     "output_type": "display_data"
    }
   ],
   "source": [
    "# Absolute error\n",
    "relative_growth = ee.FeatureCollection(f\"{data_folder}/results/relative_growth\")\n",
    "relative_growth = fc_to_image(relative_growth, \"percentage\")\n",
    "\n",
    "vis_params = {'min': 40, 'max': 60, 'palette': ['yellow', 'blue']}\n",
    "\n",
    "map = geemap.Map(basemap = 'CartoDB.Positron')\n",
    "map.addLayer(relative_growth, vis_params, \"relative_growth\")\n",
    "map.add_colorbar(vis_params, label = \"Percentage of asymptote\", layer_name = \"relative_growth\")\n",
    "map\n",
    "\n"
   ]
  },
  {
   "cell_type": "code",
   "execution_count": null,
   "id": "5bbcbbba",
   "metadata": {},
   "outputs": [
    {
     "data": {
      "text/html": [
       "\n",
       "            <style>\n",
       "                .geemap-dark {\n",
       "                    --jp-widgets-color: white;\n",
       "                    --jp-widgets-label-color: white;\n",
       "                    --jp-ui-font-color1: white;\n",
       "                    --jp-layout-color2: #454545;\n",
       "                    background-color: #383838;\n",
       "                }\n",
       "\n",
       "                .geemap-dark .jupyter-button {\n",
       "                    --jp-layout-color3: #383838;\n",
       "                }\n",
       "\n",
       "                .geemap-colab {\n",
       "                    background-color: var(--colab-primary-surface-color, white);\n",
       "                }\n",
       "\n",
       "                .geemap-colab .jupyter-button {\n",
       "                    --jp-layout-color3: var(--colab-primary-surface-color, white);\n",
       "                }\n",
       "            </style>\n",
       "            "
      ],
      "text/plain": [
       "<IPython.core.display.HTML object>"
      ]
     },
     "metadata": {},
     "output_type": "display_data"
    },
    {
     "data": {
      "application/vnd.jupyter.widget-view+json": {
       "model_id": "041094f8f0c941019033f0e09295a409",
       "version_major": 2,
       "version_minor": 0
      },
      "text/plain": [
       "Map(center=[0, 0], controls=(WidgetControl(options=['position', 'transparent_bg'], widget=SearchDataGUI(childr…"
      ]
     },
     "metadata": {},
     "output_type": "display_data"
    }
   ],
   "source": [
    "# Absolute error\n",
    "absolute_error = ee.FeatureCollection(f\"{data_folder}/results/absolute_error\")\n",
    "absolute_error = fc_to_image(absolute_error, \"error\")\n",
    "\n",
    "# Percent error\n",
    "percent_error = ee.FeatureCollection(f\"{data_folder}/results/percent_error\")\n",
    "percent_error = fc_to_image(percent_error, \"error\")\n",
    "\n",
    "vis_params = {'min': -100, 'max': 100, 'palette': ['red', 'blue']}\n",
    "\n",
    "map = geemap.Map(basemap = 'CartoDB.Positron')\n",
    "map.addLayer(absolute_error, vis_params, \"absolute_error\")\n",
    "map.addLayer(percent_error, vis_params, \"percent_error\")\n",
    "map.add_colorbar(vis_params, label = \"Absolute error\", layer_name = \"absolute_error\")\n",
    "map"
   ]
  }
 ],
 "metadata": {
  "kernelspec": {
   "display_name": "regrowth-env",
   "language": "python",
   "name": "python3"
  },
  "language_info": {
   "codemirror_mode": {
    "name": "ipython",
    "version": 3
   },
   "file_extension": ".py",
   "mimetype": "text/x-python",
   "name": "python",
   "nbconvert_exporter": "python",
   "pygments_lexer": "ipython3",
   "version": "3.11.12"
  }
 },
 "nbformat": 4,
 "nbformat_minor": 5
}
