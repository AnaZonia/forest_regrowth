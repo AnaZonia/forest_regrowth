{
 "cells": [
  {
   "cell_type": "code",
   "execution_count": null,
   "id": "cc1e492e",
   "metadata": {},
   "outputs": [
    {
     "data": {
      "text/html": [
       "\n",
       "            <style>\n",
       "                .geemap-dark {\n",
       "                    --jp-widgets-color: white;\n",
       "                    --jp-widgets-label-color: white;\n",
       "                    --jp-ui-font-color1: white;\n",
       "                    --jp-layout-color2: #454545;\n",
       "                    background-color: #383838;\n",
       "                }\n",
       "\n",
       "                .geemap-dark .jupyter-button {\n",
       "                    --jp-layout-color3: #383838;\n",
       "                }\n",
       "\n",
       "                .geemap-colab {\n",
       "                    background-color: var(--colab-primary-surface-color, white);\n",
       "                }\n",
       "\n",
       "                .geemap-colab .jupyter-button {\n",
       "                    --jp-layout-color3: var(--colab-primary-surface-color, white);\n",
       "                }\n",
       "            </style>\n",
       "            "
      ],
      "text/plain": [
       "<IPython.core.display.HTML object>"
      ]
     },
     "metadata": {},
     "output_type": "display_data"
    }
   ],
   "source": [
    "import ee\n",
    "import geemap\n",
    "from gee_0_utils import *\n",
    "\n",
    "initialize()\n",
    "config = ProjectConfig()\n",
    "roi = config.roi\n",
    "data_folder = config.data_folder\n",
    "\n",
    "def fc_to_image(fc, property, scale = 1000):\n",
    "    # Convert the feature collection to an image\n",
    "    return fc.reduceToImage(\n",
    "            properties = [property],\n",
    "            reducer = ee.Reducer.first()\n",
    "        ).reproject(\n",
    "            crs = 'EPSG:4326',  # or match your source CRS\n",
    "            scale = scale\n",
    "        ).rename(property)"
   ]
  },
  {
   "cell_type": "code",
   "execution_count": null,
   "id": "320dc056",
   "metadata": {},
   "outputs": [
    {
     "data": {
      "text/html": [
       "\n",
       "            <style>\n",
       "                .geemap-dark {\n",
       "                    --jp-widgets-color: white;\n",
       "                    --jp-widgets-label-color: white;\n",
       "                    --jp-ui-font-color1: white;\n",
       "                    --jp-layout-color2: #454545;\n",
       "                    background-color: #383838;\n",
       "                }\n",
       "\n",
       "                .geemap-dark .jupyter-button {\n",
       "                    --jp-layout-color3: #383838;\n",
       "                }\n",
       "\n",
       "                .geemap-colab {\n",
       "                    background-color: var(--colab-primary-surface-color, white);\n",
       "                }\n",
       "\n",
       "                .geemap-colab .jupyter-button {\n",
       "                    --jp-layout-color3: var(--colab-primary-surface-color, white);\n",
       "                }\n",
       "            </style>\n",
       "            "
      ],
      "text/plain": [
       "<IPython.core.display.HTML object>"
      ]
     },
     "metadata": {},
     "output_type": "display_data"
    },
    {
     "data": {
      "application/vnd.jupyter.widget-view+json": {
       "model_id": "420b85202163412eac73a523cab26cd7",
       "version_major": 2,
       "version_minor": 0
      },
      "text/plain": [
       "Map(center=[0, 0], controls=(WidgetControl(options=['position', 'transparent_bg'], widget=SearchDataGUI(childr…"
      ]
     },
     "execution_count": 30,
     "metadata": {},
     "output_type": "execute_result"
    }
   ],
   "source": [
    "# Absolute error\n",
    "relative_growth = ee.FeatureCollection(f\"{data_folder}/results/relative_growth\")\n",
    "relative_growth = fc_to_image(relative_growth, \"percentage\")\n",
    "\n",
    "vis_params = {'min': 40, 'max': 60, 'palette': ['yellow', 'blue']}\n",
    "\n",
    "map = geemap.Map(basemap = 'CartoDB.Positron')\n",
    "map.addLayer(relative_growth, vis_params, \"relative_growth\")\n",
    "map.add_colorbar(vis_params, label = \"Percentage of asymptote\", layer_name = \"relative_growth\")\n",
    "map\n",
    "\n"
   ]
  },
  {
   "cell_type": "code",
   "execution_count": 24,
   "id": "0f4fad51",
   "metadata": {},
   "outputs": [
    {
     "data": {
      "text/html": [
       "\n",
       "            <style>\n",
       "                .geemap-dark {\n",
       "                    --jp-widgets-color: white;\n",
       "                    --jp-widgets-label-color: white;\n",
       "                    --jp-ui-font-color1: white;\n",
       "                    --jp-layout-color2: #454545;\n",
       "                    background-color: #383838;\n",
       "                }\n",
       "\n",
       "                .geemap-dark .jupyter-button {\n",
       "                    --jp-layout-color3: #383838;\n",
       "                }\n",
       "\n",
       "                .geemap-colab {\n",
       "                    background-color: var(--colab-primary-surface-color, white);\n",
       "                }\n",
       "\n",
       "                .geemap-colab .jupyter-button {\n",
       "                    --jp-layout-color3: var(--colab-primary-surface-color, white);\n",
       "                }\n",
       "            </style>\n",
       "            "
      ],
      "text/plain": [
       "<IPython.core.display.HTML object>"
      ]
     },
     "metadata": {},
     "output_type": "display_data"
    },
    {
     "data": {
      "application/vnd.jupyter.widget-view+json": {
       "model_id": "041094f8f0c941019033f0e09295a409",
       "version_major": 2,
       "version_minor": 0
      },
      "text/plain": [
       "Map(center=[0, 0], controls=(WidgetControl(options=['position', 'transparent_bg'], widget=SearchDataGUI(childr…"
      ]
     },
     "execution_count": 24,
     "metadata": {},
     "output_type": "execute_result"
    }
   ],
   "source": [
    "# Absolute error\n",
    "absolute_error = ee.FeatureCollection(f\"{data_folder}/results/absolute_error\")\n",
    "absolute_error = fc_to_image(absolute_error, \"error\")\n",
    "\n",
    "# Percent error\n",
    "percent_error = ee.FeatureCollection(f\"{data_folder}/results/percent_error\")\n",
    "percent_error = fc_to_image(percent_error, \"error\")\n",
    "\n",
    "vis_params = {'min': -100, 'max': 100, 'palette': ['red', 'blue']}\n",
    "\n",
    "map = geemap.Map(basemap = 'CartoDB.Positron')\n",
    "map.addLayer(absolute_error, vis_params, \"absolute_error\")\n",
    "map.addLayer(percent_error, vis_params, \"percent_error\")\n",
    "map.add_colorbar(vis_params, label = \"Absolute error\", layer_name = \"absolute_error\")\n",
    "map"
   ]
  },
  {
   "cell_type": "code",
   "execution_count": null,
   "id": "d13f4000",
   "metadata": {},
   "outputs": [
    {
     "data": {
      "text/html": [
       "\n",
       "            <style>\n",
       "                .geemap-dark {\n",
       "                    --jp-widgets-color: white;\n",
       "                    --jp-widgets-label-color: white;\n",
       "                    --jp-ui-font-color1: white;\n",
       "                    --jp-layout-color2: #454545;\n",
       "                    background-color: #383838;\n",
       "                }\n",
       "\n",
       "                .geemap-dark .jupyter-button {\n",
       "                    --jp-layout-color3: #383838;\n",
       "                }\n",
       "\n",
       "                .geemap-colab {\n",
       "                    background-color: var(--colab-primary-surface-color, white);\n",
       "                }\n",
       "\n",
       "                .geemap-colab .jupyter-button {\n",
       "                    --jp-layout-color3: var(--colab-primary-surface-color, white);\n",
       "                }\n",
       "            </style>\n",
       "            "
      ],
      "text/plain": [
       "<IPython.core.display.HTML object>"
      ]
     },
     "metadata": {},
     "output_type": "display_data"
    },
    {
     "data": {
      "application/vnd.jupyter.widget-view+json": {
       "model_id": "2bc284ab487746169950f20fc616cf2c",
       "version_major": 2,
       "version_minor": 0
      },
      "text/plain": [
       "Map(center=[0, 0], controls=(WidgetControl(options=['position', 'transparent_bg'], widget=SearchDataGUI(childr…"
      ]
     },
     "execution_count": 23,
     "metadata": {},
     "output_type": "execute_result"
    }
   ],
   "source": [
    "age = ee.Image(f\"{data_folder}/mapbiomas_2020\")\n",
    "ESA_CCI = ee.Image(f\"{data_folder}/raw/biomass\").rename(\"biomass\")\n",
    "biomass = ESA_CCI.updateMask(age.gt(0)).select(\"biomass\").reproject(crs='EPSG:4326', scale=1000)\n",
    "\n",
    "asymptote = ee.Image(f\"{data_folder}/nearest_mature\").selfMask()\n",
    "\n",
    "# Predictions for 2050\n",
    "pred_lag_2050 = ee.FeatureCollection(f\"{data_folder}/results/pred_lag_2050\")\n",
    "pred_lag_2050 = fc_to_image(pred_lag_2050, \"pred_lag_2\", scale=1000)\n",
    "\n",
    "vis_params = {'min': 0, 'max': 250, 'palette': ['yellow', 'green']}\n",
    "\n",
    "map = geemap.Map(basemap = 'CartoDB.Positron')\n",
    "# map.centerObject(roi, 6)\n",
    "map.addLayer(biomass, vis_params, \"biomass_2020\")\n",
    "map.addLayer(pred_lag_2050, vis_params, \"biomass_2050\")\n",
    "map.addLayer(asymptote, vis_params, \"asymptote\")\n",
    "map.add_colorbar(vis_params, label = \"biomass (Mg/ha)\", layer_name = \"biomass\")\n",
    "map\n",
    "\n",
    "\n"
   ]
  }
 ],
 "metadata": {
  "kernelspec": {
   "display_name": "regrowth-env",
   "language": "python",
   "name": "python3"
  },
  "language_info": {
   "codemirror_mode": {
    "name": "ipython",
    "version": 3
   },
   "file_extension": ".py",
   "mimetype": "text/x-python",
   "name": "python",
   "nbconvert_exporter": "python",
   "pygments_lexer": "ipython3",
   "version": "3.11.12"
  }
 },
 "nbformat": 4,
 "nbformat_minor": 5
}
