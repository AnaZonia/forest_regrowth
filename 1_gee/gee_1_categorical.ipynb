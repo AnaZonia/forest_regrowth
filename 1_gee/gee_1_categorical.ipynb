{
 "cells": [
  {
   "cell_type": "code",
   "execution_count": null,
   "id": "51c4a2c5-8cdf-46b4-be2a-e58d52cd21f8",
   "metadata": {},
   "outputs": [
    {
     "data": {
      "text/html": [
       "\n",
       "            <style>\n",
       "                .geemap-dark {\n",
       "                    --jp-widgets-color: white;\n",
       "                    --jp-widgets-label-color: white;\n",
       "                    --jp-ui-font-color1: white;\n",
       "                    --jp-layout-color2: #454545;\n",
       "                    background-color: #383838;\n",
       "                }\n",
       "\n",
       "                .geemap-dark .jupyter-button {\n",
       "                    --jp-layout-color3: #383838;\n",
       "                }\n",
       "\n",
       "                .geemap-colab {\n",
       "                    background-color: var(--colab-primary-surface-color, white);\n",
       "                }\n",
       "\n",
       "                .geemap-colab .jupyter-button {\n",
       "                    --jp-layout-color3: var(--colab-primary-surface-color, white);\n",
       "                }\n",
       "            </style>\n",
       "            "
      ],
      "text/plain": [
       "<IPython.core.display.HTML object>"
      ]
     },
     "metadata": {},
     "output_type": "display_data"
    }
   ],
   "source": [
    "import ee\n",
    "import geemap\n",
    "from gee_0_utils import *\n",
    "\n",
    "initialize()\n",
    "\n",
    "config = ProjectConfig()\n",
    "roi = config.roi\n",
    "data_folder = config.data_folder"
   ]
  },
  {
   "cell_type": "markdown",
   "id": "401c475a-1d5a-4e82-979e-996a22c53ccc",
   "metadata": {},
   "source": [
    "## Categorical Variables - Export categorical\n",
    "\n",
    "Intakes:\n",
    "\n",
    "    Indigenous land from FUNAI\n",
    "        https://www.gov.br/funai/pt-br/atuacao/terras-indigenas/geoprocessamento-e-mapas\n",
    "    Ecoregion from RESOLVE\n",
    "        https://developers.google.com/earth-engine/datasets/catalog/RESOLVE_ECOREGIONS_2017\n",
    "    Protected areas from CEM - USP (2020)\n",
    "        https://centrodametropole.fflch.usp.br/pt-br/download-de-dados\n",
    "    Biome data from IBGE\n",
    "        https://www.ibge.gov.br/geociencias/informacoes-ambientais/vegetacao/15842-biomas.html\n",
    "\n",
    "        For specific biomes, the feature \"CD_Bioma\" is:\n",
    "        1 = Amazonia\n",
    "        2 = Caatinga\n",
    "        3 = Cerrado\n",
    "        4 = Mata Atlantica\n",
    "        5 = Pampa\n",
    "        6 = Pantanal\n",
    "    \n",
    "Exports images with binary masks for protected areas and indigenous land, or byte values for ecoregion and soil type."
   ]
  },
  {
   "cell_type": "code",
   "execution_count": 3,
   "id": "df9ddfaf-e9e1-45af-93d0-7316cd725158",
   "metadata": {},
   "outputs": [
    {
     "data": {
      "text/html": [
       "\n",
       "            <style>\n",
       "                .geemap-dark {\n",
       "                    --jp-widgets-color: white;\n",
       "                    --jp-widgets-label-color: white;\n",
       "                    --jp-ui-font-color1: white;\n",
       "                    --jp-layout-color2: #454545;\n",
       "                    background-color: #383838;\n",
       "                }\n",
       "\n",
       "                .geemap-dark .jupyter-button {\n",
       "                    --jp-layout-color3: #383838;\n",
       "                }\n",
       "\n",
       "                .geemap-colab {\n",
       "                    background-color: var(--colab-primary-surface-color, white);\n",
       "                }\n",
       "\n",
       "                .geemap-colab .jupyter-button {\n",
       "                    --jp-layout-color3: var(--colab-primary-surface-color, white);\n",
       "                }\n",
       "            </style>\n",
       "            "
      ],
      "text/plain": [
       "<IPython.core.display.HTML object>"
      ]
     },
     "metadata": {},
     "output_type": "display_data"
    }
   ],
   "source": [
    "ecoregions = (\n",
    "    ee.FeatureCollection(\"RESOLVE/ECOREGIONS/2017\")\n",
    "    .filterBounds(roi)\n",
    "    .map(lambda feature: feature.intersection(roi))\n",
    ")\n",
    "ecoregions_img = ecoregions.reduceToImage([\"ECO_ID\"], ee.Reducer.first()).toInt16().rename(\n",
    "    \"ecoreg\"\n",
    ")\n",
    "\n",
    "biome = ee.FeatureCollection(f\"{data_folder}/raw/biomes_br\")\n",
    "biome_img = biome.reduceToImage([\"CD_Bioma\"], ee.Reducer.first()).byte().rename(\"biome\")\n",
    "\n",
    "indig_land = ee.FeatureCollection(f\"{data_folder}/raw/indig_land\").filterBounds(roi)\n",
    "indig_land_img = ee.Image().paint(indig_land, 1).unmask(0).byte().rename(\"indig\")\n",
    "\n",
    "protec = ee.FeatureCollection(f\"{data_folder}/raw/protec_2021\").filterBounds(roi)\n",
    "protec_img = ee.Image().paint(protec, 1).unmask(0).byte().rename(\"protec\")"
   ]
  },
  {
   "cell_type": "code",
   "execution_count": 4,
   "id": "ef1ea29f-91e8-434c-8bab-2eb81e51322e",
   "metadata": {},
   "outputs": [
    {
     "data": {
      "text/html": [
       "\n",
       "            <style>\n",
       "                .geemap-dark {\n",
       "                    --jp-widgets-color: white;\n",
       "                    --jp-widgets-label-color: white;\n",
       "                    --jp-ui-font-color1: white;\n",
       "                    --jp-layout-color2: #454545;\n",
       "                    background-color: #383838;\n",
       "                }\n",
       "\n",
       "                .geemap-dark .jupyter-button {\n",
       "                    --jp-layout-color3: #383838;\n",
       "                }\n",
       "\n",
       "                .geemap-colab {\n",
       "                    background-color: var(--colab-primary-surface-color, white);\n",
       "                }\n",
       "\n",
       "                .geemap-colab .jupyter-button {\n",
       "                    --jp-layout-color3: var(--colab-primary-surface-color, white);\n",
       "                }\n",
       "            </style>\n",
       "            "
      ],
      "text/plain": [
       "<IPython.core.display.HTML object>"
      ]
     },
     "metadata": {},
     "output_type": "display_data"
    }
   ],
   "source": [
    "categorical = ecoregions_img.addBands([biome_img, indig_land_img, protec_img])\n",
    "\n",
    "export_image(categorical, \"categorical\", scale = 500)"
   ]
  },
  {
   "cell_type": "markdown",
   "id": "10088066",
   "metadata": {},
   "source": []
  },
  {
   "cell_type": "code",
   "execution_count": null,
   "id": "fe29b9a2",
   "metadata": {},
   "outputs": [],
   "source": [
    "gaul = ee.FeatureCollection('FAO/GAUL_SIMPLIFIED_500m/2015/level0')\n",
    "\n",
    "south_american_countries = [\n",
    "    'Argentina', 'Bolivia', 'Chile', 'Colombia', 'Ecuador',\n",
    "    'French Guiana', 'Guyana', 'Paraguay', 'Peru', 'Suriname', 'Uruguay', 'Venezuela'\n",
    "]\n",
    "\n",
    "south_america = gaul.filter(ee.Filter.inList('ADM0_NAME', south_american_countries))\n",
    "sa = ee.Image.constant(1).clip(south_america).reproject(crs = 'EPSG:4326', scale = 5000)\n",
    "\n",
    "categorical = ee.Image(f\"{data_folder}/categorical\")\n",
    "\n",
    "biome_mask = categorical.select('biome').eq(1) \\\n",
    ".Or(categorical.select('biome').eq(4)) \\\n",
    ".Or(categorical.select('biome').eq(6)).reproject(crs = 'EPSG:4326', scale = 5000)\n",
    "\n",
    "new_sa = ee.Image(-1).where(sa.mask().Not(), 2) \\\n",
    "                      .where(biome_mask.gt(0), 1) \\\n",
    "                      .where(biome_mask.eq(0), -1)\n",
    "\n",
    "edge_detec = new_sa.zeroCrossing()\n",
    "\n",
    "distance_to_border = edge_detec.fastDistanceTransform().sqrt() \\\n",
    "    .multiply(ee.Image.pixelArea().sqrt()).updateMask(biome_mask).rename(\"distance_to_edge\")\n",
    "distance_to_border_mask = distance_to_border.gt(10000)\n",
    "\n",
    "export_image(distance_to_border_mask, \"distance_to_border_mask\", scale = 1000)"
   ]
  }
 ],
 "metadata": {
  "kernelspec": {
   "display_name": "regrowth-env",
   "language": "python",
   "name": "python3"
  },
  "language_info": {
   "codemirror_mode": {
    "name": "ipython",
    "version": 3
   },
   "file_extension": ".py",
   "mimetype": "text/x-python",
   "name": "python",
   "nbconvert_exporter": "python",
   "pygments_lexer": "ipython3",
   "version": "3.12.8"
  }
 },
 "nbformat": 4,
 "nbformat_minor": 5
}
