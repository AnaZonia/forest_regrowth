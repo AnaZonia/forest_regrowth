{
 "cells": [
  {
   "cell_type": "code",
   "execution_count": null,
   "id": "d95ad9bc",
   "metadata": {},
   "outputs": [],
   "source": [
    "import ee\n",
    "import geemap\n",
    "from gee_0_utils import *\n",
    "\n",
    "initialize()\n",
    "config = ProjectConfig()\n",
    "roi = config.roi\n",
    "data_folder = config.data_folder\n",
    "last_year = config.last_year\n"
   ]
  },
  {
   "cell_type": "code",
   "execution_count": null,
   "id": "094fc72b",
   "metadata": {},
   "outputs": [],
   "source": [
    "field = ee.FeatureCollection(f'{data_folder}/field_biomass')\n",
    "\n",
    "# select those with feature field_age greater than 22\n",
    "# field = field.filter(ee.Filter.gt('field_age', 20))\n",
    "# field = field.filter(ee.Filter.lt('field_biom', 70))\n",
    "\n",
    "map = geemap.Map()\n",
    "map.addLayer(field, {}, 'Field Biomass')\n",
    "map"
   ]
  }
 ],
 "metadata": {
  "language_info": {
   "name": "python"
  }
 },
 "nbformat": 4,
 "nbformat_minor": 5
}
