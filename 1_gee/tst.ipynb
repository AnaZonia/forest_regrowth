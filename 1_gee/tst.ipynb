{
 "cells": [
  {
   "cell_type": "code",
   "execution_count": 2,
   "id": "d95ad9bc",
   "metadata": {},
   "outputs": [],
   "source": [
    "import ee\n",
    "import geemap\n",
    "from gee_0_utils import *\n",
    "\n",
    "initialize()\n",
    "config = ProjectConfig()\n",
    "roi = config.roi\n",
    "data_folder = config.data_folder\n",
    "last_year = config.last_year\n"
   ]
  },
  {
   "cell_type": "code",
   "execution_count": null,
   "id": "094fc72b",
   "metadata": {},
   "outputs": [],
   "source": [
    "field = ee.FeatureCollection(f'{data_folder}/field_biomass')\n",
    "\n",
    "# select those with feature field_age greater than 22\n",
    "# field = field.filter(ee.Filter.gt('field_age', 20))\n",
    "# field = field.filter(ee.Filter.lt('field_biom', 70))\n",
    "\n",
    "map = geemap.Map()\n",
    "map.addLayer(field, {}, 'Field Biomass')\n",
    "map"
   ]
  }
 ],
 "metadata": {
  "kernelspec": {
   "display_name": "regrowth-env",
   "language": "python",
   "name": "python3"
  },
  "language_info": {
   "codemirror_mode": {
    "name": "ipython",
    "version": 3
   },
   "file_extension": ".py",
   "mimetype": "text/x-python",
   "name": "python",
   "nbconvert_exporter": "python",
   "pygments_lexer": "ipython3",
   "version": "3.11.12"
  }
 },
 "nbformat": 4,
 "nbformat_minor": 5
}
