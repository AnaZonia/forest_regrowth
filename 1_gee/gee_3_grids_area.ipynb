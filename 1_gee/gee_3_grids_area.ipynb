{
 "cells": [
  {
   "cell_type": "code",
   "execution_count": 1,
   "id": "7a426a8a",
   "metadata": {},
   "outputs": [],
   "source": [
    "import ee\n",
    "import geemap\n",
    "from gee_0_utils import *\n",
    "initialize()\n",
    "\n",
    "config = ProjectConfig()\n",
    "roi = config.roi\n",
    "data_folder = config.data_folder\n",
    "last_year = config.last_year"
   ]
  },
  {
   "cell_type": "markdown",
   "id": "dcb625b1",
   "metadata": {},
   "source": [
    "\n",
    "- Total secondary forest area per 1km2\n",
    "- Total pasture area per 1km2"
   ]
  },
  {
   "cell_type": "code",
   "execution_count": 2,
   "id": "e6c8a1e1",
   "metadata": {},
   "outputs": [
    {
     "data": {
      "text/html": [
       "\n",
       "            <style>\n",
       "                .geemap-dark {\n",
       "                    --jp-widgets-color: white;\n",
       "                    --jp-widgets-label-color: white;\n",
       "                    --jp-ui-font-color1: white;\n",
       "                    --jp-layout-color2: #454545;\n",
       "                    background-color: #383838;\n",
       "                }\n",
       "\n",
       "                .geemap-dark .jupyter-button {\n",
       "                    --jp-layout-color3: #383838;\n",
       "                }\n",
       "\n",
       "                .geemap-colab {\n",
       "                    background-color: var(--colab-primary-surface-color, white);\n",
       "                }\n",
       "\n",
       "                .geemap-colab .jupyter-button {\n",
       "                    --jp-layout-color3: var(--colab-primary-surface-color, white);\n",
       "                }\n",
       "            </style>\n",
       "            "
      ],
      "text/plain": [
       "<IPython.core.display.HTML object>"
      ]
     },
     "metadata": {},
     "output_type": "display_data"
    }
   ],
   "source": [
    "lulc = (ee.Image(\"projects/mapbiomas-public/assets/brazil/lulc/collection9/mapbiomas_collection90_integration_v1\")\n",
    "            .select([f\"classification_{year}\" for year in config.range_1985_2020])\n",
    "            .byte()\n",
    "            .rename([str(year) for year in config.range_1985_2020]))\n",
    "\n",
    "pastureland = lulc.select(\"2020\").eq(15).unmask(0).rename(\"pastureland\")\n",
    "\n",
    "# Aggregate the high-resolution pixels into the 1km grid\n",
    "def reproject_export_image(image, name):\n",
    "    image_area = image.reduceResolution(\n",
    "        reducer = ee.Reducer.mean(),\n",
    "        maxPixels = 1024,\n",
    "        bestEffort = True # Use all pixels that can fit in the larger pixel\n",
    "    ).reproject(\n",
    "        crs = 'EPSG:4326',\n",
    "        scale = 1000\n",
    "    ).rename(name)\n",
    "\n",
    "    export_image(image_area, name, region = roi, scale = 1000)\n",
    "\n",
    "\n",
    "# reproject_export_image(pastureland, \"pasture_area\")\n",
    "# reproject_export_image(age.gt(0).unmask(0), \"secondary_area\")"
   ]
  },
  {
   "cell_type": "markdown",
   "id": "aecc16d3",
   "metadata": {},
   "source": [
    "- 1 secondary forest pixel per 1km2\n",
    "- 1 pasture pixel per 1km2"
   ]
  },
  {
   "cell_type": "code",
   "execution_count": 3,
   "id": "6b8aa0b5",
   "metadata": {},
   "outputs": [
    {
     "data": {
      "text/html": [
       "\n",
       "            <style>\n",
       "                .geemap-dark {\n",
       "                    --jp-widgets-color: white;\n",
       "                    --jp-widgets-label-color: white;\n",
       "                    --jp-ui-font-color1: white;\n",
       "                    --jp-layout-color2: #454545;\n",
       "                    background-color: #383838;\n",
       "                }\n",
       "\n",
       "                .geemap-dark .jupyter-button {\n",
       "                    --jp-layout-color3: #383838;\n",
       "                }\n",
       "\n",
       "                .geemap-colab {\n",
       "                    background-color: var(--colab-primary-surface-color, white);\n",
       "                }\n",
       "\n",
       "                .geemap-colab .jupyter-button {\n",
       "                    --jp-layout-color3: var(--colab-primary-surface-color, white);\n",
       "                }\n",
       "            </style>\n",
       "            "
      ],
      "text/plain": [
       "<IPython.core.display.HTML object>"
      ]
     },
     "metadata": {},
     "output_type": "display_data"
    }
   ],
   "source": [
    "\n",
    "def create_grid(image, region_name = \"amazon\", cell_size = 10000, file_name = None):\n",
    "    \n",
    "    config = ProjectConfig()\n",
    "    biomes = ee.Image(f\"{config.data_folder}/categorical\").select(\"biome\")\n",
    "    \n",
    "    if region_name == \"amazon\":\n",
    "        biome_index = 1\n",
    "    elif region_name == \"atlantic\":\n",
    "        biome_index = 4\n",
    "    \n",
    "    biomes = biomes.eq(biome_index).selfMask()\n",
    "\n",
    "    pixels_to_sample = biomes.reduceResolution(\n",
    "        ee.Reducer.first(), maxPixels=65536\n",
    "        ).reproject(\n",
    "        crs = image.projection().getInfo()['crs'],\n",
    "        crsTransform = image.projection().getInfo()['transform']\n",
    "        ).updateMask(image)\n",
    "    \n",
    "    image_scale = round(pixels_to_sample.projection().nominalScale().getInfo())\n",
    "    closest_multiple = round(cell_size / image_scale) * image_scale\n",
    "\n",
    "    # First, sample locations based only on the age band\n",
    "    grid = geemap.create_grid(pixels_to_sample.geometry(), closest_multiple, pixels_to_sample.projection())\n",
    "\n",
    "    # Function to sample one point per valid cell\n",
    "    def sample_cell(cell):\n",
    "        sampled_fc = pixels_to_sample.stratifiedSample(\n",
    "            numPoints = 1,\n",
    "            classBand = 'biome',\n",
    "            region = cell.geometry(),\n",
    "            scale = pixels_to_sample.projection().nominalScale(),\n",
    "            geometries = True,\n",
    "            dropNulls = True,\n",
    "            tileScale = 1\n",
    "        )\n",
    "\n",
    "        # Only return a feature if we found one\n",
    "        return ee.Feature(ee.Algorithms.If(\n",
    "            sampled_fc.size().gt(0),\n",
    "            sampled_fc.first(),\n",
    "            # Return a placeholder that we can filter out later\n",
    "            ee.Feature(ee.Geometry.Point([0, 0])).set('is_null', True)\n",
    "        ))\n",
    "\n",
    "    samples = grid.map(sample_cell)\n",
    "\n",
    "    # Filter out placeholder features before exporting\n",
    "    samples = samples.filter(ee.Filter.notEquals('is_null', True))\n",
    "\n",
    "    if file_name is None:\n",
    "        return samples\n",
    "    else:\n",
    "        export_name = f\"grid_{cell_size//1000}k_{region_name}_{file_name}\"\n",
    "\n",
    "        export_task = ee.batch.Export.table.toAsset(\n",
    "            collection = samples,\n",
    "            description = export_name,\n",
    "            assetId = f\"{config.data_folder}/{export_name}\"\n",
    "        )\n",
    "        export_task.start()\n",
    "\n"
   ]
  },
  {
   "cell_type": "code",
   "execution_count": 4,
   "id": "f7b5cf7b",
   "metadata": {},
   "outputs": [
    {
     "data": {
      "text/html": [
       "\n",
       "            <style>\n",
       "                .geemap-dark {\n",
       "                    --jp-widgets-color: white;\n",
       "                    --jp-widgets-label-color: white;\n",
       "                    --jp-ui-font-color1: white;\n",
       "                    --jp-layout-color2: #454545;\n",
       "                    background-color: #383838;\n",
       "                }\n",
       "\n",
       "                .geemap-dark .jupyter-button {\n",
       "                    --jp-layout-color3: #383838;\n",
       "                }\n",
       "\n",
       "                .geemap-colab {\n",
       "                    background-color: var(--colab-primary-surface-color, white);\n",
       "                }\n",
       "\n",
       "                .geemap-colab .jupyter-button {\n",
       "                    --jp-layout-color3: var(--colab-primary-surface-color, white);\n",
       "                }\n",
       "            </style>\n",
       "            "
      ],
      "text/plain": [
       "<IPython.core.display.HTML object>"
      ]
     },
     "metadata": {},
     "output_type": "display_data"
    }
   ],
   "source": [
    "mature_biomass_10k = ee.Image(f\"{data_folder}/mature_biomass_10k\")\n",
    "age = ee.Image(f\"{data_folder}/mapbiomas_2020\")"
   ]
  },
  {
   "cell_type": "code",
   "execution_count": null,
   "id": "bccc9ff9",
   "metadata": {},
   "outputs": [
    {
     "data": {
      "text/html": [
       "\n",
       "            <style>\n",
       "                .geemap-dark {\n",
       "                    --jp-widgets-color: white;\n",
       "                    --jp-widgets-label-color: white;\n",
       "                    --jp-ui-font-color1: white;\n",
       "                    --jp-layout-color2: #454545;\n",
       "                    background-color: #383838;\n",
       "                }\n",
       "\n",
       "                .geemap-dark .jupyter-button {\n",
       "                    --jp-layout-color3: #383838;\n",
       "                }\n",
       "\n",
       "                .geemap-colab {\n",
       "                    background-color: var(--colab-primary-surface-color, white);\n",
       "                }\n",
       "\n",
       "                .geemap-colab .jupyter-button {\n",
       "                    --jp-layout-color3: var(--colab-primary-surface-color, white);\n",
       "                }\n",
       "            </style>\n",
       "            "
      ],
      "text/plain": [
       "<IPython.core.display.HTML object>"
      ]
     },
     "metadata": {},
     "output_type": "display_data"
    }
   ],
   "source": [
    "# create_grid(age.gt(0).unmask(0), region_name = \"amazon\", cell_size = 1000, file_name = \"secondary\")\n",
    "# create_grid(age.gt(0).unmask(0), region_name = \"amazon\", cell_size = 10000, file_name = \"secondary\")\n",
    "# create_grid(pastureland, region_name = \"amazon\", cell_size = 10000, file_name = \"pastureland\")\n",
    "\n",
    "# make one grid with all pixels that are NOT mature forests for nearest mature forest estimates\n",
    "# non_mature_forests = mature_biomass_10k.eq(0).unmask(1).selfMask().rename(\"non_mature_forests\")\n",
    "# create_grid(non_mature_forests, \"amazon\", cell_size = 10000, file_name = \"non_mature_forests\")"
   ]
  },
  {
   "cell_type": "code",
   "execution_count": null,
   "id": "8c86d5a1",
   "metadata": {},
   "outputs": [
    {
     "data": {
      "text/html": [
       "\n",
       "            <style>\n",
       "                .geemap-dark {\n",
       "                    --jp-widgets-color: white;\n",
       "                    --jp-widgets-label-color: white;\n",
       "                    --jp-ui-font-color1: white;\n",
       "                    --jp-layout-color2: #454545;\n",
       "                    background-color: #383838;\n",
       "                }\n",
       "\n",
       "                .geemap-dark .jupyter-button {\n",
       "                    --jp-layout-color3: #383838;\n",
       "                }\n",
       "\n",
       "                .geemap-colab {\n",
       "                    background-color: var(--colab-primary-surface-color, white);\n",
       "                }\n",
       "\n",
       "                .geemap-colab .jupyter-button {\n",
       "                    --jp-layout-color3: var(--colab-primary-surface-color, white);\n",
       "                }\n",
       "            </style>\n",
       "            "
      ],
      "text/plain": [
       "<IPython.core.display.HTML object>"
      ]
     },
     "metadata": {},
     "output_type": "display_data"
    }
   ],
   "source": [
    "# make one unified grid for all pastureland and secondary forests\n",
    "grid_secondary = ee.FeatureCollection(f\"{data_folder}/grid_1k_amazon_secondary\")\n",
    "grid_pastureland = ee.FeatureCollection(f\"{data_folder}/grid_1k_amazon_pastureland\")\n",
    "\n",
    "# merge both grids\n",
    "grid_1k_amazon_non_mature_forests = grid_secondary.merge(grid_pastureland)\n",
    "\n",
    "task = ee.batch.Export.table.toAsset(\n",
    "    collection = grid_1k_amazon_non_mature_forests,\n",
    "    description = \"grid_1k_amazon_non_mature_forests\",\n",
    "    assetId = \"projects/amazon-forest-regrowth/assets/grid_1k_amazon_non_mature_forests\",\n",
    ")\n",
    "# task.start()\n"
   ]
  }
 ],
 "metadata": {
  "kernelspec": {
   "display_name": "regrowth-env",
   "language": "python",
   "name": "python3"
  },
  "language_info": {
   "codemirror_mode": {
    "name": "ipython",
    "version": 3
   },
   "file_extension": ".py",
   "mimetype": "text/x-python",
   "name": "python",
   "nbconvert_exporter": "python",
   "pygments_lexer": "ipython3",
   "version": "3.11.12"
  }
 },
 "nbformat": 4,
 "nbformat_minor": 5
}
