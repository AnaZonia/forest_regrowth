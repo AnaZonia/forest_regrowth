{
 "cells": [
  {
   "cell_type": "markdown",
   "metadata": {},
   "source": [
    "## Satellite Data\n",
    "\n",
    "This script outputs the satellite-based rasters into the Google Earth Engine Cloud.\n",
    "\n",
    "Inputs:\n",
    "\n",
    "    - From MAPBIOMAS:\n",
    "        - secondary forest age\n",
    "        - land use land cover\n",
    "        - fire\n",
    "    - From ESA CCI Biomass:\n",
    "        - biomass (Mg C/hectare)\n",
    "\n",
    "Outputs:\n",
    "\n",
    "    - From MAPBIOMAS:\n",
    "        - last observed land use type\n",
    "        - number of years under each land use type\n",
    "        - number of fires\n",
    "        - time since last fire\n",
    "        - fallow period length\n",
    "\n"
   ]
  },
  {
   "cell_type": "code",
   "execution_count": 1,
   "metadata": {
    "id": "cOBmvER1OjFM"
   },
   "outputs": [
    {
     "data": {
      "text/html": [
       "<p>To authorize access needed by Earth Engine, open the following\n",
       "        URL in a web browser and follow the instructions:</p>\n",
       "        <p><a href=https://code.earthengine.google.com/client-auth?scopes=https%3A//www.googleapis.com/auth/earthengine%20https%3A//www.googleapis.com/auth/cloud-platform%20https%3A//www.googleapis.com/auth/devstorage.full_control&request_id=OWwVAKCtx5fUPWnf7spEA1A4QvhbQNiie21SF0hQZz8&tc=QwG8AQ5t0ZJ5AyZt1LESGty9XDOVb-UawBNndzLj3UQ&cc=Vty7oHAXTX7Lud83739UmLjHSxe5JoP7wABaEvO8nCU>https://code.earthengine.google.com/client-auth?scopes=https%3A//www.googleapis.com/auth/earthengine%20https%3A//www.googleapis.com/auth/cloud-platform%20https%3A//www.googleapis.com/auth/devstorage.full_control&request_id=OWwVAKCtx5fUPWnf7spEA1A4QvhbQNiie21SF0hQZz8&tc=QwG8AQ5t0ZJ5AyZt1LESGty9XDOVb-UawBNndzLj3UQ&cc=Vty7oHAXTX7Lud83739UmLjHSxe5JoP7wABaEvO8nCU</a></p>\n",
       "        <p>The authorization workflow will generate a code, which you should paste in the box below.</p>\n",
       "        "
      ],
      "text/plain": [
       "<IPython.core.display.HTML object>"
      ]
     },
     "metadata": {},
     "output_type": "display_data"
    },
    {
     "name": "stderr",
     "output_type": "stream",
     "text": [
      "Gtk-Message: 17:30:42.963: Not loading module \"atk-bridge\": The functionality is provided by GTK natively. Please try to not load it.\n"
     ]
    },
    {
     "name": "stdout",
     "output_type": "stream",
     "text": [
      "\n",
      "Successfully saved authorization token.\n"
     ]
    }
   ],
   "source": [
    "import ee\n",
    "import geemap\n",
    "from gee_0_utils import *\n",
    "initialize()\n",
    "\n",
    "config = ProjectConfig()\n",
    "roi = config.roi\n",
    "data_folder = config.data_folder\n",
    "\n",
    "age, lulc, fire = desired_lulc()\n",
    "# biomass for 2020 comes from CCI Biomass\n",
    "biomass_raw = ee.Image(f\"{data_folder}/raw/biomass\")\n",
    "\n",
    "potapov_height = ee.Image(\"users/potapovpeter/GEDI_V27\")\n",
    "\n",
    "method = 'mapbiomas'\n"
   ]
  },
  {
   "cell_type": "markdown",
   "metadata": {},
   "source": [
    "## Biomass - Export secondary\n",
    "\n",
    "Biomass data is in hectares, but mapbiomas data is 30m resolution.\n",
    "\n",
    "To deal with edge pixels, we aggregate biomass values to 30m by using the mean (so there is a buffer for land use pixels caught in between two biomass values).\n",
    "\n",
    "## Remove isolated pixels - Export one_hectare_mask\n",
    "\n",
    "In the map, there were isolated pixels, often around the edges of forest patches. These would likely be due to misclassification, or follow different behaviors due to edge effects.\n",
    "\n",
    "To avoid this issue, a kernel is applied here to include only secondary forest patches that are mostly surrounded by other secondary forest pixels."
   ]
  },
  {
   "cell_type": "code",
   "execution_count": null,
   "metadata": {},
   "outputs": [
    {
     "data": {
      "text/html": [
       "\n",
       "            <style>\n",
       "                .geemap-dark {\n",
       "                    --jp-widgets-color: white;\n",
       "                    --jp-widgets-label-color: white;\n",
       "                    --jp-ui-font-color1: white;\n",
       "                    --jp-layout-color2: #454545;\n",
       "                    background-color: #383838;\n",
       "                }\n",
       "\n",
       "                .geemap-dark .jupyter-button {\n",
       "                    --jp-layout-color3: #383838;\n",
       "                }\n",
       "\n",
       "                .geemap-colab {\n",
       "                    background-color: var(--colab-primary-surface-color, white);\n",
       "                }\n",
       "\n",
       "                .geemap-colab .jupyter-button {\n",
       "                    --jp-layout-color3: var(--colab-primary-surface-color, white);\n",
       "                }\n",
       "            </style>\n",
       "            "
      ],
      "text/plain": [
       "<IPython.core.display.HTML object>"
      ]
     },
     "metadata": {},
     "output_type": "display_data"
    }
   ],
   "source": [
    "def export_secondary(age):\n",
    "    if method == 'eu':\n",
    "        # Load the image collections\n",
    "        transition = ee.ImageCollection('projects/JRC/TMF/v1_2023/TransitionMap_Subtypes').mosaic().clip(roi)\n",
    "        annual_changes = ee.ImageCollection('projects/JRC/TMF/v1_2023/AnnualChanges').mosaic().clip(roi)\n",
    "\n",
    "        # Define regrowth and degraded conditions\n",
    "        regrowth = transition.gte(31).And(transition.lte(33))\n",
    "\n",
    "        # Initialize AgeRegrowth and AgeDegraded\n",
    "        age = ee.Image.constant(0)\n",
    "\n",
    "        # Calculate AgeRegrowth\n",
    "        for i in range(1990, 2020):\n",
    "            year = 'Dec' + str(i)\n",
    "            annual_changes_year = annual_changes.select(year)\n",
    "            condition = annual_changes_year.eq(4).And(regrowth) # were regrowing then AND are regrowing now\n",
    "            age = age.add(condition.eq(1))\n",
    "\n",
    "        age = age.selfMask().rename(\"age\")\n",
    "\n",
    "    biomass = biomass_raw.reduceResolution(reducer = ee.Reducer.mean()) \\\n",
    "        .reproject(crs = age.projection(), scale = 30).toInt16().updateMask(age).rename(\"biomass\")\n",
    "\n",
    "    secondary = age.addBands([biomass, age.pixelLonLat().float()])\n",
    "\n",
    "    # convert non-forest pixels from NA to zero\n",
    "    # check what is the most frequent value within each hectare - if it's zero, it means the pixel is surrounded by non-forest cover\n",
    "    one_hectare_mask = age.unmask(0).focalMode(kernelType = \"circle\", radius = 100, units = \"meters\").gt(0).selfMask().rename(\"one_hectare_mask\")\n",
    "\n",
    "    export_image(secondary, \"secondary\", region = roi, folder = folder, scale = 30)\n",
    "    export_image(one_hectare_mask, \"one_hectare_mask\", region = roi, folder = folder, scale = 30)\n",
    "\n",
    "\n",
    "export_secondary(age)"
   ]
  },
  {
   "cell_type": "code",
   "execution_count": null,
   "metadata": {},
   "outputs": [
    {
     "data": {
      "text/html": [
       "\n",
       "            <style>\n",
       "                .geemap-dark {\n",
       "                    --jp-widgets-color: white;\n",
       "                    --jp-widgets-label-color: white;\n",
       "                    --jp-ui-font-color1: white;\n",
       "                    --jp-layout-color2: #454545;\n",
       "                    background-color: #383838;\n",
       "                }\n",
       "\n",
       "                .geemap-dark .jupyter-button {\n",
       "                    --jp-layout-color3: #383838;\n",
       "                }\n",
       "\n",
       "                .geemap-colab {\n",
       "                    background-color: var(--colab-primary-surface-color, white);\n",
       "                }\n",
       "\n",
       "                .geemap-colab .jupyter-button {\n",
       "                    --jp-layout-color3: var(--colab-primary-surface-color, white);\n",
       "                }\n",
       "            </style>\n",
       "            "
      ],
      "text/plain": [
       "<IPython.core.display.HTML object>"
      ]
     },
     "metadata": {},
     "output_type": "display_data"
    },
    {
     "data": {
      "application/vnd.jupyter.widget-view+json": {
       "model_id": "8939b4ee05bf4fc9bd6010ddbd3c8ead",
       "version_major": 2,
       "version_minor": 0
      },
      "text/plain": [
       "Map(center=[0, 0], controls=(WidgetControl(options=['position', 'transparent_bg'], widget=SearchDataGUI(childr…"
      ]
     },
     "execution_count": 10,
     "metadata": {},
     "output_type": "execute_result"
    }
   ],
   "source": [
    "def quality_mask(image):\n",
    "    image = image.updateMask(image.select('l4_quality_flag').eq(1)) \\\n",
    "              .updateMask(image.select('degrade_flag').eq(0))\n",
    "    relative_se = image.select('agbd_se').divide(image.select('agbd'))\n",
    "    return image.updateMask(relative_se.lte(0.5))\n",
    "\n",
    "GEDI = (ee.ImageCollection('LARSE/GEDI/GEDI04_A_002_MONTHLY')\n",
    "        .filterDate('2020-01-01', '2020-12-31')\n",
    "             .map(quality_mask)\n",
    "             .select(['agbd', 'agbd_se']))\n",
    "\n",
    "GEDI_biomass = GEDI.select('agbd').mean().toInt16().rename('GEDI_biomass')\n",
    "\n",
    "# map = geemap.Map()\n",
    "# map.addLayer(exported, {'min': 0, 'max': 1000, 'palette': ['blue', 'red']}, 'exported')\n",
    "# map.addLayer(GEDI_biomass, {'min': 0, 'max': 1000, 'palette': ['blue', 'red']}, 'GEDI')\n",
    "# map\n",
    "\n",
    "# export_image(GEDI_biomass, \"GEDI_biomass\", region = roi, scale = 30)"
   ]
  }
 ],
 "metadata": {
  "colab": {
   "provenance": []
  },
  "kernelspec": {
   "display_name": "regrowth-env",
   "language": "python",
   "name": "python3"
  },
  "language_info": {
   "codemirror_mode": {
    "name": "ipython",
    "version": 3
   },
   "file_extension": ".py",
   "mimetype": "text/x-python",
   "name": "python",
   "nbconvert_exporter": "python",
   "pygments_lexer": "ipython3",
   "version": "3.12.8"
  }
 },
 "nbformat": 4,
 "nbformat_minor": 4
}
