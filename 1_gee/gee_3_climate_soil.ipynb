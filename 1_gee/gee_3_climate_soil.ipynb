{
 "cells": [
  {
   "cell_type": "markdown",
   "id": "78575f01-dc60-42bf-bee3-e7d3b867635e",
   "metadata": {},
   "source": [
    "# Climate and Soil\n",
    "\n",
    "This script outputs the satellite-based rasters into the Google Earth Engine Cloud.\n",
    "\n",
    "Inputs:\n",
    "\n",
    "\n",
    "Outputs:\n",
    "\n",
    "\n"
   ]
  },
  {
   "cell_type": "code",
   "execution_count": 1,
   "id": "06daa541-4195-4a5e-895f-b520ffa5c523",
   "metadata": {},
   "outputs": [],
   "source": [
    "import ee\n",
    "import geemap\n",
    "from gee_0_utils import *\n",
    "\n",
    "initialize()\n",
    "config = ProjectConfig()\n",
    "roi = config.roi\n",
    "data_folder = config.data_folder"
   ]
  },
  {
   "cell_type": "markdown",
   "id": "ff885eae",
   "metadata": {},
   "source": [
    "## Soil Data from SoilGrids\n",
    "\n",
    "250m resolution\n",
    "\n",
    "        - Bulk Density\n",
    "        - Cation Exchange Capacity\n",
    "        - Clay Content\n",
    "        - Coarse fragments (> 2 mm)\n",
    "        - Nitrogen\n",
    "        - Organic Carbon Density\n",
    "        - Soil Organic Carbon Stock\n",
    "        - pH\n",
    "        - Sand Content\n",
    "        - Soil Organic Carbon\n",
    "    All averaged from 0-30cm depth and converted to the correct units."
   ]
  },
  {
   "cell_type": "code",
   "execution_count": null,
   "id": "a4752d51",
   "metadata": {},
   "outputs": [
    {
     "data": {
      "text/html": [
       "\n",
       "            <style>\n",
       "                .geemap-dark {\n",
       "                    --jp-widgets-color: white;\n",
       "                    --jp-widgets-label-color: white;\n",
       "                    --jp-ui-font-color1: white;\n",
       "                    --jp-layout-color2: #454545;\n",
       "                    background-color: #383838;\n",
       "                }\n",
       "\n",
       "                .geemap-dark .jupyter-button {\n",
       "                    --jp-layout-color3: #383838;\n",
       "                }\n",
       "\n",
       "                .geemap-colab {\n",
       "                    background-color: var(--colab-primary-surface-color, white);\n",
       "                }\n",
       "\n",
       "                .geemap-colab .jupyter-button {\n",
       "                    --jp-layout-color3: var(--colab-primary-surface-color, white);\n",
       "                }\n",
       "            </style>\n",
       "            "
      ],
      "text/plain": [
       "<IPython.core.display.HTML object>"
      ]
     },
     "metadata": {},
     "output_type": "display_data"
    }
   ],
   "source": [
    "bdod = ee.Image(\"projects/soilgrids-isric/bdod_mean\").clip(roi) # bulk density\n",
    "cec = ee.Image(\"projects/soilgrids-isric/cec_mean\") # cation exchange capacity\n",
    "clay = ee.Image(\"projects/soilgrids-isric/clay_mean\").clip(roi)\n",
    "cfvo = ee.Image(\"projects/soilgrids-isric/cfvo_mean\").clip(roi) # coarse fragments\n",
    "nitro = ee.Image(\"projects/soilgrids-isric/nitrogen_mean\").clip(roi)\n",
    "ocd = ee.Image(\"projects/soilgrids-isric/ocd_mean\").clip(roi) # organic carbon density\n",
    "ocs = ee.Image(\"projects/soilgrids-isric/ocs_mean\").clip(roi) # soil organic carbon stock\n",
    "phh2o = ee.Image(\"projects/soilgrids-isric/phh2o_mean\").clip(roi)\n",
    "sand = ee.Image(\"projects/soilgrids-isric/sand_mean\").clip(roi)\n",
    "soc = ee.Image(\"projects/soilgrids-isric/soc_mean\").clip(roi) # soil organic carbon\n",
    "\n",
    "# Function to select and calculate weighted mean for specific depth bands\n",
    "def weighted_means(image, name):\n",
    "    depths = ['0-5cm', '5-15cm', '15-30cm']\n",
    "    weights = [1, 2, 3]    \n",
    "    # Select the bands for each depth\n",
    "    weighted_bands = image.select([f'.*_{depth}_mean' for depth in depths]).multiply(ee.Image.constant(weights))\n",
    "    # Sum the weighted bands\n",
    "    weighted_mean = weighted_bands.reduce(ee.Reducer.sum()).divide(6)\n",
    "    return weighted_mean\n",
    "\n",
    "def convert_mass_area(image, name):\n",
    "    depths = ['0-5cm', '5-15cm', '15-30cm']\n",
    "\n",
    "    converted_image = image.select([f'.*_{depth}_mean' for depth in depths]).divide()\n",
    "    # Sum the weighted bands\n",
    "    weighted_mean = weighted_bands.reduce(ee.Reducer.sum()).divide(6)\n",
    "    return weighted_mean\n",
    "\n",
    "# Convert nitrogen and soil organic carbon from g/kg to g/m²\n",
    "nitro = nitro.divide(100)    # cg/kg to g/kg\n",
    "soc = soc.divide(10)         # dg/kg to g/kg\n",
    "nitro = bdod.divide(nitro)\n",
    "\n",
    "\n",
    "\n",
    "# Apply unit conversions and depth aggregation\n",
    "bdod = average_depths(bdod, \"bdod\").divide(100)       # cg/cm³ to g/cm³\n",
    "cec = average_depths(cec, \"cec\").divide(10)           # mmol(c)/kg to cmol/kg\n",
    "clay = average_depths(clay, \"clay\").divide(10)        # g/kg (‰) to g/100g (%)\n",
    "cfvo = average_depths(cfvo, \"cfvo\").divide(10)        # cm3/dm3 (‰) to cm3/100cm3 (%)\n",
    "ocd = average_depths(ocd, \"ocd\").divide(10)           # hg/m³ to kg/m³\n",
    "ocs = ocs.divide(10)                                  # hg/m² to kg/m²\n",
    "phh2o = average_depths(phh2o, \"phh2o\").divide(10)     # pH x 10 to pH\n",
    "sand = average_depths(sand, \"sand\").divide(10)        # g/kg (‰) to g/100g (%)\n",
    "\n",
    "\n",
    "# Combine all the soil properties into a single image\n",
    "soil_properties = bdod.addBands([cec, clay, cfvo, nitro, ocd, ocs, phh2o, sand, soc]).float()\n",
    "\n",
    "# Export the final image\n",
    "export_image(soil_properties, \"soilgrids\", region = roi, scale = 250)"
   ]
  },
  {
   "cell_type": "code",
   "execution_count": 10,
   "id": "f520164a",
   "metadata": {},
   "outputs": [
    {
     "data": {
      "text/html": [
       "\n",
       "            <style>\n",
       "                .geemap-dark {\n",
       "                    --jp-widgets-color: white;\n",
       "                    --jp-widgets-label-color: white;\n",
       "                    --jp-ui-font-color1: white;\n",
       "                    --jp-layout-color2: #454545;\n",
       "                    background-color: #383838;\n",
       "                }\n",
       "\n",
       "                .geemap-dark .jupyter-button {\n",
       "                    --jp-layout-color3: #383838;\n",
       "                }\n",
       "\n",
       "                .geemap-colab {\n",
       "                    background-color: var(--colab-primary-surface-color, white);\n",
       "                }\n",
       "\n",
       "                .geemap-colab .jupyter-button {\n",
       "                    --jp-layout-color3: var(--colab-primary-surface-color, white);\n",
       "                }\n",
       "            </style>\n",
       "            "
      ],
      "text/plain": [
       "<IPython.core.display.HTML object>"
      ]
     },
     "metadata": {},
     "output_type": "display_data"
    },
    {
     "data": {
      "application/vnd.jupyter.widget-view+json": {
       "model_id": "a4cb99511adc4696b0de3ee97a150905",
       "version_major": 2,
       "version_minor": 0
      },
      "text/plain": [
       "Map(center=[0, 0], controls=(WidgetControl(options=['position', 'transparent_bg'], widget=SearchDataGUI(childr…"
      ]
     },
     "execution_count": 10,
     "metadata": {},
     "output_type": "execute_result"
    }
   ],
   "source": [
    "bdod = ee.Image(\"projects/soilgrids-isric/bdod_mean\") # cation exchange capacity\n",
    "\n",
    "depths = ['0-5cm', '5-15cm', '15-30cm']\n",
    "weights = [1, 2, 3]\n",
    "# Select the bands for each depth\n",
    "weighted_bands = bdod.select([f'.*_{depth}_mean' for depth in depths]).multiply(ee.Image.constant(weights))\n",
    "\n",
    "map = geemap.Map()\n",
    "map.addLayer(bdod.select('bdod_5-15cm_mean'), {'min': 100, 'max': 150, 'palette':['blue', 'red']}, 'bdod')\n",
    "map.addLayer(bdod.select('bdod_15-30cm_mean'), {'min': 100, 'max': 150, 'palette':['blue', 'red']}, 'bdod')\n",
    "# map.addLayer(weighted_bands, {}, 'weighted_bands')\n",
    "map"
   ]
  },
  {
   "cell_type": "markdown",
   "id": "54f3c487",
   "metadata": {},
   "source": [
    "## TerraClim Data\n",
    "\n",
    "    Calculated yearly metrics.\n",
    "        Summed:\n",
    "        - Solar Radiation\n",
    "        - Soil Moisture\n",
    "        - Precipitation\n",
    "        Averaged:\n",
    "        - Temperature\n",
    "        - Vapour Pressure\n",
    "        - Evapotranspiration\n",
    "\n",
    "What difference does it make to sum or average?"
   ]
  },
  {
   "cell_type": "markdown",
   "id": "6a7c1cd4-3269-43eb-bac3-0699320107df",
   "metadata": {},
   "source": [
    "<!-- # Terraclim\n",
    "  https://developers.google.com/earth-engine/datasets/catalog/IDAHO_EPSCOR_TERRACLIMATE\n",
    "Bring temperature and precipitation and calculate seasonality -->"
   ]
  },
  {
   "attachments": {},
   "cell_type": "markdown",
   "id": "86c662b3-c1e5-4e48-bd37-9e09c5c0b958",
   "metadata": {},
   "source": [
    "<!-- ## Seasonality index\n",
    "\n",
    "Walsh and Lawler 1981 -->"
   ]
  },
  {
   "cell_type": "code",
   "execution_count": null,
   "id": "3b4fad9e-c719-4259-8b6f-9d648589af48",
   "metadata": {},
   "outputs": [
    {
     "data": {
      "text/html": [
       "\n",
       "            <style>\n",
       "                .geemap-dark {\n",
       "                    --jp-widgets-color: white;\n",
       "                    --jp-widgets-label-color: white;\n",
       "                    --jp-ui-font-color1: white;\n",
       "                    --jp-layout-color2: #454545;\n",
       "                    background-color: #383838;\n",
       "                }\n",
       "\n",
       "                .geemap-dark .jupyter-button {\n",
       "                    --jp-layout-color3: #383838;\n",
       "                }\n",
       "\n",
       "                .geemap-colab {\n",
       "                    background-color: var(--colab-primary-surface-color, white);\n",
       "                }\n",
       "\n",
       "                .geemap-colab .jupyter-button {\n",
       "                    --jp-layout-color3: var(--colab-primary-surface-color, white);\n",
       "                }\n",
       "            </style>\n",
       "            "
      ],
      "text/plain": [
       "<IPython.core.display.HTML object>"
      ]
     },
     "metadata": {},
     "output_type": "display_data"
    }
   ],
   "source": [
    "terraclim = (\n",
    "    ee.ImageCollection(\"IDAHO_EPSCOR/TERRACLIMATE\")\n",
    "    .filterDate(\"1985-01-01\", \"2019-12-31\")\n",
    "    .map(lambda image: image.reduceResolution(ee.Reducer.median(), bestEffort = True, maxPixels = 1024)\n",
    "    .reproject(crs = \"EPSG:4326\", scale = 10000))\n",
    ")\n",
    "\n",
    "# Function to calculate yearly metrics with scaling applied after filtering\n",
    "def calculate_yearly_metrics(year):\n",
    "\n",
    "    def scale_and_aggregate(var, reducer):\n",
    "        data = terraclim.select(var).filter(ee.Filter.calendarRange(year, year, \"year\"))\n",
    "        if var != \"pr\":\n",
    "            data = data.map(lambda img: img.multiply(0.1))\n",
    "        return data.reduce(reducer).toInt16().rename(f\"{var}_{year}\")\n",
    "\n",
    "    # Define which variables are processed with sum or mean reducers\n",
    "    sum_vars = [\"srad\", \"soil\", \"pr\"]\n",
    "    mean_vars = [\"vpd\", \"aet\", \"def\"]\n",
    "\n",
    "    # Aggregate sum variables (radiation, soil, precipitation)\n",
    "    processed_vars = {var: scale_and_aggregate(var, ee.Reducer.sum()) for var in sum_vars}\n",
    "    \n",
    "    # Aggregate mean temperature (average of max and min)\n",
    "    maxtemp = scale_and_aggregate(\"tmmx\", ee.Reducer.mean())\n",
    "    mintemp = scale_and_aggregate(\"tmmn\", ee.Reducer.mean())\n",
    "    processed_vars[\"temp\"] = maxtemp.addBands(mintemp).reduce(ee.Reducer.mean()).float().rename(f\"temp_{year}\")\n",
    "    \n",
    "    # Aggregate other mean variables (vpd, aet)\n",
    "    processed_vars.update({var: scale_and_aggregate(var, ee.Reducer.mean()) for var in mean_vars})\n",
    "\n",
    "    # Calculate Seasonality Index (SI)\n",
    "    mean_prec = processed_vars[\"pr\"].divide(12)\n",
    "    deviations = terraclim.select(\"pr\").filter(ee.Filter.calendarRange(year, year, \"year\")) \\\n",
    "        .map(lambda img: img.multiply(0.1))\\\n",
    "        .map(lambda month: month.subtract(mean_prec).abs())\n",
    "    si_band = deviations.reduce(ee.Reducer.sum()).divide(processed_vars[\"pr\"]).float().rename(f\"si_{year}\")\n",
    "\n",
    "    return ee.Image.cat([*processed_vars.values(), si_band])\n",
    "\n",
    "# Create a dictionary for variables with filtering and scaling applied after\n",
    "vars = {var: terraclim.select(var) for var in [\"tmmx\", \"tmmn\", \"srad\", \"vpd\", \"soil\", \"aet\", \"pr\"]}\n",
    "\n",
    "# Calculate yearly metrics and combine into a single image\n",
    "yearly_metrics = ee.Image.cat([calculate_yearly_metrics(year) for year in config.range_1985_2019])\n",
    "\n",
    "# Function to calculate the mean for a given band pattern\n",
    "def calculate_mean(band_pattern, new_name):\n",
    "    return yearly_metrics.select(band_pattern).reduce(ee.Reducer.mean()).rename(new_name)\n",
    "\n",
    "# Calculate the mean across all years for the desired variables\n",
    "mean_metrics = {name: calculate_mean(f\".*{name}.*\", f\"mean_{name}\") \\\n",
    "                for name in [\"pr\", \"srad\", \"temp\", \"vpd\", \"soil\", \"aet\", \"si\"]}\n",
    "\n",
    "# Combine the mean layers into a single image\n",
    "yearly_terraclim = ee.Image.cat([yearly_metrics, *mean_metrics.values()])\n",
    "\n",
    "# Export the final image\n",
    "export_image(yearly_terraclim, \"yearly_terraclim\", scale = 10000)\n"
   ]
  },
  {
   "cell_type": "markdown",
   "id": "399d3fc7",
   "metadata": {},
   "source": [
    "## TerraClim future projections\n",
    "\n",
    "https://gee-community-catalog.org/projects/terraclim/"
   ]
  },
  {
   "cell_type": "code",
   "execution_count": null,
   "id": "4cd39600",
   "metadata": {},
   "outputs": [
    {
     "data": {
      "text/html": [
       "\n",
       "            <style>\n",
       "                .geemap-dark {\n",
       "                    --jp-widgets-color: white;\n",
       "                    --jp-widgets-label-color: white;\n",
       "                    --jp-ui-font-color1: white;\n",
       "                    --jp-layout-color2: #454545;\n",
       "                    background-color: #383838;\n",
       "                }\n",
       "\n",
       "                .geemap-dark .jupyter-button {\n",
       "                    --jp-layout-color3: #383838;\n",
       "                }\n",
       "\n",
       "                .geemap-colab {\n",
       "                    background-color: var(--colab-primary-surface-color, white);\n",
       "                }\n",
       "\n",
       "                .geemap-colab .jupyter-button {\n",
       "                    --jp-layout-color3: var(--colab-primary-surface-color, white);\n",
       "                }\n",
       "            </style>\n",
       "            "
      ],
      "text/plain": [
       "<IPython.core.display.HTML object>"
      ]
     },
     "metadata": {},
     "output_type": "display_data"
    },
    {
     "data": {
      "text/plain": [
       "31"
      ]
     },
     "execution_count": 14,
     "metadata": {},
     "output_type": "execute_result"
    }
   ],
   "source": [
    "\n",
    "# Define the scalor function\n",
    "def scalor(image):\n",
    "    scale = ee.Number(image.get('scale'))\n",
    "    offset = ee.Number(image.get('offset'))\n",
    "    return image.multiply(scale).add(offset).copyProperties(image, [\"system:time_start\", \"system:time_end\"])\n",
    "\n",
    "# Load the dataset and apply the scalor function\n",
    "dataset2c = ee.ImageCollection(\"projects/sat-io/open-datasets/TERRACLIMATE/2C/tmax\").select('b10')\n",
    "dataset2c = dataset2c.map(scalor)\n",
    "\n",
    "# Load the VPD dataset\n",
    "vpd_4c = ee.ImageCollection(\"projects/sat-io/open-datasets/TERRACLIMATE/4C/vpd\")\n",
    "\n"
   ]
  },
  {
   "cell_type": "markdown",
   "id": "71821788-5a9d-41cc-9c46-1bdd7c8eef24",
   "metadata": {},
   "source": [
    "<!-- ## Yearly CWD\n",
    "\n",
    "Calculated as in Malhi et al 2009 and Aragão et al 2007, considering ET fixed as 100mm/month.\n",
    "\n",
    "[equations](https://imgur.com/o4lVmM7) -->"
   ]
  }
 ],
 "metadata": {
  "kernelspec": {
   "display_name": "regrowth-env",
   "language": "python",
   "name": "python3"
  },
  "language_info": {
   "codemirror_mode": {
    "name": "ipython",
    "version": 3
   },
   "file_extension": ".py",
   "mimetype": "text/x-python",
   "name": "python",
   "nbconvert_exporter": "python",
   "pygments_lexer": "ipython3",
   "version": "3.12.8"
  }
 },
 "nbformat": 4,
 "nbformat_minor": 5
}
