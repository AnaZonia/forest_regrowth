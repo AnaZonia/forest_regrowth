{
 "cells": [
  {
   "cell_type": "markdown",
   "id": "78575f01-dc60-42bf-bee3-e7d3b867635e",
   "metadata": {},
   "source": [
    "# Climate and Soil\n",
    "\n",
    "This script outputs the satellite-based rasters into the Google Earth Engine Cloud.\n",
    "\n",
    "Inputs:\n",
    "\n",
    "\n",
    "Outputs:\n",
    "\n",
    "\n"
   ]
  },
  {
   "cell_type": "code",
   "execution_count": 12,
   "id": "06daa541-4195-4a5e-895f-b520ffa5c523",
   "metadata": {},
   "outputs": [
    {
     "data": {
      "text/html": [
       "\n",
       "            <style>\n",
       "                .geemap-dark {\n",
       "                    --jp-widgets-color: white;\n",
       "                    --jp-widgets-label-color: white;\n",
       "                    --jp-ui-font-color1: white;\n",
       "                    --jp-layout-color2: #454545;\n",
       "                    background-color: #383838;\n",
       "                }\n",
       "\n",
       "                .geemap-dark .jupyter-button {\n",
       "                    --jp-layout-color3: #383838;\n",
       "                }\n",
       "\n",
       "                .geemap-colab {\n",
       "                    background-color: var(--colab-primary-surface-color, white);\n",
       "                }\n",
       "\n",
       "                .geemap-colab .jupyter-button {\n",
       "                    --jp-layout-color3: var(--colab-primary-surface-color, white);\n",
       "                }\n",
       "            </style>\n",
       "            "
      ],
      "text/plain": [
       "<IPython.core.display.HTML object>"
      ]
     },
     "metadata": {},
     "output_type": "display_data"
    }
   ],
   "source": [
    "import ee\n",
    "import geemap\n",
    "from gee_0_utils import *\n",
    "\n",
    "initialize()\n",
    "config = ProjectConfig()\n",
    "roi = config.roi\n",
    "data_folder = config.data_folder"
   ]
  },
  {
   "cell_type": "markdown",
   "id": "ff885eae",
   "metadata": {},
   "source": [
    "## Soil Data from SoilGrids\n",
    "\n",
    "250m resolution"
   ]
  },
  {
   "cell_type": "code",
   "execution_count": 14,
   "id": "a4752d51",
   "metadata": {},
   "outputs": [
    {
     "data": {
      "text/html": [
       "\n",
       "            <style>\n",
       "                .geemap-dark {\n",
       "                    --jp-widgets-color: white;\n",
       "                    --jp-widgets-label-color: white;\n",
       "                    --jp-ui-font-color1: white;\n",
       "                    --jp-layout-color2: #454545;\n",
       "                    background-color: #383838;\n",
       "                }\n",
       "\n",
       "                .geemap-dark .jupyter-button {\n",
       "                    --jp-layout-color3: #383838;\n",
       "                }\n",
       "\n",
       "                .geemap-colab {\n",
       "                    background-color: var(--colab-primary-surface-color, white);\n",
       "                }\n",
       "\n",
       "                .geemap-colab .jupyter-button {\n",
       "                    --jp-layout-color3: var(--colab-primary-surface-color, white);\n",
       "                }\n",
       "            </style>\n",
       "            "
      ],
      "text/plain": [
       "<IPython.core.display.HTML object>"
      ]
     },
     "metadata": {},
     "output_type": "display_data"
    }
   ],
   "source": [
    "bdod = ee.Image(\"projects/soilgrids-isric/bdod_mean\").clip(roi) # bulk density\n",
    "cec = ee.Image(\"projects/soilgrids-isric/cec_mean\") # cation exchange capacity\n",
    "clay = ee.Image(\"projects/soilgrids-isric/clay_mean\").clip(roi)\n",
    "nitro = ee.Image(\"projects/soilgrids-isric/nitrogen_mean\").clip(roi)\n",
    "ocd = ee.Image(\"projects/soilgrids-isric/ocd_mean\").clip(roi) # organic carbon density\n",
    "ocs = ee.Image(\"projects/soilgrids-isric/ocs_mean\").clip(roi) # soil organic carbon stock\n",
    "phh2o = ee.Image(\"projects/soilgrids-isric/phh2o_mean\").clip(roi)\n",
    "sand = ee.Image(\"projects/soilgrids-isric/sand_mean\").clip(roi)\n",
    "soc = ee.Image(\"projects/soilgrids-isric/soc_mean\").clip(roi) # soil organic carbon\n",
    "\n",
    "# Function to select and average specific depth bands\n",
    "def average_depths(image, name):\n",
    "    depths = ['0-5cm', '5-15cm', '15-30cm']\n",
    "    selected_bands = image.select([f'.*_{depth}_mean' for depth in depths])\n",
    "    averaged = selected_bands.reduce(ee.Reducer.mean()).rename(name)\n",
    "    return averaged\n",
    "\n",
    "# Apply unit conversions and depth aggregation\n",
    "bdod = average_depths(bdod, \"bdod\").divide(100)  # cg/cm³ to g/cm³\n",
    "cec = average_depths(cec, \"cec\").divide(10)  # mmol(c)/kg to cmol/kg\n",
    "clay = average_depths(clay, \"clay\").divide(10)        # g/kg to g/100g (%)\n",
    "nitro = average_depths(nitro, \"nitro\").divide(100)    # cg/kg to g/kg\n",
    "ocd = average_depths(ocd, \"ocd\").divide(10)    # hg/m³ to kg/m³\n",
    "ocs = average_depths(ocs, \"ocs\").divide(10)           # hg/m² to kg/m²\n",
    "phh2o = average_depths(phh2o, \"phh2o\").divide(10)     # pH x 10 to pH\n",
    "sand = average_depths(sand, \"sand\").divide(10)        # g/kg to g/100g (%)\n",
    "soc = average_depths(soc, \"soc\").divide(10)           # dg/kg to g/kg\n",
    "\n",
    "# Combine all the soil properties into a single image\n",
    "soil_properties = bdod.addBands([cec, clay, nitro, ocd, ocs, phh2o, sand, soc])\n",
    "\n",
    "# Export the final image\n",
    "export_image(soil_properties, \"soilgrids\", region = roi, scale = 250)\n"
   ]
  },
  {
   "cell_type": "markdown",
   "id": "54f3c487",
   "metadata": {},
   "source": [
    "## TerraClim Data"
   ]
  },
  {
   "cell_type": "markdown",
   "id": "6a7c1cd4-3269-43eb-bac3-0699320107df",
   "metadata": {},
   "source": [
    "<!-- # Terraclim\n",
    "  https://developers.google.com/earth-engine/datasets/catalog/IDAHO_EPSCOR_TERRACLIMATE\n",
    "Bring temperature and precipitation and calculate seasonality -->"
   ]
  },
  {
   "attachments": {},
   "cell_type": "markdown",
   "id": "86c662b3-c1e5-4e48-bd37-9e09c5c0b958",
   "metadata": {},
   "source": [
    "<!-- ## Seasonality index\n",
    "\n",
    "Walsh and Lawler 1981 -->"
   ]
  },
  {
   "cell_type": "code",
   "execution_count": null,
   "id": "3b4fad9e-c719-4259-8b6f-9d648589af48",
   "metadata": {},
   "outputs": [
    {
     "data": {
      "text/html": [
       "\n",
       "            <style>\n",
       "                .geemap-dark {\n",
       "                    --jp-widgets-color: white;\n",
       "                    --jp-widgets-label-color: white;\n",
       "                    --jp-ui-font-color1: white;\n",
       "                    --jp-layout-color2: #454545;\n",
       "                    background-color: #383838;\n",
       "                }\n",
       "\n",
       "                .geemap-dark .jupyter-button {\n",
       "                    --jp-layout-color3: #383838;\n",
       "                }\n",
       "\n",
       "                .geemap-colab {\n",
       "                    background-color: var(--colab-primary-surface-color, white);\n",
       "                }\n",
       "\n",
       "                .geemap-colab .jupyter-button {\n",
       "                    --jp-layout-color3: var(--colab-primary-surface-color, white);\n",
       "                }\n",
       "            </style>\n",
       "            "
      ],
      "text/plain": [
       "<IPython.core.display.HTML object>"
      ]
     },
     "metadata": {},
     "output_type": "display_data"
    }
   ],
   "source": [
    "terraclim = (\n",
    "    ee.ImageCollection(\"IDAHO_EPSCOR/TERRACLIMATE\")\n",
    "    .filterDate(\"1985-01-01\", \"2019-12-31\")\n",
    "    .map(lambda image: image.reduceResolution(ee.Reducer.median(), bestEffort = True, maxPixels = 1024)\n",
    "    .reproject(crs = \"EPSG:4326\", scale = 10000))\n",
    ")\n",
    "\n",
    "# Function to calculate yearly metrics with scaling applied after filtering\n",
    "def calculate_yearly_metrics(year):\n",
    "\n",
    "    def scale_and_aggregate(var, reducer):\n",
    "        data = terraclim.select(var).filter(ee.Filter.calendarRange(year, year, \"year\"))\n",
    "        if var != \"pr\":\n",
    "            data = data.map(lambda img: img.multiply(0.1))\n",
    "        return data.reduce(reducer).toInt16().rename(f\"{var}_{year}\")\n",
    "\n",
    "    # Define which variables are processed with sum or mean reducers\n",
    "    sum_vars = [\"srad\", \"soil\", \"pr\"]\n",
    "    mean_vars = [\"vpd\", \"aet\"]\n",
    "\n",
    "    # Aggregate sum variables (radiation, soil, precipitation)\n",
    "    processed_vars = {var: scale_and_aggregate(var, ee.Reducer.sum()) for var in sum_vars}\n",
    "    \n",
    "    # Aggregate mean temperature (average of max and min)\n",
    "    maxtemp = scale_and_aggregate(\"tmmx\", ee.Reducer.mean())\n",
    "    mintemp = scale_and_aggregate(\"tmmn\", ee.Reducer.mean())\n",
    "    processed_vars[\"temp\"] = maxtemp.addBands(mintemp).reduce(ee.Reducer.mean()).float().rename(f\"temp_{year}\")\n",
    "    \n",
    "    # Aggregate other mean variables (vpd, aet)\n",
    "    processed_vars.update({var: scale_and_aggregate(var, ee.Reducer.mean()) for var in mean_vars})\n",
    "\n",
    "    # Calculate Seasonality Index (SI)\n",
    "    mean_prec = processed_vars[\"pr\"].divide(12)\n",
    "    deviations = terraclim.select(\"pr\").filter(ee.Filter.calendarRange(year, year, \"year\")) \\\n",
    "        .map(lambda img: img.multiply(0.1))\\\n",
    "        .map(lambda month: month.subtract(mean_prec).abs())\n",
    "    si_band = deviations.reduce(ee.Reducer.sum()).divide(processed_vars[\"pr\"]).float().rename(f\"si_{year}\")\n",
    "\n",
    "    return ee.Image.cat([*processed_vars.values(), si_band])\n",
    "\n",
    "# Create a dictionary for variables with filtering and scaling applied after\n",
    "vars = {var: terraclim.select(var) for var in [\"tmmx\", \"tmmn\", \"srad\", \"vpd\", \"soil\", \"aet\", \"pr\"]}\n",
    "\n",
    "# Calculate yearly metrics and combine into a single image\n",
    "yearly_metrics = ee.Image.cat([calculate_yearly_metrics(year) for year in config.range_1985_2019])\n",
    "\n",
    "# Function to calculate the mean for a given band pattern\n",
    "def calculate_mean(band_pattern, new_name):\n",
    "    return yearly_metrics.select(band_pattern).reduce(ee.Reducer.mean()).rename(new_name)\n",
    "\n",
    "# Calculate the mean across all years for the desired variables\n",
    "mean_metrics = {name: calculate_mean(f\".*{name}.*\", f\"mean_{name}\") \\\n",
    "                for name in [\"pr\", \"srad\", \"temp\", \"vpd\", \"soil\", \"aet\", \"si\"]}\n",
    "\n",
    "# Combine the mean layers into a single image\n",
    "yearly_terraclim = ee.Image.cat([yearly_metrics, *mean_metrics.values()])\n",
    "\n",
    "# Export the final image\n",
    "export_image(yearly_terraclim, \"yearly_terraclim\", scale = 10000)\n"
   ]
  },
  {
   "cell_type": "markdown",
   "id": "29739ed4",
   "metadata": {},
   "source": [
    "## ERA5 Data"
   ]
  },
  {
   "cell_type": "markdown",
   "id": "71821788-5a9d-41cc-9c46-1bdd7c8eef24",
   "metadata": {},
   "source": [
    "<!-- ## Yearly CWD\n",
    "\n",
    "Calculated as in Malhi et al 2009 and Aragão et al 2007, considering ET fixed as 100mm/month.\n",
    "\n",
    "[equations](https://imgur.com/o4lVmM7) -->"
   ]
  },
  {
   "cell_type": "code",
   "execution_count": 36,
   "id": "3095b522",
   "metadata": {},
   "outputs": [
    {
     "data": {
      "text/html": [
       "\n",
       "            <style>\n",
       "                .geemap-dark {\n",
       "                    --jp-widgets-color: white;\n",
       "                    --jp-widgets-label-color: white;\n",
       "                    --jp-ui-font-color1: white;\n",
       "                    --jp-layout-color2: #454545;\n",
       "                    background-color: #383838;\n",
       "                }\n",
       "\n",
       "                .geemap-dark .jupyter-button {\n",
       "                    --jp-layout-color3: #383838;\n",
       "                }\n",
       "\n",
       "                .geemap-colab {\n",
       "                    background-color: var(--colab-primary-surface-color, white);\n",
       "                }\n",
       "\n",
       "                .geemap-colab .jupyter-button {\n",
       "                    --jp-layout-color3: var(--colab-primary-surface-color, white);\n",
       "                }\n",
       "            </style>\n",
       "            "
      ],
      "text/plain": [
       "<IPython.core.display.HTML object>"
      ]
     },
     "metadata": {},
     "output_type": "display_data"
    }
   ],
   "source": [
    "\n",
    "vars = ['volumetric_soil_water_layer_2_min', 'surface_pressure', 'surface_net_solar_radiation_sum', 'temperature_2m']\n",
    "var_names = ['sm', 'vpd', 'rad', 'temp']\n",
    "\n",
    "ERA5_L = ee.Image()\n",
    "\n",
    "for var, var_name in zip(vars, var_names):\n",
    "    dataset = ee.ImageCollection('ECMWF/ERA5_LAND/MONTHLY_AGGR').select(var)\n",
    "\n",
    "    yearly_values = ee.Image()\n",
    "    for year in range(1985, 2020):\n",
    "        # Filter images for the specific year\n",
    "        images_in_year = dataset.filter(ee.Filter.eq('year', year))\n",
    "        # Reduce the images to get the mean or total temperature for that year\n",
    "        if var_name == 'rad':\n",
    "            summarized = images_in_year.sum()\n",
    "        else:\n",
    "            summarized = images_in_year.mean()\n",
    "        summarized = summarized.set('year', year).rename(f'{var_name}_{year}')\n",
    "        yearly_values = yearly_values.addBands(summarized)\n",
    "    \n",
    "    yearly_values = yearly_values.slice(1)\n",
    "    \n",
    "    if var_name == 'sm':\n",
    "        yearly_values = yearly_values.float()\n",
    "        total_mean = yearly_values.reduce(ee.Reducer.mean()).float().rename(f'{var_name}_mean')\n",
    "    if var_name == 'rad':\n",
    "        yearly_values = yearly_values.divide(3.154e+7)\n",
    "        total_mean = yearly_values.reduce(ee.Reducer.sum()).rename(f'{var_name}_sum')\n",
    "    if var_name == 'temp':\n",
    "        yearly_values = yearly_values.subtract(273.15)\n",
    "        total_mean = yearly_values.reduce(ee.Reducer.mean()).rename(f'{var_name}_mean')\n",
    "    else:\n",
    "        total_mean = yearly_values.reduce(ee.Reducer.mean()).rename(f'{var_name}_mean')\n",
    "\n",
    "    ERA5_L = ERA5_L.addBands([total_mean, yearly_values])\n",
    "\n",
    "export_image(ERA5_L.slice(1), \"ERA5_L\", scale = 11132) # default by ERA5-Land"
   ]
  }
 ],
 "metadata": {
  "kernelspec": {
   "display_name": "regrowth-env",
   "language": "python",
   "name": "python3"
  },
  "language_info": {
   "codemirror_mode": {
    "name": "ipython",
    "version": 3
   },
   "file_extension": ".py",
   "mimetype": "text/x-python",
   "name": "python",
   "nbconvert_exporter": "python",
   "pygments_lexer": "ipython3",
   "version": "3.12.8"
  }
 },
 "nbformat": 4,
 "nbformat_minor": 5
}
