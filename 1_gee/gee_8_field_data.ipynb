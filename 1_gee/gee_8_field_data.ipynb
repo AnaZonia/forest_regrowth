{
 "cells": [
  {
   "cell_type": "code",
   "execution_count": null,
   "id": "f9ee9987",
   "metadata": {},
   "outputs": [],
   "source": [
    "import ee\n",
    "import geemap\n",
    "from gee_0_utils import *\n",
    "\n",
    "initialize()\n",
    "config = ProjectConfig()\n",
    "roi = config.roi\n",
    "data_folder = config.data_folder\n",
    "last_year = config.last_year\n"
   ]
  },
  {
   "cell_type": "markdown",
   "id": "012dab93",
   "metadata": {},
   "source": [
    "## Field Data"
   ]
  },
  {
   "cell_type": "code",
   "execution_count": null,
   "id": "d3643401",
   "metadata": {},
   "outputs": [
    {
     "data": {
      "text/html": [
       "\n",
       "            <style>\n",
       "                .geemap-dark {\n",
       "                    --jp-widgets-color: white;\n",
       "                    --jp-widgets-label-color: white;\n",
       "                    --jp-ui-font-color1: white;\n",
       "                    --jp-layout-color2: #454545;\n",
       "                    background-color: #383838;\n",
       "                }\n",
       "\n",
       "                .geemap-dark .jupyter-button {\n",
       "                    --jp-layout-color3: #383838;\n",
       "                }\n",
       "\n",
       "                .geemap-colab {\n",
       "                    background-color: var(--colab-primary-surface-color, white);\n",
       "                }\n",
       "\n",
       "                .geemap-colab .jupyter-button {\n",
       "                    --jp-layout-color3: var(--colab-primary-surface-color, white);\n",
       "                }\n",
       "            </style>\n",
       "            "
      ],
      "text/plain": [
       "<IPython.core.display.HTML object>"
      ]
     },
     "metadata": {},
     "output_type": "display_data"
    }
   ],
   "source": [
    "field_data = ee.FeatureCollection(f\"{data_folder}/field\")\n",
    "\n",
    "# Reproject continuous variables using mean\n",
    "continuous_vars = [\n",
    "    nearest_mature.rename(\"nearest_mature\"),\n",
    "    soil,\n",
    "    terraclim.select([\"mean_soil\", \"mean_vpd\", \"mean_temp\", \"mean_def\", \n",
    "                      \"mean_srad\", \"mean_pr\", \"mean_aet\", \"mean_pdsi\"])\n",
    "]\n",
    "\n",
    "unified_data_field = ee.Image.cat([\n",
    "    floodable_forests,\n",
    "    distance_deep_forest,\n",
    "    sur_cover,\n",
    "    continuous_vars,\n",
    "    categorical_vars,\n",
    "    ee.Image.pixelLonLat().rename(['lon', 'lat'])\n",
    "])\n",
    "\n",
    "unified_fc = unified_data_field.reduceRegions(field_data, ee.Reducer.first(), 30)\n",
    "\n",
    "properties_to_export = unified_data_field.bandNames().getInfo()\n",
    "properties_to_export = properties_to_export + [\"age\", \"site_id\", \"plot_id\", \"field_biom\"]\n",
    "\n",
    "# Export task to Google Drive\n",
    "task = ee.batch.Export.table.toDrive(\n",
    "    collection = unified_fc,\n",
    "    description = 'field_predictors',\n",
    "    fileFormat = \"CSV\",\n",
    "    selectors = [p for p in properties_to_export if p not in ['system:index', '.geo']]\n",
    ")\n",
    "task.start()"
   ]
  }
 ],
 "metadata": {
  "language_info": {
   "name": "python"
  }
 },
 "nbformat": 4,
 "nbformat_minor": 5
}
