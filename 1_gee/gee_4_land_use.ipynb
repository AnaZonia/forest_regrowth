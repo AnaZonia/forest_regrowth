{
 "cells": [
  {
   "cell_type": "markdown",
   "metadata": {},
   "source": [
    "# Land Use History and Fire\n",
    "\n",
    "This script outputs the satellite-based rasters into the Google Earth Engine Cloud.\n",
    "\n",
    "Inputs:\n",
    "\n",
    "\n",
    "Outputs:\n",
    "\n",
    "\n"
   ]
  },
  {
   "cell_type": "code",
   "execution_count": 105,
   "metadata": {},
   "outputs": [
    {
     "data": {
      "text/html": [
       "\n",
       "            <style>\n",
       "                .geemap-dark {\n",
       "                    --jp-widgets-color: white;\n",
       "                    --jp-widgets-label-color: white;\n",
       "                    --jp-ui-font-color1: white;\n",
       "                    --jp-layout-color2: #454545;\n",
       "                    background-color: #383838;\n",
       "                }\n",
       "\n",
       "                .geemap-dark .jupyter-button {\n",
       "                    --jp-layout-color3: #383838;\n",
       "                }\n",
       "\n",
       "                .geemap-colab {\n",
       "                    background-color: var(--colab-primary-surface-color, white);\n",
       "                }\n",
       "\n",
       "                .geemap-colab .jupyter-button {\n",
       "                    --jp-layout-color3: var(--colab-primary-surface-color, white);\n",
       "                }\n",
       "            </style>\n",
       "            "
      ],
      "text/plain": [
       "<IPython.core.display.HTML object>"
      ]
     },
     "metadata": {},
     "output_type": "display_data"
    },
    {
     "data": {
      "text/html": [
       "<p>To authorize access needed by Earth Engine, open the following\n",
       "        URL in a web browser and follow the instructions:</p>\n",
       "        <p><a href=https://code.earthengine.google.com/client-auth?scopes=https%3A//www.googleapis.com/auth/earthengine%20https%3A//www.googleapis.com/auth/cloud-platform%20https%3A//www.googleapis.com/auth/devstorage.full_control&request_id=48rug-DrV5Q5onU57cEbGPzwkYGpBRlZg4OzfAulldc&tc=XhdHiViHzaD85towDCsyNQeT4hkW_8-HEMF3DUFTshM&cc=1_c0PMEZz0LtV1uuuR8uLYEk6Tj8rHXm-nYzVOUfRak>https://code.earthengine.google.com/client-auth?scopes=https%3A//www.googleapis.com/auth/earthengine%20https%3A//www.googleapis.com/auth/cloud-platform%20https%3A//www.googleapis.com/auth/devstorage.full_control&request_id=48rug-DrV5Q5onU57cEbGPzwkYGpBRlZg4OzfAulldc&tc=XhdHiViHzaD85towDCsyNQeT4hkW_8-HEMF3DUFTshM&cc=1_c0PMEZz0LtV1uuuR8uLYEk6Tj8rHXm-nYzVOUfRak</a></p>\n",
       "        <p>The authorization workflow will generate a code, which you should paste in the box below.</p>\n",
       "        "
      ],
      "text/plain": [
       "<IPython.core.display.HTML object>"
      ]
     },
     "metadata": {},
     "output_type": "display_data"
    },
    {
     "name": "stderr",
     "output_type": "stream",
     "text": [
      "Gtk-Message: 11:51:20.878: Not loading module \"atk-bridge\": The functionality is provided by GTK natively. Please try to not load it.\n"
     ]
    },
    {
     "name": "stdout",
     "output_type": "stream",
     "text": [
      "\n",
      "Successfully saved authorization token.\n"
     ]
    }
   ],
   "source": [
    "import ee\n",
    "import geemap\n",
    "from gee_0_utils import *\n",
    "\n",
    "initialize()\n",
    "\n",
    "config = ProjectConfig()\n",
    "roi = config.roi\n",
    "data_folder = config.data_folder\n",
    "last_year = config.last_year\n",
    "\n",
    "_, lulc = desired_lulc()\n",
    "\n",
    "ages = ee.Image(f\"{data_folder}/mapbiomas_{last_year}\")"
   ]
  },
  {
   "cell_type": "code",
   "execution_count": 106,
   "metadata": {},
   "outputs": [
    {
     "data": {
      "text/html": [
       "\n",
       "            <style>\n",
       "                .geemap-dark {\n",
       "                    --jp-widgets-color: white;\n",
       "                    --jp-widgets-label-color: white;\n",
       "                    --jp-ui-font-color1: white;\n",
       "                    --jp-layout-color2: #454545;\n",
       "                    background-color: #383838;\n",
       "                }\n",
       "\n",
       "                .geemap-dark .jupyter-button {\n",
       "                    --jp-layout-color3: #383838;\n",
       "                }\n",
       "\n",
       "                .geemap-colab {\n",
       "                    background-color: var(--colab-primary-surface-color, white);\n",
       "                }\n",
       "\n",
       "                .geemap-colab .jupyter-button {\n",
       "                    --jp-layout-color3: var(--colab-primary-surface-color, white);\n",
       "                }\n",
       "            </style>\n",
       "            "
      ],
      "text/plain": [
       "<IPython.core.display.HTML object>"
      ]
     },
     "metadata": {},
     "output_type": "display_data"
    }
   ],
   "source": [
    "aggregate_lu_types = False\n",
    "history_interval = 5\n",
    "\n",
    "name = \"\"\n",
    "name_lu = f\"{name}_{'aggregated' if aggregate_lu_types else 'non_aggregated'}\"\n",
    "name_lu += f\"_{history_interval}yr\" if history_interval > 0 else \"_all\""
   ]
  },
  {
   "cell_type": "markdown",
   "metadata": {},
   "source": [
    "## Land Use Land Cover\n",
    "\n",
    "### The MapBiomas Collection 9 land use/land cover data is mapped to the following classes:\n",
    "\n",
    "- 3 <- Forest Formation\n",
    "- 6 <- Floodable Forest \n",
    "- 15 <- Pasture\n",
    "- 20 <- Sugar Cane\n",
    "- 21 <- Mosaic of Uses\n",
    "- 35 <- Palm Oil\n",
    "- 39 <- Soybean\n",
    "- 40 <- Rice\n",
    "- 41 <- Other temporary crops\n",
    "- 46 <- Coffee\n",
    "- 47 <- Citrus\n",
    "- 48 <- Other perennial crops\n",
    "- 62 <- Cotton\n",
    "\n",
    "### Grouping land use types (if aggregation is desired)\n",
    "- 10 <- pasture (15)\n",
    "- 20 <- perennial crops (46, 47, 35, 48)\n",
    "- 30 <- annual crops (39, 20, 40, 62, 41)\n",
    "- 40 <- mosaic (21)\n"
   ]
  },
  {
   "cell_type": "code",
   "execution_count": 107,
   "metadata": {},
   "outputs": [
    {
     "data": {
      "text/html": [
       "\n",
       "            <style>\n",
       "                .geemap-dark {\n",
       "                    --jp-widgets-color: white;\n",
       "                    --jp-widgets-label-color: white;\n",
       "                    --jp-ui-font-color1: white;\n",
       "                    --jp-layout-color2: #454545;\n",
       "                    background-color: #383838;\n",
       "                }\n",
       "\n",
       "                .geemap-dark .jupyter-button {\n",
       "                    --jp-layout-color3: #383838;\n",
       "                }\n",
       "\n",
       "                .geemap-colab {\n",
       "                    background-color: var(--colab-primary-surface-color, white);\n",
       "                }\n",
       "\n",
       "                .geemap-colab .jupyter-button {\n",
       "                    --jp-layout-color3: var(--colab-primary-surface-color, white);\n",
       "                }\n",
       "            </style>\n",
       "            "
      ],
      "text/plain": [
       "<IPython.core.display.HTML object>"
      ]
     },
     "metadata": {},
     "output_type": "display_data"
    }
   ],
   "source": [
    "# Listing land use types that are NOT forest\n",
    "if (aggregate_lu_types):\n",
    "    \n",
    "    lu_index = [10,20,30,40]\n",
    "    \n",
    "    # A flat list of pixel values to replace.\n",
    "    from_list = [15, 46, 35, 46, 47, 48, 39, 20, 40, 41, 62, 21, 3, 6]\n",
    "\n",
    "    # A corresponding list of new values.\n",
    "    to_list = [10, 20, 20, 20, 20, 20, 30, 30, 30, 30, 30, 40, 3, 6]\n",
    "\n",
    "    # for each forest age, mask the lulc of the year immediately preceding abandonment\n",
    "    lulc_aggregated = ee.Image()\n",
    "    for band in lulc.bandNames().getInfo():\n",
    "        lu_yr = lulc.select(band)\n",
    "        remapped_band = lu_yr.remap(from_list, to_list).rename(band)\n",
    "        lulc_aggregated = lulc_aggregated.addBands(remapped_band)\n",
    "\n",
    "    lulc = lulc_aggregated.slice(1).byte()\n",
    "else:\n",
    "    lu_index = [15, 35, 46, 47, 48, 39, 20, 40, 41, 62, 21]\n",
    "\n"
   ]
  },
  {
   "cell_type": "markdown",
   "metadata": {},
   "source": [
    "### Restricting history to n years before abandonment\n",
    "\n",
    "Since we only have land use history dating back to 1985, the data is censored. In order to restrict history to exclude pixels with possible long histories of anthropogenic use pre-1985 which could not be included in the analysis:\n",
    "\n",
    "- Make a mask with regrowing pixels that were forested in 1985 (keep only the patches that were forested in 1985, then subsequently deforested, and regrew after that).\n",
    "\n",
    "- Making a mask (cutoff year) including the \"history_interval\" years before detected regrowth\n",
    "\n",
    "![note](intervals.png)\n",
    "Illustration of interval considered for analysis with history_interval"
   ]
  },
  {
   "cell_type": "code",
   "execution_count": 99,
   "metadata": {},
   "outputs": [
    {
     "data": {
      "text/html": [
       "\n",
       "            <style>\n",
       "                .geemap-dark {\n",
       "                    --jp-widgets-color: white;\n",
       "                    --jp-widgets-label-color: white;\n",
       "                    --jp-ui-font-color1: white;\n",
       "                    --jp-layout-color2: #454545;\n",
       "                    background-color: #383838;\n",
       "                }\n",
       "\n",
       "                .geemap-dark .jupyter-button {\n",
       "                    --jp-layout-color3: #383838;\n",
       "                }\n",
       "\n",
       "                .geemap-colab {\n",
       "                    background-color: var(--colab-primary-surface-color, white);\n",
       "                }\n",
       "\n",
       "                .geemap-colab .jupyter-button {\n",
       "                    --jp-layout-color3: var(--colab-primary-surface-color, white);\n",
       "                }\n",
       "            </style>\n",
       "            "
      ],
      "text/plain": [
       "<IPython.core.display.HTML object>"
      ]
     },
     "metadata": {},
     "output_type": "display_data"
    }
   ],
   "source": [
    "# for each year, make a mask for all anthropogenic pixels, and multiply by the year to have the\n",
    "# pixel value be the year of observation of that land use type.\n",
    "non_forest_years = ee.Image()\n",
    "for yr in range(1985, last_year):\n",
    "    year = f\"{yr}\"\n",
    "    lu_yr = lulc.select(year).gt(3).multiply(yr)\n",
    "    non_forest_years = non_forest_years.addBands(lu_yr)\n",
    "\n",
    "# find the minimum and maximum non-zero value per pixel across all bands\n",
    "# (first and last year of anthropogenic land use)\n",
    "first_anthro = non_forest_years.selfMask().reduce(ee.Reducer.min())\n",
    "last_anthro = non_forest_years.reduce(ee.Reducer.max())\n",
    "# get total of continuous years from the first and last observation of anthropogenic land use\n",
    "anthro_gaps = last_anthro.subtract(first_anthro).add(1)\n"
   ]
  },
  {
   "cell_type": "code",
   "execution_count": 100,
   "metadata": {},
   "outputs": [
    {
     "data": {
      "text/html": [
       "\n",
       "            <style>\n",
       "                .geemap-dark {\n",
       "                    --jp-widgets-color: white;\n",
       "                    --jp-widgets-label-color: white;\n",
       "                    --jp-ui-font-color1: white;\n",
       "                    --jp-layout-color2: #454545;\n",
       "                    background-color: #383838;\n",
       "                }\n",
       "\n",
       "                .geemap-dark .jupyter-button {\n",
       "                    --jp-layout-color3: #383838;\n",
       "                }\n",
       "\n",
       "                .geemap-colab {\n",
       "                    background-color: var(--colab-primary-surface-color, white);\n",
       "                }\n",
       "\n",
       "                .geemap-colab .jupyter-button {\n",
       "                    --jp-layout-color3: var(--colab-primary-surface-color, white);\n",
       "                }\n",
       "            </style>\n",
       "            "
      ],
      "text/plain": [
       "<IPython.core.display.HTML object>"
      ]
     },
     "metadata": {},
     "output_type": "display_data"
    }
   ],
   "source": [
    "# Establishing a specific range for land use history for analysis\n",
    "if history_interval > 0:\n",
    "    first_year_considered = 1984 + history_interval\n",
    "    age = ages.updateMask(ages.lte(last_year - first_year_considered))\n",
    "    years_regrowth_considered = range(first_year_considered, last_year)\n",
    "\n",
    "    cutoff_year = ee.Image.constant(2021).subtract(age).subtract(ee.Number(history_interval))\n",
    "    years = ee.Image.constant(list(range(1985, 2021))).rename(lulc.bandNames())\n",
    "    mask = years.gte(cutoff_year)\n",
    "    lulc = lulc.updateMask(mask).updateMask(age)\n",
    "else:\n",
    "    years_regrowth_considered = config.range_1985_2019\n",
    "    first_year_considered = 1985\n"
   ]
  },
  {
   "cell_type": "markdown",
   "metadata": {},
   "source": [
    "### Fallow period length\n",
    "\n",
    "Finds the total number of years that land was left fallow (classified as forest before regrowth)"
   ]
  },
  {
   "cell_type": "code",
   "execution_count": 101,
   "metadata": {},
   "outputs": [
    {
     "data": {
      "text/html": [
       "\n",
       "            <style>\n",
       "                .geemap-dark {\n",
       "                    --jp-widgets-color: white;\n",
       "                    --jp-widgets-label-color: white;\n",
       "                    --jp-ui-font-color1: white;\n",
       "                    --jp-layout-color2: #454545;\n",
       "                    background-color: #383838;\n",
       "                }\n",
       "\n",
       "                .geemap-dark .jupyter-button {\n",
       "                    --jp-layout-color3: #383838;\n",
       "                }\n",
       "\n",
       "                .geemap-colab {\n",
       "                    background-color: var(--colab-primary-surface-color, white);\n",
       "                }\n",
       "\n",
       "                .geemap-colab .jupyter-button {\n",
       "                    --jp-layout-color3: var(--colab-primary-surface-color, white);\n",
       "                }\n",
       "            </style>\n",
       "            "
      ],
      "text/plain": [
       "<IPython.core.display.HTML object>"
      ]
     },
     "metadata": {},
     "output_type": "display_data"
    }
   ],
   "source": [
    "nat_cover = lulc.eq(3)\n",
    "nat_cover = nat_cover.reduce(ee.Reducer.sum())\n",
    "\n",
    "if history_interval > 0:\n",
    "\n",
    "    non_forest_years = ee.Image()\n",
    "    for yr in range(1985, last_year):\n",
    "        year = f\"{yr}\"\n",
    "        lu_yr = lulc.select(year).gt(3).multiply(yr)\n",
    "        non_forest_years = non_forest_years.addBands(lu_yr)\n",
    "\n",
    "    # find the minimum and maximum non-zero value per pixel across all bands\n",
    "    # (first and last year of anthropogenic land use)\n",
    "    first_anthro = non_forest_years.selfMask().reduce(ee.Reducer.min())\n",
    "    forest_before_first_anthro = first_anthro.subtract(cutoff_year)\n",
    "    fallow = nat_cover.subtract(forest_before_first_anthro).subtract(age).rename(\"fallow\").byte()\n",
    "else:\n",
    "    forest_before_first_anthro = first_anthro.subtract(1985)\n",
    "    fallow = nat_cover.subtract(forest_before_first_anthro).subtract(age).rename(\"fallow\").byte()"
   ]
  },
  {
   "cell_type": "markdown",
   "metadata": {},
   "source": [
    "### Total sum of years under each desired land use type\n",
    "\n",
    "For each desired land use type, the total occurrences per pixel are summed"
   ]
  },
  {
   "cell_type": "code",
   "execution_count": 102,
   "metadata": {},
   "outputs": [
    {
     "data": {
      "text/html": [
       "\n",
       "            <style>\n",
       "                .geemap-dark {\n",
       "                    --jp-widgets-color: white;\n",
       "                    --jp-widgets-label-color: white;\n",
       "                    --jp-ui-font-color1: white;\n",
       "                    --jp-layout-color2: #454545;\n",
       "                    background-color: #383838;\n",
       "                }\n",
       "\n",
       "                .geemap-dark .jupyter-button {\n",
       "                    --jp-layout-color3: #383838;\n",
       "                }\n",
       "\n",
       "                .geemap-colab {\n",
       "                    background-color: var(--colab-primary-surface-color, white);\n",
       "                }\n",
       "\n",
       "                .geemap-colab .jupyter-button {\n",
       "                    --jp-layout-color3: var(--colab-primary-surface-color, white);\n",
       "                }\n",
       "            </style>\n",
       "            "
      ],
      "text/plain": [
       "<IPython.core.display.HTML object>"
      ]
     },
     "metadata": {},
     "output_type": "display_data"
    }
   ],
   "source": [
    "lu_sum = ee.Image()\n",
    "\n",
    "for val in lu_index:\n",
    "    lulc_val = lulc.eq(val)\n",
    "    num_cells = lulc_val.reduce(ee.Reducer.sum()).rename(f\"lu_sum_{val}\")\n",
    "    lu_sum = lu_sum.addBands(num_cells)\n",
    "\n",
    "# removes the first (empty) band\n",
    "lu_sum = lu_sum.slice(1).byte()"
   ]
  },
  {
   "cell_type": "markdown",
   "metadata": {},
   "source": [
    "### Last Land Use Type\n",
    "\n",
    "Finds what was the last land use type observed before abandonment."
   ]
  },
  {
   "cell_type": "code",
   "execution_count": 103,
   "metadata": {},
   "outputs": [
    {
     "data": {
      "text/html": [
       "\n",
       "            <style>\n",
       "                .geemap-dark {\n",
       "                    --jp-widgets-color: white;\n",
       "                    --jp-widgets-label-color: white;\n",
       "                    --jp-ui-font-color1: white;\n",
       "                    --jp-layout-color2: #454545;\n",
       "                    background-color: #383838;\n",
       "                }\n",
       "\n",
       "                .geemap-dark .jupyter-button {\n",
       "                    --jp-layout-color3: #383838;\n",
       "                }\n",
       "\n",
       "                .geemap-colab {\n",
       "                    background-color: var(--colab-primary-surface-color, white);\n",
       "                }\n",
       "\n",
       "                .geemap-colab .jupyter-button {\n",
       "                    --jp-layout-color3: var(--colab-primary-surface-color, white);\n",
       "                }\n",
       "            </style>\n",
       "            "
      ],
      "text/plain": [
       "<IPython.core.display.HTML object>"
      ]
     },
     "metadata": {},
     "output_type": "display_data"
    }
   ],
   "source": [
    "# for each forest age, mask the lulc of the year immediately preceding abandonment\n",
    "last_lu = ee.Image()\n",
    "for yr in config.range_1986_2019:\n",
    "    year = f\"{yr}\"\n",
    "    lu_yr = lulc.select(year)\n",
    "    age_mask = age.eq(config.last_year - yr)\n",
    "    last_lu = last_lu.addBands(lu_yr.updateMask(age_mask))\n",
    "\n",
    "# remove first empty band\n",
    "# merge all images by adding them up\n",
    "last_lu = last_lu.slice(1).reduce(ee.Reducer.sum()).rename(\"last_lu\").byte()"
   ]
  },
  {
   "cell_type": "code",
   "execution_count": 104,
   "metadata": {},
   "outputs": [
    {
     "data": {
      "text/html": [
       "\n",
       "            <style>\n",
       "                .geemap-dark {\n",
       "                    --jp-widgets-color: white;\n",
       "                    --jp-widgets-label-color: white;\n",
       "                    --jp-ui-font-color1: white;\n",
       "                    --jp-layout-color2: #454545;\n",
       "                    background-color: #383838;\n",
       "                }\n",
       "\n",
       "                .geemap-dark .jupyter-button {\n",
       "                    --jp-layout-color3: #383838;\n",
       "                }\n",
       "\n",
       "                .geemap-colab {\n",
       "                    background-color: var(--colab-primary-surface-color, white);\n",
       "                }\n",
       "\n",
       "                .geemap-colab .jupyter-button {\n",
       "                    --jp-layout-color3: var(--colab-primary-surface-color, white);\n",
       "                }\n",
       "            </style>\n",
       "            "
      ],
      "text/plain": [
       "<IPython.core.display.HTML object>"
      ]
     },
     "metadata": {},
     "output_type": "display_data"
    }
   ],
   "source": [
    "land_use = last_lu.addBands([fallow, lu_sum])\n",
    "\n",
    "export_image(land_use, f\"land_use{name_lu}\", region = roi, scale = 30)"
   ]
  }
 ],
 "metadata": {
  "kernelspec": {
   "display_name": "regrowth-env",
   "language": "python",
   "name": "python3"
  },
  "language_info": {
   "codemirror_mode": {
    "name": "ipython",
    "version": 3
   },
   "file_extension": ".py",
   "mimetype": "text/x-python",
   "name": "python",
   "nbconvert_exporter": "python",
   "pygments_lexer": "ipython3",
   "version": "3.12.8"
  }
 },
 "nbformat": 4,
 "nbformat_minor": 2
}
