{
 "cells": [
  {
   "cell_type": "code",
   "execution_count": 1,
   "metadata": {},
   "outputs": [],
   "source": [
    "import ee\n",
    "import geemap\n",
    "from gee_0_utils import *\n",
    "\n",
    "initialize()\n",
    "\n",
    "config = ProjectConfig()\n",
    "roi = config.roi\n",
    "data_folder = config.data_folder\n",
    "\n",
    "age, lulc, fire = desired_lulc()"
   ]
  },
  {
   "cell_type": "code",
   "execution_count": 2,
   "metadata": {},
   "outputs": [
    {
     "data": {
      "text/html": [
       "\n",
       "            <style>\n",
       "                .geemap-dark {\n",
       "                    --jp-widgets-color: white;\n",
       "                    --jp-widgets-label-color: white;\n",
       "                    --jp-ui-font-color1: white;\n",
       "                    --jp-layout-color2: #454545;\n",
       "                    background-color: #383838;\n",
       "                }\n",
       "\n",
       "                .geemap-dark .jupyter-button {\n",
       "                    --jp-layout-color3: #383838;\n",
       "                }\n",
       "\n",
       "                .geemap-colab {\n",
       "                    background-color: var(--colab-primary-surface-color, white);\n",
       "                }\n",
       "\n",
       "                .geemap-colab .jupyter-button {\n",
       "                    --jp-layout-color3: var(--colab-primary-surface-color, white);\n",
       "                }\n",
       "            </style>\n",
       "            "
      ],
      "text/plain": [
       "<IPython.core.display.HTML object>"
      ]
     },
     "metadata": {},
     "output_type": "display_data"
    }
   ],
   "source": [
    "use_hard_cutoff = True\n",
    "aggregate_LU_types = True\n",
    "ESA_fire = False\n",
    "generate_lulc_pred = False\n",
    "history_interval = 15\n",
    "method = \"mapbiomas\"\n",
    "\n",
    "name = \"\"\n",
    "name_LU = f\"{name}_{'aggregated' if aggregate_LU_types else 'non_aggregated'}\"\n",
    "name_LU += \"_hard_cutoff\" if use_hard_cutoff else \"\"\n",
    "name_LU += f\"_{history_interval}yr\" if history_interval > 0 else \"_all\"\n"
   ]
  },
  {
   "cell_type": "code",
   "execution_count": 53,
   "metadata": {},
   "outputs": [
    {
     "data": {
      "text/html": [
       "\n",
       "            <style>\n",
       "                .geemap-dark {\n",
       "                    --jp-widgets-color: white;\n",
       "                    --jp-widgets-label-color: white;\n",
       "                    --jp-ui-font-color1: white;\n",
       "                    --jp-layout-color2: #454545;\n",
       "                    background-color: #383838;\n",
       "                }\n",
       "\n",
       "                .geemap-dark .jupyter-button {\n",
       "                    --jp-layout-color3: #383838;\n",
       "                }\n",
       "\n",
       "                .geemap-colab {\n",
       "                    background-color: var(--colab-primary-surface-color, white);\n",
       "                }\n",
       "\n",
       "                .geemap-colab .jupyter-button {\n",
       "                    --jp-layout-color3: var(--colab-primary-surface-color, white);\n",
       "                }\n",
       "            </style>\n",
       "            "
      ],
      "text/plain": [
       "<IPython.core.display.HTML object>"
      ]
     },
     "metadata": {},
     "output_type": "display_data"
    }
   ],
   "source": [
    "if generate_lulc_pred:\n",
    "    lulc = (ee.Image(\"projects/mapbiomas-public/assets/brazil/lulc/collection9/mapbiomas_collection90_integration_v1\")\n",
    "            .select([f\"classification_{year}\" for year in config.range_1985_2020])\n",
    "            .byte()\n",
    "            .rename([str(year) for year in config.range_1985_2020]))\n",
    "\n",
    "    age = remap_band(\"2020\", lulc)"
   ]
  },
  {
   "cell_type": "markdown",
   "metadata": {},
   "source": [
    "## Land Use Land Cover\n",
    "\n",
    "### Grouping land use types (if aggregation is desired)\n",
    "\n",
    "- annual_crops = 39, 20, 40, 62, 41\n",
    "- perennial_crops = 46, 47, 35, 48\n",
    "- pasture = 15\n",
    "- mosaic = 21\n",
    "- forest plantation = 9\n"
   ]
  },
  {
   "cell_type": "code",
   "execution_count": 4,
   "metadata": {},
   "outputs": [
    {
     "data": {
      "text/html": [
       "\n",
       "            <style>\n",
       "                .geemap-dark {\n",
       "                    --jp-widgets-color: white;\n",
       "                    --jp-widgets-label-color: white;\n",
       "                    --jp-ui-font-color1: white;\n",
       "                    --jp-layout-color2: #454545;\n",
       "                    background-color: #383838;\n",
       "                }\n",
       "\n",
       "                .geemap-dark .jupyter-button {\n",
       "                    --jp-layout-color3: #383838;\n",
       "                }\n",
       "\n",
       "                .geemap-colab {\n",
       "                    background-color: var(--colab-primary-surface-color, white);\n",
       "                }\n",
       "\n",
       "                .geemap-colab .jupyter-button {\n",
       "                    --jp-layout-color3: var(--colab-primary-surface-color, white);\n",
       "                }\n",
       "            </style>\n",
       "            "
      ],
      "text/plain": [
       "<IPython.core.display.HTML object>"
      ]
     },
     "metadata": {},
     "output_type": "display_data"
    }
   ],
   "source": [
    "\n",
    "# Listing land use types that are NOT forest\n",
    "if (aggregate_LU_types):\n",
    "    \n",
    "    LU_index = [10,20,30,40,50]\n",
    "\n",
    "    # A flat list of pixel values to replace.\n",
    "    from_list = [15, 46, 35, 48, 39, 20, 40, 41, 21, 9, 3]\n",
    "\n",
    "    # A corresponding list of new values.\n",
    "    to_list = [10, 20, 20, 20, 30, 30, 30, 30, 40, 50, 3]\n",
    "\n",
    "    # for each forest age, mask the lulc of the year immediately preceding abandonment\n",
    "    lulc_aggregated = ee.Image()\n",
    "    for band in lulc.bandNames().getInfo():\n",
    "        lu_yr = lulc.select(band)\n",
    "        remapped_band = lu_yr.remap(from_list, to_list).rename(band)\n",
    "        lulc_aggregated = lulc_aggregated.addBands(remapped_band)\n",
    "\n",
    "    lulc = lulc_aggregated.slice(1).byte()\n",
    "else:\n",
    "    LU_index = [15, 39, 20, 40, 41, 46, 35, 48, 9, 21]\n",
    "\n"
   ]
  },
  {
   "cell_type": "markdown",
   "metadata": {},
   "source": [
    "### Restricting history to n years before abandonment\n",
    "\n",
    "Since we only have land use history dating back to 1985, the data is censored. In order to restrict history to exclude pixels with possible long histories of anthropogenic use pre-1985 which could not be included in the analysis:\n",
    "\n",
    "- Make a mask with regrowing pixels that were forested in 1985 (keep only the patches that were forested in 1985, then subsequently deforested, and regrew after that).\n",
    "\n",
    "- Making a mask including only pixels that have a specified number of bands (hist_interval) between the first and the last occurrence of an anthropogenic pixel (desired extent of land use history to include)"
   ]
  },
  {
   "cell_type": "code",
   "execution_count": 55,
   "metadata": {},
   "outputs": [
    {
     "data": {
      "text/html": [
       "\n",
       "            <style>\n",
       "                .geemap-dark {\n",
       "                    --jp-widgets-color: white;\n",
       "                    --jp-widgets-label-color: white;\n",
       "                    --jp-ui-font-color1: white;\n",
       "                    --jp-layout-color2: #454545;\n",
       "                    background-color: #383838;\n",
       "                }\n",
       "\n",
       "                .geemap-dark .jupyter-button {\n",
       "                    --jp-layout-color3: #383838;\n",
       "                }\n",
       "\n",
       "                .geemap-colab {\n",
       "                    background-color: var(--colab-primary-surface-color, white);\n",
       "                }\n",
       "\n",
       "                .geemap-colab .jupyter-button {\n",
       "                    --jp-layout-color3: var(--colab-primary-surface-color, white);\n",
       "                }\n",
       "            </style>\n",
       "            "
      ],
      "text/plain": [
       "<IPython.core.display.HTML object>"
      ]
     },
     "metadata": {},
     "output_type": "display_data"
    }
   ],
   "source": [
    "# for each year, make a mask for all anthropogenic pixels, and multiply by the year to have the\n",
    "# pixel value be the year of observation of that land use type.\n",
    "non_forest_years = ee.Image()\n",
    "for yr in range(1985, 2020):\n",
    "    year = f\"{yr}\"\n",
    "    lu_yr = lulc.select(year).gt(3).multiply(yr)\n",
    "    non_forest_years = non_forest_years.addBands(lu_yr)\n",
    "\n",
    "# find the minimum and maximum non-zero value per pixel across all bands\n",
    "# (first and last year of anthropogenic land use)\n",
    "first_anthro = non_forest_years.selfMask().reduce(ee.Reducer.min())\n",
    "last_anthro = non_forest_years.reduce(ee.Reducer.max())\n",
    "# get total of continuous years from the first and last observation of anthropogenic land use\n",
    "anthro_gaps = last_anthro.subtract(first_anthro).add(1)\n",
    "\n"
   ]
  },
  {
   "cell_type": "code",
   "execution_count": 56,
   "metadata": {},
   "outputs": [
    {
     "data": {
      "text/html": [
       "\n",
       "            <style>\n",
       "                .geemap-dark {\n",
       "                    --jp-widgets-color: white;\n",
       "                    --jp-widgets-label-color: white;\n",
       "                    --jp-ui-font-color1: white;\n",
       "                    --jp-layout-color2: #454545;\n",
       "                    background-color: #383838;\n",
       "                }\n",
       "\n",
       "                .geemap-dark .jupyter-button {\n",
       "                    --jp-layout-color3: #383838;\n",
       "                }\n",
       "\n",
       "                .geemap-colab {\n",
       "                    background-color: var(--colab-primary-surface-color, white);\n",
       "                }\n",
       "\n",
       "                .geemap-colab .jupyter-button {\n",
       "                    --jp-layout-color3: var(--colab-primary-surface-color, white);\n",
       "                }\n",
       "            </style>\n",
       "            "
      ],
      "text/plain": [
       "<IPython.core.display.HTML object>"
      ]
     },
     "metadata": {},
     "output_type": "display_data"
    }
   ],
   "source": [
    "# Establishing a specific range for land use history for analysis\n",
    "if history_interval > 0:\n",
    "    first_year_considered = 1984 + history_interval\n",
    "    age = age.updateMask(age.lte(2020 - first_year_considered))\n",
    "    years_regrowth_considered = range(first_year_considered, 2020)\n",
    "\n",
    "    if use_hard_cutoff:\n",
    "        # Calculate the cutoff year for each pixel\n",
    "        cutoff_year = ee.Image.constant(2021).subtract(age).subtract(ee.Number(history_interval))\n",
    "        years = ee.Image.constant(list(range(1985, 2021))).rename(lulc.bandNames())\n",
    "        mask = years.gte(cutoff_year)\n",
    "        lulc = lulc.updateMask(mask)\n",
    "        fire = fire.gt(0).updateMask(mask)\n",
    "    else:\n",
    "        # select pixels that were forested in 1985\n",
    "        # and that have at most history_interval years of anthropogenic land use\n",
    "        lulc = lulc.updateMask(lulc.select(\"1985\").eq(3)).selfMask() \\\n",
    "        .updateMask(age).updateMask(anthro_gaps.lte(history_interval))\n",
    "        # Making a fire mask with pixels of value 1 for burned pixels and 0 otherwise\n",
    "        fire = fire.gt(0).updateMask(age).updateMask(anthro_gaps.lte(history_interval))\n",
    "\n",
    "else:\n",
    "    fire = fire.gt(0)\n",
    "    years_regrowth_considered = config.range_1985_2019\n",
    "    first_year_considered = 1985\n"
   ]
  },
  {
   "cell_type": "markdown",
   "metadata": {},
   "source": [
    "### Fallow period length\n",
    "\n",
    "Finds the total number of years that land was left fallow (classified as forest before regrowth)"
   ]
  },
  {
   "cell_type": "code",
   "execution_count": 57,
   "metadata": {},
   "outputs": [
    {
     "data": {
      "text/html": [
       "\n",
       "            <style>\n",
       "                .geemap-dark {\n",
       "                    --jp-widgets-color: white;\n",
       "                    --jp-widgets-label-color: white;\n",
       "                    --jp-ui-font-color1: white;\n",
       "                    --jp-layout-color2: #454545;\n",
       "                    background-color: #383838;\n",
       "                }\n",
       "\n",
       "                .geemap-dark .jupyter-button {\n",
       "                    --jp-layout-color3: #383838;\n",
       "                }\n",
       "\n",
       "                .geemap-colab {\n",
       "                    background-color: var(--colab-primary-surface-color, white);\n",
       "                }\n",
       "\n",
       "                .geemap-colab .jupyter-button {\n",
       "                    --jp-layout-color3: var(--colab-primary-surface-color, white);\n",
       "                }\n",
       "            </style>\n",
       "            "
      ],
      "text/plain": [
       "<IPython.core.display.HTML object>"
      ]
     },
     "metadata": {},
     "output_type": "display_data"
    }
   ],
   "source": [
    "nat_cover = lulc.eq(3)\n",
    "nat_cover = nat_cover.reduce(ee.Reducer.sum())\n",
    "\n",
    "if history_interval > 0 and use_hard_cutoff:\n",
    "    # fallow = nat_cover.subtract(age).rename(\"fallow\").byte()\n",
    "\n",
    "    non_forest_years = ee.Image()\n",
    "    for yr in range(1985, 2020):\n",
    "        year = f\"{yr}\"\n",
    "        lu_yr = lulc.select(year).gt(3).multiply(yr)\n",
    "        non_forest_years = non_forest_years.addBands(lu_yr)\n",
    "\n",
    "    # find the minimum and maximum non-zero value per pixel across all bands\n",
    "    # (first and last year of anthropogenic land use)\n",
    "    first_anthro = non_forest_years.selfMask().reduce(ee.Reducer.min())\n",
    "    forest_before_first_anthro = first_anthro.subtract(cutoff_year)\n",
    "    fallow = nat_cover.subtract(forest_before_first_anthro).subtract(age).rename(\"fallow\").byte()\n",
    "else:\n",
    "    forest_before_first_anthro = first_anthro.subtract(1985)\n",
    "    fallow = nat_cover.subtract(forest_before_first_anthro).subtract(age).rename(\"fallow\").byte()"
   ]
  },
  {
   "cell_type": "markdown",
   "metadata": {},
   "source": [
    "### Total sum of years under each desired land use type\n",
    "\n",
    "For each desired land use type, the total occurrences per pixel are summed"
   ]
  },
  {
   "cell_type": "code",
   "execution_count": 3,
   "metadata": {},
   "outputs": [
    {
     "data": {
      "text/html": [
       "\n",
       "            <style>\n",
       "                .geemap-dark {\n",
       "                    --jp-widgets-color: white;\n",
       "                    --jp-widgets-label-color: white;\n",
       "                    --jp-ui-font-color1: white;\n",
       "                    --jp-layout-color2: #454545;\n",
       "                    background-color: #383838;\n",
       "                }\n",
       "\n",
       "                .geemap-dark .jupyter-button {\n",
       "                    --jp-layout-color3: #383838;\n",
       "                }\n",
       "\n",
       "                .geemap-colab {\n",
       "                    background-color: var(--colab-primary-surface-color, white);\n",
       "                }\n",
       "\n",
       "                .geemap-colab .jupyter-button {\n",
       "                    --jp-layout-color3: var(--colab-primary-surface-color, white);\n",
       "                }\n",
       "            </style>\n",
       "            "
      ],
      "text/plain": [
       "<IPython.core.display.HTML object>"
      ]
     },
     "metadata": {},
     "output_type": "display_data"
    },
    {
     "ename": "NameError",
     "evalue": "name 'LU_index' is not defined",
     "output_type": "error",
     "traceback": [
      "\u001b[0;31m---------------------------------------------------------------------------\u001b[0m",
      "\u001b[0;31mNameError\u001b[0m                                 Traceback (most recent call last)",
      "Cell \u001b[0;32mIn[3], line 2\u001b[0m\n\u001b[1;32m      1\u001b[0m LU_sum \u001b[38;5;241m=\u001b[39m ee\u001b[38;5;241m.\u001b[39mImage()\n\u001b[0;32m----> 2\u001b[0m \u001b[38;5;28;01mfor\u001b[39;00m val \u001b[38;5;129;01min\u001b[39;00m LU_index:\n\u001b[1;32m      3\u001b[0m     lulc_val \u001b[38;5;241m=\u001b[39m lulc\u001b[38;5;241m.\u001b[39meq(val)\n\u001b[1;32m      4\u001b[0m     num_cells \u001b[38;5;241m=\u001b[39m lulc_val\u001b[38;5;241m.\u001b[39mreduce(ee\u001b[38;5;241m.\u001b[39mReducer\u001b[38;5;241m.\u001b[39msum())\u001b[38;5;241m.\u001b[39mrename(\u001b[38;5;124mf\u001b[39m\u001b[38;5;124m\"\u001b[39m\u001b[38;5;124mlulc_sum_\u001b[39m\u001b[38;5;132;01m{\u001b[39;00mval\u001b[38;5;132;01m}\u001b[39;00m\u001b[38;5;124m\"\u001b[39m)\n",
      "\u001b[0;31mNameError\u001b[0m: name 'LU_index' is not defined"
     ]
    }
   ],
   "source": [
    "LU_sum = ee.Image()\n",
    "for val in LU_index:\n",
    "    lulc_val = lulc.eq(val)\n",
    "    num_cells = lulc_val.reduce(ee.Reducer.sum()).rename(f\"lulc_sum_{val}\")\n",
    "    LU_sum = LU_sum.addBands(num_cells)\n",
    "\n",
    "# removes the first (empty) band\n",
    "LU_sum = LU_sum.slice(1).byte()"
   ]
  },
  {
   "cell_type": "markdown",
   "metadata": {},
   "source": [
    "### Last Land Use Type\n",
    "\n",
    "Finds what was the last land use type observed before abandonment."
   ]
  },
  {
   "cell_type": "code",
   "execution_count": 59,
   "metadata": {},
   "outputs": [
    {
     "data": {
      "text/html": [
       "\n",
       "            <style>\n",
       "                .geemap-dark {\n",
       "                    --jp-widgets-color: white;\n",
       "                    --jp-widgets-label-color: white;\n",
       "                    --jp-ui-font-color1: white;\n",
       "                    --jp-layout-color2: #454545;\n",
       "                    background-color: #383838;\n",
       "                }\n",
       "\n",
       "                .geemap-dark .jupyter-button {\n",
       "                    --jp-layout-color3: #383838;\n",
       "                }\n",
       "\n",
       "                .geemap-colab {\n",
       "                    background-color: var(--colab-primary-surface-color, white);\n",
       "                }\n",
       "\n",
       "                .geemap-colab .jupyter-button {\n",
       "                    --jp-layout-color3: var(--colab-primary-surface-color, white);\n",
       "                }\n",
       "            </style>\n",
       "            "
      ],
      "text/plain": [
       "<IPython.core.display.HTML object>"
      ]
     },
     "metadata": {},
     "output_type": "display_data"
    }
   ],
   "source": [
    "# for each forest age, mask the lulc of the year immediately preceding abandonment\n",
    "last_LU = ee.Image()\n",
    "for yr in config.range_1986_2019:\n",
    "    year = f\"{yr}\"\n",
    "    lu_yr = lulc.select(year)\n",
    "    age_mask = age.eq(config.last_year - yr)\n",
    "    last_LU = last_LU.addBands(lu_yr.updateMask(age_mask))\n",
    "\n",
    "# remove first empty band\n",
    "# merge all images by adding them up\n",
    "last_LU = last_LU.slice(1).reduce(ee.Reducer.sum()).rename(\"last_LU\").byte()"
   ]
  },
  {
   "cell_type": "markdown",
   "metadata": {},
   "source": [
    "## Fire\n",
    "\n",
    "### Total number of fires per pixel\n",
    "\n",
    "Each burned pixel contains the value of the land use type that burned (such as the desired_values vector specified in the land use section) - unburned pixels are zero.\n",
    "\n",
    "There are instances of fires:\n",
    "- after the first observation of anthropogenic land use\n",
    "- before the first observation of anthropogenic land use (forest fire)\n",
    "- after the last observation of anthropogenic land use (burn in regrowing forest)\n",
    "\n",
    "*Note that fire has different transform than lulc, and the projections will be adjusted when exporting.*\n",
    "\n",
    "### How many years ago was the last fire?\n",
    "\n",
    "Make one image with 34 bands, each with the number of years from the instance of burn to 2020.\n",
    "Each pixel is 0 if unburned, and \"time since fire\" in number of years if it's burned."
   ]
  },
  {
   "cell_type": "code",
   "execution_count": 5,
   "metadata": {},
   "outputs": [
    {
     "data": {
      "text/html": [
       "\n",
       "            <style>\n",
       "                .geemap-dark {\n",
       "                    --jp-widgets-color: white;\n",
       "                    --jp-widgets-label-color: white;\n",
       "                    --jp-ui-font-color1: white;\n",
       "                    --jp-layout-color2: #454545;\n",
       "                    background-color: #383838;\n",
       "                }\n",
       "\n",
       "                .geemap-dark .jupyter-button {\n",
       "                    --jp-layout-color3: #383838;\n",
       "                }\n",
       "\n",
       "                .geemap-colab {\n",
       "                    background-color: var(--colab-primary-surface-color, white);\n",
       "                }\n",
       "\n",
       "                .geemap-colab .jupyter-button {\n",
       "                    --jp-layout-color3: var(--colab-primary-surface-color, white);\n",
       "                }\n",
       "            </style>\n",
       "            "
      ],
      "text/plain": [
       "<IPython.core.display.HTML object>"
      ]
     },
     "metadata": {},
     "output_type": "display_data"
    }
   ],
   "source": [
    "if method == \"eu\":\n",
    "    age = ee.Image(f\"{data_folder}/{folder}/secondary\").select(\"age\")\n",
    "    name = \"_eu\"\n",
    "    fire = (ee.Image(\"projects/mapbiomas-public/assets/brazil/fire/collection3/mapbiomas_fire_collection3_annual_burned_coverage_v1\")\n",
    "        .select([f\"burned_coverage_{year}\" for year in config.range_1985_2020])\n",
    "        .byte()\n",
    "        .rename([str(year) for year in config.range_1985_2020])\n",
    "        .gt(0)\n",
    "        .updateMask(age))\n",
    "\n",
    "if ESA_fire:\n",
    "    # Load the FireCCI dataset\n",
    "    dataset = ee.ImageCollection('ESA/CCI/FireCCI/5_1')\n",
    "\n",
    "    # Define the list of years you want to process\n",
    "    years = list(range(2001, 2021))\n",
    "\n",
    "    # Function to calculate the burn count for a specific year\n",
    "    def annual_burn_count(year):\n",
    "        year_collection = dataset.filterDate(f'{year}-01-01', f'{year}-12-31')\n",
    "        burn_occurrences = year_collection.select('BurnDate').map(lambda img: img.gt(0).selfMask())\n",
    "        return burn_occurrences.sum().rename(str(year))\n",
    "\n",
    "    # Map over the years to generate an image for each year's burn count\n",
    "    annual_burn_images = [annual_burn_count(year) for year in years]\n",
    "\n",
    "    fire = ee.Image.cat(annual_burn_images).byte().updateMask(age)\n",
    "    first_year_considered = 2001\n",
    "    years_regrowth_considered = range(2001, 2020)"
   ]
  },
  {
   "cell_type": "code",
   "execution_count": 61,
   "metadata": {},
   "outputs": [
    {
     "data": {
      "text/html": [
       "\n",
       "            <style>\n",
       "                .geemap-dark {\n",
       "                    --jp-widgets-color: white;\n",
       "                    --jp-widgets-label-color: white;\n",
       "                    --jp-ui-font-color1: white;\n",
       "                    --jp-layout-color2: #454545;\n",
       "                    background-color: #383838;\n",
       "                }\n",
       "\n",
       "                .geemap-dark .jupyter-button {\n",
       "                    --jp-layout-color3: #383838;\n",
       "                }\n",
       "\n",
       "                .geemap-colab {\n",
       "                    background-color: var(--colab-primary-surface-color, white);\n",
       "                }\n",
       "\n",
       "                .geemap-colab .jupyter-button {\n",
       "                    --jp-layout-color3: var(--colab-primary-surface-color, white);\n",
       "                }\n",
       "            </style>\n",
       "            "
      ],
      "text/plain": [
       "<IPython.core.display.HTML object>"
      ]
     },
     "metadata": {},
     "output_type": "display_data"
    }
   ],
   "source": [
    "# Initialize images\n",
    "num_fires_before_regrowth = ee.Image()\n",
    "num_fires_after_regrowth = ee.Image()\n",
    "\n",
    "# Calculate burn information and add yearly bands to the corresponding images\n",
    "for yr in years_regrowth_considered:\n",
    "    yrs_ago = 2020 - yr\n",
    "    age_mask = age.eq(yrs_ago).selfMask()\n",
    "    \n",
    "    bands_after = fire.select([str(year) for year in range(yr, 2021)]).updateMask(age_mask)\n",
    "    num_fires_after_regrowth = num_fires_after_regrowth.addBands(\n",
    "    bands_after.reduce(ee.Reducer.sum()).byte().rename(f\"{yrs_ago}\"))\n",
    "\n",
    "    # Add bands for before regrowth\n",
    "    bands_before = fire.select([str(year) for year in range(first_year_considered, yr+1)]).updateMask(age_mask)\n",
    "    num_fires_before_regrowth = num_fires_before_regrowth.addBands(\n",
    "        bands_before.reduce(ee.Reducer.sum()).byte().rename(f\"{yrs_ago}\")\n",
    "    )\n",
    "\n",
    "# Remove the first band (assuming it's an unwanted initial band)\n",
    "num_fires_before_regrowth = num_fires_before_regrowth.reduce(ee.Reducer.sum()).selfMask().unmask(0) \\\n",
    "    .rename(\"num_fires\")\n",
    "\n",
    "num_fires_after_regrowth = num_fires_after_regrowth.reduce(ee.Reducer.sum()).unmask(0) \\\n",
    "    .rename(\"num_fires_after_regrowth\")\n",
    "unburned_mask = num_fires_after_regrowth.eq(0).rename(\"unburned_mask\")\n",
    "\n",
    "\n"
   ]
  },
  {
   "cell_type": "code",
   "execution_count": 62,
   "metadata": {},
   "outputs": [
    {
     "data": {
      "text/html": [
       "\n",
       "            <style>\n",
       "                .geemap-dark {\n",
       "                    --jp-widgets-color: white;\n",
       "                    --jp-widgets-label-color: white;\n",
       "                    --jp-ui-font-color1: white;\n",
       "                    --jp-layout-color2: #454545;\n",
       "                    background-color: #383838;\n",
       "                }\n",
       "\n",
       "                .geemap-dark .jupyter-button {\n",
       "                    --jp-layout-color3: #383838;\n",
       "                }\n",
       "\n",
       "                .geemap-colab {\n",
       "                    background-color: var(--colab-primary-surface-color, white);\n",
       "                }\n",
       "\n",
       "                .geemap-colab .jupyter-button {\n",
       "                    --jp-layout-color3: var(--colab-primary-surface-color, white);\n",
       "                }\n",
       "            </style>\n",
       "            "
      ],
      "text/plain": [
       "<IPython.core.display.HTML object>"
      ]
     },
     "metadata": {},
     "output_type": "display_data"
    }
   ],
   "source": [
    "land_use = LU_sum.addBands([last_LU, fallow])#, num_fires_before_regrowth])#.updateMask(unburned_mask)\n",
    "\n",
    "if ESA_fire:\n",
    "    num_fires_before_regrowth = num_fires_before_regrowth.updateMask(unburned_mask)\n",
    "    export_image(num_fires_before_regrowth, \"ESA_fires\", region = roi, scale = 30, folder = folder)\n",
    "if method == \"eu\":\n",
    "    num_fires_before_regrowth = num_fires_before_regrowth.updateMask(unburned_mask)\n",
    "    # export_image(num_fires_before_regrowth, \"eu_mapbiomas_fires\", region = roi, scale = 30, folder = folder)\n",
    "    export_image(unburned_mask, \"mapbiomas_unburned_mask\", region = roi, scale = 30, folder = folder)\n",
    "else:\n",
    "    export_image(land_use, f\"land_use{name_LU}\", region = roi, scale = 30, folder = folder)"
   ]
  }
 ],
 "metadata": {
  "kernelspec": {
   "display_name": "regrowth-env",
   "language": "python",
   "name": "python3"
  },
  "language_info": {
   "codemirror_mode": {
    "name": "ipython",
    "version": 3
   },
   "file_extension": ".py",
   "mimetype": "text/x-python",
   "name": "python",
   "nbconvert_exporter": "python",
   "pygments_lexer": "ipython3",
   "version": "3.12.8"
  }
 },
 "nbformat": 4,
 "nbformat_minor": 2
}
