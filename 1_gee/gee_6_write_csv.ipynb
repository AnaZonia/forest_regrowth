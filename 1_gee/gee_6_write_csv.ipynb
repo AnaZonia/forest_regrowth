{
 "cells": [
  {
   "cell_type": "markdown",
   "id": "956cff3f-99f1-45ca-b0b0-90c38a6e2c08",
   "metadata": {},
   "source": [
    "<!-- # Processing the final dataset\n",
    " -->\n"
   ]
  },
  {
   "cell_type": "markdown",
   "id": "14ea43a3",
   "metadata": {},
   "source": [
    "# Export data as CSV"
   ]
  },
  {
   "cell_type": "code",
   "execution_count": 2,
   "id": "a9594018-621b-427e-89d3-0633de81979a",
   "metadata": {},
   "outputs": [],
   "source": [
    "import ee\n",
    "import geemap\n",
    "from gee_0_utils import *\n",
    "\n",
    "initialize()\n",
    "config = ProjectConfig()\n",
    "roi = config.roi\n",
    "data_folder = config.data_folder\n",
    "last_year = config.last_year\n"
   ]
  },
  {
   "cell_type": "markdown",
   "id": "6dbed378",
   "metadata": {},
   "source": [
    "## Main Model Dataset\n",
    "\n",
    "### Age, Biomass"
   ]
  },
  {
   "cell_type": "code",
   "execution_count": null,
   "id": "53f79362",
   "metadata": {},
   "outputs": [
    {
     "data": {
      "text/html": [
       "\n",
       "            <style>\n",
       "                .geemap-dark {\n",
       "                    --jp-widgets-color: white;\n",
       "                    --jp-widgets-label-color: white;\n",
       "                    --jp-ui-font-color1: white;\n",
       "                    --jp-layout-color2: #454545;\n",
       "                    background-color: #383838;\n",
       "                }\n",
       "\n",
       "                .geemap-dark .jupyter-button {\n",
       "                    --jp-layout-color3: #383838;\n",
       "                }\n",
       "\n",
       "                .geemap-colab {\n",
       "                    background-color: var(--colab-primary-surface-color, white);\n",
       "                }\n",
       "\n",
       "                .geemap-colab .jupyter-button {\n",
       "                    --jp-layout-color3: var(--colab-primary-surface-color, white);\n",
       "                }\n",
       "            </style>\n",
       "            "
      ],
      "text/plain": [
       "<IPython.core.display.HTML object>"
      ]
     },
     "metadata": {},
     "output_type": "display_data"
    }
   ],
   "source": [
    "# Fire and Land Use\n",
    "age = ee.Image(f\"{data_folder}/mapbiomas_{last_year}\")\n",
    "\n",
    "ESA_CCI = ee.Image(f\"projects/sat-io/open-datasets/ESA/ESA_CCI_AGB/CCI_BIOMASS_100m_AGB_{last_year}_v51\").select(\"AGB\").rename(\"biomass\")\n",
    "\n",
    "fire = (ee.Image(\"projects/mapbiomas-public/assets/brazil/fire/collection3/mapbiomas_fire_collection3_annual_burned_coverage_v1\")\n",
    "    .select([f\"burned_coverage_{year}\" for year in config.range_1985_2020])\n",
    "    .byte()\n",
    "    .rename([str(year) for year in config.range_1985_2020])\n",
    "    .gt(0)\n",
    "    .reduce('sum').rename(\"num_fires\")).unmask(0)\n",
    "\n",
    "floodable_forests = (ee.Image(\"projects/mapbiomas-public/assets/brazil/lulc/collection9/mapbiomas_collection90_integration_v1\")\n",
    "        .select(f\"classification_{last_year}\").eq(6)).rename(\"floodable_forests\")\n",
    "\n",
    "secondary_area = ee.Image(f\"{data_folder}/secondary_area\")\n",
    "pasture_area = ee.Image(f\"{data_folder}/pasture_area\")\n"
   ]
  },
  {
   "cell_type": "markdown",
   "id": "36387afe",
   "metadata": {},
   "source": [
    "### Surrounding Landscape"
   ]
  },
  {
   "cell_type": "code",
   "execution_count": 4,
   "id": "b98d49ee",
   "metadata": {},
   "outputs": [
    {
     "data": {
      "text/html": [
       "\n",
       "            <style>\n",
       "                .geemap-dark {\n",
       "                    --jp-widgets-color: white;\n",
       "                    --jp-widgets-label-color: white;\n",
       "                    --jp-ui-font-color1: white;\n",
       "                    --jp-layout-color2: #454545;\n",
       "                    background-color: #383838;\n",
       "                }\n",
       "\n",
       "                .geemap-dark .jupyter-button {\n",
       "                    --jp-layout-color3: #383838;\n",
       "                }\n",
       "\n",
       "                .geemap-colab {\n",
       "                    background-color: var(--colab-primary-surface-color, white);\n",
       "                }\n",
       "\n",
       "                .geemap-colab .jupyter-button {\n",
       "                    --jp-layout-color3: var(--colab-primary-surface-color, white);\n",
       "                }\n",
       "            </style>\n",
       "            "
      ],
      "text/plain": [
       "<IPython.core.display.HTML object>"
      ]
     },
     "metadata": {},
     "output_type": "display_data"
    }
   ],
   "source": [
    "quarters_ecoreg_biomass = ee.Image(\"projects/amazon-forest-regrowth/assets/quarters_ecoreg_biomass\")\n",
    "distance_deep_forest = ee.Image(f\"{data_folder}/distance_deep_forest\").rename(\"dist\")\n",
    "sur_cover = ee.Image(f\"{data_folder}/sur_cover\")\n",
    "\n",
    "distance_gt_1000 = distance_deep_forest.gt(1000).selfMask()\n",
    "mature_biomass = ee.Image(f\"{data_folder}/mature_biomass\")\n",
    "mature_biomass_10k = ee.Image(f\"{data_folder}/mature_biomass_10k\")\n",
    "nearest_mature = ee.Image(f\"{data_folder}/nearest_mature\")"
   ]
  },
  {
   "cell_type": "markdown",
   "id": "b4c6ad4d",
   "metadata": {},
   "source": [
    "### Environmental"
   ]
  },
  {
   "cell_type": "code",
   "execution_count": 5,
   "id": "bd8735d0",
   "metadata": {},
   "outputs": [
    {
     "data": {
      "text/html": [
       "\n",
       "            <style>\n",
       "                .geemap-dark {\n",
       "                    --jp-widgets-color: white;\n",
       "                    --jp-widgets-label-color: white;\n",
       "                    --jp-ui-font-color1: white;\n",
       "                    --jp-layout-color2: #454545;\n",
       "                    background-color: #383838;\n",
       "                }\n",
       "\n",
       "                .geemap-dark .jupyter-button {\n",
       "                    --jp-layout-color3: #383838;\n",
       "                }\n",
       "\n",
       "                .geemap-colab {\n",
       "                    background-color: var(--colab-primary-surface-color, white);\n",
       "                }\n",
       "\n",
       "                .geemap-colab .jupyter-button {\n",
       "                    --jp-layout-color3: var(--colab-primary-surface-color, white);\n",
       "                }\n",
       "            </style>\n",
       "            "
      ],
      "text/plain": [
       "<IPython.core.display.HTML object>"
      ]
     },
     "metadata": {},
     "output_type": "display_data"
    }
   ],
   "source": [
    "categorical = ee.Image(f\"{data_folder}/categorical\")\n",
    "\n",
    "topography = ee.Image(\"CSP/ERGo/1_0/Global/ALOS_landforms\").rename(\"topography\") # 90m resolution\n",
    "\n",
    "soil = ee.Image(f\"{data_folder}/soilgrids\")\n",
    "\n",
    "terraclim = ee.Image(f\"{data_folder}/terraclim_1958_2019\")"
   ]
  },
  {
   "cell_type": "code",
   "execution_count": 6,
   "id": "7f2b2997",
   "metadata": {},
   "outputs": [
    {
     "data": {
      "text/html": [
       "\n",
       "            <style>\n",
       "                .geemap-dark {\n",
       "                    --jp-widgets-color: white;\n",
       "                    --jp-widgets-label-color: white;\n",
       "                    --jp-ui-font-color1: white;\n",
       "                    --jp-layout-color2: #454545;\n",
       "                    background-color: #383838;\n",
       "                }\n",
       "\n",
       "                .geemap-dark .jupyter-button {\n",
       "                    --jp-layout-color3: #383838;\n",
       "                }\n",
       "\n",
       "                .geemap-colab {\n",
       "                    background-color: var(--colab-primary-surface-color, white);\n",
       "                }\n",
       "\n",
       "                .geemap-colab .jupyter-button {\n",
       "                    --jp-layout-color3: var(--colab-primary-surface-color, white);\n",
       "                }\n",
       "            </style>\n",
       "            "
      ],
      "text/plain": [
       "<IPython.core.display.HTML object>"
      ]
     },
     "metadata": {},
     "output_type": "display_data"
    }
   ],
   "source": [
    "# Load each scenario\n",
    "historical = ee.Image(f\"{data_folder}/CMIP6_historical\")\n",
    "ssp126 = ee.Image(f\"{data_folder}/CMIP6_ssp126\")\n",
    "ssp245 = ee.Image(f\"{data_folder}/CMIP6_ssp245\")\n",
    "ssp585 = ee.Image(f\"{data_folder}/CMIP6_ssp585\")\n",
    "\n",
    "CMIP6_means = ee.Image(f\"{data_folder}/CMIP6_means\")"
   ]
  },
  {
   "cell_type": "markdown",
   "id": "059cc246",
   "metadata": {},
   "source": [
    "### Export CSV\n"
   ]
  },
  {
   "cell_type": "markdown",
   "id": "80999798",
   "metadata": {},
   "source": [
    "- 1 secondary forest pixel per 1km2\n",
    "- 1 pasture pixel per 1km2"
   ]
  },
  {
   "cell_type": "code",
   "execution_count": null,
   "id": "ba60f859",
   "metadata": {},
   "outputs": [
    {
     "data": {
      "text/html": [
       "\n",
       "            <style>\n",
       "                .geemap-dark {\n",
       "                    --jp-widgets-color: white;\n",
       "                    --jp-widgets-label-color: white;\n",
       "                    --jp-ui-font-color1: white;\n",
       "                    --jp-layout-color2: #454545;\n",
       "                    background-color: #383838;\n",
       "                }\n",
       "\n",
       "                .geemap-dark .jupyter-button {\n",
       "                    --jp-layout-color3: #383838;\n",
       "                }\n",
       "\n",
       "                .geemap-colab {\n",
       "                    background-color: var(--colab-primary-surface-color, white);\n",
       "                }\n",
       "\n",
       "                .geemap-colab .jupyter-button {\n",
       "                    --jp-layout-color3: var(--colab-primary-surface-color, white);\n",
       "                }\n",
       "            </style>\n",
       "            "
      ],
      "text/plain": [
       "<IPython.core.display.HTML object>"
      ]
     },
     "metadata": {},
     "output_type": "display_data"
    }
   ],
   "source": [
    "# create_grid(age.gt(0).unmask(0), \"atlantic\", cell_size = 1000, file_name = \"secondary\")\n",
    "# create_grid(age.gt(0).unmask(0), \"amazon\", cell_size = 1000, file_name = \"secondary\")\n",
    "# create_grid(age.gt(0).unmask(0), \"amazon\", cell_size = 10000, file_name = \"secondary1\")\n",
    "# create_grid(pastureland, \"amazon\", cell_size = 1000, file_name = \"pastureland\")\n",
    "\n",
    "# make one grid with all pixels that are NOT mature forests for nearest mature forest estimates\n",
    "# non_mature_forests = mature_biomass_10k.eq(0).unmask(1).selfMask().rename(\"non_mature_forests\")\n",
    "# create_grid(non_mature_forests, \"amazon\", cell_size = 10000, file_name = \"non_mature_forests\")"
   ]
  },
  {
   "cell_type": "code",
   "execution_count": null,
   "id": "22c62c0d",
   "metadata": {},
   "outputs": [
    {
     "data": {
      "text/html": [
       "\n",
       "            <style>\n",
       "                .geemap-dark {\n",
       "                    --jp-widgets-color: white;\n",
       "                    --jp-widgets-label-color: white;\n",
       "                    --jp-ui-font-color1: white;\n",
       "                    --jp-layout-color2: #454545;\n",
       "                    background-color: #383838;\n",
       "                }\n",
       "\n",
       "                .geemap-dark .jupyter-button {\n",
       "                    --jp-layout-color3: #383838;\n",
       "                }\n",
       "\n",
       "                .geemap-colab {\n",
       "                    background-color: var(--colab-primary-surface-color, white);\n",
       "                }\n",
       "\n",
       "                .geemap-colab .jupyter-button {\n",
       "                    --jp-layout-color3: var(--colab-primary-surface-color, white);\n",
       "                }\n",
       "            </style>\n",
       "            "
      ],
      "text/plain": [
       "<IPython.core.display.HTML object>"
      ]
     },
     "metadata": {},
     "output_type": "display_data"
    },
    {
     "data": {
      "application/vnd.jupyter.widget-view+json": {
       "model_id": "49fd63c4e9f440fdbeb57f80ea088a9e",
       "version_major": 2,
       "version_minor": 0
      },
      "text/plain": [
       "Map(center=[0, 0], controls=(WidgetControl(options=['position', 'transparent_bg'], widget=SearchDataGUI(childr…"
      ]
     },
     "execution_count": 107,
     "metadata": {},
     "output_type": "execute_result"
    }
   ],
   "source": [
    "\n",
    "def create_grid(image, region_name, cell_size = 10000, file_name = None):\n",
    "    \n",
    "    config = ProjectConfig()\n",
    "    biomes = ee.Image(f\"{config.data_folder}/categorical\").select(\"biome\")\n",
    "\n",
    "    pixels_to_sample = biomes.updateMask(image)\n",
    "\n",
    "    if region_name == \"amazon\":\n",
    "        biome_index = 1\n",
    "    elif region_name == \"atlantic\":\n",
    "        biome_index = 4\n",
    "\n",
    "    roi = ee.FeatureCollection(f\"{config.data_folder}/raw/biomes_br\").filterMetadata('CD_Bioma', 'equals', biome_index).geometry()\n",
    "\n",
    "    # First, sample locations based only on the age band\n",
    "    grid = geemap.create_grid(roi, cell_size, biomes.projection())\n",
    "\n",
    "    # Function to sample one point per valid cell\n",
    "    def sample_cell(cell):\n",
    "        sampled_fc = pixels_to_sample.stratifiedSample(\n",
    "            numPoints = 1,\n",
    "            classBand = 'biome',\n",
    "            region = cell.geometry(),\n",
    "            scale = pixels_to_sample.projection().nominalScale(),\n",
    "            geometries = True,\n",
    "            dropNulls = True,\n",
    "            tileScale = 12\n",
    "        )\n",
    "\n",
    "        # Only return a feature if we found one\n",
    "        return ee.Feature(ee.Algorithms.If(\n",
    "            sampled_fc.size().gt(0),\n",
    "            sampled_fc.first(),\n",
    "            # Return a placeholder that we can filter out later\n",
    "            ee.Feature(ee.Geometry.Point([0, 0])).set('is_null', True)\n",
    "        ))\n",
    "\n",
    "    samples = grid.map(sample_cell)\n",
    "\n",
    "    # Filter out placeholder features before exporting\n",
    "    samples = samples.filter(ee.Filter.notEquals('is_null', True))\n",
    "\n",
    "    if file_name is None:\n",
    "        return samples\n",
    "    else:\n",
    "        export_name = f\"grid_{cell_size//1000}k_{region_name}_{file_name}\"\n",
    "\n",
    "        export_task = ee.batch.Export.table.toAsset(\n",
    "            collection = samples,\n",
    "            description = export_name,\n",
    "            assetId = f\"{config.data_folder}/{export_name}\"\n",
    "        )\n",
    "        export_task.start()\n",
    "\n",
    "\n",
    "# grid = create_grid(age.gt(0).unmask(0), \"amazon\", cell_size=1000000)\n",
    "\n",
    "\n",
    "biomes = ee.Image(f\"{config.data_folder}/categorical\").select(\"biome\")\n",
    "biomes = biomes.updateMask(age.gt(0).unmask(0))\n",
    "grid = geemap.create_grid(biomes.geometry(), 1000000, biomes.projection())\n",
    "\n",
    "map = geemap.Map()\n",
    "map.addLayer(biomes, {}, \"Biomes\")\n",
    "map.addLayer(grid, {}, \"Grid Secondary\")\n",
    "map"
   ]
  },
  {
   "cell_type": "code",
   "execution_count": 104,
   "id": "b837bd7f",
   "metadata": {},
   "outputs": [
    {
     "data": {
      "text/html": [
       "\n",
       "            <style>\n",
       "                .geemap-dark {\n",
       "                    --jp-widgets-color: white;\n",
       "                    --jp-widgets-label-color: white;\n",
       "                    --jp-ui-font-color1: white;\n",
       "                    --jp-layout-color2: #454545;\n",
       "                    background-color: #383838;\n",
       "                }\n",
       "\n",
       "                .geemap-dark .jupyter-button {\n",
       "                    --jp-layout-color3: #383838;\n",
       "                }\n",
       "\n",
       "                .geemap-colab {\n",
       "                    background-color: var(--colab-primary-surface-color, white);\n",
       "                }\n",
       "\n",
       "                .geemap-colab .jupyter-button {\n",
       "                    --jp-layout-color3: var(--colab-primary-surface-color, white);\n",
       "                }\n",
       "            </style>\n",
       "            "
      ],
      "text/plain": [
       "<IPython.core.display.HTML object>"
      ]
     },
     "metadata": {},
     "output_type": "display_data"
    },
    {
     "data": {
      "text/plain": [
       "{'type': 'Projection',\n",
       " 'crs': 'EPSG:4326',\n",
       " 'transform': [0.004491576420597608,\n",
       "  0,\n",
       "  -73.9852468000838,\n",
       "  0,\n",
       "  -0.004491576420597608,\n",
       "  5.2731107177815915]}"
      ]
     },
     "execution_count": 104,
     "metadata": {},
     "output_type": "execute_result"
    }
   ],
   "source": [
    "biomes.projection().getInfo()"
   ]
  },
  {
   "cell_type": "code",
   "execution_count": 10,
   "id": "6dc7e5bb",
   "metadata": {},
   "outputs": [
    {
     "data": {
      "text/html": [
       "\n",
       "            <style>\n",
       "                .geemap-dark {\n",
       "                    --jp-widgets-color: white;\n",
       "                    --jp-widgets-label-color: white;\n",
       "                    --jp-ui-font-color1: white;\n",
       "                    --jp-layout-color2: #454545;\n",
       "                    background-color: #383838;\n",
       "                }\n",
       "\n",
       "                .geemap-dark .jupyter-button {\n",
       "                    --jp-layout-color3: #383838;\n",
       "                }\n",
       "\n",
       "                .geemap-colab {\n",
       "                    background-color: var(--colab-primary-surface-color, white);\n",
       "                }\n",
       "\n",
       "                .geemap-colab .jupyter-button {\n",
       "                    --jp-layout-color3: var(--colab-primary-surface-color, white);\n",
       "                }\n",
       "            </style>\n",
       "            "
      ],
      "text/plain": [
       "<IPython.core.display.HTML object>"
      ]
     },
     "metadata": {},
     "output_type": "display_data"
    }
   ],
   "source": [
    "# make one unified grid for all pastureland and secondary forests\n",
    "grid_secondary = ee.FeatureCollection(f\"{data_folder}/grid_1k_amazon_secondary\")\n",
    "grid_pastureland = ee.FeatureCollection(f\"{data_folder}/grid_1k_amazon_pastureland\")\n",
    "\n",
    "# merge both grids\n",
    "grid_1k_amazon_non_mature_forests = grid_secondary.merge(grid_pastureland)\n",
    "\n",
    "task = ee.batch.Export.table.toAsset(\n",
    "    collection = grid_1k_amazon_non_mature_forests,\n",
    "    description = \"grid_1k_amazon_non_mature_forests\",\n",
    "    assetId = \"projects/amazon-forest-regrowth/assets/grid_1k_amazon_non_mature_forests\",\n",
    ")\n",
    "# task.start()\n"
   ]
  },
  {
   "cell_type": "code",
   "execution_count": 102,
   "id": "8c8a31f3",
   "metadata": {},
   "outputs": [
    {
     "data": {
      "text/html": [
       "\n",
       "            <style>\n",
       "                .geemap-dark {\n",
       "                    --jp-widgets-color: white;\n",
       "                    --jp-widgets-label-color: white;\n",
       "                    --jp-ui-font-color1: white;\n",
       "                    --jp-layout-color2: #454545;\n",
       "                    background-color: #383838;\n",
       "                }\n",
       "\n",
       "                .geemap-dark .jupyter-button {\n",
       "                    --jp-layout-color3: #383838;\n",
       "                }\n",
       "\n",
       "                .geemap-colab {\n",
       "                    background-color: var(--colab-primary-surface-color, white);\n",
       "                }\n",
       "\n",
       "                .geemap-colab .jupyter-button {\n",
       "                    --jp-layout-color3: var(--colab-primary-surface-color, white);\n",
       "                }\n",
       "            </style>\n",
       "            "
      ],
      "text/plain": [
       "<IPython.core.display.HTML object>"
      ]
     },
     "metadata": {},
     "output_type": "display_data"
    }
   ],
   "source": [
    "# Define reprojection function\n",
    "def reproject_mean(img):\n",
    "    return img.reduceResolution(ee.Reducer.mean(), maxPixels=65536).reproject(age.projection())\n",
    "\n",
    "def reproject_first(img):\n",
    "    return img.reduceResolution(ee.Reducer.first(), maxPixels=65536).reproject(age.projection())\n",
    "\n",
    "# Reproject continuous variables using mean\n",
    "continuous_vars = [\n",
    "    ESA_CCI.rename(\"biomass\"),\n",
    "    nearest_mature.rename(\"nearest_mature\"),\n",
    "    soil,\n",
    "    terraclim.select([\"mean_soil\", \"mean_vpd\", \"mean_temp\", \"mean_def\", \n",
    "                      \"mean_srad\", \"mean_pr\", \"mean_aet\", \"mean_pdsi\"])\n",
    "]\n",
    "\n",
    "# Reproject categorical variables using first\n",
    "categorical_vars = [\n",
    "    fire,\n",
    "    quarters_ecoreg_biomass,\n",
    "    categorical,\n",
    "    topography\n",
    "]\n",
    "\n",
    "# Create unified dataset by directly combining bands\n",
    "unified_data = ee.Image.cat([\n",
    "    age.rename('age'),\n",
    "    floodable_forests.rename('floodable_forests'),\n",
    "    secondary_area.rename('secondary_area'),\n",
    "    distance_deep_forest.rename('distance_deep_forest'),\n",
    "    sur_cover.rename('sur_cover'),\n",
    "    *[reproject_mean(img) for img in continuous_vars],  # Expand list of reprojected images\n",
    "    *[reproject_first(img) for img in categorical_vars],  # Expand list of reprojected images\n",
    "    ee.Image.pixelLonLat().rename(['lon', 'lat'])\n",
    "])\n"
   ]
  },
  {
   "cell_type": "markdown",
   "id": "c0e2d00c",
   "metadata": {},
   "source": [
    "Since processing gets too heavy if we try to extract each point at a time for the entire Amazon at 1km resolution, we do it in chunks:"
   ]
  },
  {
   "cell_type": "code",
   "execution_count": null,
   "id": "a0d9930e",
   "metadata": {},
   "outputs": [
    {
     "data": {
      "text/html": [
       "\n",
       "            <style>\n",
       "                .geemap-dark {\n",
       "                    --jp-widgets-color: white;\n",
       "                    --jp-widgets-label-color: white;\n",
       "                    --jp-ui-font-color1: white;\n",
       "                    --jp-layout-color2: #454545;\n",
       "                    background-color: #383838;\n",
       "                }\n",
       "\n",
       "                .geemap-dark .jupyter-button {\n",
       "                    --jp-layout-color3: #383838;\n",
       "                }\n",
       "\n",
       "                .geemap-colab {\n",
       "                    background-color: var(--colab-primary-surface-color, white);\n",
       "                }\n",
       "\n",
       "                .geemap-colab .jupyter-button {\n",
       "                    --jp-layout-color3: var(--colab-primary-surface-color, white);\n",
       "                }\n",
       "            </style>\n",
       "            "
      ],
      "text/plain": [
       "<IPython.core.display.HTML object>"
      ]
     },
     "metadata": {},
     "output_type": "display_data"
    }
   ],
   "source": [
    "\n",
    "\n",
    "def export_csv(name, image, grid_size, n_chunks = 1):\n",
    "\n",
    "    properties_to_export = image.bandNames().getInfo()\n",
    "\n",
    "    # Get FeatureCollection size and calculate chunk size\n",
    "    grid = ee.FeatureCollection(f\"{data_folder}/grid_{grid_size}k_amazon_{name}\")\n",
    "    total_features = grid.size().getInfo()\n",
    "    chunk_size = int(total_features * 1/n_chunks)\n",
    "\n",
    "    # Sample points individually\n",
    "    def sample_point(feature):\n",
    "        sampled = image.reduceRegion(\n",
    "            reducer=ee.Reducer.first(),\n",
    "            geometry=feature.geometry(),\n",
    "            scale=30,\n",
    "            crs='EPSG:4326',\n",
    "            bestEffort=False,\n",
    "            tileScale=16\n",
    "        )\n",
    "        return ee.Feature(feature.geometry(), sampled)\n",
    "\n",
    "    def process_chunk(chunk_index):\n",
    "        start = chunk_index * chunk_size\n",
    "        chunk = grid.toList(chunk_size, start)\n",
    "        selected_pixels = ee.FeatureCollection(chunk)\n",
    "\n",
    "        unified_fc = selected_pixels.map(sample_point)\n",
    "\n",
    "        # task = ee.batch.Export.table.toDrive(\n",
    "        #     collection = unified_fc,\n",
    "        #     description = f\"grid_{grid_size}k_amazon_{name}_{chunk_index}\",\n",
    "        #     fileFormat = \"CSV\",\n",
    "        #     selectors = [p for p in properties_to_export if p not in ['.geo', 'system:index']]\n",
    "        # )\n",
    "        # task.start()\n",
    "\n",
    "        task = ee.batch.Export.table.toAsset(\n",
    "            collection = unified_fc,\n",
    "            description = f\"{grid_size}k_amazon_{name}\",\n",
    "            assetId = f\"projects/amazon-forest-regrowth/assets/grids/amazon_{name}_{grid_size}k_ESA_CCI\",\n",
    "\n",
    "        )\n",
    "        task.start()\n",
    "\n",
    "    # for i in range(n_chunks):\n",
    "    #     if i*chunk_size < total_features:\n",
    "    #         process_chunk(i)\n",
    "\n",
    "    i = 0\n",
    "    if i*chunk_size < total_features:\n",
    "        process_chunk(i)\n",
    "\n",
    "# export_csv(\"pastureland\", unified_data, 1, n_chunks = 60)\n",
    "export_csv(\"secondary\", unified_data, 1, n_chunks = 30)\n",
    "export_csv(\"secondary\", unified_data, 10, n_chunks = 30)\n",
    "\n",
    "# the scale here will need to be the same as the scale of the sampled image.\n",
    "# test with just ESA and sample to 100m"
   ]
  },
  {
   "cell_type": "code",
   "execution_count": 80,
   "id": "050cd22b",
   "metadata": {},
   "outputs": [
    {
     "data": {
      "text/html": [
       "\n",
       "            <style>\n",
       "                .geemap-dark {\n",
       "                    --jp-widgets-color: white;\n",
       "                    --jp-widgets-label-color: white;\n",
       "                    --jp-ui-font-color1: white;\n",
       "                    --jp-layout-color2: #454545;\n",
       "                    background-color: #383838;\n",
       "                }\n",
       "\n",
       "                .geemap-dark .jupyter-button {\n",
       "                    --jp-layout-color3: #383838;\n",
       "                }\n",
       "\n",
       "                .geemap-colab {\n",
       "                    background-color: var(--colab-primary-surface-color, white);\n",
       "                }\n",
       "\n",
       "                .geemap-colab .jupyter-button {\n",
       "                    --jp-layout-color3: var(--colab-primary-surface-color, white);\n",
       "                }\n",
       "            </style>\n",
       "            "
      ],
      "text/plain": [
       "<IPython.core.display.HTML object>"
      ]
     },
     "metadata": {},
     "output_type": "display_data"
    },
    {
     "data": {
      "application/vnd.jupyter.widget-view+json": {
       "model_id": "68494102d3d1495a8dc38124ad8e253a",
       "version_major": 2,
       "version_minor": 0
      },
      "text/plain": [
       "Map(center=[-3.5, -60.24], controls=(WidgetControl(options=['position', 'transparent_bg'], widget=SearchDataGU…"
      ]
     },
     "execution_count": 80,
     "metadata": {},
     "output_type": "execute_result"
    }
   ],
   "source": [
    "amazon_secondary_10k = ee.FeatureCollection(\"projects/amazon-forest-regrowth/assets/grids/amazon_secondary_10k_ESA_CCI\")\n",
    "amazon_secondary_1k = ee.FeatureCollection(\"projects/amazon-forest-regrowth/assets/grids/amazon_secondary_1k_ESA_CCI\")\n",
    "\n",
    "\n",
    "map = geemap.Map(center=[-3.5, -60.24], zoom=6)\n",
    "map.addLayer(ESA_CCI, {'min':50, 'max':200, 'palette':['blue', 'red']}, \"ESA_CCI\", opacity=0.4)\n",
    "map.addLayer(unified_data, {}, \"unified_data\", opacity=0.1)\n",
    "map.addLayer(amazon_secondary_10k, {}, \"10k_amazon_secondary\", opacity=0.4)\n",
    "map.addLayer(amazon_secondary_1k, {}, \"1k_amazon_secondary\", opacity=0.4)\n",
    "map"
   ]
  },
  {
   "cell_type": "markdown",
   "id": "57b38ee2",
   "metadata": {},
   "source": [
    "## Field Data"
   ]
  },
  {
   "cell_type": "code",
   "execution_count": null,
   "id": "834a70cd",
   "metadata": {},
   "outputs": [
    {
     "data": {
      "text/html": [
       "\n",
       "            <style>\n",
       "                .geemap-dark {\n",
       "                    --jp-widgets-color: white;\n",
       "                    --jp-widgets-label-color: white;\n",
       "                    --jp-ui-font-color1: white;\n",
       "                    --jp-layout-color2: #454545;\n",
       "                    background-color: #383838;\n",
       "                }\n",
       "\n",
       "                .geemap-dark .jupyter-button {\n",
       "                    --jp-layout-color3: #383838;\n",
       "                }\n",
       "\n",
       "                .geemap-colab {\n",
       "                    background-color: var(--colab-primary-surface-color, white);\n",
       "                }\n",
       "\n",
       "                .geemap-colab .jupyter-button {\n",
       "                    --jp-layout-color3: var(--colab-primary-surface-color, white);\n",
       "                }\n",
       "            </style>\n",
       "            "
      ],
      "text/plain": [
       "<IPython.core.display.HTML object>"
      ]
     },
     "metadata": {},
     "output_type": "display_data"
    }
   ],
   "source": [
    "field_data = ee.FeatureCollection(f\"{data_folder}/field_biomass\")\n",
    "\n",
    "unified_fc = unified_data.reduceRegions(field_data, ee.Reducer.first(), 30)\n",
    "\n",
    "# Export task to Google Drive\n",
    "task = ee.batch.Export.table.toDrive(\n",
    "    collection = unified_fc,\n",
    "    description = 'unified_field',\n",
    "    fileFormat = \"CSV\"\n",
    ")\n",
    "# task.start()"
   ]
  },
  {
   "cell_type": "markdown",
   "id": "6923a829",
   "metadata": {},
   "source": [
    "## Different land use aggregations\n"
   ]
  },
  {
   "cell_type": "code",
   "execution_count": null,
   "id": "6419801b",
   "metadata": {},
   "outputs": [
    {
     "data": {
      "text/html": [
       "\n",
       "            <style>\n",
       "                .geemap-dark {\n",
       "                    --jp-widgets-color: white;\n",
       "                    --jp-widgets-label-color: white;\n",
       "                    --jp-ui-font-color1: white;\n",
       "                    --jp-layout-color2: #454545;\n",
       "                    background-color: #383838;\n",
       "                }\n",
       "\n",
       "                .geemap-dark .jupyter-button {\n",
       "                    --jp-layout-color3: #383838;\n",
       "                }\n",
       "\n",
       "                .geemap-colab {\n",
       "                    background-color: var(--colab-primary-surface-color, white);\n",
       "                }\n",
       "\n",
       "                .geemap-colab .jupyter-button {\n",
       "                    --jp-layout-color3: var(--colab-primary-surface-color, white);\n",
       "                }\n",
       "            </style>\n",
       "            "
      ],
      "text/plain": [
       "<IPython.core.display.HTML object>"
      ]
     },
     "metadata": {},
     "output_type": "display_data"
    }
   ],
   "source": [
    "suffixes = [\n",
    "    \"aggregated_all\",\n",
    "    \"non_aggregated_all\",\n",
    "    \"non_aggregated_10yr\",\n",
    "    \"non_aggregated_5yr\"\n",
    "]\n",
    "\n",
    "land_use_list = [\n",
    "    ee.Image(f\"{data_folder}/land_use_{suffix}\")\n",
    "    for suffix in suffixes\n",
    "]\n",
    "\n",
    "# Loop through each land use image\n",
    "for land_use_image, suffix in zip(land_use_list, suffixes):\n",
    "\n",
    "    selected_pixels = ee.FeatureCollection(f\"{data_folder}/grid_10k_amazon_secondary\")\n",
    "\n",
    "    unified_fc = land_use_image.reduceRegions(selected_pixels, ee.Reducer.first(), 30)\n",
    "\n",
    "    properties_to_export = land_use_image.bandNames().getInfo()\n",
    "\n",
    "    task = ee.batch.Export.table.toDrive(\n",
    "            collection = unified_fc,\n",
    "            description = \"unified_land_use_\" + suffix,\n",
    "            fileFormat = \"CSV\",\n",
    "            selectors = properties_to_export\n",
    "        )\n",
    "    task.start()\n"
   ]
  },
  {
   "cell_type": "code",
   "execution_count": 34,
   "id": "794ec6d5",
   "metadata": {},
   "outputs": [
    {
     "data": {
      "text/html": [
       "\n",
       "            <style>\n",
       "                .geemap-dark {\n",
       "                    --jp-widgets-color: white;\n",
       "                    --jp-widgets-label-color: white;\n",
       "                    --jp-ui-font-color1: white;\n",
       "                    --jp-layout-color2: #454545;\n",
       "                    background-color: #383838;\n",
       "                }\n",
       "\n",
       "                .geemap-dark .jupyter-button {\n",
       "                    --jp-layout-color3: #383838;\n",
       "                }\n",
       "\n",
       "                .geemap-colab {\n",
       "                    background-color: var(--colab-primary-surface-color, white);\n",
       "                }\n",
       "\n",
       "                .geemap-colab .jupyter-button {\n",
       "                    --jp-layout-color3: var(--colab-primary-surface-color, white);\n",
       "                }\n",
       "            </style>\n",
       "            "
      ],
      "text/plain": [
       "<IPython.core.display.HTML object>"
      ]
     },
     "metadata": {},
     "output_type": "display_data"
    }
   ],
   "source": [
    "selected_pixels = ee.FeatureCollection(f\"{data_folder}/grid_10k_amazon_secondary\")\n",
    "# WITH BUFFER\n",
    "\n",
    "mature_biomass_10k = ee.Image(f\"{data_folder}/mature_biomass_10k\").rename(\"mature_biomass_10k\")\n",
    "\n",
    "selected_pixels = distance_deep_forest.reduceRegions(\n",
    "    collection = selected_pixels,\n",
    "    reducer = ee.Reducer.first(),\n",
    "    scale = 10000\n",
    ")\n",
    "\n",
    "def buffer_feature(feature):\n",
    "    distance = feature.getNumber('first').add(10000)\n",
    "    buffer = feature.geometry().buffer(distance)\n",
    "    return feature.setGeometry(buffer)\n",
    "\n",
    "# Buffer each point to reach the nearest pixel\n",
    "buffered_features = selected_pixels.map(buffer_feature)\n",
    "\n",
    "# Extract the biomass value for each buffered region\n",
    "# This will get the value from nearest valid pixel\n",
    "nearest_mature = mature_biomass_10k.reduceRegions(\n",
    "    collection=buffered_features,\n",
    "    reducer=ee.Reducer.firstNonNull(),\n",
    "    scale=10000\n",
    ").map(lambda feature: feature.centroid())\n",
    "\n",
    "\n",
    "unified_data = ESA_CCI.addBands(age)\n",
    "\n",
    "unified_fc = unified_data.reduceRegions(nearest_mature, ee.Reducer.first(), 30)\n",
    "\n",
    "# Export task to Google Drive\n",
    "task = ee.batch.Export.table.toDrive(\n",
    "    collection = unified_fc,\n",
    "    description = 'buffered_nearest_mature',\n",
    "    fileFormat = \"CSV\"\n",
    ")\n",
    "task.start()\n",
    "\n",
    "# task = ee.batch.Export.table.toAsset(\n",
    "#     collection = unified_fc,\n",
    "#     description = 'unified_fc',\n",
    "#     assetId = f\"{data_folder}/unified_fc\"\n",
    "# )\n",
    "# task.start()"
   ]
  }
 ],
 "metadata": {
  "kernelspec": {
   "display_name": "regrowth-env",
   "language": "python",
   "name": "python3"
  },
  "language_info": {
   "codemirror_mode": {
    "name": "ipython",
    "version": 3
   },
   "file_extension": ".py",
   "mimetype": "text/x-python",
   "name": "python",
   "nbconvert_exporter": "python",
   "pygments_lexer": "ipython3",
   "version": "3.11.12"
  }
 },
 "nbformat": 4,
 "nbformat_minor": 5
}
