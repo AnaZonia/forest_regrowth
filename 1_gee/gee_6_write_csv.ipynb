{
 "cells": [
  {
   "cell_type": "markdown",
   "id": "956cff3f-99f1-45ca-b0b0-90c38a6e2c08",
   "metadata": {},
   "source": [
    "<!-- # Processing the final dataset\n",
    " -->\n"
   ]
  },
  {
   "cell_type": "markdown",
   "id": "14ea43a3",
   "metadata": {},
   "source": [
    "# Export data as CSV"
   ]
  },
  {
   "cell_type": "code",
   "execution_count": 6,
   "id": "a9594018-621b-427e-89d3-0633de81979a",
   "metadata": {},
   "outputs": [
    {
     "data": {
      "text/html": [
       "\n",
       "            <style>\n",
       "                .geemap-dark {\n",
       "                    --jp-widgets-color: white;\n",
       "                    --jp-widgets-label-color: white;\n",
       "                    --jp-ui-font-color1: white;\n",
       "                    --jp-layout-color2: #454545;\n",
       "                    background-color: #383838;\n",
       "                }\n",
       "\n",
       "                .geemap-dark .jupyter-button {\n",
       "                    --jp-layout-color3: #383838;\n",
       "                }\n",
       "\n",
       "                .geemap-colab {\n",
       "                    background-color: var(--colab-primary-surface-color, white);\n",
       "                }\n",
       "\n",
       "                .geemap-colab .jupyter-button {\n",
       "                    --jp-layout-color3: var(--colab-primary-surface-color, white);\n",
       "                }\n",
       "            </style>\n",
       "            "
      ],
      "text/plain": [
       "<IPython.core.display.HTML object>"
      ]
     },
     "metadata": {},
     "output_type": "display_data"
    }
   ],
   "source": [
    "import ee\n",
    "import geemap\n",
    "from gee_0_utils import *\n",
    "\n",
    "initialize()\n",
    "config = ProjectConfig()\n",
    "roi = config.roi\n",
    "data_folder = config.data_folder\n",
    "last_year = config.last_year\n",
    "\n",
    "\n",
    "def export_csv(unified_data, name, numPoints, classBand):\n",
    "    to_remove = ['.geo', 'system:index']\n",
    "    all_properties = unified_data.bandNames().getInfo()\n",
    "    properties_to_export = [p for p in all_properties if p not in to_remove]\n",
    "\n",
    "    unified_fc = unified_data.stratifiedSample(numPoints = numPoints, classBand = classBand)\n",
    "\n",
    "    # Export task to Google Drive\n",
    "    task = ee.batch.Export.table.toDrive(\n",
    "        collection = unified_fc,\n",
    "        description = name,\n",
    "        fileFormat = \"CSV\",\n",
    "        selectors = properties_to_export\n",
    "    )\n",
    "\n",
    "    task.start()\n",
    "\n"
   ]
  },
  {
   "cell_type": "markdown",
   "id": "7d3a3734",
   "metadata": {},
   "source": [
    "## Data for all biomass and age data comparisons"
   ]
  },
  {
   "cell_type": "code",
   "execution_count": null,
   "id": "8e25de1e",
   "metadata": {},
   "outputs": [
    {
     "data": {
      "text/html": [
       "\n",
       "            <style>\n",
       "                .geemap-dark {\n",
       "                    --jp-widgets-color: white;\n",
       "                    --jp-widgets-label-color: white;\n",
       "                    --jp-ui-font-color1: white;\n",
       "                    --jp-layout-color2: #454545;\n",
       "                    background-color: #383838;\n",
       "                }\n",
       "\n",
       "                .geemap-dark .jupyter-button {\n",
       "                    --jp-layout-color3: #383838;\n",
       "                }\n",
       "\n",
       "                .geemap-colab {\n",
       "                    background-color: var(--colab-primary-surface-color, white);\n",
       "                }\n",
       "\n",
       "                .geemap-colab .jupyter-button {\n",
       "                    --jp-layout-color3: var(--colab-primary-surface-color, white);\n",
       "                }\n",
       "            </style>\n",
       "            "
      ],
      "text/plain": [
       "<IPython.core.display.HTML object>"
      ]
     },
     "metadata": {},
     "output_type": "display_data"
    }
   ],
   "source": [
    "biome =  ee.Image(f\"{data_folder}/categorical\").select(\"biome\")\n",
    "\n",
    "# Ages\n",
    "mapbiomas = ee.Image(f\"{data_folder}/mapbiomas_{last_year}\").rename([\"age_mapbiomas\"])\n",
    "tmf = ee.Image(f\"{data_folder}/tmf_{last_year}\").rename([\"age_tmf\"])\n",
    "silva = ee.Image(\"projects/ee-regrowth/assets/MB_secondary_forest_Silva_Junior_v2/sforestAge_brazil_V8\").select(\"classification_2020\").rename(\"age_silva\")\n",
    "\n",
    "# Response variables\n",
    "GEDI_L2A = ee.Image(f\"{data_folder}/GEDI_L2A_{last_year}\")\n",
    "GEDI_L4A = ee.Image(f\"{data_folder}/GEDI_L4A_{last_year}\")\n",
    "ESA_CCI = (ee.Image(f\"projects/sat-io/open-datasets/ESA/ESA_CCI_AGB/CCI_BIOMASS_100m_AGB_{last_year}_v51\")\n",
    "           .select(\"AGB\").rename(f\"ESA_CCI_{last_year}\"))\n",
    "heinrich = (ee.Image(\"projects/ee-regrowth/assets/Heinrich_etal_2021_updates/sforestAGC_climate_only_v1_1\")\n",
    "            .select(\"classification_2020\").rename(\"heinrich_biomass_2020\"))\n",
    "lang_height = ee.Image('users/nlang/ETH_GlobalCanopyHeight_2020_10m_v1').clip(roi).rename('lang_height')\n",
    "\n",
    "# Combine all images into a single multi-band image\n",
    "comparisons = mapbiomas.addBands([tmf, silva, ESA_CCI, GEDI_L2A, GEDI_L4A, heinrich, biome])\n",
    "mask = comparisons.reduce(ee.Reducer.allNonZero())\n",
    "comparisons = comparisons.updateMask(mask)\n",
    "\n",
    "# Sample and export image\n",
    "# export_csv(comparisons, \"comparisons_sampled\", 10000, \"biome\")"
   ]
  },
  {
   "cell_type": "markdown",
   "id": "b9f1c558",
   "metadata": {},
   "source": [
    "## Mature forest biomass comparisons"
   ]
  },
  {
   "cell_type": "code",
   "execution_count": null,
   "id": "4f839d20",
   "metadata": {},
   "outputs": [
    {
     "data": {
      "text/html": [
       "\n",
       "            <style>\n",
       "                .geemap-dark {\n",
       "                    --jp-widgets-color: white;\n",
       "                    --jp-widgets-label-color: white;\n",
       "                    --jp-ui-font-color1: white;\n",
       "                    --jp-layout-color2: #454545;\n",
       "                    background-color: #383838;\n",
       "                }\n",
       "\n",
       "                .geemap-dark .jupyter-button {\n",
       "                    --jp-layout-color3: #383838;\n",
       "                }\n",
       "\n",
       "                .geemap-colab {\n",
       "                    background-color: var(--colab-primary-surface-color, white);\n",
       "                }\n",
       "\n",
       "                .geemap-colab .jupyter-button {\n",
       "                    --jp-layout-color3: var(--colab-primary-surface-color, white);\n",
       "                }\n",
       "            </style>\n",
       "            "
      ],
      "text/plain": [
       "<IPython.core.display.HTML object>"
      ]
     },
     "metadata": {},
     "output_type": "display_data"
    }
   ],
   "source": [
    "mature_biomass = ee.Image(f\"{data_folder}/mature_biomass\").addBands(biome)\n",
    "\n",
    "# export_csv(mature_biomass, \"mature_biomass\", 10000, \"biome\")"
   ]
  },
  {
   "cell_type": "markdown",
   "id": "5fe64507",
   "metadata": {},
   "source": [
    "## Field Data"
   ]
  },
  {
   "cell_type": "code",
   "execution_count": null,
   "id": "7b1ddc20",
   "metadata": {},
   "outputs": [
    {
     "data": {
      "text/html": [
       "\n",
       "            <style>\n",
       "                .geemap-dark {\n",
       "                    --jp-widgets-color: white;\n",
       "                    --jp-widgets-label-color: white;\n",
       "                    --jp-ui-font-color1: white;\n",
       "                    --jp-layout-color2: #454545;\n",
       "                    background-color: #383838;\n",
       "                }\n",
       "\n",
       "                .geemap-dark .jupyter-button {\n",
       "                    --jp-layout-color3: #383838;\n",
       "                }\n",
       "\n",
       "                .geemap-colab {\n",
       "                    background-color: var(--colab-primary-surface-color, white);\n",
       "                }\n",
       "\n",
       "                .geemap-colab .jupyter-button {\n",
       "                    --jp-layout-color3: var(--colab-primary-surface-color, white);\n",
       "                }\n",
       "            </style>\n",
       "            "
      ],
      "text/plain": [
       "<IPython.core.display.HTML object>"
      ]
     },
     "metadata": {},
     "output_type": "display_data"
    }
   ],
   "source": [
    "field_data = ee.FeatureCollection(f\"{data_folder}/field_biomass\") # from https://github.com/forc-db/GROA/tree/master/data\n",
    "biomes = ee.FeatureCollection(f\"{data_folder}/raw/biomes_br\").select('CD_Bioma')\n",
    "\n",
    "# Check in which biome each field plot is located\n",
    "def determine_biome(feature):\n",
    "    bioma_number = biomes.filterBounds(feature.geometry()).first().get('CD_Bioma')\n",
    "    return feature.set('biome', bioma_number)\n",
    "\n",
    "field_biomass = field_data.map(determine_biome)\n",
    "\n",
    "# export_csv(field_biomass, \"field_biomass\")\n",
    "\n",
    "# # Export task to Google Drive\n",
    "# task = ee.batch.Export.table.toDrive(\n",
    "#     collection = field_biomass,\n",
    "#     description = \"field_biomass\",\n",
    "#     fileFormat = \"CSV\"\n",
    "# )\n",
    "\n",
    "# task.start()"
   ]
  },
  {
   "cell_type": "markdown",
   "id": "6dbed378",
   "metadata": {},
   "source": [
    "## Main Model Dataset\n",
    "\n",
    "### Age, Biomass"
   ]
  },
  {
   "cell_type": "code",
   "execution_count": null,
   "id": "53f79362",
   "metadata": {},
   "outputs": [
    {
     "data": {
      "text/html": [
       "\n",
       "            <style>\n",
       "                .geemap-dark {\n",
       "                    --jp-widgets-color: white;\n",
       "                    --jp-widgets-label-color: white;\n",
       "                    --jp-ui-font-color1: white;\n",
       "                    --jp-layout-color2: #454545;\n",
       "                    background-color: #383838;\n",
       "                }\n",
       "\n",
       "                .geemap-dark .jupyter-button {\n",
       "                    --jp-layout-color3: #383838;\n",
       "                }\n",
       "\n",
       "                .geemap-colab {\n",
       "                    background-color: var(--colab-primary-surface-color, white);\n",
       "                }\n",
       "\n",
       "                .geemap-colab .jupyter-button {\n",
       "                    --jp-layout-color3: var(--colab-primary-surface-color, white);\n",
       "                }\n",
       "            </style>\n",
       "            "
      ],
      "text/plain": [
       "<IPython.core.display.HTML object>"
      ]
     },
     "metadata": {},
     "output_type": "display_data"
    }
   ],
   "source": [
    "# Fire and Land Use\n",
    "age = ee.Image(f\"{data_folder}/mapbiomas_{last_year}\")\n",
    "\n",
    "ESA_CCI = (ee.Image(f\"projects/sat-io/open-datasets/ESA/ESA_CCI_AGB/CCI_BIOMASS_100m_AGB_{last_year}_v51\")\n",
    "           .select(\"AGB\").rename(f\"ESA_CCI_{last_year}\"))\n",
    "\n",
    "fire = (ee.Image(\"projects/mapbiomas-public/assets/brazil/fire/collection3/mapbiomas_fire_collection3_annual_burned_coverage_v1\")\n",
    "    .select([f\"burned_coverage_{year}\" for year in config.range_1985_2020])\n",
    "    .byte()\n",
    "    .rename([str(year) for year in config.range_1985_2020])\n",
    "    .gt(0)\n",
    "    .reduce('sum').rename(\"num_fires\")).unmask(0)\n",
    "\n",
    "floodable_forests = (ee.Image(\"projects/mapbiomas-public/assets/brazil/lulc/collection9/mapbiomas_collection90_integration_v1\")\n",
    "        .select(f\"classification_{last_year}\").eq(6)).rename(\"floodable_forests\")\n"
   ]
  },
  {
   "cell_type": "markdown",
   "id": "36387afe",
   "metadata": {},
   "source": [
    "### Surrounding Landscape"
   ]
  },
  {
   "cell_type": "code",
   "execution_count": 11,
   "id": "b98d49ee",
   "metadata": {},
   "outputs": [
    {
     "data": {
      "text/html": [
       "\n",
       "            <style>\n",
       "                .geemap-dark {\n",
       "                    --jp-widgets-color: white;\n",
       "                    --jp-widgets-label-color: white;\n",
       "                    --jp-ui-font-color1: white;\n",
       "                    --jp-layout-color2: #454545;\n",
       "                    background-color: #383838;\n",
       "                }\n",
       "\n",
       "                .geemap-dark .jupyter-button {\n",
       "                    --jp-layout-color3: #383838;\n",
       "                }\n",
       "\n",
       "                .geemap-colab {\n",
       "                    background-color: var(--colab-primary-surface-color, white);\n",
       "                }\n",
       "\n",
       "                .geemap-colab .jupyter-button {\n",
       "                    --jp-layout-color3: var(--colab-primary-surface-color, white);\n",
       "                }\n",
       "            </style>\n",
       "            "
      ],
      "text/plain": [
       "<IPython.core.display.HTML object>"
      ]
     },
     "metadata": {},
     "output_type": "display_data"
    }
   ],
   "source": [
    "quarters_ecoreg_biomass = ee.Image(\"projects/amazon-forest-regrowth/assets/quarters_ecoreg_biomass\")\n",
    "distance_to_forest_edge = ee.Image(f\"{data_folder}/distance_to_forest_edge\")\n",
    "sur_cover = ee.Image(f\"{data_folder}/sur_cover_500m\")\n",
    "\n",
    "distance_gt_1000 = distance_to_forest_edge.gt(1000).selfMask()\n",
    "mature_biomass = ee.Image(f\"{data_folder}/mature_biomass\")\n",
    "mature_biomass_10k = ee.Image(f\"{data_folder}/mature_biomass_10k\")\n",
    "\n",
    "edge_detec = mature_biomass_10k.unmask(-1).zeroCrossing()\n",
    "distance_to_deep_forest = edge_detec.fastDistanceTransform(100, 'pixels').sqrt() \\\n",
    "    .multiply(ee.Image.pixelArea().sqrt()).toInt32().add(10000).rename(\"dist_deep_forest\")"
   ]
  },
  {
   "cell_type": "markdown",
   "id": "b4c6ad4d",
   "metadata": {},
   "source": [
    "### Environmental"
   ]
  },
  {
   "cell_type": "code",
   "execution_count": 12,
   "id": "bd8735d0",
   "metadata": {},
   "outputs": [
    {
     "data": {
      "text/html": [
       "\n",
       "            <style>\n",
       "                .geemap-dark {\n",
       "                    --jp-widgets-color: white;\n",
       "                    --jp-widgets-label-color: white;\n",
       "                    --jp-ui-font-color1: white;\n",
       "                    --jp-layout-color2: #454545;\n",
       "                    background-color: #383838;\n",
       "                }\n",
       "\n",
       "                .geemap-dark .jupyter-button {\n",
       "                    --jp-layout-color3: #383838;\n",
       "                }\n",
       "\n",
       "                .geemap-colab {\n",
       "                    background-color: var(--colab-primary-surface-color, white);\n",
       "                }\n",
       "\n",
       "                .geemap-colab .jupyter-button {\n",
       "                    --jp-layout-color3: var(--colab-primary-surface-color, white);\n",
       "                }\n",
       "            </style>\n",
       "            "
      ],
      "text/plain": [
       "<IPython.core.display.HTML object>"
      ]
     },
     "metadata": {},
     "output_type": "display_data"
    }
   ],
   "source": [
    "categorical = ee.Image(f\"{data_folder}/categorical\")\n",
    "\n",
    "topography = ee.Image(\"CSP/ERGo/1_0/Global/ALOS_landforms\").rename(\"topography\") # 90m resolution\n",
    "\n",
    "soil = ee.Image(f\"{data_folder}/soilgrids\")\n",
    "\n",
    "terraclim = ee.Image(f\"{data_folder}/yearly_terraclim\") # 10,000m resolution"
   ]
  },
  {
   "cell_type": "markdown",
   "id": "b6fd3b97",
   "metadata": {},
   "source": [
    "### Export Sampled Full Data"
   ]
  },
  {
   "cell_type": "code",
   "execution_count": null,
   "id": "d5212e27",
   "metadata": {},
   "outputs": [
    {
     "data": {
      "text/html": [
       "\n",
       "            <style>\n",
       "                .geemap-dark {\n",
       "                    --jp-widgets-color: white;\n",
       "                    --jp-widgets-label-color: white;\n",
       "                    --jp-ui-font-color1: white;\n",
       "                    --jp-layout-color2: #454545;\n",
       "                    background-color: #383838;\n",
       "                }\n",
       "\n",
       "                .geemap-dark .jupyter-button {\n",
       "                    --jp-layout-color3: #383838;\n",
       "                }\n",
       "\n",
       "                .geemap-colab {\n",
       "                    background-color: var(--colab-primary-surface-color, white);\n",
       "                }\n",
       "\n",
       "                .geemap-colab .jupyter-button {\n",
       "                    --jp-layout-color3: var(--colab-primary-surface-color, white);\n",
       "                }\n",
       "            </style>\n",
       "            "
      ],
      "text/plain": [
       "<IPython.core.display.HTML object>"
      ]
     },
     "metadata": {},
     "output_type": "display_data"
    }
   ],
   "source": [
    "def create_and_export_grid(region_name, cell_size = 1000):\n",
    "\n",
    "    pixels_to_sample = categorical.select(\"biome\").updateMask(age)\n",
    "    \n",
    "    if region_name.lower() == 'amazon':\n",
    "        roi = ee.FeatureCollection(f\"{data_folder}/raw/biomes_br\").filterMetadata('CD_Bioma', 'equals', 1).geometry()\n",
    "        export_name = f\"grid_{cell_size//1000}k_amaz\"\n",
    "    elif region_name.lower() == 'atlantic':\n",
    "        roi = ee.FeatureCollection(f\"{data_folder}/raw/biomes_br\").filterMetadata('CD_Bioma', 'equals', 4).geometry()\n",
    "        export_name = f\"grid_{cell_size//1000}k_atla\"\n",
    "\n",
    "    # First, sample locations based only on the age band\n",
    "    grid = geemap.create_grid(roi, cell_size, 'EPSG:4326')\n",
    "\n",
    "    # Function to sample one point per valid cell\n",
    "    def sample_cell(cell):\n",
    "        sampled_fc = pixels_to_sample.stratifiedSample(\n",
    "            numPoints=1,\n",
    "            classBand='biome',\n",
    "            region=cell.geometry(),\n",
    "            scale=30,\n",
    "            geometries=True,\n",
    "            dropNulls=True\n",
    "        )\n",
    "        # Only return a feature if we found one\n",
    "        return ee.Feature(ee.Algorithms.If(\n",
    "            sampled_fc.size().gt(0),\n",
    "            sampled_fc.first(),\n",
    "            # Return a placeholder that we can filter out later\n",
    "            ee.Feature(ee.Geometry.Point([0, 0])).set('is_null', True)\n",
    "        ))\n",
    "\n",
    "    samples = grid.map(sample_cell)\n",
    "\n",
    "    # Filter out placeholder features before exporting\n",
    "    samples = samples.filter(ee.Filter.notEquals('is_null', True))\n",
    "\n",
    "    # Export the feature collection\n",
    "    export_task = ee.batch.Export.table.toAsset(\n",
    "    collection=samples,\n",
    "    description=export_name,\n",
    "    assetId=f\"{data_folder}/{export_name}\"\n",
    "    )\n",
    "\n",
    "    # Start the export\n",
    "    export_task.start()\n",
    "\n",
    "# create_and_export_grid('amazon')\n",
    "# create_and_export_grid('atlantic')"
   ]
  },
  {
   "cell_type": "code",
   "execution_count": null,
   "id": "a0d9930e",
   "metadata": {},
   "outputs": [
    {
     "data": {
      "text/html": [
       "\n",
       "            <style>\n",
       "                .geemap-dark {\n",
       "                    --jp-widgets-color: white;\n",
       "                    --jp-widgets-label-color: white;\n",
       "                    --jp-ui-font-color1: white;\n",
       "                    --jp-layout-color2: #454545;\n",
       "                    background-color: #383838;\n",
       "                }\n",
       "\n",
       "                .geemap-dark .jupyter-button {\n",
       "                    --jp-layout-color3: #383838;\n",
       "                }\n",
       "\n",
       "                .geemap-colab {\n",
       "                    background-color: var(--colab-primary-surface-color, white);\n",
       "                }\n",
       "\n",
       "                .geemap-colab .jupyter-button {\n",
       "                    --jp-layout-color3: var(--colab-primary-surface-color, white);\n",
       "                }\n",
       "            </style>\n",
       "            "
      ],
      "text/plain": [
       "<IPython.core.display.HTML object>"
      ]
     },
     "metadata": {},
     "output_type": "display_data"
    }
   ],
   "source": [
    "selected_pixels = ee.FeatureCollection(f\"{data_folder}/grid_10k_amaz\")\n",
    "selected_pixels = distance_to_deep_forest.reduceRegions(\n",
    "    collection=selected_pixels,\n",
    "    reducer=ee.Reducer.first(),\n",
    "    scale=10000\n",
    ")\n",
    "\n",
    "def buffer_feature(feature):\n",
    "    distance = feature.getNumber('first').add(10000)\n",
    "    buffer = feature.geometry().buffer(distance)\n",
    "    return feature.setGeometry(buffer)\n",
    "\n",
    "# Buffer each point to reach the nearest pixel\n",
    "buffered_features = selected_pixels.map(buffer_feature)\n",
    "\n",
    "# Extract the biomass value for each buffered region\n",
    "# This will get the value from nearest valid pixel\n",
    "nearest_mature = mature_biomass_10k.reduceRegions(\n",
    "    collection=buffered_features,\n",
    "    reducer=ee.Reducer.firstNonNull(),\n",
    "    scale=10000\n",
    ").map(lambda feature: feature.centroid())\n",
    "\n",
    "unified_img = age.addBands([\n",
    "    ESA_CCI, fire, floodable_forests, \n",
    "    quarters_ecoreg_biomass, distance_to_forest_edge, sur_cover,\n",
    "    categorical, topography, terraclim, soil\n",
    "])\n",
    "\n",
    "unified_fc = unified_img.reduceRegions(nearest_mature, ee.Reducer.first(), 30)\n",
    "\n",
    "task = ee.batch.Export.table.toAsset(\n",
    "    collection = unified_fc,\n",
    "    description = 'unified_fc',\n",
    "    assetId = f\"{data_folder}/unified_fc\"\n",
    ")\n",
    "\n",
    "# to_remove = ['.geo', 'system:index']\n",
    "# all_properties = unified_img.bandNames().getInfo()\n",
    "# properties_to_export = [p for p in all_properties if p not in to_remove]\n",
    "\n",
    "# # Export task to Google Drive\n",
    "# task = ee.batch.Export.table.toDrive(\n",
    "#     collection = unified_fc,\n",
    "#     description = 'unified_fc',\n",
    "#     fileFormat = \"CSV\",\n",
    "#     selectors = properties_to_export\n",
    "# )\n",
    "\n",
    "# task.start()\n",
    "\n"
   ]
  },
  {
   "cell_type": "markdown",
   "id": "6923a829",
   "metadata": {},
   "source": [
    "### Export Data for Modelling (with diffrent land use aggregations)\n"
   ]
  },
  {
   "cell_type": "code",
   "execution_count": 16,
   "id": "6419801b",
   "metadata": {},
   "outputs": [
    {
     "data": {
      "text/html": [
       "\n",
       "            <style>\n",
       "                .geemap-dark {\n",
       "                    --jp-widgets-color: white;\n",
       "                    --jp-widgets-label-color: white;\n",
       "                    --jp-ui-font-color1: white;\n",
       "                    --jp-layout-color2: #454545;\n",
       "                    background-color: #383838;\n",
       "                }\n",
       "\n",
       "                .geemap-dark .jupyter-button {\n",
       "                    --jp-layout-color3: #383838;\n",
       "                }\n",
       "\n",
       "                .geemap-colab {\n",
       "                    background-color: var(--colab-primary-surface-color, white);\n",
       "                }\n",
       "\n",
       "                .geemap-colab .jupyter-button {\n",
       "                    --jp-layout-color3: var(--colab-primary-surface-color, white);\n",
       "                }\n",
       "            </style>\n",
       "            "
      ],
      "text/plain": [
       "<IPython.core.display.HTML object>"
      ]
     },
     "metadata": {},
     "output_type": "display_data"
    }
   ],
   "source": [
    "# Loop through each land use image\n",
    "for land_use, suffix in zip(land_use_list, suffixes):\n",
    "\n",
    "    pixels_to_sample = categorical.select(\"biome\").addBands(distance_to_deep_forest).updateMask(land_use.select(\"last_lu\")) # selecting only for the pixels with the desired land use history\n",
    "\n",
    "    selected_pixels = pixels_to_sample.stratifiedSample(numPoints = 10000, classBand = \"biome\")\n",
    "\n",
    "    # Buffer each point to reach the nearest pixel\n",
    "    buffered_features = selected_pixels.map(buffer_feature)\n",
    "\n",
    "    # Extract the biomass value for each buffered region\n",
    "    # This will get the value from nearest valid pixel\n",
    "    nearest_mature = mature_biomass_10k.reduceRegions(\n",
    "        collection=buffered_features,\n",
    "        reducer=ee.Reducer.firstNonNull(),\n",
    "        scale=10000\n",
    "    )\n",
    "\n",
    "    unified_img = age.addBands([\n",
    "        ESA_CCI, fire, floodable_forests, land_use, \n",
    "        quarters_ecoreg_biomass, distance_to_forest_edge, sur_cover,\n",
    "        categorical, topography, terraclim, soil\n",
    "    ])\n",
    "\n",
    "    unified_fc = unified_img.reduceRegions(selected_pixels, ee.Reducer.first(), 30)\n",
    "\n",
    "    # Sample and export image\n",
    "    export_csv(unified_img, suffix, 10000, \"biome\")"
   ]
  },
  {
   "cell_type": "code",
   "execution_count": null,
   "id": "a4d6c38b",
   "metadata": {},
   "outputs": [
    {
     "data": {
      "text/html": [
       "\n",
       "            <style>\n",
       "                .geemap-dark {\n",
       "                    --jp-widgets-color: white;\n",
       "                    --jp-widgets-label-color: white;\n",
       "                    --jp-ui-font-color1: white;\n",
       "                    --jp-layout-color2: #454545;\n",
       "                    background-color: #383838;\n",
       "                }\n",
       "\n",
       "                .geemap-dark .jupyter-button {\n",
       "                    --jp-layout-color3: #383838;\n",
       "                }\n",
       "\n",
       "                .geemap-colab {\n",
       "                    background-color: var(--colab-primary-surface-color, white);\n",
       "                }\n",
       "\n",
       "                .geemap-colab .jupyter-button {\n",
       "                    --jp-layout-color3: var(--colab-primary-surface-color, white);\n",
       "                }\n",
       "            </style>\n",
       "            "
      ],
      "text/plain": [
       "<IPython.core.display.HTML object>"
      ]
     },
     "metadata": {},
     "output_type": "display_data"
    },
    {
     "data": {
      "application/vnd.jupyter.widget-view+json": {
       "model_id": "cc21981dca5f4031aa21febaca735608",
       "version_major": 2,
       "version_minor": 0
      },
      "text/plain": [
       "Map(center=[0, 0], controls=(WidgetControl(options=['position', 'transparent_bg'], widget=SearchDataGUI(childr…"
      ]
     },
     "execution_count": 23,
     "metadata": {},
     "output_type": "execute_result"
    }
   ],
   "source": [
    "\n",
    "suffixes = [\n",
    "    \"aggregated_all\",\n",
    "    \"non_aggregated_all\",\n",
    "    # \"non_aggregated_15yr\",\n",
    "    \"non_aggregated_5yr\"\n",
    "]\n",
    "\n",
    "land_use_list = [\n",
    "    ee.Image(f\"{data_folder}/land_use_{suffix}\")\n",
    "    for suffix in suffixes\n",
    "]\n",
    "\n",
    "land_use = land_use_list[0]\n",
    "\n",
    "\n",
    "# pixels_to_sample = categorical.select(\"biome\").addBands(distance_to_deep_forest).updateMask(land_use.select(\"last_lu\")) # selecting only for the pixels with the desired land use history\n",
    "\n",
    "# selected_pixels = pixels_to_sample.stratifiedSample(numPoints = 10000, classBand = \"biome\")\n",
    "\n",
    "# # Buffer each point to reach the nearest pixel\n",
    "# buffered_features = selected_pixels.map(buffer_feature)\n",
    "\n",
    "# # Extract the biomass value for each buffered region\n",
    "# # This will get the value from nearest valid pixel\n",
    "# nearest_mature = mature_biomass_10k.reduceRegions(\n",
    "#     collection=buffered_features,\n",
    "#     reducer=ee.Reducer.firstNonNull(),\n",
    "#     scale=10000\n",
    "# )\n",
    "\n",
    "# unified_img = age.addBands([\n",
    "#     ESA_CCI, fire, floodable_forests, land_use, \n",
    "#     quarters_ecoreg_biomass, distance_to_forest_edge, sur_cover,\n",
    "#     categorical, topography, terraclim, soil\n",
    "# ])\n",
    "\n",
    "# unified_fc = unified_img.reduceRegions(selected_pixels, ee.Reducer.first(), 30)\n",
    "\n",
    "map = geemap.Map()\n",
    "map.addLayer(land_use.select(\"last_lu\"), {}, \"land_use\")\n",
    "map"
   ]
  },
  {
   "cell_type": "code",
   "execution_count": 22,
   "id": "f8fa55f4",
   "metadata": {},
   "outputs": [
    {
     "data": {
      "text/html": [
       "\n",
       "            <style>\n",
       "                .geemap-dark {\n",
       "                    --jp-widgets-color: white;\n",
       "                    --jp-widgets-label-color: white;\n",
       "                    --jp-ui-font-color1: white;\n",
       "                    --jp-layout-color2: #454545;\n",
       "                    background-color: #383838;\n",
       "                }\n",
       "\n",
       "                .geemap-dark .jupyter-button {\n",
       "                    --jp-layout-color3: #383838;\n",
       "                }\n",
       "\n",
       "                .geemap-colab {\n",
       "                    background-color: var(--colab-primary-surface-color, white);\n",
       "                }\n",
       "\n",
       "                .geemap-colab .jupyter-button {\n",
       "                    --jp-layout-color3: var(--colab-primary-surface-color, white);\n",
       "                }\n",
       "            </style>\n",
       "            "
      ],
      "text/plain": [
       "<IPython.core.display.HTML object>"
      ]
     },
     "metadata": {},
     "output_type": "display_data"
    }
   ],
   "source": [
    "# points = ee.FeatureCollection(f\"{data_folder}/unified_fc1\").filter(ee.Filter.eq('ESA_CCI_2020', None))\n",
    "\n",
    "# # Convert to a FeatureCollection of centroids\n",
    "# centroid_fc = points.map(lambda feature: feature.centroid())\n",
    "\n",
    "# map = geemap.Map()\n",
    "# map.addLayer(centroid_fc, {}, 'centroid_fc')\n",
    "# map.addLayer(unified_img, {}, 'unified_img')\n",
    "# map"
   ]
  }
 ],
 "metadata": {
  "kernelspec": {
   "display_name": "regrowth-env",
   "language": "python",
   "name": "python3"
  },
  "language_info": {
   "codemirror_mode": {
    "name": "ipython",
    "version": 3
   },
   "file_extension": ".py",
   "mimetype": "text/x-python",
   "name": "python",
   "nbconvert_exporter": "python",
   "pygments_lexer": "ipython3",
   "version": "3.12.8"
  }
 },
 "nbformat": 4,
 "nbformat_minor": 5
}
