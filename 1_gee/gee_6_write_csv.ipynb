{
 "cells": [
  {
   "cell_type": "markdown",
   "id": "956cff3f-99f1-45ca-b0b0-90c38a6e2c08",
   "metadata": {},
   "source": [
    "<!-- # Processing the final dataset\n",
    " -->\n"
   ]
  },
  {
   "cell_type": "markdown",
   "id": "14ea43a3",
   "metadata": {},
   "source": [
    "# Export data as CSV"
   ]
  },
  {
   "cell_type": "code",
   "execution_count": 3,
   "id": "a9594018-621b-427e-89d3-0633de81979a",
   "metadata": {},
   "outputs": [
    {
     "data": {
      "text/html": [
       "\n",
       "            <style>\n",
       "                .geemap-dark {\n",
       "                    --jp-widgets-color: white;\n",
       "                    --jp-widgets-label-color: white;\n",
       "                    --jp-ui-font-color1: white;\n",
       "                    --jp-layout-color2: #454545;\n",
       "                    background-color: #383838;\n",
       "                }\n",
       "\n",
       "                .geemap-dark .jupyter-button {\n",
       "                    --jp-layout-color3: #383838;\n",
       "                }\n",
       "\n",
       "                .geemap-colab {\n",
       "                    background-color: var(--colab-primary-surface-color, white);\n",
       "                }\n",
       "\n",
       "                .geemap-colab .jupyter-button {\n",
       "                    --jp-layout-color3: var(--colab-primary-surface-color, white);\n",
       "                }\n",
       "            </style>\n",
       "            "
      ],
      "text/plain": [
       "<IPython.core.display.HTML object>"
      ]
     },
     "metadata": {},
     "output_type": "display_data"
    }
   ],
   "source": [
    "import ee\n",
    "import geemap\n",
    "from gee_0_utils import *\n",
    "\n",
    "initialize()\n",
    "config = ProjectConfig()\n",
    "roi = config.roi\n",
    "data_folder = config.data_folder\n",
    "last_year = config.last_year"
   ]
  },
  {
   "cell_type": "code",
   "execution_count": null,
   "id": "217cf492",
   "metadata": {},
   "outputs": [
    {
     "data": {
      "text/html": [
       "\n",
       "            <style>\n",
       "                .geemap-dark {\n",
       "                    --jp-widgets-color: white;\n",
       "                    --jp-widgets-label-color: white;\n",
       "                    --jp-ui-font-color1: white;\n",
       "                    --jp-layout-color2: #454545;\n",
       "                    background-color: #383838;\n",
       "                }\n",
       "\n",
       "                .geemap-dark .jupyter-button {\n",
       "                    --jp-layout-color3: #383838;\n",
       "                }\n",
       "\n",
       "                .geemap-colab {\n",
       "                    background-color: var(--colab-primary-surface-color, white);\n",
       "                }\n",
       "\n",
       "                .geemap-colab .jupyter-button {\n",
       "                    --jp-layout-color3: var(--colab-primary-surface-color, white);\n",
       "                }\n",
       "            </style>\n",
       "            "
      ],
      "text/plain": [
       "<IPython.core.display.HTML object>"
      ]
     },
     "metadata": {},
     "output_type": "display_data"
    }
   ],
   "source": [
    "def keep_rare_lu_types(unified_data):\n",
    "    # Define the list of bands to check\n",
    "    bands_to_check = ['lulc_sum_20', 'lulc_sum_21', 'lulc_sum_35', \n",
    "                    'lulc_sum_39', 'lulc_sum_40', 'lulc_sum_41', \n",
    "                    'lulc_sum_46', 'lulc_sum_48', 'lulc_sum_9']\n",
    "\n",
    "    # Create a mask where at least one of the specified bands is non-zero\n",
    "    mask = unified_data.select(bands_to_check).reduce(ee.Reducer.anyNonZero())\n",
    "\n",
    "    # # Apply the mask to the unified_data\n",
    "    return unified_data.updateMask(mask)\n",
    "\n",
    "\n",
    "age.pixelLonLat().float()\n",
    "\n",
    "floodable_forests = (ee.Image(\"projects/mapbiomas-public/assets/brazil/lulc/collection9/mapbiomas_collection90_integration_v1\")\n",
    "        .select(f\"classification_{last_year}\").eq(6))\n"
   ]
  },
  {
   "cell_type": "markdown",
   "id": "7d3a3734",
   "metadata": {},
   "source": [
    "## Data for all biomass and age data comparisons"
   ]
  },
  {
   "cell_type": "code",
   "execution_count": null,
   "id": "8e25de1e",
   "metadata": {},
   "outputs": [
    {
     "data": {
      "text/html": [
       "\n",
       "            <style>\n",
       "                .geemap-dark {\n",
       "                    --jp-widgets-color: white;\n",
       "                    --jp-widgets-label-color: white;\n",
       "                    --jp-ui-font-color1: white;\n",
       "                    --jp-layout-color2: #454545;\n",
       "                    background-color: #383838;\n",
       "                }\n",
       "\n",
       "                .geemap-dark .jupyter-button {\n",
       "                    --jp-layout-color3: #383838;\n",
       "                }\n",
       "\n",
       "                .geemap-colab {\n",
       "                    background-color: var(--colab-primary-surface-color, white);\n",
       "                }\n",
       "\n",
       "                .geemap-colab .jupyter-button {\n",
       "                    --jp-layout-color3: var(--colab-primary-surface-color, white);\n",
       "                }\n",
       "            </style>\n",
       "            "
      ],
      "text/plain": [
       "<IPython.core.display.HTML object>"
      ]
     },
     "metadata": {},
     "output_type": "display_data"
    }
   ],
   "source": [
    "biome =  ee.Image(f\"{data_folder}/categorical\").select(\"biome\")\n",
    "\n",
    "# ages\n",
    "mapbiomas = ee.Image(f\"{data_folder}/mapbiomas_{last_year}\").rename([\"age_mapbiomas\"])\n",
    "tmf = ee.Image(f\"{data_folder}/tmf_{last_year}\").rename([\"age_tmf\"])\n",
    "silva = ee.Image(\"projects/ee-regrowth/assets/MB_secondary_forest_Silva_Junior_v2/sforestAge_brazil_V8\").select(\"classification_2020\").rename(\"age_silva\")\n",
    "\n",
    "# biomass\n",
    "ESA_CCI = ee.Image(f\"{data_folder}/ESA_CCI_{last_year}\")\n",
    "GEDI_L2A = ee.Image(f\"{data_folder}/GEDI_L2A_{last_year}\")\n",
    "GEDI_L4A = ee.Image(f\"{data_folder}/GEDI_L4A_{last_year}\")\n",
    "heinrich = (ee.Image(\"projects/ee-regrowth/assets/Heinrich_etal_2021_updates/sforestAGC_climate_only_v1_1\")\n",
    "                            .select(\"classification_2020\").rename(\"heinrich_biomass_2020\"))\n",
    "\n",
    "# Combine all images into a single multi-band image\n",
    "comparisons = silva.addBands([ESA_CCI, GEDI_L2A, GEDI_L4A, heinrich, biome])\n",
    "mask = comparisons.reduce(ee.Reducer.allNonZero())\n",
    "masked_image = comparisons.updateMask(mask)\n",
    "\n",
    "comparisons_sampled = comparisons.stratifiedSample(numPoints = 5000, classBand = 'biome')\n",
    "\n",
    "\n"
   ]
  },
  {
   "cell_type": "code",
   "execution_count": null,
   "id": "0eda20a1",
   "metadata": {},
   "outputs": [
    {
     "data": {
      "text/html": [
       "\n",
       "            <style>\n",
       "                .geemap-dark {\n",
       "                    --jp-widgets-color: white;\n",
       "                    --jp-widgets-label-color: white;\n",
       "                    --jp-ui-font-color1: white;\n",
       "                    --jp-layout-color2: #454545;\n",
       "                    background-color: #383838;\n",
       "                }\n",
       "\n",
       "                .geemap-dark .jupyter-button {\n",
       "                    --jp-layout-color3: #383838;\n",
       "                }\n",
       "\n",
       "                .geemap-colab {\n",
       "                    background-color: var(--colab-primary-surface-color, white);\n",
       "                }\n",
       "\n",
       "                .geemap-colab .jupyter-button {\n",
       "                    --jp-layout-color3: var(--colab-primary-surface-color, white);\n",
       "                }\n",
       "            </style>\n",
       "            "
      ],
      "text/plain": [
       "<IPython.core.display.HTML object>"
      ]
     },
     "metadata": {},
     "output_type": "display_data"
    }
   ],
   "source": [
    "\n",
    "# Combine all bands with additional masking conditions\n",
    "combined_mask = GEDI_biomass.mask().And(distance_to_border_mask).And(one_hectare_mask).And(ages_mask).And(land_use.select(\"last_LU\").mask())\n",
    "\n",
    "unified_data = secondary.addBands([GEDI_biomass, categorical]).updateMask(combined_mask)\n",
    "\n",
    "unified_data_sampled = unified_data.stratifiedSample(numPoints = 15000, classBand = 'biome', geometries = False)\n",
    "\n",
    "# Export task to Google Drive\n",
    "task = ee.batch.Export.table.toDrive(\n",
    "    collection=unified_data_sampled,\n",
    "    description='mapbiomas_GEDI',\n",
    "    fileFormat='CSV',\n",
    "    selectors=properties_to_export\n",
    ")\n",
    "# task.start()\n",
    "\n",
    "\n"
   ]
  },
  {
   "cell_type": "code",
   "execution_count": 23,
   "id": "4f839d20",
   "metadata": {},
   "outputs": [
    {
     "data": {
      "text/html": [
       "\n",
       "            <style>\n",
       "                .geemap-dark {\n",
       "                    --jp-widgets-color: white;\n",
       "                    --jp-widgets-label-color: white;\n",
       "                    --jp-ui-font-color1: white;\n",
       "                    --jp-layout-color2: #454545;\n",
       "                    background-color: #383838;\n",
       "                }\n",
       "\n",
       "                .geemap-dark .jupyter-button {\n",
       "                    --jp-layout-color3: #383838;\n",
       "                }\n",
       "\n",
       "                .geemap-colab {\n",
       "                    background-color: var(--colab-primary-surface-color, white);\n",
       "                }\n",
       "\n",
       "                .geemap-colab .jupyter-button {\n",
       "                    --jp-layout-color3: var(--colab-primary-surface-color, white);\n",
       "                }\n",
       "            </style>\n",
       "            "
      ],
      "text/plain": [
       "<IPython.core.display.HTML object>"
      ]
     },
     "metadata": {},
     "output_type": "display_data"
    }
   ],
   "source": [
    "field_data = ee.FeatureCollection(f\"{data_folder}/field_biomass\")\n",
    "\n",
    "# Load biome geometries\n",
    "biomes = ee.FeatureCollection(f\"{data_folder}/raw/biomes_br\").select('CD_Bioma')\n",
    "\n",
    "# Define a function to check intersections and set the new property\n",
    "def add_intersection_property(feature):\n",
    "    # Filter collection2 for features that intersect with the current feature's geometry\n",
    "    bioma_number = biomes.filterBounds(feature.geometry()).first().get('CD_Bioma')\n",
    "    \n",
    "    # Set the 'intersects' property based on whether there are any intersecting features\n",
    "    return feature.set('biome', bioma_number)\n",
    "\n",
    "# Map over field_data to add the 'intersects' property\n",
    "cd_bioma_value = field_data.map(add_intersection_property)\n",
    "\n",
    "\n",
    "# Export to Google Drive as CSV\n",
    "task = ee.batch.Export.table.toDrive(\n",
    "    collection=cd_bioma_value,\n",
    "    description='Field_Biomass_with_Biome',\n",
    "    fileFormat='CSV'\n",
    ")\n",
    "\n",
    "# Start the export task\n",
    "task.start()\n"
   ]
  },
  {
   "cell_type": "code",
   "execution_count": null,
   "id": "2383828d",
   "metadata": {},
   "outputs": [
    {
     "data": {
      "text/html": [
       "\n",
       "            <style>\n",
       "                .geemap-dark {\n",
       "                    --jp-widgets-color: white;\n",
       "                    --jp-widgets-label-color: white;\n",
       "                    --jp-ui-font-color1: white;\n",
       "                    --jp-layout-color2: #454545;\n",
       "                    background-color: #383838;\n",
       "                }\n",
       "\n",
       "                .geemap-dark .jupyter-button {\n",
       "                    --jp-layout-color3: #383838;\n",
       "                }\n",
       "\n",
       "                .geemap-colab {\n",
       "                    background-color: var(--colab-primary-surface-color, white);\n",
       "                }\n",
       "\n",
       "                .geemap-colab .jupyter-button {\n",
       "                    --jp-layout-color3: var(--colab-primary-surface-color, white);\n",
       "                }\n",
       "            </style>\n",
       "            "
      ],
      "text/plain": [
       "<IPython.core.display.HTML object>"
      ]
     },
     "metadata": {},
     "output_type": "display_data"
    }
   ],
   "source": [
    "\n",
    "fire = (ee.Image(\"projects/mapbiomas-public/assets/brazil/fire/collection3/mapbiomas_fire_collection3_annual_burned_coverage_v1\")\n",
    "    .select([f\"burned_coverage_{year}\" for year in config.range_1985_2020])\n",
    "    .byte()\n",
    "    .rename([str(year) for year in config.range_1985_2020])\n",
    "    .gt(0)\n",
    "    .reduce('sum').rename(\"num_fires\")).unmask(0)"
   ]
  },
  {
   "cell_type": "code",
   "execution_count": 48,
   "id": "53f79362",
   "metadata": {},
   "outputs": [
    {
     "data": {
      "text/html": [
       "\n",
       "            <style>\n",
       "                .geemap-dark {\n",
       "                    --jp-widgets-color: white;\n",
       "                    --jp-widgets-label-color: white;\n",
       "                    --jp-ui-font-color1: white;\n",
       "                    --jp-layout-color2: #454545;\n",
       "                    background-color: #383838;\n",
       "                }\n",
       "\n",
       "                .geemap-dark .jupyter-button {\n",
       "                    --jp-layout-color3: #383838;\n",
       "                }\n",
       "\n",
       "                .geemap-colab {\n",
       "                    background-color: var(--colab-primary-surface-color, white);\n",
       "                }\n",
       "\n",
       "                .geemap-colab .jupyter-button {\n",
       "                    --jp-layout-color3: var(--colab-primary-surface-color, white);\n",
       "                }\n",
       "            </style>\n",
       "            "
      ],
      "text/plain": [
       "<IPython.core.display.HTML object>"
      ]
     },
     "metadata": {},
     "output_type": "display_data"
    }
   ],
   "source": [
    "\n",
    "\n",
    "categorical = ee.Image(f\"{data_folder}/categorical\").select([\"biome\", \"ecoreg\", \"protec\", \"indig\"])\n",
    "\n",
    "# select the data points that match their classification as young or old by IPCC\n",
    "filter1 = ee.Image(f\"{data_folder}/raw/00N_10N\")\n",
    "filter2 = ee.Image(f\"{data_folder}/raw/10N_20N\")\n",
    "filter_ages = ee.ImageCollection([filter1, filter2]).mosaic()\n",
    "filter_young_secondary = filter_ages.eq(2)\n",
    "filter_old_secondary = filter_ages.eq(3)\n",
    "young_secondary = mapbiomas_age.lte(20).updateMask(filter_young_secondary).unmask(0)\n",
    "old_secondary = mapbiomas_age.gt(20).updateMask(filter_old_secondary).unmask(0)\n",
    "ages_mask = young_secondary.add(old_secondary)\n",
    "\n",
    "distance_to_border_mask = ee.Image(f\"{data_folder}/distance_to_border_mask\").byte()\n",
    "one_hectare_mask = ee.Image(f\"{data_folder}/mapbiomas/one_hectare_mask\").selfMask()\n",
    "\n",
    "land_use = ee.Image(f\"{data_folder}/mapbiomas/land_use_no_fire\")\n",
    "\n",
    "distance_to_nearest_mature = ee.Image(f\"{data_folder}/{method}/distance_to_nearest_mature\")\n",
    "cwd = ee.Image(f\"{data_folder}/raw/cwd_chave\").int16()\n",
    "sur_cover = ee.Image(f\"{data_folder}/{method}/sur_cover\")\n",
    "categorical = ee.Image(f\"{data_folder}/categorical\").select([\"biome\", \"ecoreg\", \"protec\", \"indig\"])\n",
    "topography = ee.Image(\"CSP/ERGo/1_0/Global/ALOS_landforms\").rename(\"topography\")\n",
    "soil = ee.Image(f\"{data_folder}/soilgrids\").select(['nitro', 'sand', 'phh2o'])  # Dropping multicollinear bands\n",
    "climate = ee.Image(f\"{data_folder}/yearly_terraclim\").select('mean_pr',\n",
    " 'mean_srad',\n",
    " 'mean_temp',\n",
    " 'mean_vpd',\n",
    " 'mean_soil',\n",
    " 'mean_aet',\n",
    " 'mean_si')\n",
    "\n",
    "nearest_mature = ee.Image(f\"{data_folder}/{method}/nearest_mature_biomass_image_neighborhood\").rename(\"nearest_mature_biomass\")\n",
    "\n",
    "amazon_quarter_regions = ee.Image(\"projects/amazon-forest-regrowth/assets/amazon_quarter_regions\")\n",
    "\n",
    "mean_biomass_quarter = ee.Image(\"projects/amazon-forest-regrowth/assets/mean_biomass_quarter\")\n",
    "\n",
    "# suffixes = range(1, 22)\n",
    "# images = [ee.Image(f\"{base_name}{suffix}\") for suffix in suffixes]\n",
    "# image_collection = ee.ImageCollection(images)\n",
    "# nearest_mature = image_collection.mosaic().rename(\"nearest_mature_biomass\").divide(2)\n",
    "\n",
    "# if method == \"mapbiomas\":\n",
    "#     nearest_mature = nearest_mature.reproject(scale = 1000, crs = 'EPSG:4326').rename(\"nearest_mature_biomass\")\n"
   ]
  },
  {
   "cell_type": "code",
   "execution_count": 51,
   "id": "80eae972",
   "metadata": {},
   "outputs": [
    {
     "data": {
      "text/html": [
       "\n",
       "            <style>\n",
       "                .geemap-dark {\n",
       "                    --jp-widgets-color: white;\n",
       "                    --jp-widgets-label-color: white;\n",
       "                    --jp-ui-font-color1: white;\n",
       "                    --jp-layout-color2: #454545;\n",
       "                    background-color: #383838;\n",
       "                }\n",
       "\n",
       "                .geemap-dark .jupyter-button {\n",
       "                    --jp-layout-color3: #383838;\n",
       "                }\n",
       "\n",
       "                .geemap-colab {\n",
       "                    background-color: var(--colab-primary-surface-color, white);\n",
       "                }\n",
       "\n",
       "                .geemap-colab .jupyter-button {\n",
       "                    --jp-layout-color3: var(--colab-primary-surface-color, white);\n",
       "                }\n",
       "            </style>\n",
       "            "
      ],
      "text/plain": [
       "<IPython.core.display.HTML object>"
      ]
     },
     "metadata": {},
     "output_type": "display_data"
    }
   ],
   "source": [
    "\n",
    "# Combine all bands with additional masking conditions\n",
    "combined_mask = biomass.mask().And(distance_to_border_mask).And(one_hectare_mask).And(ages_mask).And(distance_to_nearest_mature).And(nearest_mature).And(fire.lt(14)).And(land_use.select(\"last_LU\").mask())\n",
    "\n",
    "unified_data = mapbiomas_age.addBands([silva_age, fire, heinrich_biomass_2020, biomass, categorical, nearest_mature, land_use,\n",
    "                                       distance_to_nearest_mature, cwd, sur_cover, topography, soil, climate, amazon_quarter_regions, mean_biomass_quarter]).updateMask(combined_mask)\n",
    "\n",
    "# map = geemap.Map()\n",
    "# map.addLayer(unified_data, {}, 'unified_data')\n",
    "# map.addLayer(mapbiomas_age.updateMask(distance_to_border_mask), {'palette': ['blue']}, 'mapbiomas_age')\n",
    "# # map.addLayer(distance_to_nearest_mature, {}, 'distance_to_nearest_mature')\n",
    "# map.addLayer(fire.eq(0), {'palette': ['red']}, 'fire')\n",
    "# map\n"
   ]
  },
  {
   "cell_type": "code",
   "execution_count": 65,
   "id": "5f3ff94a",
   "metadata": {},
   "outputs": [
    {
     "data": {
      "text/html": [
       "\n",
       "            <style>\n",
       "                .geemap-dark {\n",
       "                    --jp-widgets-color: white;\n",
       "                    --jp-widgets-label-color: white;\n",
       "                    --jp-ui-font-color1: white;\n",
       "                    --jp-layout-color2: #454545;\n",
       "                    background-color: #383838;\n",
       "                }\n",
       "\n",
       "                .geemap-dark .jupyter-button {\n",
       "                    --jp-layout-color3: #383838;\n",
       "                }\n",
       "\n",
       "                .geemap-colab {\n",
       "                    background-color: var(--colab-primary-surface-color, white);\n",
       "                }\n",
       "\n",
       "                .geemap-colab .jupyter-button {\n",
       "                    --jp-layout-color3: var(--colab-primary-surface-color, white);\n",
       "                }\n",
       "            </style>\n",
       "            "
      ],
      "text/plain": [
       "<IPython.core.display.HTML object>"
      ]
     },
     "metadata": {},
     "output_type": "display_data"
    }
   ],
   "source": [
    "ESA_CCI = ee.Image(\"projects/sat-io/open-datasets/ESA/ESA_CCI_AGB/CCI_BIOMASS_100m_AGB_2020_v51\")\n",
    "mapbiomas_age = ee.Image(f\"{data_folder}/mapbiomas/secondary\").select(\"age\").rename(\"mapbiomas_age\")\n",
    "\n",
    "unified_data = mapbiomas_age.addBands([ESA_CCI, categorical.select(\"biome\")]).updateMask(mapbiomas_age.mask())\n"
   ]
  },
  {
   "cell_type": "code",
   "execution_count": 52,
   "id": "885627a8",
   "metadata": {},
   "outputs": [
    {
     "data": {
      "text/html": [
       "\n",
       "            <style>\n",
       "                .geemap-dark {\n",
       "                    --jp-widgets-color: white;\n",
       "                    --jp-widgets-label-color: white;\n",
       "                    --jp-ui-font-color1: white;\n",
       "                    --jp-layout-color2: #454545;\n",
       "                    background-color: #383838;\n",
       "                }\n",
       "\n",
       "                .geemap-dark .jupyter-button {\n",
       "                    --jp-layout-color3: #383838;\n",
       "                }\n",
       "\n",
       "                .geemap-colab {\n",
       "                    background-color: var(--colab-primary-surface-color, white);\n",
       "                }\n",
       "\n",
       "                .geemap-colab .jupyter-button {\n",
       "                    --jp-layout-color3: var(--colab-primary-surface-color, white);\n",
       "                }\n",
       "            </style>\n",
       "            "
      ],
      "text/plain": [
       "<IPython.core.display.HTML object>"
      ]
     },
     "metadata": {},
     "output_type": "display_data"
    }
   ],
   "source": [
    "to_remove = ['.geo', 'system:index']\n",
    "all_properties = unified_data.bandNames().getInfo()\n",
    "properties_to_export = [p for p in all_properties if p not in to_remove]\n",
    "\n",
    "unified_data_sampled = unified_data.stratifiedSample(numPoints = 10000, classBand = 'num_fires', geometries = False)\n",
    "\n",
    "# Export task to Google Drive\n",
    "task = ee.batch.Export.table.toDrive(\n",
    "    collection=unified_data_sampled,\n",
    "    description='mapbiomas_heinrich_lulc_regions',\n",
    "    fileFormat='CSV',\n",
    "    selectors=properties_to_export\n",
    ")\n",
    "\n",
    "task.start()\n",
    "\n"
   ]
  },
  {
   "cell_type": "code",
   "execution_count": 37,
   "id": "8f8c16b9",
   "metadata": {},
   "outputs": [
    {
     "data": {
      "text/html": [
       "\n",
       "            <style>\n",
       "                .geemap-dark {\n",
       "                    --jp-widgets-color: white;\n",
       "                    --jp-widgets-label-color: white;\n",
       "                    --jp-ui-font-color1: white;\n",
       "                    --jp-layout-color2: #454545;\n",
       "                    background-color: #383838;\n",
       "                }\n",
       "\n",
       "                .geemap-dark .jupyter-button {\n",
       "                    --jp-layout-color3: #383838;\n",
       "                }\n",
       "\n",
       "                .geemap-colab {\n",
       "                    background-color: var(--colab-primary-surface-color, white);\n",
       "                }\n",
       "\n",
       "                .geemap-colab .jupyter-button {\n",
       "                    --jp-layout-color3: var(--colab-primary-surface-color, white);\n",
       "                }\n",
       "            </style>\n",
       "            "
      ],
      "text/plain": [
       "<IPython.core.display.HTML object>"
      ]
     },
     "metadata": {},
     "output_type": "display_data"
    }
   ],
   "source": [
    "heinrich_biomass_2017 = heinrich_biomass.select(\"classification_2017\").rename(\"heinrich_biomass_2017\")\n",
    "silva_age = ee.Image(\"projects/ee-regrowth/assets/MB_secondary_forest_Silva_Junior_v2/sforestAge_brazil_V8\").select(\"classification_2017\").rename(\"silva_age\").updateMask(heinrich_biomass_2017)\n",
    "ESA_CCI = ee.Image(\"projects/sat-io/open-datasets/ESA/ESA_CCI_AGB/CCI_BIOMASS_100m_AGB_2017_v51\").select(\"AGB\").rename(\"ESA_CCI_2017\").divide(2)\n",
    "\n",
    "unified_data = heinrich_biomass_2017.addBands([silva_age, ESA_CCI])\n",
    "\n",
    "to_remove = ['.geo', 'system:index']\n",
    "all_properties = unified_data.bandNames().getInfo()\n",
    "properties_to_export = [p for p in all_properties if p not in to_remove]\n",
    "\n",
    "unified_data_sampled = unified_data.stratifiedSample(numPoints = 500, classBand = 'silva_age', geometries = False)\n",
    "\n",
    "# Export to Google Drive as CSV\n",
    "task = ee.batch.Export.table.toDrive(\n",
    "    collection=unified_data_sampled,\n",
    "    description='heinrich_2017',\n",
    "    fileFormat='CSV'\n",
    ")\n",
    "\n",
    "# Start the export task\n",
    "task.start()\n"
   ]
  },
  {
   "cell_type": "code",
   "execution_count": null,
   "id": "7e05edb2",
   "metadata": {},
   "outputs": [
    {
     "data": {
      "text/html": [
       "\n",
       "            <style>\n",
       "                .geemap-dark {\n",
       "                    --jp-widgets-color: white;\n",
       "                    --jp-widgets-label-color: white;\n",
       "                    --jp-ui-font-color1: white;\n",
       "                    --jp-layout-color2: #454545;\n",
       "                    background-color: #383838;\n",
       "                }\n",
       "\n",
       "                .geemap-dark .jupyter-button {\n",
       "                    --jp-layout-color3: #383838;\n",
       "                }\n",
       "\n",
       "                .geemap-colab {\n",
       "                    background-color: var(--colab-primary-surface-color, white);\n",
       "                }\n",
       "\n",
       "                .geemap-colab .jupyter-button {\n",
       "                    --jp-layout-color3: var(--colab-primary-surface-color, white);\n",
       "                }\n",
       "            </style>\n",
       "            "
      ],
      "text/plain": [
       "<IPython.core.display.HTML object>"
      ]
     },
     "metadata": {},
     "output_type": "display_data"
    },
    {
     "name": "stdout",
     "output_type": "stream",
     "text": [
      "Started export task 1\n",
      "Started export task 2\n",
      "Started export task 3\n",
      "Started export task 4\n",
      "Started export task 5\n",
      "Started export task 6\n",
      "Started export task 7\n",
      "Started export task 8\n",
      "Started export task 9\n",
      "Started export task 10\n",
      "Started export task 11\n",
      "Started export task 12\n",
      "Started export task 13\n",
      "Started export task 14\n",
      "Started export task 15\n",
      "Started export task 16\n",
      "Started export task 17\n",
      "Started export task 18\n",
      "Started export task 19\n",
      "Started export task 20\n",
      "Started export task 21\n",
      "Started export task 22\n",
      "Started export task 1\n",
      "Started export task 2\n",
      "Started export task 3\n",
      "Started export task 4\n",
      "Started export task 5\n",
      "Started export task 6\n",
      "Started export task 7\n",
      "Started export task 8\n",
      "Started export task 9\n",
      "Started export task 10\n",
      "Started export task 11\n",
      "Started export task 12\n",
      "Started export task 13\n",
      "Started export task 14\n",
      "Started export task 15\n",
      "Started export task 16\n",
      "Started export task 17\n",
      "Started export task 18\n",
      "Started export task 19\n",
      "Started export task 20\n",
      "Started export task 21\n",
      "Started export task 22\n"
     ]
    }
   ],
   "source": [
    "\n",
    "# Function to preprocess images and create the unified data image\n",
    "def create_unified_data(method, year):\n",
    "\n",
    "    distance_to_nearest_mature = ee.Image(f\"{data_folder}/{method}/distance_to_nearest_mature\")\n",
    "    cwd = ee.Image(f\"{data_folder}/raw/cwd_chave\").int16()\n",
    "    sur_cover = ee.Image(f\"{data_folder}/{method}/sur_cover\")\n",
    "    categorical = ee.Image(f\"{data_folder}/categorical\").select([\"biome\", \"ecoreg\", \"protec\", \"indig\"])\n",
    "    topography = ee.Image(\"CSP/ERGo/1_0/Global/ALOS_landforms\").rename(\"topography\")\n",
    "    soil = ee.Image(f\"{data_folder}/soilgrids\").select(['nitro', 'sand', 'phh2o'])  # Dropping multicollinear bands\n",
    "    climate = ee.Image(f\"{data_folder}/yearly_terraclim\")\n",
    "\n",
    "    secondary = ee.Image(f\"{data_folder}/{method}/secondary\")\n",
    "    ages = secondary.select(\"age\")\n",
    "\n",
    "    distance_to_border_mask = ee.Image(f\"{data_folder}/distance_to_border_mask\").byte()\n",
    "    one_hectare_mask = ee.Image(f\"{data_folder}/{method}/one_hectare_mask\").selfMask()\n",
    "\n",
    "    base_name = f\"{data_folder}/{method}/nearest_mature_biomass_\"\n",
    "    suffixes = range(1, 22)\n",
    "    images = [ee.Image(f\"{base_name}{suffix}\") for suffix in suffixes]\n",
    "    image_collection = ee.ImageCollection(images)\n",
    "    nearest_mature = image_collection.mosaic().rename(\"nearest_mature_biomass\")\n",
    "    if method == \"mapbiomas\":\n",
    "        nearest_mature = nearest_mature.reproject(scale = 1000, crs = 'EPSG:4326').rename(\"nearest_mature_biomass\")\n",
    "\n",
    "    # Combine all bands with additional masking conditions\n",
    "    combined_mask = nearest_mature.mask().And(distance_to_border_mask).And(one_hectare_mask).And(ages_mask)#.And(GEDI_biomass.mask())\n",
    "\n",
    "    unified_data = secondary.addBands([# GEDI_biomass, \n",
    "        nearest_mature, sur_cover, cwd, distance_to_nearest_mature, \n",
    "        categorical, soil, topography, climate\n",
    "    ])\n",
    "\n",
    "    if method == \"mapbiomas\":\n",
    "        # fire = ee.Image(f\"{data_folder}/{method}/ESA_fires\")\n",
    "        # unified_data = unified_data.addBands(fire.rename(\"ESA\"))\n",
    "        # suffix = \"ESA_fire\"\n",
    "        \n",
    "        if (aggregate_LU):\n",
    "            suffix = \"aggregated\"\n",
    "        else:\n",
    "            suffix = \"non_aggregated\"\n",
    "\n",
    "        if (year != 0):\n",
    "            suffix += f\"_{year}yr\"\n",
    "        else:\n",
    "            suffix += \"_all\"\n",
    "\n",
    "        # lulc = (ee.Image(\"projects/mapbiomas-public/assets/brazil/lulc/collection9/mapbiomas_collection90_integration_v1\")\n",
    "        #             .select([f\"classification_{year}\" for year in config.range_1985_2020])\n",
    "        #             .byte()\n",
    "        #             .rename([str(year) for year in config.range_1985_2020]))\n",
    "        # lulc = lulc.select(\"1985\").eq(3).selfMask()\n",
    "        land_use = ee.Image(f\"{data_folder}/{method}/land_use_{suffix}\")\n",
    "        unified_data = unified_data.addBands([land_use])\n",
    "        combined_mask = combined_mask.And(land_use.select(\"last_LU\").mask())\n",
    "    else:\n",
    "        suffix = \"eu\"\n",
    "        fire = ee.Image(f\"{data_folder}/{method}/eu_mapbiomas_fires\")\n",
    "        mapbiomas_unburned_mask = ee.Image(f\"{data_folder}/{method}/mapbiomas_unburned_mask\")\n",
    "        combined_mask = combined_mask.And(mapbiomas_unburned_mask)\n",
    "\n",
    "        unified_data = unified_data.addBands([fire])\n",
    "\n",
    "    unified_data = unified_data.updateMask(combined_mask)\n",
    "\n",
    "    return unified_data, suffix\n",
    "\n",
    "# Main Function to run tile-wise exports\n",
    "def export_tilewise(method, year):\n",
    "    # Generate unified data image with selected layers\n",
    "    unified_data, suffix = create_unified_data(method, year)\n",
    "    # Filter properties to export\n",
    "    to_remove = ['.geo', 'system:index']\n",
    "    all_properties = unified_data.bandNames().getInfo()\n",
    "    properties_to_export = [p for p in all_properties if p not in to_remove]\n",
    "\n",
    "    # Load region of interest (ROI) and create a grid over the ROI\n",
    "    grid = roi.coveringGrid(\"EPSG:4326\", 1000000)\n",
    "    tile_ids = grid.aggregate_array('system:index').getInfo()\n",
    "    count = 0\n",
    "\n",
    "    # Loop over IDs\n",
    "    for feature_id in tile_ids:\n",
    "        count = count + 1\n",
    "        feat = grid.filter(ee.Filter.eq('system:index', feature_id))\n",
    "\n",
    "        unified_data_sampled = unified_data.sample(region = feat.geometry(), scale = 100, geometries = False)\n",
    "\n",
    "        # Export task to Google Drive\n",
    "        task = ee.batch.Export.table.toDrive(\n",
    "            collection=unified_data_sampled,\n",
    "            description=f'{suffix}_{count}',\n",
    "            fileFormat='CSV',\n",
    "            selectors=properties_to_export\n",
    "        )\n",
    "        task.start()\n",
    "        print(f'Started export task {count}')\n",
    "\n",
    "# Main Function to run tile-wise exports\n",
    "def export_stratified(method, year):\n",
    "    # Generate unified data image with selected layers\n",
    "    unified_data, suffix = create_unified_data(method, year)\n",
    "    # Filter properties to export\n",
    "    to_remove = ['.geo', 'system:index']\n",
    "    all_properties = unified_data.bandNames().getInfo()\n",
    "    properties_to_export = [p for p in all_properties if p not in to_remove]\n",
    "\n",
    "    unified_data_sampled = unified_data.stratifiedSample(numPoints = 15000, classBand = 'biome', geometries = False)\n",
    "    \n",
    "    # unified_data_sampled = unified_data.sample(region = roi, scale = 30, geometries = False)\n",
    "\n",
    "    # Export task to Google Drive\n",
    "    task = ee.batch.Export.table.toDrive(\n",
    "        collection=unified_data_sampled,\n",
    "        description=f'{suffix}',\n",
    "        fileFormat='CSV',\n",
    "        selectors=properties_to_export\n",
    "    )\n",
    "    task.start()\n",
    "\n",
    "aggregate_LU = True\n",
    "# export_stratified('eu', 0)\n",
    "# export_stratified('mapbiomas', 0)\n",
    "# export_stratified('mapbiomas', 5)\n",
    "# export_stratified('mapbiomas', 10)\n",
    "# export_stratified('mapbiomas', 15)\n",
    "# aggregate_LU = False\n",
    "# export_stratified('mapbiomas', 0)\n",
    "# export_stratified('mapbiomas', 5)\n",
    "# export_stratified('mapbiomas', 10)\n",
    "# export_stratified('mapbiomas', 15)\n",
    "\n",
    "# export_tilewise('mapbiomas', 0)\n",
    "export_tilewise('mapbiomas', 5)\n",
    "export_tilewise('mapbiomas', 10)\n",
    "# export_tilewise('mapbiomas', 15)\n",
    "# aggregate_LU = False\n",
    "# export_tilewise('mapbiomas', 0)\n",
    "# export_tilewise('mapbiomas', 5)\n",
    "# export_tilewise('mapbiomas', 10)\n",
    "# export_tilewise('mapbiomas', 15)"
   ]
  },
  {
   "cell_type": "code",
   "execution_count": 8,
   "id": "cf924f32",
   "metadata": {},
   "outputs": [
    {
     "data": {
      "text/html": [
       "\n",
       "            <style>\n",
       "                .geemap-dark {\n",
       "                    --jp-widgets-color: white;\n",
       "                    --jp-widgets-label-color: white;\n",
       "                    --jp-ui-font-color1: white;\n",
       "                    --jp-layout-color2: #454545;\n",
       "                    background-color: #383838;\n",
       "                }\n",
       "\n",
       "                .geemap-dark .jupyter-button {\n",
       "                    --jp-layout-color3: #383838;\n",
       "                }\n",
       "\n",
       "                .geemap-colab {\n",
       "                    background-color: var(--colab-primary-surface-color, white);\n",
       "                }\n",
       "\n",
       "                .geemap-colab .jupyter-button {\n",
       "                    --jp-layout-color3: var(--colab-primary-surface-color, white);\n",
       "                }\n",
       "            </style>\n",
       "            "
      ],
      "text/plain": [
       "<IPython.core.display.HTML object>"
      ]
     },
     "metadata": {},
     "output_type": "display_data"
    }
   ],
   "source": [
    "secondary_mapbiomas = ee.Image(f\"{data_folder}/mapbiomas/secondary\")\n",
    "secondary_eu = ee.Image(f\"{data_folder}/eu/secondary\")\n",
    "\n",
    "secondary_mapbiomas = secondary_mapbiomas.updateMask(secondary_eu.select(\"age\"))\n",
    "secondary_eu = secondary_eu.updateMask(secondary_mapbiomas.select(\"age\"))\n",
    "secondary_mapbiomas = secondary_mapbiomas.updateMask(secondary_eu.select(\"age\"))\n",
    "\n",
    "categorical = ee.Image(f\"{data_folder}/categorical\")\n",
    "biome_mask = categorical.select('biome').eq(1) \\\n",
    "               .Or(categorical.select('biome').eq(4)) \\\n",
    "               .Or(categorical.select('biome').eq(6))\n",
    "categorical = categorical.updateMask(biome_mask)\n",
    "cwd = ee.Image(f\"{data_folder}/raw/cwd_chave\")\n",
    "\n",
    "unified_data = secondary_mapbiomas.addBands([categorical, cwd, \\\n",
    "                                             secondary_mapbiomas.select(\"age\").rename(\"age_eu\")])\\\n",
    "                                                .updateMask(secondary_mapbiomas.select(\"age\"))\n",
    "\n",
    "unified_data_sampled = unified_data.stratifiedSample(\n",
    "    numPoints = 10000, classBand = 'biome', region = roi\n",
    ")\n",
    "\n",
    "task = ee.batch.Export.table.toDrive(\n",
    "    collection = unified_data_sampled, description = \"mapbiomas_eu\", fileFormat = 'CSV'\n",
    ")\n",
    "task.start()"
   ]
  },
  {
   "cell_type": "code",
   "execution_count": null,
   "id": "ef8e2a5c",
   "metadata": {},
   "outputs": [],
   "source": [
    "# to get the data from current agricultural land, to predict its regrowth potential:\n",
    "\n",
    "# get all land use history for all plots that are currently agricultural land\n",
    "# get the nearest mature biomass for each of these plots\n",
    "# get the same predictors and run the model for these pixels.\n",
    "\n",
    "canopy_height = ee.Image('users/nlang/ETH_GlobalCanopyHeight_2020_10m_v1').clip(roi).rename('canopy_height')\n",
    "\n",
    "if generate_lulc_pred:\n",
    "    lulc = (ee.Image(\"projects/mapbiomas-public/assets/brazil/lulc/collection9/mapbiomas_collection90_integration_v1\")\n",
    "            .select([f\"classification_{year}\" for year in config.range_1985_2020])\n",
    "            .byte()\n",
    "            .rename([str(year) for year in config.range_1985_2020]))\n",
    "\n",
    "    age = remap_band(f\"{last_year}\", lulc)\n"
   ]
  }
 ],
 "metadata": {
  "kernelspec": {
   "display_name": "regrowth-env",
   "language": "python",
   "name": "python3"
  },
  "language_info": {
   "codemirror_mode": {
    "name": "ipython",
    "version": 3
   },
   "file_extension": ".py",
   "mimetype": "text/x-python",
   "name": "python",
   "nbconvert_exporter": "python",
   "pygments_lexer": "ipython3",
   "version": "3.12.8"
  }
 },
 "nbformat": 4,
 "nbformat_minor": 5
}
