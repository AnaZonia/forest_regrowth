{
 "cells": [
  {
   "cell_type": "markdown",
   "id": "956cff3f-99f1-45ca-b0b0-90c38a6e2c08",
   "metadata": {},
   "source": [
    "<!-- # Processing the final dataset\n",
    " -->\n"
   ]
  },
  {
   "cell_type": "markdown",
   "id": "14ea43a3",
   "metadata": {},
   "source": [
    "# Export data as CSV"
   ]
  },
  {
   "cell_type": "code",
   "execution_count": 2,
   "id": "a9594018-621b-427e-89d3-0633de81979a",
   "metadata": {},
   "outputs": [],
   "source": [
    "import ee\n",
    "import geemap\n",
    "from gee_0_utils import *\n",
    "\n",
    "initialize()\n",
    "config = ProjectConfig()\n",
    "roi = config.roi\n",
    "data_folder = config.data_folder\n",
    "last_year = config.last_year"
   ]
  },
  {
   "cell_type": "markdown",
   "id": "7d3a3734",
   "metadata": {},
   "source": [
    "## Data for all biomass and age data comparisons"
   ]
  },
  {
   "cell_type": "code",
   "execution_count": null,
   "id": "8e25de1e",
   "metadata": {},
   "outputs": [
    {
     "data": {
      "text/html": [
       "\n",
       "            <style>\n",
       "                .geemap-dark {\n",
       "                    --jp-widgets-color: white;\n",
       "                    --jp-widgets-label-color: white;\n",
       "                    --jp-ui-font-color1: white;\n",
       "                    --jp-layout-color2: #454545;\n",
       "                    background-color: #383838;\n",
       "                }\n",
       "\n",
       "                .geemap-dark .jupyter-button {\n",
       "                    --jp-layout-color3: #383838;\n",
       "                }\n",
       "\n",
       "                .geemap-colab {\n",
       "                    background-color: var(--colab-primary-surface-color, white);\n",
       "                }\n",
       "\n",
       "                .geemap-colab .jupyter-button {\n",
       "                    --jp-layout-color3: var(--colab-primary-surface-color, white);\n",
       "                }\n",
       "            </style>\n",
       "            "
      ],
      "text/plain": [
       "<IPython.core.display.HTML object>"
      ]
     },
     "metadata": {},
     "output_type": "display_data"
    }
   ],
   "source": [
    "biome =  ee.Image(f\"{data_folder}/categorical\").select(\"biome\")\n",
    "\n",
    "# Ages\n",
    "mapbiomas = ee.Image(f\"{data_folder}/mapbiomas_{last_year}\").rename([\"age_mapbiomas\"])\n",
    "tmf = ee.Image(f\"{data_folder}/tmf_{last_year}\").rename([\"age_tmf\"])\n",
    "silva = ee.Image(\"projects/ee-regrowth/assets/MB_secondary_forest_Silva_Junior_v2/sforestAge_brazil_V8\").select(\"classification_2020\").rename(\"age_silva\")\n",
    "\n",
    "# Response variables\n",
    "GEDI_L2A = ee.Image(f\"{data_folder}/GEDI_L2A_{last_year}\")\n",
    "GEDI_L4A = ee.Image(f\"{data_folder}/GEDI_L4A_{last_year}\")\n",
    "ESA_CCI = (ee.Image(f\"projects/sat-io/open-datasets/ESA/ESA_CCI_AGB/CCI_BIOMASS_100m_AGB_{last_year}_v51\")\n",
    "           .select(\"AGB\").rename(f\"ESA_CCI_{last_year}\"))\n",
    "heinrich = (ee.Image(\"projects/ee-regrowth/assets/Heinrich_etal_2021_updates/sforestAGC_climate_only_v1_1\")\n",
    "            .select(\"classification_2020\").rename(\"heinrich_biomass_2020\"))\n",
    "\n",
    "# Combine all images into a single multi-band image\n",
    "comparisons = mapbiomas.addBands([tmf, silva, ESA_CCI, GEDI_L2A, GEDI_L4A, heinrich, biome])\n",
    "mask = comparisons.reduce(ee.Reducer.allNonZero())\n",
    "masked_image = comparisons.updateMask(mask)\n",
    "\n",
    "comparisons_sampled = comparisons.stratifiedSample(numPoints = 10000, classBand = 'biome')\n",
    "\n",
    "export_csv(comparisons_sampled, \"comparisons_sampled\")"
   ]
  },
  {
   "cell_type": "markdown",
   "id": "b9f1c558",
   "metadata": {},
   "source": [
    "## Data for mature forest biomass comparisons and distance to edge plot"
   ]
  },
  {
   "cell_type": "code",
   "execution_count": null,
   "id": "4f839d20",
   "metadata": {},
   "outputs": [
    {
     "data": {
      "text/html": [
       "\n",
       "            <style>\n",
       "                .geemap-dark {\n",
       "                    --jp-widgets-color: white;\n",
       "                    --jp-widgets-label-color: white;\n",
       "                    --jp-ui-font-color1: white;\n",
       "                    --jp-layout-color2: #454545;\n",
       "                    background-color: #383838;\n",
       "                }\n",
       "\n",
       "                .geemap-dark .jupyter-button {\n",
       "                    --jp-layout-color3: #383838;\n",
       "                }\n",
       "\n",
       "                .geemap-colab {\n",
       "                    background-color: var(--colab-primary-surface-color, white);\n",
       "                }\n",
       "\n",
       "                .geemap-colab .jupyter-button {\n",
       "                    --jp-layout-color3: var(--colab-primary-surface-color, white);\n",
       "                }\n",
       "            </style>\n",
       "            "
      ],
      "text/plain": [
       "<IPython.core.display.HTML object>"
      ]
     },
     "metadata": {},
     "output_type": "display_data"
    }
   ],
   "source": [
    "mature_biomass = ee.Image(f\"{data_folder}/mature_biomass\").addBands(biome)\n",
    "mature_biomass_sampled = mature_biomass.stratifiedSample(numPoints = 10000, classBand = 'biome')\n",
    "export_csv(mature_biomass_sampled, \"mature_biomass_sampled\")"
   ]
  },
  {
   "cell_type": "markdown",
   "id": "5fe64507",
   "metadata": {},
   "source": [
    "## Data for field data comparisons"
   ]
  },
  {
   "cell_type": "code",
   "execution_count": null,
   "id": "7b1ddc20",
   "metadata": {},
   "outputs": [],
   "source": [
    "field_data = ee.FeatureCollection(f\"{data_folder}/field_biomass\") # from https://github.com/forc-db/GROA/tree/master/data\n",
    "biomes = ee.FeatureCollection(f\"{data_folder}/raw/biomes_br\").select('CD_Bioma')\n",
    "\n",
    "# Check in which biome each field plot is located\n",
    "def determine_biome(feature):\n",
    "    bioma_number = biomes.filterBounds(feature.geometry()).first().get('CD_Bioma')\n",
    "    return feature.set('biome', bioma_number)\n",
    "\n",
    "field_biomass = field_data.map(determine_biome)\n",
    "\n",
    "export_csv(field_biomass, \"field_biomass\")"
   ]
  },
  {
   "cell_type": "markdown",
   "id": "6dbed378",
   "metadata": {},
   "source": [
    "# Main Model Dataset"
   ]
  },
  {
   "cell_type": "code",
   "execution_count": null,
   "id": "53f79362",
   "metadata": {},
   "outputs": [
    {
     "data": {
      "text/html": [
       "\n",
       "            <style>\n",
       "                .geemap-dark {\n",
       "                    --jp-widgets-color: white;\n",
       "                    --jp-widgets-label-color: white;\n",
       "                    --jp-ui-font-color1: white;\n",
       "                    --jp-layout-color2: #454545;\n",
       "                    background-color: #383838;\n",
       "                }\n",
       "\n",
       "                .geemap-dark .jupyter-button {\n",
       "                    --jp-layout-color3: #383838;\n",
       "                }\n",
       "\n",
       "                .geemap-colab {\n",
       "                    background-color: var(--colab-primary-surface-color, white);\n",
       "                }\n",
       "\n",
       "                .geemap-colab .jupyter-button {\n",
       "                    --jp-layout-color3: var(--colab-primary-surface-color, white);\n",
       "                }\n",
       "            </style>\n",
       "            "
      ],
      "text/plain": [
       "<IPython.core.display.HTML object>"
      ]
     },
     "metadata": {},
     "output_type": "display_data"
    }
   ],
   "source": [
    "\n",
    "\n",
    "categorical = ee.Image(f\"{data_folder}/categorical\")\n",
    "\n",
    "\n",
    "land_use = ee.Image(f\"{data_folder}/mapbiomas/land_use_no_fire\")\n",
    "\n",
    "distance_to_nearest_mature = ee.Image(f\"{data_folder}/distance_to_nearest_mature\")\n",
    "\n",
    "cwd = ee.Image(f\"{data_folder}/raw/cwd_chave\").int16()\n",
    "\n",
    "sur_cover = ee.Image(f\"{data_folder}/sur_cover\")\n",
    "\n",
    "topography = ee.Image(\"CSP/ERGo/1_0/Global/ALOS_landforms\").rename(\"topography\") # 90m resolution\n",
    "\n",
    "soil = ee.Image(f\"{data_folder}/soilgrids\")\n",
    "\n",
    "climate = ee.Image(f\"{data_folder}/yearly_terraclim\").select( # 10,000m resolution\n",
    " 'mean_pr',\n",
    " 'mean_srad',\n",
    " 'mean_temp',\n",
    " 'mean_vpd',\n",
    " 'mean_soil',\n",
    " 'mean_aet',\n",
    " 'mean_si')\n",
    "\n",
    "nearest_mature = ee.Image(f\"{data_folder}/mapbiomas/nearest_mature_biomass_image_neighborhood\").rename(\"nearest_mature_biomass\")\n",
    "\n",
    "quarters_ecoreg_biomass = ee.Image(\"projects/amazon-forest-regrowth/assets/quarters_ecoreg_biomass\")\n",
    "\n",
    "\n",
    "def keep_rare_lu_types(unified_data):\n",
    "    # Define the list of bands to check\n",
    "    bands_to_check = ['lulc_sum_20', 'lulc_sum_21', 'lulc_sum_35', \n",
    "                    'lulc_sum_39', 'lulc_sum_40', 'lulc_sum_41', \n",
    "                    'lulc_sum_46', 'lulc_sum_48', 'lulc_sum_9']\n",
    "\n",
    "    # Create a mask where at least one of the specified bands is non-zero\n",
    "    mask = unified_data.select(bands_to_check).reduce(ee.Reducer.anyNonZero())\n",
    "\n",
    "    # # Apply the mask to the unified_data\n",
    "    return unified_data.updateMask(mask)\n",
    "\n",
    "\n",
    "age.pixelLonLat().float()\n",
    "\n",
    "floodable_forests = (ee.Image(\"projects/mapbiomas-public/assets/brazil/lulc/collection9/mapbiomas_collection90_integration_v1\")\n",
    "        .select(f\"classification_{last_year}\").eq(6))\n",
    "\n",
    "\n",
    "fire = (ee.Image(\"projects/mapbiomas-public/assets/brazil/fire/collection3/mapbiomas_fire_collection3_annual_burned_coverage_v1\")\n",
    "    .select([f\"burned_coverage_{year}\" for year in config.range_1985_2020])\n",
    "    .byte()\n",
    "    .rename([str(year) for year in config.range_1985_2020])\n",
    "    .gt(0)\n",
    "    .reduce('sum').rename(\"num_fires\")).unmask(0)\n",
    "\n"
   ]
  },
  {
   "cell_type": "code",
   "execution_count": null,
   "id": "80eae972",
   "metadata": {},
   "outputs": [
    {
     "data": {
      "text/html": [
       "\n",
       "            <style>\n",
       "                .geemap-dark {\n",
       "                    --jp-widgets-color: white;\n",
       "                    --jp-widgets-label-color: white;\n",
       "                    --jp-ui-font-color1: white;\n",
       "                    --jp-layout-color2: #454545;\n",
       "                    background-color: #383838;\n",
       "                }\n",
       "\n",
       "                .geemap-dark .jupyter-button {\n",
       "                    --jp-layout-color3: #383838;\n",
       "                }\n",
       "\n",
       "                .geemap-colab {\n",
       "                    background-color: var(--colab-primary-surface-color, white);\n",
       "                }\n",
       "\n",
       "                .geemap-colab .jupyter-button {\n",
       "                    --jp-layout-color3: var(--colab-primary-surface-color, white);\n",
       "                }\n",
       "            </style>\n",
       "            "
      ],
      "text/plain": [
       "<IPython.core.display.HTML object>"
      ]
     },
     "metadata": {},
     "output_type": "display_data"
    }
   ],
   "source": [
    "\n",
    "# Combine all bands with additional masking conditions\n",
    "combined_mask = biomass.mask().And(distance_to_border_mask).And(one_hectare_mask).And(ages_mask).And(distance_to_nearest_mature).And(nearest_mature).And(fire.lt(14)).And(land_use.select(\"last_LU\").mask())\n",
    "\n",
    "unified_data = mapbiomas_age.addBands([silva_age, fire, heinrich_biomass_2020, biomass, categorical, nearest_mature, land_use,\n",
    "                                       distance_to_nearest_mature, cwd, sur_cover, topography, soil, climate, amazon_quarter_regions, mean_biomass_quarter]).updateMask(combined_mask)\n",
    "\n"
   ]
  },
  {
   "cell_type": "code",
   "execution_count": null,
   "id": "7e05edb2",
   "metadata": {},
   "outputs": [
    {
     "data": {
      "text/html": [
       "\n",
       "            <style>\n",
       "                .geemap-dark {\n",
       "                    --jp-widgets-color: white;\n",
       "                    --jp-widgets-label-color: white;\n",
       "                    --jp-ui-font-color1: white;\n",
       "                    --jp-layout-color2: #454545;\n",
       "                    background-color: #383838;\n",
       "                }\n",
       "\n",
       "                .geemap-dark .jupyter-button {\n",
       "                    --jp-layout-color3: #383838;\n",
       "                }\n",
       "\n",
       "                .geemap-colab {\n",
       "                    background-color: var(--colab-primary-surface-color, white);\n",
       "                }\n",
       "\n",
       "                .geemap-colab .jupyter-button {\n",
       "                    --jp-layout-color3: var(--colab-primary-surface-color, white);\n",
       "                }\n",
       "            </style>\n",
       "            "
      ],
      "text/plain": [
       "<IPython.core.display.HTML object>"
      ]
     },
     "metadata": {},
     "output_type": "display_data"
    },
    {
     "name": "stdout",
     "output_type": "stream",
     "text": [
      "Started export task 1\n",
      "Started export task 2\n",
      "Started export task 3\n",
      "Started export task 4\n",
      "Started export task 5\n",
      "Started export task 6\n",
      "Started export task 7\n",
      "Started export task 8\n",
      "Started export task 9\n",
      "Started export task 10\n",
      "Started export task 11\n",
      "Started export task 12\n",
      "Started export task 13\n",
      "Started export task 14\n",
      "Started export task 15\n",
      "Started export task 16\n",
      "Started export task 17\n",
      "Started export task 18\n",
      "Started export task 19\n",
      "Started export task 20\n",
      "Started export task 21\n",
      "Started export task 22\n",
      "Started export task 1\n",
      "Started export task 2\n",
      "Started export task 3\n",
      "Started export task 4\n",
      "Started export task 5\n",
      "Started export task 6\n",
      "Started export task 7\n",
      "Started export task 8\n",
      "Started export task 9\n",
      "Started export task 10\n",
      "Started export task 11\n",
      "Started export task 12\n",
      "Started export task 13\n",
      "Started export task 14\n",
      "Started export task 15\n",
      "Started export task 16\n",
      "Started export task 17\n",
      "Started export task 18\n",
      "Started export task 19\n",
      "Started export task 20\n",
      "Started export task 21\n",
      "Started export task 22\n"
     ]
    }
   ],
   "source": [
    "\n",
    "# Function to preprocess images and create the unified data image\n",
    "def create_unified_data(method, year):\n",
    "\n",
    "    distance_to_nearest_mature = ee.Image(f\"{data_folder}/{method}/distance_to_nearest_mature\")\n",
    "    cwd = ee.Image(f\"{data_folder}/raw/cwd_chave\").int16()\n",
    "    sur_cover = ee.Image(f\"{data_folder}/{method}/sur_cover\")\n",
    "    categorical = ee.Image(f\"{data_folder}/categorical\").select([\"biome\", \"ecoreg\", \"protec\", \"indig\"])\n",
    "    topography = ee.Image(\"CSP/ERGo/1_0/Global/ALOS_landforms\").rename(\"topography\")\n",
    "    soil = ee.Image(f\"{data_folder}/soilgrids\").select(['nitro', 'sand', 'phh2o'])  # Dropping multicollinear bands\n",
    "    climate = ee.Image(f\"{data_folder}/yearly_terraclim\")\n",
    "\n",
    "    secondary = ee.Image(f\"{data_folder}/{method}/secondary\")\n",
    "    ages = secondary.select(\"age\")\n",
    "\n",
    "    distance_to_border_mask = ee.Image(f\"{data_folder}/distance_to_border_mask\").byte()\n",
    "    one_hectare_mask = ee.Image(f\"{data_folder}/{method}/one_hectare_mask\").selfMask()\n",
    "\n",
    "    base_name = f\"{data_folder}/{method}/nearest_mature_biomass_\"\n",
    "    suffixes = range(1, 22)\n",
    "    images = [ee.Image(f\"{base_name}{suffix}\") for suffix in suffixes]\n",
    "    image_collection = ee.ImageCollection(images)\n",
    "    nearest_mature = image_collection.mosaic().rename(\"nearest_mature_biomass\")\n",
    "    if method == \"mapbiomas\":\n",
    "        nearest_mature = nearest_mature.reproject(scale = 1000, crs = 'EPSG:4326').rename(\"nearest_mature_biomass\")\n",
    "\n",
    "    # Combine all bands with additional masking conditions\n",
    "    combined_mask = nearest_mature.mask().And(distance_to_border_mask).And(one_hectare_mask).And(ages_mask)#.And(GEDI_biomass.mask())\n",
    "\n",
    "    unified_data = secondary.addBands([# GEDI_biomass, \n",
    "        nearest_mature, sur_cover, cwd, distance_to_nearest_mature, \n",
    "        categorical, soil, topography, climate\n",
    "    ])\n",
    "\n",
    "    if method == \"mapbiomas\":\n",
    "        # fire = ee.Image(f\"{data_folder}/{method}/ESA_fires\")\n",
    "        # unified_data = unified_data.addBands(fire.rename(\"ESA\"))\n",
    "        # suffix = \"ESA_fire\"\n",
    "        \n",
    "        if (aggregate_LU):\n",
    "            suffix = \"aggregated\"\n",
    "        else:\n",
    "            suffix = \"non_aggregated\"\n",
    "\n",
    "        if (year != 0):\n",
    "            suffix += f\"_{year}yr\"\n",
    "        else:\n",
    "            suffix += \"_all\"\n",
    "\n",
    "        # lulc = (ee.Image(\"projects/mapbiomas-public/assets/brazil/lulc/collection9/mapbiomas_collection90_integration_v1\")\n",
    "        #             .select([f\"classification_{year}\" for year in config.range_1985_2020])\n",
    "        #             .byte()\n",
    "        #             .rename([str(year) for year in config.range_1985_2020]))\n",
    "        # lulc = lulc.select(\"1985\").eq(3).selfMask()\n",
    "        land_use = ee.Image(f\"{data_folder}/{method}/land_use_{suffix}\")\n",
    "        unified_data = unified_data.addBands([land_use])\n",
    "        combined_mask = combined_mask.And(land_use.select(\"last_LU\").mask())\n",
    "    else:\n",
    "        suffix = \"eu\"\n",
    "        fire = ee.Image(f\"{data_folder}/{method}/eu_mapbiomas_fires\")\n",
    "        mapbiomas_unburned_mask = ee.Image(f\"{data_folder}/{method}/mapbiomas_unburned_mask\")\n",
    "        combined_mask = combined_mask.And(mapbiomas_unburned_mask)\n",
    "\n",
    "        unified_data = unified_data.addBands([fire])\n",
    "\n",
    "    unified_data = unified_data.updateMask(combined_mask)\n",
    "\n",
    "    return unified_data, suffix\n",
    "\n",
    "# Main Function to run tile-wise exports\n",
    "def export_stratified(method, year):\n",
    "    # Generate unified data image with selected layers\n",
    "    unified_data, suffix = create_unified_data(method, year)\n",
    "    # Filter properties to export\n",
    "    to_remove = ['.geo', 'system:index']\n",
    "    all_properties = unified_data.bandNames().getInfo()\n",
    "    properties_to_export = [p for p in all_properties if p not in to_remove]\n",
    "\n",
    "    unified_data_sampled = unified_data.stratifiedSample(numPoints = 15000, classBand = 'biome', geometries = False)\n",
    "    \n",
    "    # unified_data_sampled = unified_data.sample(region = roi, scale = 30, geometries = False)\n",
    "\n",
    "    # Export task to Google Drive\n",
    "    task = ee.batch.Export.table.toDrive(\n",
    "        collection=unified_data_sampled,\n",
    "        description=f'{suffix}',\n",
    "        fileFormat='CSV',\n",
    "        selectors=properties_to_export\n",
    "    )\n",
    "    task.start()\n",
    "\n"
   ]
  },
  {
   "cell_type": "markdown",
   "id": "daa961fb",
   "metadata": {},
   "source": [
    "# Export full data for future prediction map"
   ]
  },
  {
   "cell_type": "code",
   "execution_count": null,
   "id": "4f43add3",
   "metadata": {},
   "outputs": [],
   "source": [
    "# Main Function to run tile-wise exports\n",
    "def export_tilewise(method, year):\n",
    "    # Generate unified data image with selected layers\n",
    "    unified_data, suffix = create_unified_data(method, year)\n",
    "    # Filter properties to export\n",
    "    to_remove = ['.geo', 'system:index']\n",
    "    all_properties = unified_data.bandNames().getInfo()\n",
    "    properties_to_export = [p for p in all_properties if p not in to_remove]\n",
    "\n",
    "    # Load region of interest (ROI) and create a grid over the ROI\n",
    "    grid = roi.coveringGrid(\"EPSG:4326\", 1000000)\n",
    "    tile_ids = grid.aggregate_array('system:index').getInfo()\n",
    "    count = 0\n",
    "\n",
    "    # Loop over IDs\n",
    "    for feature_id in tile_ids:\n",
    "        count = count + 1\n",
    "        feat = grid.filter(ee.Filter.eq('system:index', feature_id))\n",
    "\n",
    "        unified_data_sampled = unified_data.sample(region = feat.geometry(), scale = 100, geometries = False)\n",
    "\n",
    "        # Export task to Google Drive\n",
    "        task = ee.batch.Export.table.toDrive(\n",
    "            collection=unified_data_sampled,\n",
    "            description=f'{suffix}_{count}',\n",
    "            fileFormat='CSV',\n",
    "            selectors=properties_to_export\n",
    "        )\n",
    "        task.start()\n",
    "        print(f'Started export task {count}')"
   ]
  },
  {
   "cell_type": "code",
   "execution_count": null,
   "id": "ef8e2a5c",
   "metadata": {},
   "outputs": [],
   "source": [
    "# to get the data from current agricultural land, to predict its regrowth potential:\n",
    "\n",
    "# get all land use history for all plots that are currently agricultural land\n",
    "# get the nearest mature biomass for each of these plots\n",
    "# get the same predictors and run the model for these pixels.\n",
    "\n",
    "canopy_height = ee.Image('users/nlang/ETH_GlobalCanopyHeight_2020_10m_v1').clip(roi).rename('canopy_height')\n",
    "\n",
    "if generate_lulc_pred:\n",
    "    lulc = (ee.Image(\"projects/mapbiomas-public/assets/brazil/lulc/collection9/mapbiomas_collection90_integration_v1\")\n",
    "            .select([f\"classification_{year}\" for year in config.range_1985_2020])\n",
    "            .byte()\n",
    "            .rename([str(year) for year in config.range_1985_2020]))\n",
    "\n",
    "    age = remap_band(f\"{last_year}\", lulc)\n"
   ]
  }
 ],
 "metadata": {
  "kernelspec": {
   "display_name": "regrowth-env",
   "language": "python",
   "name": "python3"
  },
  "language_info": {
   "codemirror_mode": {
    "name": "ipython",
    "version": 3
   },
   "file_extension": ".py",
   "mimetype": "text/x-python",
   "name": "python",
   "nbconvert_exporter": "python",
   "pygments_lexer": "ipython3",
   "version": "3.12.8"
  }
 },
 "nbformat": 4,
 "nbformat_minor": 5
}
