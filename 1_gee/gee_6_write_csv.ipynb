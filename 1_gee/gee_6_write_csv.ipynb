{
 "cells": [
  {
   "cell_type": "markdown",
   "id": "956cff3f-99f1-45ca-b0b0-90c38a6e2c08",
   "metadata": {},
   "source": [
    "<!-- # Processing the final dataset\n",
    " -->\n"
   ]
  },
  {
   "cell_type": "markdown",
   "id": "14ea43a3",
   "metadata": {},
   "source": [
    "# Export data as CSV"
   ]
  },
  {
   "cell_type": "code",
   "execution_count": 2,
   "id": "a9594018-621b-427e-89d3-0633de81979a",
   "metadata": {},
   "outputs": [],
   "source": [
    "import ee\n",
    "import geemap\n",
    "from gee_0_utils import *\n",
    "\n",
    "initialize()\n",
    "config = ProjectConfig()\n",
    "roi = config.roi\n",
    "data_folder = config.data_folder\n",
    "last_year = config.last_year"
   ]
  },
  {
   "cell_type": "markdown",
   "id": "7d3a3734",
   "metadata": {},
   "source": [
    "## Data for all biomass and age data comparisons"
   ]
  },
  {
   "cell_type": "code",
   "execution_count": null,
   "id": "8e25de1e",
   "metadata": {},
   "outputs": [
    {
     "data": {
      "text/html": [
       "\n",
       "            <style>\n",
       "                .geemap-dark {\n",
       "                    --jp-widgets-color: white;\n",
       "                    --jp-widgets-label-color: white;\n",
       "                    --jp-ui-font-color1: white;\n",
       "                    --jp-layout-color2: #454545;\n",
       "                    background-color: #383838;\n",
       "                }\n",
       "\n",
       "                .geemap-dark .jupyter-button {\n",
       "                    --jp-layout-color3: #383838;\n",
       "                }\n",
       "\n",
       "                .geemap-colab {\n",
       "                    background-color: var(--colab-primary-surface-color, white);\n",
       "                }\n",
       "\n",
       "                .geemap-colab .jupyter-button {\n",
       "                    --jp-layout-color3: var(--colab-primary-surface-color, white);\n",
       "                }\n",
       "            </style>\n",
       "            "
      ],
      "text/plain": [
       "<IPython.core.display.HTML object>"
      ]
     },
     "metadata": {},
     "output_type": "display_data"
    }
   ],
   "source": [
    "biome =  ee.Image(f\"{data_folder}/categorical\").select(\"biome\")\n",
    "\n",
    "# Ages\n",
    "mapbiomas = ee.Image(f\"{data_folder}/mapbiomas_{last_year}\").rename([\"age_mapbiomas\"])\n",
    "tmf = ee.Image(f\"{data_folder}/tmf_{last_year}\").rename([\"age_tmf\"])\n",
    "silva = ee.Image(\"projects/ee-regrowth/assets/MB_secondary_forest_Silva_Junior_v2/sforestAge_brazil_V8\").select(\"classification_2020\").rename(\"age_silva\")\n",
    "\n",
    "# Response variables\n",
    "GEDI_L2A = ee.Image(f\"{data_folder}/GEDI_L2A_{last_year}\")\n",
    "GEDI_L4A = ee.Image(f\"{data_folder}/GEDI_L4A_{last_year}\")\n",
    "ESA_CCI = (ee.Image(f\"projects/sat-io/open-datasets/ESA/ESA_CCI_AGB/CCI_BIOMASS_100m_AGB_{last_year}_v51\")\n",
    "           .select(\"AGB\").rename(f\"ESA_CCI_{last_year}\"))\n",
    "heinrich = (ee.Image(\"projects/ee-regrowth/assets/Heinrich_etal_2021_updates/sforestAGC_climate_only_v1_1\")\n",
    "            .select(\"classification_2020\").rename(\"heinrich_biomass_2020\"))\n",
    "lang_height = ee.Image('users/nlang/ETH_GlobalCanopyHeight_2020_10m_v1').clip(roi).rename('lang_height')\n",
    "\n",
    "# Combine all images into a single multi-band image\n",
    "comparisons = mapbiomas.addBands([tmf, silva, ESA_CCI, GEDI_L2A, GEDI_L4A, heinrich, biome])\n",
    "mask = comparisons.reduce(ee.Reducer.allNonZero())\n",
    "masked_image = comparisons.updateMask(mask)\n",
    "\n",
    "comparisons_sampled = comparisons.stratifiedSample(numPoints = 10000, classBand = 'biome')\n",
    "\n",
    "export_csv(comparisons_sampled, \"comparisons_sampled\")"
   ]
  },
  {
   "cell_type": "markdown",
   "id": "b9f1c558",
   "metadata": {},
   "source": [
    "## Mature forest biomass comparisons"
   ]
  },
  {
   "cell_type": "code",
   "execution_count": null,
   "id": "4f839d20",
   "metadata": {},
   "outputs": [
    {
     "data": {
      "text/html": [
       "\n",
       "            <style>\n",
       "                .geemap-dark {\n",
       "                    --jp-widgets-color: white;\n",
       "                    --jp-widgets-label-color: white;\n",
       "                    --jp-ui-font-color1: white;\n",
       "                    --jp-layout-color2: #454545;\n",
       "                    background-color: #383838;\n",
       "                }\n",
       "\n",
       "                .geemap-dark .jupyter-button {\n",
       "                    --jp-layout-color3: #383838;\n",
       "                }\n",
       "\n",
       "                .geemap-colab {\n",
       "                    background-color: var(--colab-primary-surface-color, white);\n",
       "                }\n",
       "\n",
       "                .geemap-colab .jupyter-button {\n",
       "                    --jp-layout-color3: var(--colab-primary-surface-color, white);\n",
       "                }\n",
       "            </style>\n",
       "            "
      ],
      "text/plain": [
       "<IPython.core.display.HTML object>"
      ]
     },
     "metadata": {},
     "output_type": "display_data"
    }
   ],
   "source": [
    "mature_biomass = ee.Image(f\"{data_folder}/mature_biomass\").addBands(biome)\n",
    "mature_biomass_sampled = mature_biomass.stratifiedSample(numPoints = 10000, classBand = 'biome')\n",
    "export_csv(mature_biomass_sampled, \"mature_biomass_sampled\")"
   ]
  },
  {
   "cell_type": "markdown",
   "id": "5fe64507",
   "metadata": {},
   "source": [
    "## Field Data"
   ]
  },
  {
   "cell_type": "code",
   "execution_count": null,
   "id": "7b1ddc20",
   "metadata": {},
   "outputs": [],
   "source": [
    "field_data = ee.FeatureCollection(f\"{data_folder}/field_biomass\") # from https://github.com/forc-db/GROA/tree/master/data\n",
    "biomes = ee.FeatureCollection(f\"{data_folder}/raw/biomes_br\").select('CD_Bioma')\n",
    "\n",
    "# Check in which biome each field plot is located\n",
    "def determine_biome(feature):\n",
    "    bioma_number = biomes.filterBounds(feature.geometry()).first().get('CD_Bioma')\n",
    "    return feature.set('biome', bioma_number)\n",
    "\n",
    "field_biomass = field_data.map(determine_biome)\n",
    "\n",
    "export_csv(field_biomass, \"field_biomass\")"
   ]
  },
  {
   "cell_type": "markdown",
   "id": "6dbed378",
   "metadata": {},
   "source": [
    "## Main Model Dataset\n",
    "\n",
    "### Age, Biomass"
   ]
  },
  {
   "cell_type": "code",
   "execution_count": null,
   "id": "53f79362",
   "metadata": {},
   "outputs": [
    {
     "data": {
      "text/html": [
       "\n",
       "            <style>\n",
       "                .geemap-dark {\n",
       "                    --jp-widgets-color: white;\n",
       "                    --jp-widgets-label-color: white;\n",
       "                    --jp-ui-font-color1: white;\n",
       "                    --jp-layout-color2: #454545;\n",
       "                    background-color: #383838;\n",
       "                }\n",
       "\n",
       "                .geemap-dark .jupyter-button {\n",
       "                    --jp-layout-color3: #383838;\n",
       "                }\n",
       "\n",
       "                .geemap-colab {\n",
       "                    background-color: var(--colab-primary-surface-color, white);\n",
       "                }\n",
       "\n",
       "                .geemap-colab .jupyter-button {\n",
       "                    --jp-layout-color3: var(--colab-primary-surface-color, white);\n",
       "                }\n",
       "            </style>\n",
       "            "
      ],
      "text/plain": [
       "<IPython.core.display.HTML object>"
      ]
     },
     "metadata": {},
     "output_type": "display_data"
    }
   ],
   "source": [
    "# Fire and Land Use\n",
    "age = ee.Image(f\"{data_folder}/mapbiomas_{last_year}\")\n",
    "\n",
    "biomass = ee.Image(f\"{data_folder}/ESA_CCI_{last_year}\")\n",
    "\n",
    "fire = (ee.Image(\"projects/mapbiomas-public/assets/brazil/fire/collection3/mapbiomas_fire_collection3_annual_burned_coverage_v1\")\n",
    "    .select([f\"burned_coverage_{year}\" for year in config.range_1985_2020])\n",
    "    .byte()\n",
    "    .rename([str(year) for year in config.range_1985_2020])\n",
    "    .gt(0)\n",
    "    .reduce('sum').rename(\"num_fires\")).unmask(0)\n",
    "\n",
    "floodable_forests = (ee.Image(\"projects/mapbiomas-public/assets/brazil/lulc/collection9/mapbiomas_collection90_integration_v1\")\n",
    "        .select(f\"classification_{last_year}\").eq(6))\n",
    "\n",
    "suffixes = [\n",
    "    \"aggregated_all\",\n",
    "    \"non_aggregated_all\",\n",
    "    \"non_aggregated_15yr\",\n",
    "    \"non_aggregated_10yr\",\n",
    "    \"non_aggregated_5yr\"\n",
    "]\n",
    "\n",
    "land_use_list = [\n",
    "    ee.Image(f\"{data_folder}/land_use_{suffix}\")\n",
    "    for suffix in suffixes\n",
    "]"
   ]
  },
  {
   "cell_type": "markdown",
   "id": "36387afe",
   "metadata": {},
   "source": [
    "### Surrounding Landscape"
   ]
  },
  {
   "cell_type": "code",
   "execution_count": null,
   "id": "b98d49ee",
   "metadata": {},
   "outputs": [],
   "source": [
    "quarters_ecoreg_biomass = ee.Image(\"projects/amazon-forest-regrowth/assets/quarters_ecoreg_biomass\")\n",
    "distance_to_forest_edge = ee.Image(f\"{data_folder}/distance_to_forest_edge\")\n",
    "sur_cover = ee.Image(f\"{data_folder}/sur_cover\")\n",
    "# nearest_mature = ee.Image(f\"{data_folder}/mapbiomas/nearest_mature_biomass_image_neighborhood\").rename(\"nearest_mature_biomass\")\n",
    "\n"
   ]
  },
  {
   "cell_type": "markdown",
   "id": "b4c6ad4d",
   "metadata": {},
   "source": [
    "### Environmental"
   ]
  },
  {
   "cell_type": "code",
   "execution_count": null,
   "id": "bd8735d0",
   "metadata": {},
   "outputs": [],
   "source": [
    "categorical = ee.Image(f\"{data_folder}/categorical\")\n",
    "\n",
    "cwd = ee.Image(f\"{data_folder}/raw/cwd_chave\").int16()\n",
    "\n",
    "topography = ee.Image(\"CSP/ERGo/1_0/Global/ALOS_landforms\").rename(\"topography\") # 90m resolution\n",
    "\n",
    "soil = ee.Image(f\"{data_folder}/soilgrids\")\n",
    "\n",
    "climate = ee.Image(f\"{data_folder}/yearly_terraclim\").select( # 10,000m resolution\n",
    " 'mean_pr',\n",
    " 'mean_srad',\n",
    " 'mean_temp',\n",
    " 'mean_vpd',\n",
    " 'mean_soil',\n",
    " 'mean_aet',\n",
    " 'mean_si')\n"
   ]
  },
  {
   "cell_type": "markdown",
   "id": "b6fd3b97",
   "metadata": {},
   "source": [
    "### Export Sampled"
   ]
  },
  {
   "cell_type": "code",
   "execution_count": null,
   "id": "7e05edb2",
   "metadata": {},
   "outputs": [
    {
     "data": {
      "text/html": [
       "\n",
       "            <style>\n",
       "                .geemap-dark {\n",
       "                    --jp-widgets-color: white;\n",
       "                    --jp-widgets-label-color: white;\n",
       "                    --jp-ui-font-color1: white;\n",
       "                    --jp-layout-color2: #454545;\n",
       "                    background-color: #383838;\n",
       "                }\n",
       "\n",
       "                .geemap-dark .jupyter-button {\n",
       "                    --jp-layout-color3: #383838;\n",
       "                }\n",
       "\n",
       "                .geemap-colab {\n",
       "                    background-color: var(--colab-primary-surface-color, white);\n",
       "                }\n",
       "\n",
       "                .geemap-colab .jupyter-button {\n",
       "                    --jp-layout-color3: var(--colab-primary-surface-color, white);\n",
       "                }\n",
       "            </style>\n",
       "            "
      ],
      "text/plain": [
       "<IPython.core.display.HTML object>"
      ]
     },
     "metadata": {},
     "output_type": "display_data"
    }
   ],
   "source": [
    "# List to store the sampled data for each land use image\n",
    "sampled_data_list = []\n",
    "\n",
    "# Loop through each land use image\n",
    "for land_use in land_use_list:\n",
    "    # Add bands and update the mask\n",
    "    unified_data = age.addBands([\n",
    "        biomass, fire, floodable_forests, land_use, \n",
    "        quarters_ecoreg_biomass, distance_to_forest_edge, sur_cover,\n",
    "        cwd, categorical, topography, soil, climate\n",
    "    ]).updateMask(age.And(land_use.select(\"last_lu\"))\n",
    ")\n",
    "    \n",
    "    # Perform stratified sampling\n",
    "    unified_data_sampled = unified_data.stratifiedSample(\n",
    "        numPoints=15000, \n",
    "        classBand='biome', \n",
    "        geometries=False\n",
    "    )\n",
    "    \n",
    "    # Append the sampled data to the list\n",
    "    sampled_data_list.append(unified_data_sampled)\n",
    "\n",
    "for sampled_data, suffix in zip(sampled_data_list, suffixes):\n",
    "    export_csv(sampled_data, f\"sampled_{suffix}\")"
   ]
  },
  {
   "cell_type": "markdown",
   "id": "daa961fb",
   "metadata": {},
   "source": [
    "# Export Tilewise"
   ]
  },
  {
   "cell_type": "code",
   "execution_count": null,
   "id": "4f43add3",
   "metadata": {},
   "outputs": [],
   "source": [
    "unified_data = age.addBands([age.pixelLonLat().float().rename(['lon', 'lat']),\n",
    "        biomass, fire, floodable_forests, land_use, \n",
    "        quarters_ecoreg_biomass, distance_to_forest_edge, sur_cover,\n",
    "        cwd, categorical, topography, soil, climate\n",
    "    ]).updateMask(age)\n",
    "\n",
    "# Filter properties to export\n",
    "to_remove = ['.geo', 'system:index']\n",
    "all_properties = unified_data.bandNames().getInfo()\n",
    "properties_to_export = [p for p in all_properties if p not in to_remove]\n",
    "\n",
    "# Load region of interest (ROI) and create a grid over the ROI\n",
    "grid = roi.coveringGrid(\"EPSG:4326\", 1000000)\n",
    "tile_ids = grid.aggregate_array('system:index').getInfo()\n",
    "count = 0\n",
    "\n",
    "# Loop over IDs\n",
    "for feature_id in tile_ids:\n",
    "    count = count + 1\n",
    "    feat = grid.filter(ee.Filter.eq('system:index', feature_id))\n",
    "\n",
    "    unified_data_sampled = unified_data.sample(region = feat.geometry(), scale = 100, geometries = False)\n",
    "\n",
    "    # Export task to Google Drive\n",
    "    task = ee.batch.Export.table.toDrive(\n",
    "        collection=unified_data_sampled,\n",
    "        description=f'{suffix}_{count}',\n",
    "        fileFormat='CSV',\n",
    "        selectors=properties_to_export,\n",
    "        folder = \"tiled_data\"\n",
    "    )\n",
    "    task.start()\n",
    "    print(f'Started export task {count}')"
   ]
  },
  {
   "cell_type": "code",
   "execution_count": null,
   "id": "020bcb46",
   "metadata": {},
   "outputs": [
    {
     "data": {
      "text/html": [
       "\n",
       "            <style>\n",
       "                .geemap-dark {\n",
       "                    --jp-widgets-color: white;\n",
       "                    --jp-widgets-label-color: white;\n",
       "                    --jp-ui-font-color1: white;\n",
       "                    --jp-layout-color2: #454545;\n",
       "                    background-color: #383838;\n",
       "                }\n",
       "\n",
       "                .geemap-dark .jupyter-button {\n",
       "                    --jp-layout-color3: #383838;\n",
       "                }\n",
       "\n",
       "                .geemap-colab {\n",
       "                    background-color: var(--colab-primary-surface-color, white);\n",
       "                }\n",
       "\n",
       "                .geemap-colab .jupyter-button {\n",
       "                    --jp-layout-color3: var(--colab-primary-surface-color, white);\n",
       "                }\n",
       "            </style>\n",
       "            "
      ],
      "text/plain": [
       "<IPython.core.display.HTML object>"
      ]
     },
     "metadata": {},
     "output_type": "display_data"
    },
    {
     "data": {
      "application/vnd.jupyter.widget-view+json": {
       "model_id": "389a7961fce94480ae33dd52e21d68ad",
       "version_major": 2,
       "version_minor": 0
      },
      "text/plain": [
       "Map(center=[0, 0], controls=(WidgetControl(options=['position', 'transparent_bg'], widget=SearchDataGUI(childr…"
      ]
     },
     "execution_count": 9,
     "metadata": {},
     "output_type": "execute_result"
    }
   ],
   "source": [
    "age = ee.Image(f\"{data_folder}/mapbiomas_{last_year}\")\n",
    "\n",
    "# Load region of interest (ROI) and create a grid over the ROI\n",
    "grid = roi.coveringGrid(\"EPSG:4326\", 1000000)\n",
    "tile_ids = grid.aggregate_array('system:index').getInfo()\n",
    "count = 0\n",
    "\n",
    "feat = grid.first()\n",
    "\n",
    "unified_data_sampled = age.sample(region = feat.geometry(), scale = 100, geometries = True)\n",
    "\n",
    "# map = geemap.Map()\n",
    "# map.addLayer(unified_data_sampled, {}, 'sampled')\n",
    "# map.addLayer(age, {'min': 0, 'max': 34, 'palette': 'gray'}, 'age')\n",
    "# map"
   ]
  },
  {
   "cell_type": "code",
   "execution_count": null,
   "id": "ef8e2a5c",
   "metadata": {},
   "outputs": [],
   "source": [
    "\n",
    "\n",
    "\n",
    "def keep_rare_lu_types(unified_data):\n",
    "    # Define the list of bands to check\n",
    "    bands_to_check = ['lulc_sum_20', 'lulc_sum_21', 'lulc_sum_35', \n",
    "                    'lulc_sum_39', 'lulc_sum_40', 'lulc_sum_41', \n",
    "                    'lulc_sum_46', 'lulc_sum_48', 'lulc_sum_9']\n",
    "\n",
    "    # Create a mask where at least one of the specified bands is non-zero\n",
    "    mask = unified_data.select(bands_to_check).reduce(ee.Reducer.anyNonZero())\n",
    "\n",
    "    # # Apply the mask to the unified_data\n",
    "    return unified_data.updateMask(mask)\n",
    "\n",
    "\n"
   ]
  }
 ],
 "metadata": {
  "kernelspec": {
   "display_name": "regrowth-env",
   "language": "python",
   "name": "python3"
  },
  "language_info": {
   "codemirror_mode": {
    "name": "ipython",
    "version": 3
   },
   "file_extension": ".py",
   "mimetype": "text/x-python",
   "name": "python",
   "nbconvert_exporter": "python",
   "pygments_lexer": "ipython3",
   "version": "3.12.8"
  }
 },
 "nbformat": 4,
 "nbformat_minor": 5
}
