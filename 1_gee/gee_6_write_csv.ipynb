{
 "cells": [
  {
   "cell_type": "markdown",
   "id": "956cff3f-99f1-45ca-b0b0-90c38a6e2c08",
   "metadata": {},
   "source": [
    "<!-- # Processing the final dataset\n",
    " -->\n"
   ]
  },
  {
   "cell_type": "markdown",
   "id": "14ea43a3",
   "metadata": {},
   "source": [
    "# Export data as CSV"
   ]
  },
  {
   "cell_type": "code",
   "execution_count": 2,
   "id": "a9594018-621b-427e-89d3-0633de81979a",
   "metadata": {},
   "outputs": [],
   "source": [
    "import ee\n",
    "import geemap\n",
    "from gee_0_utils import *\n",
    "\n",
    "initialize()\n",
    "config = ProjectConfig()\n",
    "roi = config.roi\n",
    "data_folder = config.data_folder\n",
    "last_year = config.last_year\n"
   ]
  },
  {
   "cell_type": "markdown",
   "id": "6dbed378",
   "metadata": {},
   "source": [
    "## Main Model Dataset\n",
    "\n",
    "### Age, Biomass"
   ]
  },
  {
   "cell_type": "code",
   "execution_count": 3,
   "id": "53f79362",
   "metadata": {},
   "outputs": [
    {
     "data": {
      "text/html": [
       "\n",
       "            <style>\n",
       "                .geemap-dark {\n",
       "                    --jp-widgets-color: white;\n",
       "                    --jp-widgets-label-color: white;\n",
       "                    --jp-ui-font-color1: white;\n",
       "                    --jp-layout-color2: #454545;\n",
       "                    background-color: #383838;\n",
       "                }\n",
       "\n",
       "                .geemap-dark .jupyter-button {\n",
       "                    --jp-layout-color3: #383838;\n",
       "                }\n",
       "\n",
       "                .geemap-colab {\n",
       "                    background-color: var(--colab-primary-surface-color, white);\n",
       "                }\n",
       "\n",
       "                .geemap-colab .jupyter-button {\n",
       "                    --jp-layout-color3: var(--colab-primary-surface-color, white);\n",
       "                }\n",
       "            </style>\n",
       "            "
      ],
      "text/plain": [
       "<IPython.core.display.HTML object>"
      ]
     },
     "metadata": {},
     "output_type": "display_data"
    }
   ],
   "source": [
    "# Fire and Land Use\n",
    "age = ee.Image(f\"{data_folder}/mapbiomas_{last_year}\")\n",
    "\n",
    "ESA_CCI = ee.Image(f\"projects/sat-io/open-datasets/ESA/ESA_CCI_AGB/CCI_BIOMASS_100m_AGB_{last_year}_v51\").select(\"AGB\").rename(\"biomass\")\n",
    "\n",
    "fire = (ee.Image(\"projects/mapbiomas-public/assets/brazil/fire/collection3/mapbiomas_fire_collection3_annual_burned_coverage_v1\")\n",
    "    .select([f\"burned_coverage_{year}\" for year in config.range_1985_2020])\n",
    "    .byte()\n",
    "    .rename([str(year) for year in config.range_1985_2020])\n",
    "    .gt(0)\n",
    "    .reduce('sum').rename(\"num_fires\")).unmask(0)\n",
    "\n",
    "floodable_forests = (ee.Image(\"projects/mapbiomas-public/assets/brazil/lulc/collection9/mapbiomas_collection90_integration_v1\")\n",
    "        .select(f\"classification_{last_year}\").eq(6)).rename(\"floodable_forests\")\n"
   ]
  },
  {
   "cell_type": "markdown",
   "id": "36387afe",
   "metadata": {},
   "source": [
    "### Surrounding Landscape"
   ]
  },
  {
   "cell_type": "code",
   "execution_count": 4,
   "id": "b98d49ee",
   "metadata": {},
   "outputs": [
    {
     "data": {
      "text/html": [
       "\n",
       "            <style>\n",
       "                .geemap-dark {\n",
       "                    --jp-widgets-color: white;\n",
       "                    --jp-widgets-label-color: white;\n",
       "                    --jp-ui-font-color1: white;\n",
       "                    --jp-layout-color2: #454545;\n",
       "                    background-color: #383838;\n",
       "                }\n",
       "\n",
       "                .geemap-dark .jupyter-button {\n",
       "                    --jp-layout-color3: #383838;\n",
       "                }\n",
       "\n",
       "                .geemap-colab {\n",
       "                    background-color: var(--colab-primary-surface-color, white);\n",
       "                }\n",
       "\n",
       "                .geemap-colab .jupyter-button {\n",
       "                    --jp-layout-color3: var(--colab-primary-surface-color, white);\n",
       "                }\n",
       "            </style>\n",
       "            "
      ],
      "text/plain": [
       "<IPython.core.display.HTML object>"
      ]
     },
     "metadata": {},
     "output_type": "display_data"
    }
   ],
   "source": [
    "quarters_ecoreg_biomass = ee.Image(\"projects/amazon-forest-regrowth/assets/quarters_ecoreg_biomass\")\n",
    "distance_deep_forest = ee.Image(f\"{data_folder}/distance_deep_forest\").rename(\"dist\")\n",
    "sur_cover = ee.Image(f\"{data_folder}/sur_cover\")\n",
    "\n",
    "distance_gt_1000 = distance_deep_forest.gt(1000).selfMask()\n",
    "mature_biomass = ee.Image(f\"{data_folder}/mature_biomass\")\n",
    "mature_biomass_10k = ee.Image(f\"{data_folder}/mature_biomass_10k\")\n",
    "nearest_mature = ee.Image(f\"{data_folder}/nearest_mature\")"
   ]
  },
  {
   "cell_type": "markdown",
   "id": "b4c6ad4d",
   "metadata": {},
   "source": [
    "### Environmental"
   ]
  },
  {
   "cell_type": "code",
   "execution_count": 5,
   "id": "bd8735d0",
   "metadata": {},
   "outputs": [
    {
     "data": {
      "text/html": [
       "\n",
       "            <style>\n",
       "                .geemap-dark {\n",
       "                    --jp-widgets-color: white;\n",
       "                    --jp-widgets-label-color: white;\n",
       "                    --jp-ui-font-color1: white;\n",
       "                    --jp-layout-color2: #454545;\n",
       "                    background-color: #383838;\n",
       "                }\n",
       "\n",
       "                .geemap-dark .jupyter-button {\n",
       "                    --jp-layout-color3: #383838;\n",
       "                }\n",
       "\n",
       "                .geemap-colab {\n",
       "                    background-color: var(--colab-primary-surface-color, white);\n",
       "                }\n",
       "\n",
       "                .geemap-colab .jupyter-button {\n",
       "                    --jp-layout-color3: var(--colab-primary-surface-color, white);\n",
       "                }\n",
       "            </style>\n",
       "            "
      ],
      "text/plain": [
       "<IPython.core.display.HTML object>"
      ]
     },
     "metadata": {},
     "output_type": "display_data"
    }
   ],
   "source": [
    "categorical = ee.Image(f\"{data_folder}/categorical\")\n",
    "\n",
    "topography = ee.Image(\"CSP/ERGo/1_0/Global/ALOS_landforms\").rename(\"topography\") # 90m resolution\n",
    "\n",
    "soil = ee.Image(f\"{data_folder}/soilgrids\")\n",
    "\n",
    "terraclim = ee.Image(f\"{data_folder}/terraclim_1958_2019\")"
   ]
  },
  {
   "cell_type": "code",
   "execution_count": 6,
   "id": "7f2b2997",
   "metadata": {},
   "outputs": [
    {
     "data": {
      "text/html": [
       "\n",
       "            <style>\n",
       "                .geemap-dark {\n",
       "                    --jp-widgets-color: white;\n",
       "                    --jp-widgets-label-color: white;\n",
       "                    --jp-ui-font-color1: white;\n",
       "                    --jp-layout-color2: #454545;\n",
       "                    background-color: #383838;\n",
       "                }\n",
       "\n",
       "                .geemap-dark .jupyter-button {\n",
       "                    --jp-layout-color3: #383838;\n",
       "                }\n",
       "\n",
       "                .geemap-colab {\n",
       "                    background-color: var(--colab-primary-surface-color, white);\n",
       "                }\n",
       "\n",
       "                .geemap-colab .jupyter-button {\n",
       "                    --jp-layout-color3: var(--colab-primary-surface-color, white);\n",
       "                }\n",
       "            </style>\n",
       "            "
      ],
      "text/plain": [
       "<IPython.core.display.HTML object>"
      ]
     },
     "metadata": {},
     "output_type": "display_data"
    }
   ],
   "source": [
    "# Load each scenario\n",
    "historical = ee.Image(f\"{data_folder}/CMIP6_historical\")\n",
    "ssp126 = ee.Image(f\"{data_folder}/CMIP6_ssp126\")\n",
    "ssp245 = ee.Image(f\"{data_folder}/CMIP6_ssp245\")\n",
    "ssp585 = ee.Image(f\"{data_folder}/CMIP6_ssp585\")\n",
    "\n",
    "CMIP6_means = ee.Image(f\"{data_folder}/CMIP6_means\")"
   ]
  },
  {
   "cell_type": "markdown",
   "id": "059cc246",
   "metadata": {},
   "source": [
    "### Export CSV\n",
    "\n",
    "- Total secondary forest area per 1km2\n",
    "- Total pasture area per 1km2"
   ]
  },
  {
   "cell_type": "code",
   "execution_count": 7,
   "id": "4e92e44f",
   "metadata": {},
   "outputs": [
    {
     "data": {
      "text/html": [
       "\n",
       "            <style>\n",
       "                .geemap-dark {\n",
       "                    --jp-widgets-color: white;\n",
       "                    --jp-widgets-label-color: white;\n",
       "                    --jp-ui-font-color1: white;\n",
       "                    --jp-layout-color2: #454545;\n",
       "                    background-color: #383838;\n",
       "                }\n",
       "\n",
       "                .geemap-dark .jupyter-button {\n",
       "                    --jp-layout-color3: #383838;\n",
       "                }\n",
       "\n",
       "                .geemap-colab {\n",
       "                    background-color: var(--colab-primary-surface-color, white);\n",
       "                }\n",
       "\n",
       "                .geemap-colab .jupyter-button {\n",
       "                    --jp-layout-color3: var(--colab-primary-surface-color, white);\n",
       "                }\n",
       "            </style>\n",
       "            "
      ],
      "text/plain": [
       "<IPython.core.display.HTML object>"
      ]
     },
     "metadata": {},
     "output_type": "display_data"
    }
   ],
   "source": [
    "lulc = (ee.Image(\"projects/mapbiomas-public/assets/brazil/lulc/collection9/mapbiomas_collection90_integration_v1\")\n",
    "            .select([f\"classification_{year}\" for year in config.range_1985_2020])\n",
    "            .byte()\n",
    "            .rename([str(year) for year in config.range_1985_2020]))\n",
    "\n",
    "pastureland = lulc.select(\"2020\").eq(15).unmask(0).rename(\"pastureland\")\n",
    "\n",
    "# Aggregate the high-resolution pixels into the 1km grid\n",
    "def reproject_export_image(image, name):\n",
    "    image_area = image.reduceResolution(\n",
    "        reducer = ee.Reducer.mean(),\n",
    "        maxPixels = 1024,\n",
    "        bestEffort = True # Use all pixels that can fit in the larger pixel\n",
    "    ).reproject(\n",
    "        crs = 'EPSG:4326',\n",
    "        scale = 1000\n",
    "    ).rename(name)\n",
    "\n",
    "    export_image(image_area, name, region = roi, scale = 1000)\n",
    "\n",
    "\n",
    "# reproject_export_image(pastureland, \"pasture_area\")\n",
    "# reproject_export_image(age.gt(0).unmask(0), \"secondary_area\")"
   ]
  },
  {
   "cell_type": "markdown",
   "id": "80999798",
   "metadata": {},
   "source": [
    "- 1 secondary forest pixel per 1km2\n",
    "- 1 pasture pixel per 1km2"
   ]
  },
  {
   "cell_type": "code",
   "execution_count": 8,
   "id": "ba60f859",
   "metadata": {},
   "outputs": [
    {
     "data": {
      "text/html": [
       "\n",
       "            <style>\n",
       "                .geemap-dark {\n",
       "                    --jp-widgets-color: white;\n",
       "                    --jp-widgets-label-color: white;\n",
       "                    --jp-ui-font-color1: white;\n",
       "                    --jp-layout-color2: #454545;\n",
       "                    background-color: #383838;\n",
       "                }\n",
       "\n",
       "                .geemap-dark .jupyter-button {\n",
       "                    --jp-layout-color3: #383838;\n",
       "                }\n",
       "\n",
       "                .geemap-colab {\n",
       "                    background-color: var(--colab-primary-surface-color, white);\n",
       "                }\n",
       "\n",
       "                .geemap-colab .jupyter-button {\n",
       "                    --jp-layout-color3: var(--colab-primary-surface-color, white);\n",
       "                }\n",
       "            </style>\n",
       "            "
      ],
      "text/plain": [
       "<IPython.core.display.HTML object>"
      ]
     },
     "metadata": {},
     "output_type": "display_data"
    }
   ],
   "source": [
    "# create_grid(age.gt(0).unmask(0), \"atlantic\", cell_size = 1000, file_name = \"secondary\")\n",
    "# create_grid(age.gt(0).unmask(0), \"amazon\", cell_size = 1000, file_name = \"secondary\")\n",
    "# create_grid(pastureland, \"amazon\", cell_size = 1000, file_name = \"pastureland\")\n",
    "\n",
    "# make one grid with all pixels that are NOT mature forests for nearest mature forest estimates\n",
    "# non_mature_forests = mature_biomass_10k.eq(0).unmask(1).selfMask().rename(\"non_mature_forests\")\n",
    "# create_grid(non_mature_forests, \"amazon\", cell_size = 10000, file_name = \"non_mature_forests\")"
   ]
  },
  {
   "cell_type": "code",
   "execution_count": 9,
   "id": "2b8dbad4",
   "metadata": {},
   "outputs": [
    {
     "data": {
      "text/html": [
       "\n",
       "            <style>\n",
       "                .geemap-dark {\n",
       "                    --jp-widgets-color: white;\n",
       "                    --jp-widgets-label-color: white;\n",
       "                    --jp-ui-font-color1: white;\n",
       "                    --jp-layout-color2: #454545;\n",
       "                    background-color: #383838;\n",
       "                }\n",
       "\n",
       "                .geemap-dark .jupyter-button {\n",
       "                    --jp-layout-color3: #383838;\n",
       "                }\n",
       "\n",
       "                .geemap-colab {\n",
       "                    background-color: var(--colab-primary-surface-color, white);\n",
       "                }\n",
       "\n",
       "                .geemap-colab .jupyter-button {\n",
       "                    --jp-layout-color3: var(--colab-primary-surface-color, white);\n",
       "                }\n",
       "            </style>\n",
       "            "
      ],
      "text/plain": [
       "<IPython.core.display.HTML object>"
      ]
     },
     "metadata": {},
     "output_type": "display_data"
    }
   ],
   "source": [
    "secondary_area = ee.Image(f\"{data_folder}/secondary_area\")\n",
    "pasture_area = ee.Image(f\"{data_folder}/pasture_area\")"
   ]
  },
  {
   "cell_type": "code",
   "execution_count": 10,
   "id": "6dc7e5bb",
   "metadata": {},
   "outputs": [
    {
     "data": {
      "text/html": [
       "\n",
       "            <style>\n",
       "                .geemap-dark {\n",
       "                    --jp-widgets-color: white;\n",
       "                    --jp-widgets-label-color: white;\n",
       "                    --jp-ui-font-color1: white;\n",
       "                    --jp-layout-color2: #454545;\n",
       "                    background-color: #383838;\n",
       "                }\n",
       "\n",
       "                .geemap-dark .jupyter-button {\n",
       "                    --jp-layout-color3: #383838;\n",
       "                }\n",
       "\n",
       "                .geemap-colab {\n",
       "                    background-color: var(--colab-primary-surface-color, white);\n",
       "                }\n",
       "\n",
       "                .geemap-colab .jupyter-button {\n",
       "                    --jp-layout-color3: var(--colab-primary-surface-color, white);\n",
       "                }\n",
       "            </style>\n",
       "            "
      ],
      "text/plain": [
       "<IPython.core.display.HTML object>"
      ]
     },
     "metadata": {},
     "output_type": "display_data"
    }
   ],
   "source": [
    "# make one unified grid for all pastureland and secondary forests\n",
    "grid_secondary = ee.FeatureCollection(f\"{data_folder}/grid_1k_amazon_secondary\")\n",
    "grid_pastureland = ee.FeatureCollection(f\"{data_folder}/grid_1k_amazon_pastureland\")\n",
    "\n",
    "# merge both grids\n",
    "grid_1k_amazon_non_mature_forests = grid_secondary.merge(grid_pastureland)\n",
    "\n",
    "task = ee.batch.Export.table.toAsset(\n",
    "    collection = grid_1k_amazon_non_mature_forests,\n",
    "    description = \"grid_1k_amazon_non_mature_forests\",\n",
    "    assetId = \"projects/amazon-forest-regrowth/assets/grid_1k_amazon_non_mature_forests\",\n",
    ")\n",
    "# task.start()\n"
   ]
  },
  {
   "cell_type": "markdown",
   "id": "c0e2d00c",
   "metadata": {},
   "source": [
    "Since processing gets too heavy if we try to extract each point at a time for the entire Amazon at 1km resolution, we do it in chunks:"
   ]
  },
  {
   "cell_type": "code",
   "execution_count": 65,
   "id": "a0d9930e",
   "metadata": {},
   "outputs": [
    {
     "data": {
      "text/html": [
       "\n",
       "            <style>\n",
       "                .geemap-dark {\n",
       "                    --jp-widgets-color: white;\n",
       "                    --jp-widgets-label-color: white;\n",
       "                    --jp-ui-font-color1: white;\n",
       "                    --jp-layout-color2: #454545;\n",
       "                    background-color: #383838;\n",
       "                }\n",
       "\n",
       "                .geemap-dark .jupyter-button {\n",
       "                    --jp-layout-color3: #383838;\n",
       "                }\n",
       "\n",
       "                .geemap-colab {\n",
       "                    background-color: var(--colab-primary-surface-color, white);\n",
       "                }\n",
       "\n",
       "                .geemap-colab .jupyter-button {\n",
       "                    --jp-layout-color3: var(--colab-primary-surface-color, white);\n",
       "                }\n",
       "            </style>\n",
       "            "
      ],
      "text/plain": [
       "<IPython.core.display.HTML object>"
      ]
     },
     "metadata": {},
     "output_type": "display_data"
    }
   ],
   "source": [
    "unified_data = age.addBands([ESA_CCI, nearest_mature,\n",
    "    floodable_forests, secondary_area,\n",
    "    fire, quarters_ecoreg_biomass,\n",
    "    distance_deep_forest, sur_cover,\n",
    "    categorical, topography,\n",
    "    soil, terraclim.select([\"mean_soil\", \"mean_vpd\",\"mean_temp\", \n",
    "                            \"mean_def\", \"mean_srad\", \"mean_pr\",\n",
    "                            \"mean_aet\", \"mean_pdsi\"]),\n",
    "    ee.Image.pixelLonLat().rename(['lon', 'lat'])\n",
    "]) \n",
    "\n",
    "def export_csv(name, image, grid_size, n_chunks = 1):\n",
    "\n",
    "    properties_to_export = image.bandNames().getInfo()\n",
    "\n",
    "    # Get FeatureCollection size and calculate chunk size\n",
    "    grid = ee.FeatureCollection(f\"{data_folder}/grid_{grid_size}k_amazon_{name}\")\n",
    "    total_features = grid.size().getInfo()\n",
    "    chunk_size = int(total_features * 1/n_chunks)\n",
    "\n",
    "    # Sample points individually\n",
    "    def sample_point(feature):\n",
    "        sampled = image.reduceRegion(\n",
    "            reducer=ee.Reducer.first(),\n",
    "            geometry=feature.geometry(),\n",
    "            scale=30,\n",
    "            crs='EPSG:4326',\n",
    "            bestEffort=False,\n",
    "            tileScale=16\n",
    "        )\n",
    "        return ee.Feature(feature.geometry(), sampled)\n",
    "\n",
    "    def process_chunk(chunk_index):\n",
    "        start = chunk_index * chunk_size\n",
    "        chunk = grid.toList(chunk_size, start)\n",
    "        selected_pixels = ee.FeatureCollection(chunk)\n",
    "\n",
    "        unified_fc = selected_pixels.map(sample_point)\n",
    "\n",
    "        task = ee.batch.Export.table.toDrive(\n",
    "            collection = unified_fc,\n",
    "            description = f\"grid_{grid_size}k_amazon_{name}_{chunk_index}\",\n",
    "            fileFormat = \"CSV\",\n",
    "            selectors = [p for p in properties_to_export if p not in ['.geo', 'system:index']]\n",
    "        )\n",
    "        task.start()\n",
    "\n",
    "        # task = ee.batch.Export.table.toAsset(\n",
    "        #     collection = unified_fc,\n",
    "        #     description = f\"{grid_size}k_amazon_{name}\",\n",
    "        #     assetId = f\"projects/amazon-forest-regrowth/assets/grids/amazon_{name}_{grid_size}k_ESA_CCI\",\n",
    "\n",
    "        # )\n",
    "        # task.start()\n",
    "\n",
    "    for i in range(n_chunks):\n",
    "        if i*chunk_size < total_features:\n",
    "            process_chunk(i)\n",
    "\n",
    "    # i = 0\n",
    "    # if i*chunk_size < total_features:\n",
    "    #     process_chunk(i)\n",
    "\n",
    "# export_csv(\"pastureland\", unified_data, 1, n_chunks = 60)\n",
    "export_csv(\"secondary\", unified_data, 1, n_chunks = 30)\n",
    "export_csv(\"secondary\", unified_data, 10, n_chunks = 30)"
   ]
  },
  {
   "cell_type": "code",
   "execution_count": 66,
   "id": "050cd22b",
   "metadata": {},
   "outputs": [
    {
     "data": {
      "text/html": [
       "\n",
       "            <style>\n",
       "                .geemap-dark {\n",
       "                    --jp-widgets-color: white;\n",
       "                    --jp-widgets-label-color: white;\n",
       "                    --jp-ui-font-color1: white;\n",
       "                    --jp-layout-color2: #454545;\n",
       "                    background-color: #383838;\n",
       "                }\n",
       "\n",
       "                .geemap-dark .jupyter-button {\n",
       "                    --jp-layout-color3: #383838;\n",
       "                }\n",
       "\n",
       "                .geemap-colab {\n",
       "                    background-color: var(--colab-primary-surface-color, white);\n",
       "                }\n",
       "\n",
       "                .geemap-colab .jupyter-button {\n",
       "                    --jp-layout-color3: var(--colab-primary-surface-color, white);\n",
       "                }\n",
       "            </style>\n",
       "            "
      ],
      "text/plain": [
       "<IPython.core.display.HTML object>"
      ]
     },
     "metadata": {},
     "output_type": "display_data"
    },
    {
     "data": {
      "application/vnd.jupyter.widget-view+json": {
       "model_id": "3634fef4495a48a19b1a8734b71f4783",
       "version_major": 2,
       "version_minor": 0
      },
      "text/plain": [
       "Map(center=[-3.5, -60.24], controls=(WidgetControl(options=['position', 'transparent_bg'], widget=SearchDataGU…"
      ]
     },
     "execution_count": 66,
     "metadata": {},
     "output_type": "execute_result"
    }
   ],
   "source": [
    "amazon_secondary_10k = ee.FeatureCollection(\"projects/amazon-forest-regrowth/assets/grids/amazon_secondary_10k\")\n",
    "amazon_secondary_1k = ee.FeatureCollection(\"projects/amazon-forest-regrowth/assets/grids/amazon_secondary_1k\")\n",
    "\n",
    "\n",
    "map = geemap.Map(center=[-3.5, -60.24], zoom=6)\n",
    "map.addLayer(ESA_CCI, {'min':50, 'max':200, 'palette':['blue', 'red']}, \"ESA_CCI\", opacity=0.4)\n",
    "map.addLayer(unified_data, {}, \"unified_data\", opacity=0.1)\n",
    "map.addLayer(amazon_secondary_10k, {}, \"10k_amazon_secondary\", opacity=0.4)\n",
    "map.addLayer(amazon_secondary_1k, {}, \"1k_amazon_secondary\", opacity=0.4)\n",
    "map"
   ]
  },
  {
   "cell_type": "markdown",
   "id": "57b38ee2",
   "metadata": {},
   "source": [
    "## Field Data"
   ]
  },
  {
   "cell_type": "code",
   "execution_count": null,
   "id": "834a70cd",
   "metadata": {},
   "outputs": [
    {
     "data": {
      "text/html": [
       "\n",
       "            <style>\n",
       "                .geemap-dark {\n",
       "                    --jp-widgets-color: white;\n",
       "                    --jp-widgets-label-color: white;\n",
       "                    --jp-ui-font-color1: white;\n",
       "                    --jp-layout-color2: #454545;\n",
       "                    background-color: #383838;\n",
       "                }\n",
       "\n",
       "                .geemap-dark .jupyter-button {\n",
       "                    --jp-layout-color3: #383838;\n",
       "                }\n",
       "\n",
       "                .geemap-colab {\n",
       "                    background-color: var(--colab-primary-surface-color, white);\n",
       "                }\n",
       "\n",
       "                .geemap-colab .jupyter-button {\n",
       "                    --jp-layout-color3: var(--colab-primary-surface-color, white);\n",
       "                }\n",
       "            </style>\n",
       "            "
      ],
      "text/plain": [
       "<IPython.core.display.HTML object>"
      ]
     },
     "metadata": {},
     "output_type": "display_data"
    }
   ],
   "source": [
    "field_data = ee.FeatureCollection(f\"{data_folder}/field_biomass\")\n",
    "\n",
    "unified_fc = unified_data.reduceRegions(field_data, ee.Reducer.first(), 30)\n",
    "\n",
    "# Export task to Google Drive\n",
    "task = ee.batch.Export.table.toDrive(\n",
    "    collection = unified_fc,\n",
    "    description = 'unified_field',\n",
    "    fileFormat = \"CSV\"\n",
    ")\n",
    "# task.start()"
   ]
  },
  {
   "cell_type": "markdown",
   "id": "6923a829",
   "metadata": {},
   "source": [
    "## Different land use aggregations\n"
   ]
  },
  {
   "cell_type": "code",
   "execution_count": null,
   "id": "6419801b",
   "metadata": {},
   "outputs": [
    {
     "data": {
      "text/html": [
       "\n",
       "            <style>\n",
       "                .geemap-dark {\n",
       "                    --jp-widgets-color: white;\n",
       "                    --jp-widgets-label-color: white;\n",
       "                    --jp-ui-font-color1: white;\n",
       "                    --jp-layout-color2: #454545;\n",
       "                    background-color: #383838;\n",
       "                }\n",
       "\n",
       "                .geemap-dark .jupyter-button {\n",
       "                    --jp-layout-color3: #383838;\n",
       "                }\n",
       "\n",
       "                .geemap-colab {\n",
       "                    background-color: var(--colab-primary-surface-color, white);\n",
       "                }\n",
       "\n",
       "                .geemap-colab .jupyter-button {\n",
       "                    --jp-layout-color3: var(--colab-primary-surface-color, white);\n",
       "                }\n",
       "            </style>\n",
       "            "
      ],
      "text/plain": [
       "<IPython.core.display.HTML object>"
      ]
     },
     "metadata": {},
     "output_type": "display_data"
    }
   ],
   "source": [
    "suffixes = [\n",
    "    \"aggregated_all\",\n",
    "    \"non_aggregated_all\",\n",
    "    \"non_aggregated_10yr\",\n",
    "    \"non_aggregated_5yr\"\n",
    "]\n",
    "\n",
    "land_use_list = [\n",
    "    ee.Image(f\"{data_folder}/land_use_{suffix}\")\n",
    "    for suffix in suffixes\n",
    "]\n",
    "\n",
    "# Loop through each land use image\n",
    "for land_use_image, suffix in zip(land_use_list, suffixes):\n",
    "\n",
    "    selected_pixels = ee.FeatureCollection(f\"{data_folder}/grid_10k_amazon_secondary\")\n",
    "\n",
    "    unified_fc = land_use_image.reduceRegions(selected_pixels, ee.Reducer.first(), 30)\n",
    "\n",
    "    properties_to_export = land_use_image.bandNames().getInfo()\n",
    "\n",
    "    task = ee.batch.Export.table.toDrive(\n",
    "            collection = unified_fc,\n",
    "            description = \"unified_land_use_\" + suffix,\n",
    "            fileFormat = \"CSV\",\n",
    "            selectors = properties_to_export\n",
    "        )\n",
    "    task.start()\n"
   ]
  },
  {
   "cell_type": "code",
   "execution_count": 34,
   "id": "794ec6d5",
   "metadata": {},
   "outputs": [
    {
     "data": {
      "text/html": [
       "\n",
       "            <style>\n",
       "                .geemap-dark {\n",
       "                    --jp-widgets-color: white;\n",
       "                    --jp-widgets-label-color: white;\n",
       "                    --jp-ui-font-color1: white;\n",
       "                    --jp-layout-color2: #454545;\n",
       "                    background-color: #383838;\n",
       "                }\n",
       "\n",
       "                .geemap-dark .jupyter-button {\n",
       "                    --jp-layout-color3: #383838;\n",
       "                }\n",
       "\n",
       "                .geemap-colab {\n",
       "                    background-color: var(--colab-primary-surface-color, white);\n",
       "                }\n",
       "\n",
       "                .geemap-colab .jupyter-button {\n",
       "                    --jp-layout-color3: var(--colab-primary-surface-color, white);\n",
       "                }\n",
       "            </style>\n",
       "            "
      ],
      "text/plain": [
       "<IPython.core.display.HTML object>"
      ]
     },
     "metadata": {},
     "output_type": "display_data"
    }
   ],
   "source": [
    "selected_pixels = ee.FeatureCollection(f\"{data_folder}/grid_10k_amazon_secondary\")\n",
    "# WITH BUFFER\n",
    "\n",
    "mature_biomass_10k = ee.Image(f\"{data_folder}/mature_biomass_10k\").rename(\"mature_biomass_10k\")\n",
    "\n",
    "selected_pixels = distance_deep_forest.reduceRegions(\n",
    "    collection = selected_pixels,\n",
    "    reducer = ee.Reducer.first(),\n",
    "    scale = 10000\n",
    ")\n",
    "\n",
    "def buffer_feature(feature):\n",
    "    distance = feature.getNumber('first').add(10000)\n",
    "    buffer = feature.geometry().buffer(distance)\n",
    "    return feature.setGeometry(buffer)\n",
    "\n",
    "# Buffer each point to reach the nearest pixel\n",
    "buffered_features = selected_pixels.map(buffer_feature)\n",
    "\n",
    "# Extract the biomass value for each buffered region\n",
    "# This will get the value from nearest valid pixel\n",
    "nearest_mature = mature_biomass_10k.reduceRegions(\n",
    "    collection=buffered_features,\n",
    "    reducer=ee.Reducer.firstNonNull(),\n",
    "    scale=10000\n",
    ").map(lambda feature: feature.centroid())\n",
    "\n",
    "\n",
    "unified_data = ESA_CCI.addBands(age)\n",
    "\n",
    "unified_fc = unified_data.reduceRegions(nearest_mature, ee.Reducer.first(), 30)\n",
    "\n",
    "# Export task to Google Drive\n",
    "task = ee.batch.Export.table.toDrive(\n",
    "    collection = unified_fc,\n",
    "    description = 'buffered_nearest_mature',\n",
    "    fileFormat = \"CSV\"\n",
    ")\n",
    "task.start()\n",
    "\n",
    "# task = ee.batch.Export.table.toAsset(\n",
    "#     collection = unified_fc,\n",
    "#     description = 'unified_fc',\n",
    "#     assetId = f\"{data_folder}/unified_fc\"\n",
    "# )\n",
    "# task.start()"
   ]
  }
 ],
 "metadata": {
  "kernelspec": {
   "display_name": "regrowth-env",
   "language": "python",
   "name": "python3"
  },
  "language_info": {
   "codemirror_mode": {
    "name": "ipython",
    "version": 3
   },
   "file_extension": ".py",
   "mimetype": "text/x-python",
   "name": "python",
   "nbconvert_exporter": "python",
   "pygments_lexer": "ipython3",
   "version": "3.11.12"
  }
 },
 "nbformat": 4,
 "nbformat_minor": 5
}
