{
 "cells": [
  {
   "cell_type": "markdown",
   "id": "956cff3f-99f1-45ca-b0b0-90c38a6e2c08",
   "metadata": {},
   "source": [
    "<!-- # Processing the final dataset\n",
    " -->\n"
   ]
  },
  {
   "cell_type": "markdown",
   "id": "14ea43a3",
   "metadata": {},
   "source": [
    "# Export data as CSV"
   ]
  },
  {
   "cell_type": "code",
   "execution_count": 15,
   "id": "a9594018-621b-427e-89d3-0633de81979a",
   "metadata": {},
   "outputs": [
    {
     "data": {
      "text/html": [
       "\n",
       "            <style>\n",
       "                .geemap-dark {\n",
       "                    --jp-widgets-color: white;\n",
       "                    --jp-widgets-label-color: white;\n",
       "                    --jp-ui-font-color1: white;\n",
       "                    --jp-layout-color2: #454545;\n",
       "                    background-color: #383838;\n",
       "                }\n",
       "\n",
       "                .geemap-dark .jupyter-button {\n",
       "                    --jp-layout-color3: #383838;\n",
       "                }\n",
       "\n",
       "                .geemap-colab {\n",
       "                    background-color: var(--colab-primary-surface-color, white);\n",
       "                }\n",
       "\n",
       "                .geemap-colab .jupyter-button {\n",
       "                    --jp-layout-color3: var(--colab-primary-surface-color, white);\n",
       "                }\n",
       "            </style>\n",
       "            "
      ],
      "text/plain": [
       "<IPython.core.display.HTML object>"
      ]
     },
     "metadata": {},
     "output_type": "display_data"
    }
   ],
   "source": [
    "import ee\n",
    "import geemap\n",
    "from gee_0_utils import *\n",
    "\n",
    "initialize()\n",
    "config = ProjectConfig()\n",
    "roi = config.roi\n",
    "data_folder = config.data_folder\n",
    "last_year = config.last_year\n"
   ]
  },
  {
   "cell_type": "code",
   "execution_count": 27,
   "id": "1a3e6093",
   "metadata": {},
   "outputs": [
    {
     "data": {
      "text/html": [
       "\n",
       "            <style>\n",
       "                .geemap-dark {\n",
       "                    --jp-widgets-color: white;\n",
       "                    --jp-widgets-label-color: white;\n",
       "                    --jp-ui-font-color1: white;\n",
       "                    --jp-layout-color2: #454545;\n",
       "                    background-color: #383838;\n",
       "                }\n",
       "\n",
       "                .geemap-dark .jupyter-button {\n",
       "                    --jp-layout-color3: #383838;\n",
       "                }\n",
       "\n",
       "                .geemap-colab {\n",
       "                    background-color: var(--colab-primary-surface-color, white);\n",
       "                }\n",
       "\n",
       "                .geemap-colab .jupyter-button {\n",
       "                    --jp-layout-color3: var(--colab-primary-surface-color, white);\n",
       "                }\n",
       "            </style>\n",
       "            "
      ],
      "text/plain": [
       "<IPython.core.display.HTML object>"
      ]
     },
     "metadata": {},
     "output_type": "display_data"
    }
   ],
   "source": [
    "\n",
    "ESA_CCI = (ee.Image(f\"projects/sat-io/open-datasets/ESA/ESA_CCI_AGB/CCI_BIOMASS_100m_AGB_{last_year}_v51\").select(\"AGB\").rename(\"ESA_CCI_new\"))\n",
    "\n",
    "ESA_CCI_2 = ee.Image(f\"{data_folder}/raw/biomass\").rename(\"ESA_CCI_old\")\n"
   ]
  },
  {
   "cell_type": "markdown",
   "id": "6dbed378",
   "metadata": {},
   "source": [
    "## Main Model Dataset\n",
    "\n",
    "### Age, Biomass"
   ]
  },
  {
   "cell_type": "code",
   "execution_count": null,
   "id": "53f79362",
   "metadata": {},
   "outputs": [
    {
     "data": {
      "text/html": [
       "\n",
       "            <style>\n",
       "                .geemap-dark {\n",
       "                    --jp-widgets-color: white;\n",
       "                    --jp-widgets-label-color: white;\n",
       "                    --jp-ui-font-color1: white;\n",
       "                    --jp-layout-color2: #454545;\n",
       "                    background-color: #383838;\n",
       "                }\n",
       "\n",
       "                .geemap-dark .jupyter-button {\n",
       "                    --jp-layout-color3: #383838;\n",
       "                }\n",
       "\n",
       "                .geemap-colab {\n",
       "                    background-color: var(--colab-primary-surface-color, white);\n",
       "                }\n",
       "\n",
       "                .geemap-colab .jupyter-button {\n",
       "                    --jp-layout-color3: var(--colab-primary-surface-color, white);\n",
       "                }\n",
       "            </style>\n",
       "            "
      ],
      "text/plain": [
       "<IPython.core.display.HTML object>"
      ]
     },
     "metadata": {},
     "output_type": "display_data"
    }
   ],
   "source": [
    "# Fire and Land Use\n",
    "age = ee.Image(f\"{data_folder}/mapbiomas_{last_year}\")\n",
    "\n",
    "fire = (ee.Image(\"projects/mapbiomas-public/assets/brazil/fire/collection3/mapbiomas_fire_collection3_annual_burned_coverage_v1\")\n",
    "    .select([f\"burned_coverage_{year}\" for year in config.range_1985_2020])\n",
    "    .byte()\n",
    "    .rename([str(year) for year in config.range_1985_2020])\n",
    "    .gt(0)\n",
    "    .reduce('sum').rename(\"num_fires\")).unmask(0)\n",
    "\n",
    "floodable_forests = (ee.Image(\"projects/mapbiomas-public/assets/brazil/lulc/collection9/mapbiomas_collection90_integration_v1\")\n",
    "        .select(f\"classification_{last_year}\").eq(6)).rename(\"floodable_forests\")\n"
   ]
  },
  {
   "cell_type": "markdown",
   "id": "36387afe",
   "metadata": {},
   "source": [
    "### Surrounding Landscape"
   ]
  },
  {
   "cell_type": "code",
   "execution_count": 17,
   "id": "b98d49ee",
   "metadata": {},
   "outputs": [
    {
     "data": {
      "text/html": [
       "\n",
       "            <style>\n",
       "                .geemap-dark {\n",
       "                    --jp-widgets-color: white;\n",
       "                    --jp-widgets-label-color: white;\n",
       "                    --jp-ui-font-color1: white;\n",
       "                    --jp-layout-color2: #454545;\n",
       "                    background-color: #383838;\n",
       "                }\n",
       "\n",
       "                .geemap-dark .jupyter-button {\n",
       "                    --jp-layout-color3: #383838;\n",
       "                }\n",
       "\n",
       "                .geemap-colab {\n",
       "                    background-color: var(--colab-primary-surface-color, white);\n",
       "                }\n",
       "\n",
       "                .geemap-colab .jupyter-button {\n",
       "                    --jp-layout-color3: var(--colab-primary-surface-color, white);\n",
       "                }\n",
       "            </style>\n",
       "            "
      ],
      "text/plain": [
       "<IPython.core.display.HTML object>"
      ]
     },
     "metadata": {},
     "output_type": "display_data"
    }
   ],
   "source": [
    "quarters_ecoreg_biomass = ee.Image(\"projects/amazon-forest-regrowth/assets/quarters_ecoreg_biomass\")\n",
    "distance_deep_forest = ee.Image(f\"{data_folder}/distance_deep_forest\")\n",
    "sur_cover = ee.Image(f\"{data_folder}/sur_cover\")\n",
    "\n",
    "distance_gt_1000 = distance_deep_forest.gt(1000).selfMask()\n",
    "mature_biomass = ee.Image(f\"{data_folder}/mature_biomass\")\n",
    "mature_biomass_10k = ee.Image(f\"{data_folder}/mature_biomass_10k\")\n",
    "nearest_mature = ee.Image(f\"{data_folder}/nearest_mature\")"
   ]
  },
  {
   "cell_type": "markdown",
   "id": "b4c6ad4d",
   "metadata": {},
   "source": [
    "### Environmental"
   ]
  },
  {
   "cell_type": "code",
   "execution_count": 18,
   "id": "bd8735d0",
   "metadata": {},
   "outputs": [
    {
     "data": {
      "text/html": [
       "\n",
       "            <style>\n",
       "                .geemap-dark {\n",
       "                    --jp-widgets-color: white;\n",
       "                    --jp-widgets-label-color: white;\n",
       "                    --jp-ui-font-color1: white;\n",
       "                    --jp-layout-color2: #454545;\n",
       "                    background-color: #383838;\n",
       "                }\n",
       "\n",
       "                .geemap-dark .jupyter-button {\n",
       "                    --jp-layout-color3: #383838;\n",
       "                }\n",
       "\n",
       "                .geemap-colab {\n",
       "                    background-color: var(--colab-primary-surface-color, white);\n",
       "                }\n",
       "\n",
       "                .geemap-colab .jupyter-button {\n",
       "                    --jp-layout-color3: var(--colab-primary-surface-color, white);\n",
       "                }\n",
       "            </style>\n",
       "            "
      ],
      "text/plain": [
       "<IPython.core.display.HTML object>"
      ]
     },
     "metadata": {},
     "output_type": "display_data"
    }
   ],
   "source": [
    "categorical = ee.Image(f\"{data_folder}/categorical\")\n",
    "\n",
    "topography = ee.Image(\"CSP/ERGo/1_0/Global/ALOS_landforms\").rename(\"topography\") # 90m resolution\n",
    "\n",
    "soil = ee.Image(f\"{data_folder}/soilgrids\")\n",
    "\n",
    "terraclim = ee.Image(f\"{data_folder}/terraclim_1958_2019\")\n",
    "\n",
    "# CMIP6\n",
    "historical = ee.Image(f\"{data_folder}/CMIP6_historical\")\n",
    "ssp126 = ee.Image(f\"{data_folder}/CMIP6_ssp126\")\n",
    "ssp245 = ee.Image(f\"{data_folder}/CMIP6_ssp245\")\n",
    "ssp585 = ee.Image(f\"{data_folder}/CMIP6_ssp585\")"
   ]
  },
  {
   "cell_type": "markdown",
   "id": "059cc246",
   "metadata": {},
   "source": [
    "### Export CSV\n",
    "\n",
    "- Total secondary forest area per 1km2\n",
    "- Total pasture area per 1km2"
   ]
  },
  {
   "cell_type": "code",
   "execution_count": 19,
   "id": "4e92e44f",
   "metadata": {},
   "outputs": [
    {
     "data": {
      "text/html": [
       "\n",
       "            <style>\n",
       "                .geemap-dark {\n",
       "                    --jp-widgets-color: white;\n",
       "                    --jp-widgets-label-color: white;\n",
       "                    --jp-ui-font-color1: white;\n",
       "                    --jp-layout-color2: #454545;\n",
       "                    background-color: #383838;\n",
       "                }\n",
       "\n",
       "                .geemap-dark .jupyter-button {\n",
       "                    --jp-layout-color3: #383838;\n",
       "                }\n",
       "\n",
       "                .geemap-colab {\n",
       "                    background-color: var(--colab-primary-surface-color, white);\n",
       "                }\n",
       "\n",
       "                .geemap-colab .jupyter-button {\n",
       "                    --jp-layout-color3: var(--colab-primary-surface-color, white);\n",
       "                }\n",
       "            </style>\n",
       "            "
      ],
      "text/plain": [
       "<IPython.core.display.HTML object>"
      ]
     },
     "metadata": {},
     "output_type": "display_data"
    }
   ],
   "source": [
    "lulc = (ee.Image(\"projects/mapbiomas-public/assets/brazil/lulc/collection9/mapbiomas_collection90_integration_v1\")\n",
    "            .select([f\"classification_{year}\" for year in config.range_1985_2020])\n",
    "            .byte()\n",
    "            .rename([str(year) for year in config.range_1985_2020]))\n",
    "\n",
    "pastureland = lulc.select(\"2020\").eq(15).unmask(0).rename(\"pastureland\")\n",
    "\n",
    "# Aggregate the high-resolution pixels into the 1km grid\n",
    "def reproject_export_image(image, name):\n",
    "    image_area = image.reduceResolution(\n",
    "        reducer = ee.Reducer.mean(),\n",
    "        maxPixels = 1024,\n",
    "        bestEffort = True # Use all pixels that can fit in the larger pixel\n",
    "    ).reproject(\n",
    "        crs = 'EPSG:4326',\n",
    "        scale = 1000\n",
    "    ).rename(name)\n",
    "\n",
    "    export_image(image_area, name, region = roi, scale = 1000)\n",
    "\n",
    "\n",
    "# reproject_export_image(pastureland, \"pasture_area\")\n",
    "# reproject_export_image(age.gt(0).unmask(0), \"secondary_area\")"
   ]
  },
  {
   "cell_type": "markdown",
   "id": "80999798",
   "metadata": {},
   "source": [
    "- 1 secondary forest pixel per 1km2\n",
    "- 1 pasture pixel per 1km2"
   ]
  },
  {
   "cell_type": "code",
   "execution_count": null,
   "id": "ba60f859",
   "metadata": {},
   "outputs": [
    {
     "data": {
      "text/html": [
       "\n",
       "            <style>\n",
       "                .geemap-dark {\n",
       "                    --jp-widgets-color: white;\n",
       "                    --jp-widgets-label-color: white;\n",
       "                    --jp-ui-font-color1: white;\n",
       "                    --jp-layout-color2: #454545;\n",
       "                    background-color: #383838;\n",
       "                }\n",
       "\n",
       "                .geemap-dark .jupyter-button {\n",
       "                    --jp-layout-color3: #383838;\n",
       "                }\n",
       "\n",
       "                .geemap-colab {\n",
       "                    background-color: var(--colab-primary-surface-color, white);\n",
       "                }\n",
       "\n",
       "                .geemap-colab .jupyter-button {\n",
       "                    --jp-layout-color3: var(--colab-primary-surface-color, white);\n",
       "                }\n",
       "            </style>\n",
       "            "
      ],
      "text/plain": [
       "<IPython.core.display.HTML object>"
      ]
     },
     "metadata": {},
     "output_type": "display_data"
    }
   ],
   "source": [
    "# create_grid(age_mask, \"amazon\", cell_size = 1000, file_name = \"secondary\")\n",
    "# create_grid(pastureland, \"amazon\", cell_size = 1000, file_name = \"pastureland\")\n",
    "\n",
    "# make one grid with all pixels that are NOT mature forests for nearest mature forest estimates\n",
    "\n"
   ]
  },
  {
   "cell_type": "markdown",
   "id": "c0e2d00c",
   "metadata": {},
   "source": [
    "Since processing gets too heavy if we try to extract each point at a time for the entire Amazon at 1km resolution, we do it in chunks:"
   ]
  },
  {
   "cell_type": "code",
   "execution_count": null,
   "id": "a0d9930e",
   "metadata": {},
   "outputs": [
    {
     "data": {
      "text/html": [
       "\n",
       "            <style>\n",
       "                .geemap-dark {\n",
       "                    --jp-widgets-color: white;\n",
       "                    --jp-widgets-label-color: white;\n",
       "                    --jp-ui-font-color1: white;\n",
       "                    --jp-layout-color2: #454545;\n",
       "                    background-color: #383838;\n",
       "                }\n",
       "\n",
       "                .geemap-dark .jupyter-button {\n",
       "                    --jp-layout-color3: #383838;\n",
       "                }\n",
       "\n",
       "                .geemap-colab {\n",
       "                    background-color: var(--colab-primary-surface-color, white);\n",
       "                }\n",
       "\n",
       "                .geemap-colab .jupyter-button {\n",
       "                    --jp-layout-color3: var(--colab-primary-surface-color, white);\n",
       "                }\n",
       "            </style>\n",
       "            "
      ],
      "text/plain": [
       "<IPython.core.display.HTML object>"
      ]
     },
     "metadata": {},
     "output_type": "display_data"
    },
    {
     "name": "stdout",
     "output_type": "stream",
     "text": [
      "Starting chunk 0\n",
      "Starting chunk 1\n",
      "Starting chunk 2\n",
      "Starting chunk 3\n",
      "Starting chunk 4\n",
      "Starting chunk 5\n",
      "Starting chunk 6\n",
      "Starting chunk 7\n",
      "Starting chunk 8\n",
      "Starting chunk 9\n"
     ]
    }
   ],
   "source": [
    "unified_data = ESA_CCI.addBands([\n",
    "    fire, quarters_ecoreg_biomass,\n",
    "    nearest_mature, distance_deep_forest, sur_cover,\n",
    "    categorical, topography, soil,\n",
    "    ee.Image.pixelLonLat().rename(['lon', 'lat'])])\n",
    "\n",
    "nearest_mature = ee.Image(f\"{data_folder}/nearest_mature_unsmoothed\").rename(\"nearest_mature\")\n",
    "\n",
    "unified_data = ESA_CCI.addBands([\n",
    "    nearest_mature, sur_cover, fire,\n",
    "    ee.Image.pixelLonLat().rename(['lon', 'lat'])])\n",
    "\n",
    "def export_csv(name, unified_data, n_chunks = 10):\n",
    "    \n",
    "    if (name == \"secondary\"):\n",
    "        secondary_area = ee.Image(f\"{data_folder}/secondary_area\")\n",
    "        unified_data = unified_data.addBands([age])\n",
    "                                              #, floodable_forests,\n",
    "                                            #   secondary_area]) #terraclim\n",
    "    elif (name == \"pastureland\"):\n",
    "        pasture_area = ee.Image(f\"{data_folder}/pasture_area\")\n",
    "        unified_data = unified_data.addBands([pasture_area,\n",
    "                                              terraclim.select([\"mean_srad\", \"mean_soil\", \"mean_vpd\", \"mean_pr\", \"mean_aet\"])])\n",
    "\n",
    "    to_remove = ['.geo', 'system:index']\n",
    "    all_properties = unified_data.bandNames().getInfo()\n",
    "    properties_to_export = [p for p in all_properties if p not in to_remove]\n",
    "\n",
    "    grid = ee.FeatureCollection(f\"{data_folder}/grid_10k_amazon_{name}\")\n",
    "\n",
    "    # 1. Get FeatureCollection size and calculate chunk size\n",
    "    total_features = grid.size().getInfo()\n",
    "    chunk_size = int(total_features * 1/n_chunks)\n",
    "\n",
    "    def process_chunk(chunk_index):\n",
    "        start = chunk_index * chunk_size\n",
    "        chunk = grid.toList(chunk_size, start)\n",
    "        selected_pixels = ee.FeatureCollection(chunk)\n",
    "\n",
    "        unified_fc = unified_data.reduceRegions(selected_pixels, ee.Reducer.first(), 30)\n",
    "\n",
    "        task = ee.batch.Export.table.toDrive(\n",
    "            collection = unified_fc,\n",
    "            description = f\"grid_10k_amazon_{name}_{chunk_index}_unsmoothed\",\n",
    "            fileFormat = \"CSV\",\n",
    "            selectors = properties_to_export\n",
    "        )\n",
    "        task.start()\n",
    "    \n",
    "    for i in range(n_chunks):\n",
    "        if i*chunk_size < total_features:\n",
    "            process_chunk(i)\n",
    "            print(f\"Starting chunk {i}\")\n",
    "\n",
    "# export_csv(\"pastureland\", unified_data, n_chunks = 60)\n",
    "# export_csv(\"secondary\", unified_data, n_chunks = 10)"
   ]
  },
  {
   "cell_type": "code",
   "execution_count": 31,
   "id": "d06ba6ed",
   "metadata": {},
   "outputs": [
    {
     "data": {
      "text/html": [
       "\n",
       "            <style>\n",
       "                .geemap-dark {\n",
       "                    --jp-widgets-color: white;\n",
       "                    --jp-widgets-label-color: white;\n",
       "                    --jp-ui-font-color1: white;\n",
       "                    --jp-layout-color2: #454545;\n",
       "                    background-color: #383838;\n",
       "                }\n",
       "\n",
       "                .geemap-dark .jupyter-button {\n",
       "                    --jp-layout-color3: #383838;\n",
       "                }\n",
       "\n",
       "                .geemap-colab {\n",
       "                    background-color: var(--colab-primary-surface-color, white);\n",
       "                }\n",
       "\n",
       "                .geemap-colab .jupyter-button {\n",
       "                    --jp-layout-color3: var(--colab-primary-surface-color, white);\n",
       "                }\n",
       "            </style>\n",
       "            "
      ],
      "text/plain": [
       "<IPython.core.display.HTML object>"
      ]
     },
     "metadata": {},
     "output_type": "display_data"
    }
   ],
   "source": [
    "selected_pixels = ee.FeatureCollection(f\"{data_folder}/grid_10k_amazon_secondary\")\n",
    "# WITH BUFFER\n",
    "\n",
    "mature_biomass_10k = ee.Image(f\"{data_folder}/mature_biomass_10k_old\").rename(\"mature_biomass_10k\")\n",
    "\n",
    "selected_pixels = distance_deep_forest.reduceRegions(\n",
    "    collection = selected_pixels,\n",
    "    reducer = ee.Reducer.first(),\n",
    "    scale = 10000\n",
    ")\n",
    "\n",
    "def buffer_feature(feature):\n",
    "    distance = feature.getNumber('first').add(10000)\n",
    "    buffer = feature.geometry().buffer(distance)\n",
    "    return feature.setGeometry(buffer)\n",
    "\n",
    "# Buffer each point to reach the nearest pixel\n",
    "buffered_features = selected_pixels.map(buffer_feature)\n",
    "\n",
    "# Extract the biomass value for each buffered region\n",
    "# This will get the value from nearest valid pixel\n",
    "nearest_mature = mature_biomass_10k.reduceRegions(\n",
    "    collection=buffered_features,\n",
    "    reducer=ee.Reducer.firstNonNull(),\n",
    "    scale=10000\n",
    ").map(lambda feature: feature.centroid())\n",
    "\n",
    "# ESA_CCI = (ee.Image(f\"projects/sat-io/open-datasets/ESA/ESA_CCI_AGB/CCI_BIOMASS_100m_AGB_{last_year}_v51\").select(\"AGB\").rename(\"biomass\"))\n",
    "\n",
    "ESA_CCI_2 = ee.Image(f\"{data_folder}/raw/biomass\").rename(\"ESA_CCI_old\")\n",
    "\n",
    "unified_data = ESA_CCI.addBands(age)\n",
    "\n",
    "unified_fc = unified_data.reduceRegions(nearest_mature, ee.Reducer.first(), 30)\n",
    "\n",
    "# Export task to Google Drive\n",
    "task = ee.batch.Export.table.toDrive(\n",
    "    collection = unified_fc,\n",
    "    description = 'unified_old_data',\n",
    "    fileFormat = \"CSV\"\n",
    ")\n",
    "task.start()\n",
    "\n",
    "# task = ee.batch.Export.table.toAsset(\n",
    "#     collection = unified_fc,\n",
    "#     description = 'unified_fc',\n",
    "#     assetId = f\"{data_folder}/unified_fc\"\n",
    "# )\n",
    "# task.start()"
   ]
  },
  {
   "cell_type": "code",
   "execution_count": 30,
   "id": "95a6503a",
   "metadata": {},
   "outputs": [
    {
     "data": {
      "text/html": [
       "\n",
       "            <style>\n",
       "                .geemap-dark {\n",
       "                    --jp-widgets-color: white;\n",
       "                    --jp-widgets-label-color: white;\n",
       "                    --jp-ui-font-color1: white;\n",
       "                    --jp-layout-color2: #454545;\n",
       "                    background-color: #383838;\n",
       "                }\n",
       "\n",
       "                .geemap-dark .jupyter-button {\n",
       "                    --jp-layout-color3: #383838;\n",
       "                }\n",
       "\n",
       "                .geemap-colab {\n",
       "                    background-color: var(--colab-primary-surface-color, white);\n",
       "                }\n",
       "\n",
       "                .geemap-colab .jupyter-button {\n",
       "                    --jp-layout-color3: var(--colab-primary-surface-color, white);\n",
       "                }\n",
       "            </style>\n",
       "            "
      ],
      "text/plain": [
       "<IPython.core.display.HTML object>"
      ]
     },
     "metadata": {},
     "output_type": "display_data"
    }
   ],
   "source": [
    "selected_pixels = ee.FeatureCollection(f\"{data_folder}/grid_10k_amazon_secondary\")\n",
    "# WITH BUFFER\n",
    "\n",
    "ESA_CCI = (ee.Image(f\"projects/sat-io/open-datasets/ESA/ESA_CCI_AGB/CCI_BIOMASS_100m_AGB_{last_year}_v51\").select(\"AGB\").rename(\"biomass\"))\n",
    "\n",
    "nearest_mature = ee.Image(f\"{data_folder}/nearest_mature_unsmoothed\").rename(\"nearest_mature\")\n",
    "nearest_mature_smooth = ee.Image(f\"{data_folder}/nearest_mature\").rename(\"nearest_mature_smooth\")\n",
    "\n",
    "unified_data = ESA_CCI.addBands([age, nearest_mature, nearest_mature_smooth])\n",
    "\n",
    "unified_fc = unified_data.reduceRegions(selected_pixels, ee.Reducer.first(), 30)\n",
    "\n",
    "# Export task to Google Drive\n",
    "task = ee.batch.Export.table.toDrive(\n",
    "    collection = unified_fc,\n",
    "    description = 'nearest_mature_comparison',\n",
    "    fileFormat = \"CSV\"\n",
    ")\n",
    "task.start()\n",
    "\n",
    "# task = ee.batch.Export.table.toAsset(\n",
    "#     collection = unified_fc,\n",
    "#     description = 'unified_fc',\n",
    "#     assetId = f\"{data_folder}/unified_fc\"\n",
    "# )\n",
    "# task.start()"
   ]
  },
  {
   "cell_type": "markdown",
   "id": "57b38ee2",
   "metadata": {},
   "source": [
    "## Field Data"
   ]
  },
  {
   "cell_type": "code",
   "execution_count": null,
   "id": "834a70cd",
   "metadata": {},
   "outputs": [
    {
     "data": {
      "text/html": [
       "\n",
       "            <style>\n",
       "                .geemap-dark {\n",
       "                    --jp-widgets-color: white;\n",
       "                    --jp-widgets-label-color: white;\n",
       "                    --jp-ui-font-color1: white;\n",
       "                    --jp-layout-color2: #454545;\n",
       "                    background-color: #383838;\n",
       "                }\n",
       "\n",
       "                .geemap-dark .jupyter-button {\n",
       "                    --jp-layout-color3: #383838;\n",
       "                }\n",
       "\n",
       "                .geemap-colab {\n",
       "                    background-color: var(--colab-primary-surface-color, white);\n",
       "                }\n",
       "\n",
       "                .geemap-colab .jupyter-button {\n",
       "                    --jp-layout-color3: var(--colab-primary-surface-color, white);\n",
       "                }\n",
       "            </style>\n",
       "            "
      ],
      "text/plain": [
       "<IPython.core.display.HTML object>"
      ]
     },
     "metadata": {},
     "output_type": "display_data"
    }
   ],
   "source": [
    "field_data = ee.FeatureCollection(f\"{data_folder}/field_biomass\")\n",
    "\n",
    "unified_fc = unified_data.reduceRegions(field_data, ee.Reducer.first(), 30)\n",
    "\n",
    "# Export task to Google Drive\n",
    "task = ee.batch.Export.table.toDrive(\n",
    "    collection = unified_fc,\n",
    "    description = 'unified_field',\n",
    "    fileFormat = \"CSV\"\n",
    ")\n",
    "# task.start()\n",
    "\n"
   ]
  },
  {
   "cell_type": "markdown",
   "id": "6923a829",
   "metadata": {},
   "source": [
    "## Different land use aggregations\n"
   ]
  },
  {
   "cell_type": "code",
   "execution_count": null,
   "id": "6419801b",
   "metadata": {},
   "outputs": [
    {
     "data": {
      "text/html": [
       "\n",
       "            <style>\n",
       "                .geemap-dark {\n",
       "                    --jp-widgets-color: white;\n",
       "                    --jp-widgets-label-color: white;\n",
       "                    --jp-ui-font-color1: white;\n",
       "                    --jp-layout-color2: #454545;\n",
       "                    background-color: #383838;\n",
       "                }\n",
       "\n",
       "                .geemap-dark .jupyter-button {\n",
       "                    --jp-layout-color3: #383838;\n",
       "                }\n",
       "\n",
       "                .geemap-colab {\n",
       "                    background-color: var(--colab-primary-surface-color, white);\n",
       "                }\n",
       "\n",
       "                .geemap-colab .jupyter-button {\n",
       "                    --jp-layout-color3: var(--colab-primary-surface-color, white);\n",
       "                }\n",
       "            </style>\n",
       "            "
      ],
      "text/plain": [
       "<IPython.core.display.HTML object>"
      ]
     },
     "metadata": {},
     "output_type": "display_data"
    }
   ],
   "source": [
    "\n",
    "suffixes = [\n",
    "    \"aggregated_all\",\n",
    "    \"non_aggregated_all\",\n",
    "    # \"non_aggregated_15yr\",\n",
    "    \"non_aggregated_5yr\"\n",
    "]\n",
    "\n",
    "land_use_list = [\n",
    "    ee.Image(f\"{data_folder}/land_use_{suffix}\")\n",
    "    for suffix in suffixes\n",
    "]\n",
    "\n",
    "land_use = land_use_list[0]\n",
    "\n",
    "\n",
    "# Loop through each land use image\n",
    "for land_use, suffix in zip(land_use_list, suffixes):\n",
    "\n",
    "    pixels_to_sample = categorical.select(\"biome\").addBands(distance_deep_forest).updateMask(land_use.select(\"last_lu\")) # selecting only for the pixels with the desired land use history\n",
    "\n",
    "    selected_pixels = pixels_to_sample.stratifiedSample(numPoints = 10000, classBand = \"biome\")\n",
    "\n",
    "    # Buffer each point to reach the nearest pixel\n",
    "    buffered_features = selected_pixels.map(buffer_feature)\n",
    "\n",
    "    # Extract the biomass value for each buffered region\n",
    "    # This will get the value from nearest valid pixel\n",
    "    nearest_mature = mature_biomass_10k.reduceRegions(\n",
    "        collection=buffered_features,\n",
    "        reducer=ee.Reducer.firstNonNull(),\n",
    "        scale=10000\n",
    "    )\n",
    "\n",
    "    unified_img = age.addBands([\n",
    "        ESA_CCI, fire, floodable_forests, land_use, \n",
    "        quarters_ecoreg_biomass, distance_deep_forest, sur_cover,\n",
    "        categorical, topography, terraclim, soil\n",
    "    ])\n",
    "\n",
    "    unified_fc = unified_img.reduceRegions(selected_pixels, ee.Reducer.first(), 30)\n",
    "\n",
    "    # Sample and export image\n",
    "    export_csv(unified_img, suffix, 10000, \"biome\")"
   ]
  },
  {
   "cell_type": "markdown",
   "id": "2e0f88dc",
   "metadata": {},
   "source": [
    "## Mature forest biomass comparisons"
   ]
  },
  {
   "cell_type": "code",
   "execution_count": null,
   "id": "237415e8",
   "metadata": {},
   "outputs": [],
   "source": [
    "biome =  ee.Image(f\"{data_folder}/categorical\").select(\"biome\")\n",
    "mature_biomass = ee.Image(f\"{data_folder}/mature_biomass\").addBands(biome)\n",
    "\n",
    "# export_csv(mature_biomass, \"mature_biomass\", 10000, \"biome\")"
   ]
  }
 ],
 "metadata": {
  "kernelspec": {
   "display_name": "regrowth-env",
   "language": "python",
   "name": "python3"
  },
  "language_info": {
   "codemirror_mode": {
    "name": "ipython",
    "version": 3
   },
   "file_extension": ".py",
   "mimetype": "text/x-python",
   "name": "python",
   "nbconvert_exporter": "python",
   "pygments_lexer": "ipython3",
   "version": "3.12.8"
  }
 },
 "nbformat": 4,
 "nbformat_minor": 5
}
