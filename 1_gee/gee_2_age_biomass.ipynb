{
 "cells": [
  {
   "cell_type": "markdown",
   "metadata": {},
   "source": [
    "# Age and Biomass\n",
    "\n",
    "This script outputs the satellite-based rasters into the Google Earth Engine Cloud.\n",
    "\n",
    "Inputs:\n",
    "\n",
    "\n"
   ]
  },
  {
   "cell_type": "code",
   "execution_count": 2,
   "metadata": {
    "id": "cOBmvER1OjFM"
   },
   "outputs": [],
   "source": [
    "import ee\n",
    "import geemap\n",
    "from gee_0_utils import *\n",
    "initialize()\n",
    "\n",
    "config = ProjectConfig()\n",
    "roi = config.roi\n",
    "data_folder = config.data_folder\n",
    "last_year = config.last_year\n",
    "\n",
    "mapbiomas, lulc, fire = desired_lulc()\n"
   ]
  },
  {
   "cell_type": "markdown",
   "metadata": {},
   "source": [
    "## Biomass - Export secondary\n",
    "\n",
    "Biomass data is in hectares, but mapbiomas data is 30m resolution.\n",
    "\n",
    "To deal with edge pixels, we aggregate biomass values to 30m by using the mean (so there is a buffer for land use pixels caught in between two biomass values).\n",
    "\n",
    "## Remove isolated pixels - Export one_hectare_mask\n",
    "\n",
    "In the map, there were isolated pixels, often around the edges of forest patches. These would likely be due to misclassification, or follow different behaviors due to edge effects.\n",
    "\n",
    "To avoid this issue, a kernel is applied here to include only secondary forest patches that are mostly surrounded by other secondary forest pixels."
   ]
  },
  {
   "cell_type": "code",
   "execution_count": 4,
   "metadata": {},
   "outputs": [
    {
     "data": {
      "text/html": [
       "\n",
       "            <style>\n",
       "                .geemap-dark {\n",
       "                    --jp-widgets-color: white;\n",
       "                    --jp-widgets-label-color: white;\n",
       "                    --jp-ui-font-color1: white;\n",
       "                    --jp-layout-color2: #454545;\n",
       "                    background-color: #383838;\n",
       "                }\n",
       "\n",
       "                .geemap-dark .jupyter-button {\n",
       "                    --jp-layout-color3: #383838;\n",
       "                }\n",
       "\n",
       "                .geemap-colab {\n",
       "                    background-color: var(--colab-primary-surface-color, white);\n",
       "                }\n",
       "\n",
       "                .geemap-colab .jupyter-button {\n",
       "                    --jp-layout-color3: var(--colab-primary-surface-color, white);\n",
       "                }\n",
       "            </style>\n",
       "            "
      ],
      "text/plain": [
       "<IPython.core.display.HTML object>"
      ]
     },
     "metadata": {},
     "output_type": "display_data"
    }
   ],
   "source": [
    "# Load the image collections\n",
    "transition = ee.ImageCollection('projects/JRC/TMF/v1_2023/TransitionMap_Subtypes').mosaic().clip(roi)\n",
    "annual_changes = ee.ImageCollection('projects/JRC/TMF/v1_2023/AnnualChanges').mosaic().clip(roi)\n",
    "\n",
    "# Define regrowth and degraded conditions\n",
    "regrowth = transition.gte(31).And(transition.lte(33))\n",
    "\n",
    "# Initialize AgeRegrowth and AgeDegraded\n",
    "tmf = ee.Image.constant(0)\n",
    "\n",
    "# Calculate AgeRegrowth\n",
    "for i in range(1990, last_year):\n",
    "    year = 'Dec' + str(i)\n",
    "    annual_changes_year = annual_changes.select(year)\n",
    "    condition = annual_changes_year.eq(4).And(regrowth) # were regrowing then AND are regrowing now\n",
    "    tmf = tmf.add(condition.eq(1))\n",
    "\n",
    "tmf = tmf.selfMask().rename(f\"tmf_{last_year}\")\n"
   ]
  },
  {
   "cell_type": "code",
   "execution_count": 5,
   "metadata": {},
   "outputs": [
    {
     "data": {
      "text/html": [
       "\n",
       "            <style>\n",
       "                .geemap-dark {\n",
       "                    --jp-widgets-color: white;\n",
       "                    --jp-widgets-label-color: white;\n",
       "                    --jp-ui-font-color1: white;\n",
       "                    --jp-layout-color2: #454545;\n",
       "                    background-color: #383838;\n",
       "                }\n",
       "\n",
       "                .geemap-dark .jupyter-button {\n",
       "                    --jp-layout-color3: #383838;\n",
       "                }\n",
       "\n",
       "                .geemap-colab {\n",
       "                    background-color: var(--colab-primary-surface-color, white);\n",
       "                }\n",
       "\n",
       "                .geemap-colab .jupyter-button {\n",
       "                    --jp-layout-color3: var(--colab-primary-surface-color, white);\n",
       "                }\n",
       "            </style>\n",
       "            "
      ],
      "text/plain": [
       "<IPython.core.display.HTML object>"
      ]
     },
     "metadata": {},
     "output_type": "display_data"
    }
   ],
   "source": [
    "def export_secondary(age, name):\n",
    "\n",
    "    # select the data points that match their classification as young or old by IPCC\n",
    "    filter1 = ee.Image(f\"{data_folder}/raw/00N_10N\")\n",
    "    filter2 = ee.Image(f\"{data_folder}/raw/10N_20N\")\n",
    "    filter_ages = ee.ImageCollection([filter1, filter2]).mosaic()\n",
    "    filter_young_secondary = filter_ages.eq(2)\n",
    "    filter_old_secondary = filter_ages.eq(3)\n",
    "    young_secondary = age.lte(20).updateMask(filter_young_secondary).unmask(0)\n",
    "    old_secondary = age.gt(20).updateMask(filter_old_secondary).unmask(0)\n",
    "    ages_mask = young_secondary.add(old_secondary)\n",
    "\n",
    "    # convert non-forest pixels from NA to zero\n",
    "    # check what is the most frequent value within each hectare - if it's zero, it means the pixel is surrounded by non-forest cover\n",
    "    one_hectare_mask = age.unmask(0).focalMode(kernelType = \"circle\", radius = 100, units = \"meters\").gt(0).selfMask().rename(\"one_hectare_mask\")\n",
    "\n",
    "    distance_to_border_mask = ee.Image(f\"{data_folder}/distance_to_border_mask\")\n",
    "\n",
    "    secondary = age.addBands(age.pixelLonLat().float()).updateMask(ages_mask.And(one_hectare_mask).And(distance_to_border_mask)).rename(\"age\", \"lon\", \"lat\")\n",
    "\n",
    "    export_image(secondary, name, region = roi, scale = 30)\n",
    "\n",
    "export_secondary(tmf, f\"tmf_{last_year}\")\n",
    "export_secondary(mapbiomas, f\"mapbiomas_{last_year}\")"
   ]
  },
  {
   "cell_type": "code",
   "execution_count": 42,
   "metadata": {},
   "outputs": [
    {
     "data": {
      "text/html": [
       "\n",
       "            <style>\n",
       "                .geemap-dark {\n",
       "                    --jp-widgets-color: white;\n",
       "                    --jp-widgets-label-color: white;\n",
       "                    --jp-ui-font-color1: white;\n",
       "                    --jp-layout-color2: #454545;\n",
       "                    background-color: #383838;\n",
       "                }\n",
       "\n",
       "                .geemap-dark .jupyter-button {\n",
       "                    --jp-layout-color3: #383838;\n",
       "                }\n",
       "\n",
       "                .geemap-colab {\n",
       "                    background-color: var(--colab-primary-surface-color, white);\n",
       "                }\n",
       "\n",
       "                .geemap-colab .jupyter-button {\n",
       "                    --jp-layout-color3: var(--colab-primary-surface-color, white);\n",
       "                }\n",
       "            </style>\n",
       "            "
      ],
      "text/plain": [
       "<IPython.core.display.HTML object>"
      ]
     },
     "metadata": {},
     "output_type": "display_data"
    }
   ],
   "source": [
    "age = mapbiomas\n",
    "\n",
    "# select the data points that match their classification as young or old by IPCC\n",
    "filter1 = ee.Image(f\"{data_folder}/raw/00N_10N\")\n",
    "filter2 = ee.Image(f\"{data_folder}/raw/10N_20N\")\n",
    "filter_ages = ee.ImageCollection([filter1, filter2]).mosaic()\n",
    "filter_young_secondary = filter_ages.eq(2)\n",
    "filter_old_secondary = filter_ages.eq(3)\n",
    "young_secondary = age.lte(20).updateMask(filter_young_secondary).unmask(0)\n",
    "old_secondary = age.gt(20).updateMask(filter_old_secondary).unmask(0)\n",
    "ages_mask = young_secondary.add(old_secondary)\n",
    "\n",
    "distance_to_border_mask = ee.Image(f\"{data_folder}/distance_to_border_mask\")\n",
    "\n",
    "age = age.updateMask(ages_mask.And(distance_to_border_mask))\n",
    "\n",
    "# Extract patches from the age image\n",
    "patches = age.selfMask().reduceToVectors(\n",
    "    geometry=roi,\n",
    "    scale = 100,\n",
    "    maxPixels=1e10\n",
    ")\n",
    "\n",
    "# Function to calculate patch area in hectares\n",
    "def patch_area(patch):\n",
    "    return patch.set('area', patch.area(1).divide(1e4))  # Convert square meters to hectares\n",
    "\n",
    "# Apply the patch_area function to all patches\n",
    "patches = patches.map(patch_area)\n",
    "\n",
    "# Filter patches with area greater than one hectare\n",
    "patches = patches.filter(ee.Filter.gt('area', 1))\n",
    "\n",
    "\n",
    "# Export the mean_biomass_image as an asset\n",
    "task = ee.batch.Export.table.toAsset(\n",
    "    collection = patches,\n",
    "    assetId = f\"{data_folder}/patches\",\n",
    "    description = \"patches\"\n",
    ")\n",
    "\n",
    "task.start()\n"
   ]
  },
  {
   "cell_type": "code",
   "execution_count": 3,
   "metadata": {},
   "outputs": [
    {
     "data": {
      "text/html": [
       "\n",
       "            <style>\n",
       "                .geemap-dark {\n",
       "                    --jp-widgets-color: white;\n",
       "                    --jp-widgets-label-color: white;\n",
       "                    --jp-ui-font-color1: white;\n",
       "                    --jp-layout-color2: #454545;\n",
       "                    background-color: #383838;\n",
       "                }\n",
       "\n",
       "                .geemap-dark .jupyter-button {\n",
       "                    --jp-layout-color3: #383838;\n",
       "                }\n",
       "\n",
       "                .geemap-colab {\n",
       "                    background-color: var(--colab-primary-surface-color, white);\n",
       "                }\n",
       "\n",
       "                .geemap-colab .jupyter-button {\n",
       "                    --jp-layout-color3: var(--colab-primary-surface-color, white);\n",
       "                }\n",
       "            </style>\n",
       "            "
      ],
      "text/plain": [
       "<IPython.core.display.HTML object>"
      ]
     },
     "metadata": {},
     "output_type": "display_data"
    },
    {
     "data": {
      "application/vnd.jupyter.widget-view+json": {
       "model_id": "ac6aa8f4aeae4e108eaa7f4acf736b4c",
       "version_major": 2,
       "version_minor": 0
      },
      "text/plain": [
       "Map(center=[0, 0], controls=(WidgetControl(options=['position', 'transparent_bg'], widget=SearchDataGUI(childr…"
      ]
     },
     "execution_count": 3,
     "metadata": {},
     "output_type": "execute_result"
    }
   ],
   "source": [
    "tst = ee.Image(f\"{data_folder}/mapbiomas_2020\")\n",
    "\n",
    "map = geemap.Map()\n",
    "map.addLayer(tst, {}, \"map\")\n",
    "map"
   ]
  },
  {
   "cell_type": "markdown",
   "metadata": {},
   "source": [
    "## Processing other response data\n",
    "\n",
    "Including Potapov forest height, GEDI L4A, GEDI L2A, "
   ]
  },
  {
   "cell_type": "code",
   "execution_count": null,
   "metadata": {},
   "outputs": [
    {
     "data": {
      "text/html": [
       "\n",
       "            <style>\n",
       "                .geemap-dark {\n",
       "                    --jp-widgets-color: white;\n",
       "                    --jp-widgets-label-color: white;\n",
       "                    --jp-ui-font-color1: white;\n",
       "                    --jp-layout-color2: #454545;\n",
       "                    background-color: #383838;\n",
       "                }\n",
       "\n",
       "                .geemap-dark .jupyter-button {\n",
       "                    --jp-layout-color3: #383838;\n",
       "                }\n",
       "\n",
       "                .geemap-colab {\n",
       "                    background-color: var(--colab-primary-surface-color, white);\n",
       "                }\n",
       "\n",
       "                .geemap-colab .jupyter-button {\n",
       "                    --jp-layout-color3: var(--colab-primary-surface-color, white);\n",
       "                }\n",
       "            </style>\n",
       "            "
      ],
      "text/plain": [
       "<IPython.core.display.HTML object>"
      ]
     },
     "metadata": {},
     "output_type": "display_data"
    }
   ],
   "source": [
    "# Biomass in Mg/ha for 2020 from ESA CCI Biomass. Standard deviation was not removed since it increases with biomass values, so we would systematically remove pixels with higher biomass values.\n",
    "\n",
    "# Biomass in Mg/ha for the specified year from ESA CCI Biomass\n",
    "ESA_CCI = (ee.ImageCollection(\"projects/sat-io/open-datasets/ESA/ESA_CCI_AGB\")\n",
    "            .filterDate(f'{last_year}-01-01', f'{last_year}-12-31').first()\n",
    "            .select('AGB')\n",
    "            .toInt16()\n",
    "            .rename(f\"ESA_CCI_{last_year}\"))\n",
    "\n",
    "# Export the image\n",
    "export_image(ESA_CCI, f\"ESA_CCI_{last_year}\", region=roi, scale=30)"
   ]
  },
  {
   "cell_type": "code",
   "execution_count": null,
   "metadata": {},
   "outputs": [
    {
     "data": {
      "text/html": [
       "\n",
       "            <style>\n",
       "                .geemap-dark {\n",
       "                    --jp-widgets-color: white;\n",
       "                    --jp-widgets-label-color: white;\n",
       "                    --jp-ui-font-color1: white;\n",
       "                    --jp-layout-color2: #454545;\n",
       "                    background-color: #383838;\n",
       "                }\n",
       "\n",
       "                .geemap-dark .jupyter-button {\n",
       "                    --jp-layout-color3: #383838;\n",
       "                }\n",
       "\n",
       "                .geemap-colab {\n",
       "                    background-color: var(--colab-primary-surface-color, white);\n",
       "                }\n",
       "\n",
       "                .geemap-colab .jupyter-button {\n",
       "                    --jp-layout-color3: var(--colab-primary-surface-color, white);\n",
       "                }\n",
       "            </style>\n",
       "            "
      ],
      "text/plain": [
       "<IPython.core.display.HTML object>"
      ]
     },
     "metadata": {},
     "output_type": "display_data"
    }
   ],
   "source": [
    "def quality_mask(image):\n",
    "    image = image.updateMask(image.select('l4_quality_flag').eq(1)) \\\n",
    "              .updateMask(image.select('degrade_flag').eq(0))\n",
    "    relative_se = image.select('agbd_se').divide(image.select('agbd'))\n",
    "    return image.updateMask(relative_se.lte(0.5))\n",
    "\n",
    "GEDI_L4A = (ee.ImageCollection('LARSE/GEDI/GEDI04_A_002_MONTHLY')\n",
    "            .filterDate(f'{last_year}-01-01', f'{last_year}-12-31')\n",
    "            .map(quality_mask)\n",
    "            .select('agbd').mean()\n",
    "            .toInt16()                            \n",
    "            .rename(f'GEDI_L4A_{last_year}'))\n",
    "\n",
    "export_image(GEDI_L4A, f\"GEDI_L4A_{last_year}\", region = roi, scale = 30)"
   ]
  },
  {
   "cell_type": "code",
   "execution_count": null,
   "metadata": {},
   "outputs": [
    {
     "data": {
      "text/html": [
       "\n",
       "            <style>\n",
       "                .geemap-dark {\n",
       "                    --jp-widgets-color: white;\n",
       "                    --jp-widgets-label-color: white;\n",
       "                    --jp-ui-font-color1: white;\n",
       "                    --jp-layout-color2: #454545;\n",
       "                    background-color: #383838;\n",
       "                }\n",
       "\n",
       "                .geemap-dark .jupyter-button {\n",
       "                    --jp-layout-color3: #383838;\n",
       "                }\n",
       "\n",
       "                .geemap-colab {\n",
       "                    background-color: var(--colab-primary-surface-color, white);\n",
       "                }\n",
       "\n",
       "                .geemap-colab .jupyter-button {\n",
       "                    --jp-layout-color3: var(--colab-primary-surface-color, white);\n",
       "                }\n",
       "            </style>\n",
       "            "
      ],
      "text/plain": [
       "<IPython.core.display.HTML object>"
      ]
     },
     "metadata": {},
     "output_type": "display_data"
    }
   ],
   "source": [
    "def quality_mask(image):\n",
    "    # Apply quality mask for GEDI 2A\n",
    "    image = image.updateMask(image.select('quality_flag').eq(1)) \\\n",
    "              .updateMask(image.select('degrade_flag').eq(0))\n",
    "    return image\n",
    "\n",
    "# Load GEDI 2A Canopy Height dataset\n",
    "GEDI_L2A = (ee.ImageCollection('LARSE/GEDI/GEDI02_A_002_MONTHLY')\n",
    "            .filterDate(f'{year}-01-01', f'{year}-12-31')\n",
    "            .map(quality_mask)\n",
    "            .select(['rh98'])\n",
    "            .mean().toInt16()\n",
    "            .rename(f'GEDI_L2A_{last_year}'))\n",
    "\n",
    "# Export the image\n",
    "export_image(GEDI_L2A, f\"GEDI_L2A_{last_year}\", region=roi, scale=30)"
   ]
  }
 ],
 "metadata": {
  "colab": {
   "provenance": []
  },
  "kernelspec": {
   "display_name": "regrowth-env",
   "language": "python",
   "name": "python3"
  },
  "language_info": {
   "codemirror_mode": {
    "name": "ipython",
    "version": 3
   },
   "file_extension": ".py",
   "mimetype": "text/x-python",
   "name": "python",
   "nbconvert_exporter": "python",
   "pygments_lexer": "ipython3",
   "version": "3.12.8"
  }
 },
 "nbformat": 4,
 "nbformat_minor": 4
}
