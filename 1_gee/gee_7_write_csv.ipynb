{
 "cells": [
  {
   "cell_type": "markdown",
   "id": "956cff3f-99f1-45ca-b0b0-90c38a6e2c08",
   "metadata": {},
   "source": [
    "<!-- # Processing the final dataset\n",
    " -->\n"
   ]
  },
  {
   "cell_type": "markdown",
   "id": "14ea43a3",
   "metadata": {},
   "source": [
    "# Export data as CSV"
   ]
  },
  {
   "cell_type": "code",
   "execution_count": 22,
   "id": "a9594018-621b-427e-89d3-0633de81979a",
   "metadata": {},
   "outputs": [
    {
     "data": {
      "text/html": [
       "\n",
       "            <style>\n",
       "                .geemap-dark {\n",
       "                    --jp-widgets-color: white;\n",
       "                    --jp-widgets-label-color: white;\n",
       "                    --jp-ui-font-color1: white;\n",
       "                    --jp-layout-color2: #454545;\n",
       "                    background-color: #383838;\n",
       "                }\n",
       "\n",
       "                .geemap-dark .jupyter-button {\n",
       "                    --jp-layout-color3: #383838;\n",
       "                }\n",
       "\n",
       "                .geemap-colab {\n",
       "                    background-color: var(--colab-primary-surface-color, white);\n",
       "                }\n",
       "\n",
       "                .geemap-colab .jupyter-button {\n",
       "                    --jp-layout-color3: var(--colab-primary-surface-color, white);\n",
       "                }\n",
       "            </style>\n",
       "            "
      ],
      "text/plain": [
       "<IPython.core.display.HTML object>"
      ]
     },
     "metadata": {},
     "output_type": "display_data"
    }
   ],
   "source": [
    "import ee\n",
    "import geemap\n",
    "from gee_0_utils import *\n",
    "\n",
    "initialize()\n",
    "config = ProjectConfig()\n",
    "roi = config.roi\n",
    "data_folder = config.data_folder\n",
    "last_year = config.last_year\n"
   ]
  },
  {
   "cell_type": "markdown",
   "id": "6dbed378",
   "metadata": {},
   "source": [
    "## Main Model Dataset\n",
    "\n",
    "### Age, Biomass"
   ]
  },
  {
   "cell_type": "code",
   "execution_count": 23,
   "id": "53f79362",
   "metadata": {},
   "outputs": [
    {
     "data": {
      "text/html": [
       "\n",
       "            <style>\n",
       "                .geemap-dark {\n",
       "                    --jp-widgets-color: white;\n",
       "                    --jp-widgets-label-color: white;\n",
       "                    --jp-ui-font-color1: white;\n",
       "                    --jp-layout-color2: #454545;\n",
       "                    background-color: #383838;\n",
       "                }\n",
       "\n",
       "                .geemap-dark .jupyter-button {\n",
       "                    --jp-layout-color3: #383838;\n",
       "                }\n",
       "\n",
       "                .geemap-colab {\n",
       "                    background-color: var(--colab-primary-surface-color, white);\n",
       "                }\n",
       "\n",
       "                .geemap-colab .jupyter-button {\n",
       "                    --jp-layout-color3: var(--colab-primary-surface-color, white);\n",
       "                }\n",
       "            </style>\n",
       "            "
      ],
      "text/plain": [
       "<IPython.core.display.HTML object>"
      ]
     },
     "metadata": {},
     "output_type": "display_data"
    }
   ],
   "source": [
    "# Fire and Land Use\n",
    "age = ee.Image(f\"{data_folder}/mapbiomas_{last_year}\")\n",
    "\n",
    "ESA_CCI = ee.Image(f\"projects/sat-io/open-datasets/ESA/ESA_CCI_AGB/CCI_BIOMASS_100m_AGB_{last_year}_v51\").select(\"AGB\").rename(\"biomass\")\n",
    "\n",
    "fire = (ee.Image(\"projects/mapbiomas-public/assets/brazil/fire/collection3/mapbiomas_fire_collection3_annual_burned_coverage_v1\")\n",
    "    .select([f\"burned_coverage_{year}\" for year in config.range_1985_2020])\n",
    "    .byte()\n",
    "    .rename([str(year) for year in config.range_1985_2020])\n",
    "    .gt(0)\n",
    "    .reduce('sum').rename(\"num_fires\")).unmask(0)\n",
    "\n",
    "floodable_forests = (ee.Image(\"projects/mapbiomas-public/assets/brazil/lulc/collection9/mapbiomas_collection90_integration_v1\")\n",
    "        .select(f\"classification_{last_year}\").eq(6)).rename(\"floodable_forests\")\n",
    "\n",
    "secondary_area = ee.Image(f\"{data_folder}/secondary_area\")\n",
    "pasture_area = ee.Image(f\"{data_folder}/pasture_area\")\n"
   ]
  },
  {
   "cell_type": "markdown",
   "id": "36387afe",
   "metadata": {},
   "source": [
    "### Surrounding Landscape"
   ]
  },
  {
   "cell_type": "code",
   "execution_count": 24,
   "id": "b98d49ee",
   "metadata": {},
   "outputs": [
    {
     "data": {
      "text/html": [
       "\n",
       "            <style>\n",
       "                .geemap-dark {\n",
       "                    --jp-widgets-color: white;\n",
       "                    --jp-widgets-label-color: white;\n",
       "                    --jp-ui-font-color1: white;\n",
       "                    --jp-layout-color2: #454545;\n",
       "                    background-color: #383838;\n",
       "                }\n",
       "\n",
       "                .geemap-dark .jupyter-button {\n",
       "                    --jp-layout-color3: #383838;\n",
       "                }\n",
       "\n",
       "                .geemap-colab {\n",
       "                    background-color: var(--colab-primary-surface-color, white);\n",
       "                }\n",
       "\n",
       "                .geemap-colab .jupyter-button {\n",
       "                    --jp-layout-color3: var(--colab-primary-surface-color, white);\n",
       "                }\n",
       "            </style>\n",
       "            "
      ],
      "text/plain": [
       "<IPython.core.display.HTML object>"
      ]
     },
     "metadata": {},
     "output_type": "display_data"
    }
   ],
   "source": [
    "quarters_ecoreg_biomass = ee.Image(\"projects/amazon-forest-regrowth/assets/quarters_ecoreg_biomass\")\n",
    "ecoreg = ee.Image(\"projects/amazon-forest-regrowth/assets/ecoreg\")\n",
    "distance_deep_forest = ee.Image(f\"{data_folder}/distance_deep_forest\").rename(\"dist\")\n",
    "sur_cover = ee.Image(f\"{data_folder}/sur_cover\")\n",
    "\n",
    "distance_gt_1000 = distance_deep_forest.gt(1000).selfMask()\n",
    "mature_biomass = ee.Image(f\"{data_folder}/mature_biomass\")\n",
    "mature_biomass_10k = ee.Image(f\"{data_folder}/mature_biomass_10k\")\n",
    "nearest_mature = ee.Image(f\"{data_folder}/nearest_mature\")"
   ]
  },
  {
   "cell_type": "markdown",
   "id": "b4c6ad4d",
   "metadata": {},
   "source": [
    "### Environmental"
   ]
  },
  {
   "cell_type": "code",
   "execution_count": 25,
   "id": "bd8735d0",
   "metadata": {},
   "outputs": [
    {
     "data": {
      "text/html": [
       "\n",
       "            <style>\n",
       "                .geemap-dark {\n",
       "                    --jp-widgets-color: white;\n",
       "                    --jp-widgets-label-color: white;\n",
       "                    --jp-ui-font-color1: white;\n",
       "                    --jp-layout-color2: #454545;\n",
       "                    background-color: #383838;\n",
       "                }\n",
       "\n",
       "                .geemap-dark .jupyter-button {\n",
       "                    --jp-layout-color3: #383838;\n",
       "                }\n",
       "\n",
       "                .geemap-colab {\n",
       "                    background-color: var(--colab-primary-surface-color, white);\n",
       "                }\n",
       "\n",
       "                .geemap-colab .jupyter-button {\n",
       "                    --jp-layout-color3: var(--colab-primary-surface-color, white);\n",
       "                }\n",
       "            </style>\n",
       "            "
      ],
      "text/plain": [
       "<IPython.core.display.HTML object>"
      ]
     },
     "metadata": {},
     "output_type": "display_data"
    }
   ],
   "source": [
    "categorical = ee.Image(f\"{data_folder}/categorical\")\n",
    "\n",
    "topography = ee.Image(\"CSP/ERGo/1_0/Global/ALOS_landforms\").rename(\"topography\") # 90m resolution\n",
    "\n",
    "soil = ee.Image(f\"{data_folder}/soilgrids\")\n",
    "\n",
    "terraclim = ee.Image(f\"{data_folder}/terraclim_1958_2019\")"
   ]
  },
  {
   "cell_type": "markdown",
   "id": "059cc246",
   "metadata": {},
   "source": [
    "### Export CSV\n"
   ]
  },
  {
   "cell_type": "code",
   "execution_count": 12,
   "id": "8c8a31f3",
   "metadata": {},
   "outputs": [
    {
     "data": {
      "text/html": [
       "\n",
       "            <style>\n",
       "                .geemap-dark {\n",
       "                    --jp-widgets-color: white;\n",
       "                    --jp-widgets-label-color: white;\n",
       "                    --jp-ui-font-color1: white;\n",
       "                    --jp-layout-color2: #454545;\n",
       "                    background-color: #383838;\n",
       "                }\n",
       "\n",
       "                .geemap-dark .jupyter-button {\n",
       "                    --jp-layout-color3: #383838;\n",
       "                }\n",
       "\n",
       "                .geemap-colab {\n",
       "                    background-color: var(--colab-primary-surface-color, white);\n",
       "                }\n",
       "\n",
       "                .geemap-colab .jupyter-button {\n",
       "                    --jp-layout-color3: var(--colab-primary-surface-color, white);\n",
       "                }\n",
       "            </style>\n",
       "            "
      ],
      "text/plain": [
       "<IPython.core.display.HTML object>"
      ]
     },
     "metadata": {},
     "output_type": "display_data"
    }
   ],
   "source": [
    "def reduce_reproject(image, reducer):\n",
    "    \"\"\"Reproject image using mean.\"\"\"\n",
    "    return image.reduceResolution(\n",
    "        reducer=reducer\n",
    "    ).reproject(\n",
    "        crs=age.projection(),\n",
    "        scale=age.projection().nominalScale()\n",
    "    )\n",
    "\n",
    "\n",
    "# Reproject continuous variables using mean\n",
    "continuous_vars = [\n",
    "    ESA_CCI.rename(\"biomass\"), # double\n",
    "    nearest_mature.rename(\"nearest_mature\"), # double\n",
    "    soil, # float\n",
    "    terraclim.select([\"mean_soil\", \"mean_vpd\", \"mean_temp\", \"mean_def\", \n",
    "                      \"mean_srad\", \"mean_pr\", \"mean_aet\", \"mean_pdsi\"]) # float and int16\n",
    "]\n",
    "\n",
    "# Reproject categorical variables using first\n",
    "categorical_vars = [\n",
    "    fire, # int64\n",
    "    ecoreg, # int16\n",
    "    categorical, # int8\n",
    "    topography # int8\n",
    "]\n",
    "\n",
    "# Create unified dataset by directly combining bands\n",
    "unified_data = ee.Image.cat([\n",
    "    age, # int8\n",
    "    floodable_forests,\n",
    "    distance_deep_forest, # int16\n",
    "    sur_cover, # float\n",
    "    *[reduce_reproject(var, ee.Reducer.mean()) for var in continuous_vars],\n",
    "    *[reduce_reproject(var, ee.Reducer.first()) for var in categorical_vars],\n",
    "    ee.Image.pixelLonLat().rename(['lon', 'lat'])\n",
    "])\n",
    "\n",
    "unified_data_pasture = ee.Image.cat([\n",
    "    unified_data,\n",
    "    pasture_area.rename('pasture_area')\n",
    "])\n",
    "\n",
    "unified_data = ee.Image.cat([\n",
    "    unified_data,\n",
    "    secondary_area, #double\n",
    "    quarters_ecoreg_biomass\n",
    "])"
   ]
  },
  {
   "cell_type": "code",
   "execution_count": 27,
   "id": "a01bc89f",
   "metadata": {},
   "outputs": [
    {
     "data": {
      "text/html": [
       "\n",
       "            <style>\n",
       "                .geemap-dark {\n",
       "                    --jp-widgets-color: white;\n",
       "                    --jp-widgets-label-color: white;\n",
       "                    --jp-ui-font-color1: white;\n",
       "                    --jp-layout-color2: #454545;\n",
       "                    background-color: #383838;\n",
       "                }\n",
       "\n",
       "                .geemap-dark .jupyter-button {\n",
       "                    --jp-layout-color3: #383838;\n",
       "                }\n",
       "\n",
       "                .geemap-colab {\n",
       "                    background-color: var(--colab-primary-surface-color, white);\n",
       "                }\n",
       "\n",
       "                .geemap-colab .jupyter-button {\n",
       "                    --jp-layout-color3: var(--colab-primary-surface-color, white);\n",
       "                }\n",
       "            </style>\n",
       "            "
      ],
      "text/plain": [
       "<IPython.core.display.HTML object>"
      ]
     },
     "metadata": {},
     "output_type": "display_data"
    },
    {
     "data": {
      "application/vnd.jupyter.widget-view+json": {
       "model_id": "d3109fddb83e448988acee627f565a53",
       "version_major": 2,
       "version_minor": 0
      },
      "text/plain": [
       "Map(center=[0, 0], controls=(WidgetControl(options=['position', 'transparent_bg'], widget=SearchDataGUI(childr…"
      ]
     },
     "execution_count": 27,
     "metadata": {},
     "output_type": "execute_result"
    }
   ],
   "source": [
    "image_utm = unified_data.reproject(\n",
    "    crs=age.projection(),\n",
    "    scale=age.projection().nominalScale()\n",
    ")\n",
    "\n",
    "averaged_biomass = ESA_CCI.reduceResolution(\n",
    "    reducer=ee.Reducer.mean()).reproject(\n",
    "    crs=age.projection(),\n",
    "    scale=age.projection().nominalScale()\n",
    ").rename(\"biomass\")\n",
    "\n",
    "\n",
    "grid_10k_secondary = ee.FeatureCollection(f\"{data_folder}/grid_10k_secondary\")\n",
    "\n",
    "\n",
    "\n",
    "# UTM zones grid\n",
    "utm_zones = ee.FeatureCollection(\n",
    "    \"projects/amazon-forest-regrowth/assets/raw/UTM_grid\"\n",
    ").filterBounds(amazon)\n",
    "\n",
    "\n",
    "map = geemap.Map()\n",
    "# map.addLayer(unified_data.select(\"biomass\"), {'min':30, 'max':400, 'palette': ['blue', 'red']}, \"Unified Data\")\n",
    "# map.addLayer(image_utm.select(\"biomass\"), {'min':30, 'max':400, 'palette': ['blue', 'red']}, \"Unified Data UTM\")\n",
    "# map.addLayer(averaged_biomass, {'min':30, 'max':400, 'palette': ['blue', 'red']}, \"Averaged Biomass\")\\\n",
    "map.addLayer(grid_10k_secondary, {}, \"Grid 10k Secondary\")\n",
    "map.addLayer(utm_zones, {}, \"UTM Zones\")\n",
    "map.addLayer(age, {}, \"Age\")\n",
    "map"
   ]
  },
  {
   "cell_type": "code",
   "execution_count": null,
   "id": "efdc6d4a",
   "metadata": {},
   "outputs": [
    {
     "data": {
      "text/html": [
       "\n",
       "            <style>\n",
       "                .geemap-dark {\n",
       "                    --jp-widgets-color: white;\n",
       "                    --jp-widgets-label-color: white;\n",
       "                    --jp-ui-font-color1: white;\n",
       "                    --jp-layout-color2: #454545;\n",
       "                    background-color: #383838;\n",
       "                }\n",
       "\n",
       "                .geemap-dark .jupyter-button {\n",
       "                    --jp-layout-color3: #383838;\n",
       "                }\n",
       "\n",
       "                .geemap-colab {\n",
       "                    background-color: var(--colab-primary-surface-color, white);\n",
       "                }\n",
       "\n",
       "                .geemap-colab .jupyter-button {\n",
       "                    --jp-layout-color3: var(--colab-primary-surface-color, white);\n",
       "                }\n",
       "            </style>\n",
       "            "
      ],
      "text/plain": [
       "<IPython.core.display.HTML object>"
      ]
     },
     "metadata": {},
     "output_type": "display_data"
    }
   ],
   "source": [
    "# ----------------\n",
    "# INPUTS\n",
    "# ----------------\n",
    "\n",
    "# Amazon biome\n",
    "amazon = ee.FeatureCollection(\n",
    "    \"projects/amazon-forest-regrowth/assets/raw/biomes_br\"\n",
    ").filter(ee.Filter.eq('CD_Bioma', 1)).geometry()\n",
    "\n",
    "# UTM zones grid\n",
    "utm_zones = ee.FeatureCollection(\n",
    "    \"projects/amazon-forest-regrowth/assets/raw/UTM_grid\"\n",
    ").filterBounds(amazon)\n"
   ]
  },
  {
   "cell_type": "code",
   "execution_count": 15,
   "id": "94ed8560",
   "metadata": {},
   "outputs": [
    {
     "data": {
      "text/html": [
       "\n",
       "            <style>\n",
       "                .geemap-dark {\n",
       "                    --jp-widgets-color: white;\n",
       "                    --jp-widgets-label-color: white;\n",
       "                    --jp-ui-font-color1: white;\n",
       "                    --jp-layout-color2: #454545;\n",
       "                    background-color: #383838;\n",
       "                }\n",
       "\n",
       "                .geemap-dark .jupyter-button {\n",
       "                    --jp-layout-color3: #383838;\n",
       "                }\n",
       "\n",
       "                .geemap-colab {\n",
       "                    background-color: var(--colab-primary-surface-color, white);\n",
       "                }\n",
       "\n",
       "                .geemap-colab .jupyter-button {\n",
       "                    --jp-layout-color3: var(--colab-primary-surface-color, white);\n",
       "                }\n",
       "            </style>\n",
       "            "
      ],
      "text/plain": [
       "<IPython.core.display.HTML object>"
      ]
     },
     "metadata": {},
     "output_type": "display_data"
    }
   ],
   "source": [
    "grid = amazon.coveringGrid(proj=age.projection(), scale = 100000)"
   ]
  },
  {
   "cell_type": "code",
   "execution_count": 16,
   "id": "0d197c01",
   "metadata": {},
   "outputs": [
    {
     "data": {
      "text/html": [
       "\n",
       "            <style>\n",
       "                .geemap-dark {\n",
       "                    --jp-widgets-color: white;\n",
       "                    --jp-widgets-label-color: white;\n",
       "                    --jp-ui-font-color1: white;\n",
       "                    --jp-layout-color2: #454545;\n",
       "                    background-color: #383838;\n",
       "                }\n",
       "\n",
       "                .geemap-dark .jupyter-button {\n",
       "                    --jp-layout-color3: #383838;\n",
       "                }\n",
       "\n",
       "                .geemap-colab {\n",
       "                    background-color: var(--colab-primary-surface-color, white);\n",
       "                }\n",
       "\n",
       "                .geemap-colab .jupyter-button {\n",
       "                    --jp-layout-color3: var(--colab-primary-surface-color, white);\n",
       "                }\n",
       "            </style>\n",
       "            "
      ],
      "text/plain": [
       "<IPython.core.display.HTML object>"
      ]
     },
     "metadata": {},
     "output_type": "display_data"
    }
   ],
   "source": [
    "# ----------------\n",
    "# ADD EPSG CODE TO ZONES\n",
    "# ----------------\n",
    "def add_epsg_code(feature):\n",
    "    zone_num = ee.Number(feature.get('ZONE'))\n",
    "    row_letter = ee.String(feature.get('ROW_'))\n",
    "    north_letters = ee.List(['N','P','Q','R','S','T','U','V','W','X'])\n",
    "\n",
    "    epsg = ee.Number(\n",
    "        ee.Algorithms.If(\n",
    "            north_letters.contains(row_letter),\n",
    "            ee.Number(32600).add(zone_num),  # North\n",
    "            ee.Number(32700).add(zone_num)   # South\n",
    "        )\n",
    "    )\n",
    "    return feature.set('EPSG', epsg)\n",
    "\n",
    "utm_with_epsg = utm_zones.map(add_epsg_code)"
   ]
  },
  {
   "cell_type": "code",
   "execution_count": 17,
   "id": "5ed7341e",
   "metadata": {},
   "outputs": [
    {
     "data": {
      "text/html": [
       "\n",
       "            <style>\n",
       "                .geemap-dark {\n",
       "                    --jp-widgets-color: white;\n",
       "                    --jp-widgets-label-color: white;\n",
       "                    --jp-ui-font-color1: white;\n",
       "                    --jp-layout-color2: #454545;\n",
       "                    background-color: #383838;\n",
       "                }\n",
       "\n",
       "                .geemap-dark .jupyter-button {\n",
       "                    --jp-layout-color3: #383838;\n",
       "                }\n",
       "\n",
       "                .geemap-colab {\n",
       "                    background-color: var(--colab-primary-surface-color, white);\n",
       "                }\n",
       "\n",
       "                .geemap-colab .jupyter-button {\n",
       "                    --jp-layout-color3: var(--colab-primary-surface-color, white);\n",
       "                }\n",
       "            </style>\n",
       "            "
      ],
      "text/plain": [
       "<IPython.core.display.HTML object>"
      ]
     },
     "metadata": {},
     "output_type": "display_data"
    }
   ],
   "source": [
    "def sample_pixels_per_cell(image, grid):\n",
    "    \"\"\"Sample pixels from an image so that each grid cell gets samples.\"\"\"\n",
    "    def sample_cell(cell):\n",
    "        sampled = image.stratifiedSample(\n",
    "            numPoints=1000,\n",
    "            classBand='biome',\n",
    "            region=cell.geometry(),\n",
    "            scale=image.projection().nominalScale(),\n",
    "            geometries=False,\n",
    "            dropNulls=True,\n",
    "            tileScale=2\n",
    "        )\n",
    "        return sampled\n",
    "    return grid.map(sample_cell).flatten()"
   ]
  },
  {
   "cell_type": "code",
   "execution_count": null,
   "id": "be666f1a",
   "metadata": {},
   "outputs": [
    {
     "data": {
      "text/html": [
       "\n",
       "            <style>\n",
       "                .geemap-dark {\n",
       "                    --jp-widgets-color: white;\n",
       "                    --jp-widgets-label-color: white;\n",
       "                    --jp-ui-font-color1: white;\n",
       "                    --jp-layout-color2: #454545;\n",
       "                    background-color: #383838;\n",
       "                }\n",
       "\n",
       "                .geemap-dark .jupyter-button {\n",
       "                    --jp-layout-color3: #383838;\n",
       "                }\n",
       "\n",
       "                .geemap-colab {\n",
       "                    background-color: var(--colab-primary-surface-color, white);\n",
       "                }\n",
       "\n",
       "                .geemap-colab .jupyter-button {\n",
       "                    --jp-layout-color3: var(--colab-primary-surface-color, white);\n",
       "                }\n",
       "            </style>\n",
       "            "
      ],
      "text/plain": [
       "<IPython.core.display.HTML object>"
      ]
     },
     "metadata": {},
     "output_type": "display_data"
    },
    {
     "name": "stdout",
     "output_type": "stream",
     "text": [
      "['age', 'floodable_forests', 'dist', 'sur_cover', 'biomass', 'nearest_mature', 'cec', 'clay', 'cfvo', 'nitro', 'ocd', 'ocs', 'phh2o', 'sand', 'soc', 'mean_soil', 'mean_vpd', 'mean_temp', 'mean_def', 'mean_srad', 'mean_pr', 'mean_aet', 'mean_pdsi', 'num_fires', 'ecoreg', 'biome', 'indig', 'protec', 'topography', 'lon', 'lat', 'secondary_area', 'quarter_biomass', 'quarter', 'ecoreg_biomass']\n",
      "['age', 'floodable_forests', 'dist', 'sur_cover', 'biomass', 'nearest_mature', 'cec', 'clay', 'cfvo', 'nitro', 'ocd', 'ocs', 'phh2o', 'sand', 'soc', 'mean_soil', 'mean_vpd', 'mean_temp', 'mean_def', 'mean_srad', 'mean_pr', 'mean_aet', 'mean_pdsi', 'num_fires', 'ecoreg', 'biome', 'indig', 'protec', 'topography', 'lon', 'lat', 'secondary_area', 'quarter_biomass', 'quarter', 'ecoreg_biomass']\n",
      "Export started: M18__100k\n",
      "['age', 'floodable_forests', 'dist', 'sur_cover', 'biomass', 'nearest_mature', 'cec', 'clay', 'cfvo', 'nitro', 'ocd', 'ocs', 'phh2o', 'sand', 'soc', 'mean_soil', 'mean_vpd', 'mean_temp', 'mean_def', 'mean_srad', 'mean_pr', 'mean_aet', 'mean_pdsi', 'num_fires', 'ecoreg', 'biome', 'indig', 'protec', 'topography', 'lon', 'lat', 'secondary_area', 'quarter_biomass', 'quarter', 'ecoreg_biomass']\n",
      "['age', 'floodable_forests', 'dist', 'sur_cover', 'biomass', 'nearest_mature', 'cec', 'clay', 'cfvo', 'nitro', 'ocd', 'ocs', 'phh2o', 'sand', 'soc', 'mean_soil', 'mean_vpd', 'mean_temp', 'mean_def', 'mean_srad', 'mean_pr', 'mean_aet', 'mean_pdsi', 'num_fires', 'ecoreg', 'biome', 'indig', 'protec', 'topography', 'lon', 'lat', 'secondary_area', 'quarter_biomass', 'quarter', 'ecoreg_biomass']\n",
      "Export started: L18__100k\n",
      "['age', 'floodable_forests', 'dist', 'sur_cover', 'biomass', 'nearest_mature', 'cec', 'clay', 'cfvo', 'nitro', 'ocd', 'ocs', 'phh2o', 'sand', 'soc', 'mean_soil', 'mean_vpd', 'mean_temp', 'mean_def', 'mean_srad', 'mean_pr', 'mean_aet', 'mean_pdsi', 'num_fires', 'ecoreg', 'biome', 'indig', 'protec', 'topography', 'lon', 'lat', 'secondary_area', 'quarter_biomass', 'quarter', 'ecoreg_biomass']\n",
      "['age', 'floodable_forests', 'dist', 'sur_cover', 'biomass', 'nearest_mature', 'cec', 'clay', 'cfvo', 'nitro', 'ocd', 'ocs', 'phh2o', 'sand', 'soc', 'mean_soil', 'mean_vpd', 'mean_temp', 'mean_def', 'mean_srad', 'mean_pr', 'mean_aet', 'mean_pdsi', 'num_fires', 'ecoreg', 'biome', 'indig', 'protec', 'topography', 'lon', 'lat', 'secondary_area', 'quarter_biomass', 'quarter', 'ecoreg_biomass']\n",
      "Export started: N19__100k\n",
      "['age', 'floodable_forests', 'dist', 'sur_cover', 'biomass', 'nearest_mature', 'cec', 'clay', 'cfvo', 'nitro', 'ocd', 'ocs', 'phh2o', 'sand', 'soc', 'mean_soil', 'mean_vpd', 'mean_temp', 'mean_def', 'mean_srad', 'mean_pr', 'mean_aet', 'mean_pdsi', 'num_fires', 'ecoreg', 'biome', 'indig', 'protec', 'topography', 'lon', 'lat', 'secondary_area', 'quarter_biomass', 'quarter', 'ecoreg_biomass']\n",
      "['age', 'floodable_forests', 'dist', 'sur_cover', 'biomass', 'nearest_mature', 'cec', 'clay', 'cfvo', 'nitro', 'ocd', 'ocs', 'phh2o', 'sand', 'soc', 'mean_soil', 'mean_vpd', 'mean_temp', 'mean_def', 'mean_srad', 'mean_pr', 'mean_aet', 'mean_pdsi', 'num_fires', 'ecoreg', 'biome', 'indig', 'protec', 'topography', 'lon', 'lat', 'secondary_area', 'quarter_biomass', 'quarter', 'ecoreg_biomass']\n",
      "Export started: M19__100k\n",
      "['age', 'floodable_forests', 'dist', 'sur_cover', 'biomass', 'nearest_mature', 'cec', 'clay', 'cfvo', 'nitro', 'ocd', 'ocs', 'phh2o', 'sand', 'soc', 'mean_soil', 'mean_vpd', 'mean_temp', 'mean_def', 'mean_srad', 'mean_pr', 'mean_aet', 'mean_pdsi', 'num_fires', 'ecoreg', 'biome', 'indig', 'protec', 'topography', 'lon', 'lat', 'secondary_area', 'quarter_biomass', 'quarter', 'ecoreg_biomass']\n",
      "['age', 'floodable_forests', 'dist', 'sur_cover', 'biomass', 'nearest_mature', 'cec', 'clay', 'cfvo', 'nitro', 'ocd', 'ocs', 'phh2o', 'sand', 'soc', 'mean_soil', 'mean_vpd', 'mean_temp', 'mean_def', 'mean_srad', 'mean_pr', 'mean_aet', 'mean_pdsi', 'num_fires', 'ecoreg', 'biome', 'indig', 'protec', 'topography', 'lon', 'lat', 'secondary_area', 'quarter_biomass', 'quarter', 'ecoreg_biomass']\n",
      "Export started: L19__100k\n",
      "['age', 'floodable_forests', 'dist', 'sur_cover', 'biomass', 'nearest_mature', 'cec', 'clay', 'cfvo', 'nitro', 'ocd', 'ocs', 'phh2o', 'sand', 'soc', 'mean_soil', 'mean_vpd', 'mean_temp', 'mean_def', 'mean_srad', 'mean_pr', 'mean_aet', 'mean_pdsi', 'num_fires', 'ecoreg', 'biome', 'indig', 'protec', 'topography', 'lon', 'lat', 'secondary_area', 'quarter_biomass', 'quarter', 'ecoreg_biomass']\n",
      "['age', 'floodable_forests', 'dist', 'sur_cover', 'biomass', 'nearest_mature', 'cec', 'clay', 'cfvo', 'nitro', 'ocd', 'ocs', 'phh2o', 'sand', 'soc', 'mean_soil', 'mean_vpd', 'mean_temp', 'mean_def', 'mean_srad', 'mean_pr', 'mean_aet', 'mean_pdsi', 'num_fires', 'ecoreg', 'biome', 'indig', 'protec', 'topography', 'lon', 'lat', 'secondary_area', 'quarter_biomass', 'quarter', 'ecoreg_biomass']\n",
      "Export started: N20__100k\n",
      "['age', 'floodable_forests', 'dist', 'sur_cover', 'biomass', 'nearest_mature', 'cec', 'clay', 'cfvo', 'nitro', 'ocd', 'ocs', 'phh2o', 'sand', 'soc', 'mean_soil', 'mean_vpd', 'mean_temp', 'mean_def', 'mean_srad', 'mean_pr', 'mean_aet', 'mean_pdsi', 'num_fires', 'ecoreg', 'biome', 'indig', 'protec', 'topography', 'lon', 'lat', 'secondary_area', 'quarter_biomass', 'quarter', 'ecoreg_biomass']\n",
      "['age', 'floodable_forests', 'dist', 'sur_cover', 'biomass', 'nearest_mature', 'cec', 'clay', 'cfvo', 'nitro', 'ocd', 'ocs', 'phh2o', 'sand', 'soc', 'mean_soil', 'mean_vpd', 'mean_temp', 'mean_def', 'mean_srad', 'mean_pr', 'mean_aet', 'mean_pdsi', 'num_fires', 'ecoreg', 'biome', 'indig', 'protec', 'topography', 'lon', 'lat', 'secondary_area', 'quarter_biomass', 'quarter', 'ecoreg_biomass']\n",
      "Export started: M20__100k\n",
      "['age', 'floodable_forests', 'dist', 'sur_cover', 'biomass', 'nearest_mature', 'cec', 'clay', 'cfvo', 'nitro', 'ocd', 'ocs', 'phh2o', 'sand', 'soc', 'mean_soil', 'mean_vpd', 'mean_temp', 'mean_def', 'mean_srad', 'mean_pr', 'mean_aet', 'mean_pdsi', 'num_fires', 'ecoreg', 'biome', 'indig', 'protec', 'topography', 'lon', 'lat', 'secondary_area', 'quarter_biomass', 'quarter', 'ecoreg_biomass']\n",
      "['age', 'floodable_forests', 'dist', 'sur_cover', 'biomass', 'nearest_mature', 'cec', 'clay', 'cfvo', 'nitro', 'ocd', 'ocs', 'phh2o', 'sand', 'soc', 'mean_soil', 'mean_vpd', 'mean_temp', 'mean_def', 'mean_srad', 'mean_pr', 'mean_aet', 'mean_pdsi', 'num_fires', 'ecoreg', 'biome', 'indig', 'protec', 'topography', 'lon', 'lat', 'secondary_area', 'quarter_biomass', 'quarter', 'ecoreg_biomass']\n",
      "Export started: K20__100k\n",
      "['age', 'floodable_forests', 'dist', 'sur_cover', 'biomass', 'nearest_mature', 'cec', 'clay', 'cfvo', 'nitro', 'ocd', 'ocs', 'phh2o', 'sand', 'soc', 'mean_soil', 'mean_vpd', 'mean_temp', 'mean_def', 'mean_srad', 'mean_pr', 'mean_aet', 'mean_pdsi', 'num_fires', 'ecoreg', 'biome', 'indig', 'protec', 'topography', 'lon', 'lat', 'secondary_area', 'quarter_biomass', 'quarter', 'ecoreg_biomass']\n",
      "['age', 'floodable_forests', 'dist', 'sur_cover', 'biomass', 'nearest_mature', 'cec', 'clay', 'cfvo', 'nitro', 'ocd', 'ocs', 'phh2o', 'sand', 'soc', 'mean_soil', 'mean_vpd', 'mean_temp', 'mean_def', 'mean_srad', 'mean_pr', 'mean_aet', 'mean_pdsi', 'num_fires', 'ecoreg', 'biome', 'indig', 'protec', 'topography', 'lon', 'lat', 'secondary_area', 'quarter_biomass', 'quarter', 'ecoreg_biomass']\n",
      "Export started: L20__100k\n",
      "['age', 'floodable_forests', 'dist', 'sur_cover', 'biomass', 'nearest_mature', 'cec', 'clay', 'cfvo', 'nitro', 'ocd', 'ocs', 'phh2o', 'sand', 'soc', 'mean_soil', 'mean_vpd', 'mean_temp', 'mean_def', 'mean_srad', 'mean_pr', 'mean_aet', 'mean_pdsi', 'num_fires', 'ecoreg', 'biome', 'indig', 'protec', 'topography', 'lon', 'lat', 'secondary_area', 'quarter_biomass', 'quarter', 'ecoreg_biomass']\n",
      "['age', 'floodable_forests', 'dist', 'sur_cover', 'biomass', 'nearest_mature', 'cec', 'clay', 'cfvo', 'nitro', 'ocd', 'ocs', 'phh2o', 'sand', 'soc', 'mean_soil', 'mean_vpd', 'mean_temp', 'mean_def', 'mean_srad', 'mean_pr', 'mean_aet', 'mean_pdsi', 'num_fires', 'ecoreg', 'biome', 'indig', 'protec', 'topography', 'lon', 'lat', 'secondary_area', 'quarter_biomass', 'quarter', 'ecoreg_biomass']\n",
      "Export started: N21__100k\n",
      "['age', 'floodable_forests', 'dist', 'sur_cover', 'biomass', 'nearest_mature', 'cec', 'clay', 'cfvo', 'nitro', 'ocd', 'ocs', 'phh2o', 'sand', 'soc', 'mean_soil', 'mean_vpd', 'mean_temp', 'mean_def', 'mean_srad', 'mean_pr', 'mean_aet', 'mean_pdsi', 'num_fires', 'ecoreg', 'biome', 'indig', 'protec', 'topography', 'lon', 'lat', 'secondary_area', 'quarter_biomass', 'quarter', 'ecoreg_biomass']\n",
      "['age', 'floodable_forests', 'dist', 'sur_cover', 'biomass', 'nearest_mature', 'cec', 'clay', 'cfvo', 'nitro', 'ocd', 'ocs', 'phh2o', 'sand', 'soc', 'mean_soil', 'mean_vpd', 'mean_temp', 'mean_def', 'mean_srad', 'mean_pr', 'mean_aet', 'mean_pdsi', 'num_fires', 'ecoreg', 'biome', 'indig', 'protec', 'topography', 'lon', 'lat', 'secondary_area', 'quarter_biomass', 'quarter', 'ecoreg_biomass']\n",
      "Export started: M21__100k\n",
      "['age', 'floodable_forests', 'dist', 'sur_cover', 'biomass', 'nearest_mature', 'cec', 'clay', 'cfvo', 'nitro', 'ocd', 'ocs', 'phh2o', 'sand', 'soc', 'mean_soil', 'mean_vpd', 'mean_temp', 'mean_def', 'mean_srad', 'mean_pr', 'mean_aet', 'mean_pdsi', 'num_fires', 'ecoreg', 'biome', 'indig', 'protec', 'topography', 'lon', 'lat', 'secondary_area', 'quarter_biomass', 'quarter', 'ecoreg_biomass']\n",
      "['age', 'floodable_forests', 'dist', 'sur_cover', 'biomass', 'nearest_mature', 'cec', 'clay', 'cfvo', 'nitro', 'ocd', 'ocs', 'phh2o', 'sand', 'soc', 'mean_soil', 'mean_vpd', 'mean_temp', 'mean_def', 'mean_srad', 'mean_pr', 'mean_aet', 'mean_pdsi', 'num_fires', 'ecoreg', 'biome', 'indig', 'protec', 'topography', 'lon', 'lat', 'secondary_area', 'quarter_biomass', 'quarter', 'ecoreg_biomass']\n",
      "Export started: K21__100k\n",
      "['age', 'floodable_forests', 'dist', 'sur_cover', 'biomass', 'nearest_mature', 'cec', 'clay', 'cfvo', 'nitro', 'ocd', 'ocs', 'phh2o', 'sand', 'soc', 'mean_soil', 'mean_vpd', 'mean_temp', 'mean_def', 'mean_srad', 'mean_pr', 'mean_aet', 'mean_pdsi', 'num_fires', 'ecoreg', 'biome', 'indig', 'protec', 'topography', 'lon', 'lat', 'secondary_area', 'quarter_biomass', 'quarter', 'ecoreg_biomass']\n",
      "['age', 'floodable_forests', 'dist', 'sur_cover', 'biomass', 'nearest_mature', 'cec', 'clay', 'cfvo', 'nitro', 'ocd', 'ocs', 'phh2o', 'sand', 'soc', 'mean_soil', 'mean_vpd', 'mean_temp', 'mean_def', 'mean_srad', 'mean_pr', 'mean_aet', 'mean_pdsi', 'num_fires', 'ecoreg', 'biome', 'indig', 'protec', 'topography', 'lon', 'lat', 'secondary_area', 'quarter_biomass', 'quarter', 'ecoreg_biomass']\n",
      "Export started: L21__100k\n",
      "['age', 'floodable_forests', 'dist', 'sur_cover', 'biomass', 'nearest_mature', 'cec', 'clay', 'cfvo', 'nitro', 'ocd', 'ocs', 'phh2o', 'sand', 'soc', 'mean_soil', 'mean_vpd', 'mean_temp', 'mean_def', 'mean_srad', 'mean_pr', 'mean_aet', 'mean_pdsi', 'num_fires', 'ecoreg', 'biome', 'indig', 'protec', 'topography', 'lon', 'lat', 'secondary_area', 'quarter_biomass', 'quarter', 'ecoreg_biomass']\n",
      "['age', 'floodable_forests', 'dist', 'sur_cover', 'biomass', 'nearest_mature', 'cec', 'clay', 'cfvo', 'nitro', 'ocd', 'ocs', 'phh2o', 'sand', 'soc', 'mean_soil', 'mean_vpd', 'mean_temp', 'mean_def', 'mean_srad', 'mean_pr', 'mean_aet', 'mean_pdsi', 'num_fires', 'ecoreg', 'biome', 'indig', 'protec', 'topography', 'lon', 'lat', 'secondary_area', 'quarter_biomass', 'quarter', 'ecoreg_biomass']\n",
      "Export started: N22__100k\n",
      "['age', 'floodable_forests', 'dist', 'sur_cover', 'biomass', 'nearest_mature', 'cec', 'clay', 'cfvo', 'nitro', 'ocd', 'ocs', 'phh2o', 'sand', 'soc', 'mean_soil', 'mean_vpd', 'mean_temp', 'mean_def', 'mean_srad', 'mean_pr', 'mean_aet', 'mean_pdsi', 'num_fires', 'ecoreg', 'biome', 'indig', 'protec', 'topography', 'lon', 'lat', 'secondary_area', 'quarter_biomass', 'quarter', 'ecoreg_biomass']\n",
      "['age', 'floodable_forests', 'dist', 'sur_cover', 'biomass', 'nearest_mature', 'cec', 'clay', 'cfvo', 'nitro', 'ocd', 'ocs', 'phh2o', 'sand', 'soc', 'mean_soil', 'mean_vpd', 'mean_temp', 'mean_def', 'mean_srad', 'mean_pr', 'mean_aet', 'mean_pdsi', 'num_fires', 'ecoreg', 'biome', 'indig', 'protec', 'topography', 'lon', 'lat', 'secondary_area', 'quarter_biomass', 'quarter', 'ecoreg_biomass']\n",
      "Export started: M22__100k\n",
      "['age', 'floodable_forests', 'dist', 'sur_cover', 'biomass', 'nearest_mature', 'cec', 'clay', 'cfvo', 'nitro', 'ocd', 'ocs', 'phh2o', 'sand', 'soc', 'mean_soil', 'mean_vpd', 'mean_temp', 'mean_def', 'mean_srad', 'mean_pr', 'mean_aet', 'mean_pdsi', 'num_fires', 'ecoreg', 'biome', 'indig', 'protec', 'topography', 'lon', 'lat', 'secondary_area', 'quarter_biomass', 'quarter', 'ecoreg_biomass']\n",
      "['age', 'floodable_forests', 'dist', 'sur_cover', 'biomass', 'nearest_mature', 'cec', 'clay', 'cfvo', 'nitro', 'ocd', 'ocs', 'phh2o', 'sand', 'soc', 'mean_soil', 'mean_vpd', 'mean_temp', 'mean_def', 'mean_srad', 'mean_pr', 'mean_aet', 'mean_pdsi', 'num_fires', 'ecoreg', 'biome', 'indig', 'protec', 'topography', 'lon', 'lat', 'secondary_area', 'quarter_biomass', 'quarter', 'ecoreg_biomass']\n",
      "Export started: L22__100k\n",
      "['age', 'floodable_forests', 'dist', 'sur_cover', 'biomass', 'nearest_mature', 'cec', 'clay', 'cfvo', 'nitro', 'ocd', 'ocs', 'phh2o', 'sand', 'soc', 'mean_soil', 'mean_vpd', 'mean_temp', 'mean_def', 'mean_srad', 'mean_pr', 'mean_aet', 'mean_pdsi', 'num_fires', 'ecoreg', 'biome', 'indig', 'protec', 'topography', 'lon', 'lat', 'secondary_area', 'quarter_biomass', 'quarter', 'ecoreg_biomass']\n",
      "['age', 'floodable_forests', 'dist', 'sur_cover', 'biomass', 'nearest_mature', 'cec', 'clay', 'cfvo', 'nitro', 'ocd', 'ocs', 'phh2o', 'sand', 'soc', 'mean_soil', 'mean_vpd', 'mean_temp', 'mean_def', 'mean_srad', 'mean_pr', 'mean_aet', 'mean_pdsi', 'num_fires', 'ecoreg', 'biome', 'indig', 'protec', 'topography', 'lon', 'lat', 'secondary_area', 'quarter_biomass', 'quarter', 'ecoreg_biomass']\n",
      "Export started: M23__100k\n"
     ]
    }
   ],
   "source": [
    "# ----------------\n",
    "# FUNCTIONS\n",
    "# ----------------\n",
    "\n",
    "def create_grid_and_export(utm_zone, side_km = None):\n",
    "    \"\"\"Create grid for a UTM zone and export as CSV.\"\"\"\n",
    "    epsg_code = f\"EPSG:{utm_zone.get('EPSG').getInfo()}\"\n",
    "    row = utm_zone.get('ROW_').getInfo()\n",
    "    zone = utm_zone.get('ZONE').getInfo()\n",
    "\n",
    "    # Clip & reproject to UTM zone\n",
    "    image_clip = unified_data.clip(utm_zone.geometry())\n",
    "    image_utm = image_clip.reproject(\n",
    "        crs=age.projection(),\n",
    "        scale=age.projection().nominalScale()\n",
    "    )\n",
    "\n",
    "    if (side_km is None):\n",
    "        sampled_fc = image_utm.stratifiedSample(\n",
    "            numPoints=1000,\n",
    "            classBand='biome',\n",
    "            region=utm_zone.geometry(),\n",
    "            scale=image_utm.projection().nominalScale(),\n",
    "            geometries=False,\n",
    "            dropNulls=True,\n",
    "            tileScale=2\n",
    "        )\n",
    "        suffix = \"stratified\"\n",
    "    else:\n",
    "        # Create grid in UTM projection\n",
    "        utm_proj = image_utm.projection()\n",
    "        grid = utm_zone.geometry().coveringGrid(\n",
    "            utm_proj, scale = side_km * 1000\n",
    "        ).filterBounds(amazon)\n",
    "\n",
    "        # Sample points\n",
    "        sampled_fc = sample_pixels_per_cell(image_utm, grid)\n",
    "        suffix = f\"_{side_km}k\"\n",
    "\n",
    "\n",
    "    # Export\n",
    "    property_names = image_utm.bandNames().getInfo()\n",
    "    # Exclude 'system:index' and '.geo'\n",
    "    filtered_properties = [p for p in property_names if p not in ['system:index', '.geo']]\n",
    "\n",
    "    desc = f\"{row}{zone}_{suffix}\"\n",
    "    task = ee.batch.Export.table.toDrive(\n",
    "        collection=sampled_fc,\n",
    "        description=desc,\n",
    "        fileFormat=\"CSV\",\n",
    "        selectors=filtered_properties\n",
    "    )\n",
    "    task.start()\n",
    "\n",
    "    print(f\"Export started: {desc}\")\n",
    "\n",
    "# ----------------\n",
    "# LOOP OVER ZONES\n",
    "# ----------------\n",
    "zones_list = utm_with_epsg.toList(utm_with_epsg.size())\n",
    "\n",
    "for i in range(utm_with_epsg.size().getInfo()):\n",
    "    zone = ee.Feature(zones_list.get(i))\n",
    "    create_grid_and_export(zone, side_km = 100)\n"
   ]
  },
  {
   "cell_type": "markdown",
   "id": "c0e2d00c",
   "metadata": {},
   "source": [
    "Since processing gets too heavy if we try to extract each point at a time for the entire Amazon at 1km resolution, we do it in chunks:"
   ]
  },
  {
   "cell_type": "code",
   "execution_count": 7,
   "id": "60ae5d5b",
   "metadata": {},
   "outputs": [
    {
     "data": {
      "text/html": [
       "\n",
       "            <style>\n",
       "                .geemap-dark {\n",
       "                    --jp-widgets-color: white;\n",
       "                    --jp-widgets-label-color: white;\n",
       "                    --jp-ui-font-color1: white;\n",
       "                    --jp-layout-color2: #454545;\n",
       "                    background-color: #383838;\n",
       "                }\n",
       "\n",
       "                .geemap-dark .jupyter-button {\n",
       "                    --jp-layout-color3: #383838;\n",
       "                }\n",
       "\n",
       "                .geemap-colab {\n",
       "                    background-color: var(--colab-primary-surface-color, white);\n",
       "                }\n",
       "\n",
       "                .geemap-colab .jupyter-button {\n",
       "                    --jp-layout-color3: var(--colab-primary-surface-color, white);\n",
       "                }\n",
       "            </style>\n",
       "            "
      ],
      "text/plain": [
       "<IPython.core.display.HTML object>"
      ]
     },
     "metadata": {},
     "output_type": "display_data"
    }
   ],
   "source": [
    "def export_csv(name, image, grid_size, n_chunks = 1, lu_name = None):\n",
    "\n",
    "    properties_to_export = image.bandNames().getInfo()\n",
    "    \n",
    "    # Get FeatureCollection size and calculate chunk size\n",
    "    grid = ee.FeatureCollection(f\"{data_folder}/grid_{grid_size}k_amazon_{name}\")\n",
    "    total_features = grid.size().getInfo()\n",
    "    chunk_size = int(total_features * 1/n_chunks)\n",
    "\n",
    "    if lu_name:\n",
    "        name = f\"{name}_{lu_name}\"\n",
    "\n",
    "    def process_chunk(chunk_index):\n",
    "        start = chunk_index * chunk_size\n",
    "        chunk = grid.toList(chunk_size, start)\n",
    "        selected_pixels = ee.FeatureCollection(chunk)\n",
    "\n",
    "        unified_fc = image.reduceRegions(selected_pixels, ee.Reducer.first(), 30)\n",
    "\n",
    "        task = ee.batch.Export.table.toDrive(\n",
    "            collection = unified_fc,\n",
    "            description = f\"grid_{grid_size}k_{name}_{chunk_index}\",\n",
    "            fileFormat = \"CSV\",\n",
    "            selectors = [p for p in properties_to_export if p not in ['system:index', '.geo']]\n",
    "        )\n",
    "        task.start()\n",
    "\n",
    "    for i in range(n_chunks):\n",
    "        if i*chunk_size < total_features:\n",
    "            process_chunk(i)\n",
    "\n",
    "export_csv(\"pastureland\", unified_data_pasture, 1, n_chunks = 60)\n",
    "# export_csv(\"secondary\", unified_data_secondary, 1, n_chunks = 30)\n",
    "# export_csv(\"secondary\", unified_data_secondary, 10, n_chunks = 30)\n"
   ]
  },
  {
   "cell_type": "code",
   "execution_count": null,
   "id": "711b7ccc",
   "metadata": {},
   "outputs": [
    {
     "data": {
      "text/html": [
       "\n",
       "            <style>\n",
       "                .geemap-dark {\n",
       "                    --jp-widgets-color: white;\n",
       "                    --jp-widgets-label-color: white;\n",
       "                    --jp-ui-font-color1: white;\n",
       "                    --jp-layout-color2: #454545;\n",
       "                    background-color: #383838;\n",
       "                }\n",
       "\n",
       "                .geemap-dark .jupyter-button {\n",
       "                    --jp-layout-color3: #383838;\n",
       "                }\n",
       "\n",
       "                .geemap-colab {\n",
       "                    background-color: var(--colab-primary-surface-color, white);\n",
       "                }\n",
       "\n",
       "                .geemap-colab .jupyter-button {\n",
       "                    --jp-layout-color3: var(--colab-primary-surface-color, white);\n",
       "                }\n",
       "            </style>\n",
       "            "
      ],
      "text/plain": [
       "<IPython.core.display.HTML object>"
      ]
     },
     "metadata": {},
     "output_type": "display_data"
    }
   ],
   "source": [
    "suffixes = [\n",
    "    \"aggregated_all\",\n",
    "    \"non_aggregated_all\",\n",
    "    \"non_aggregated_10yr\",\n",
    "    \"non_aggregated_5yr\"\n",
    "]\n",
    "\n",
    "for suffix in suffixes:\n",
    "    combined_image = ee.Image.cat([\n",
    "        unified_data, \n",
    "        ee.Image(f\"{data_folder}/land_use_{suffix}\")\n",
    "    ])\n",
    "\n",
    "# export_csv(\"secondary\", combined_image, 10, n_chunks=30, lu_name=suffix)\n"
   ]
  },
  {
   "cell_type": "markdown",
   "id": "6923a829",
   "metadata": {},
   "source": [
    "## Different land use aggregations\n"
   ]
  },
  {
   "cell_type": "markdown",
   "id": "57b38ee2",
   "metadata": {},
   "source": [
    "## Field Data"
   ]
  },
  {
   "cell_type": "code",
   "execution_count": null,
   "id": "834a70cd",
   "metadata": {},
   "outputs": [
    {
     "data": {
      "text/html": [
       "\n",
       "            <style>\n",
       "                .geemap-dark {\n",
       "                    --jp-widgets-color: white;\n",
       "                    --jp-widgets-label-color: white;\n",
       "                    --jp-ui-font-color1: white;\n",
       "                    --jp-layout-color2: #454545;\n",
       "                    background-color: #383838;\n",
       "                }\n",
       "\n",
       "                .geemap-dark .jupyter-button {\n",
       "                    --jp-layout-color3: #383838;\n",
       "                }\n",
       "\n",
       "                .geemap-colab {\n",
       "                    background-color: var(--colab-primary-surface-color, white);\n",
       "                }\n",
       "\n",
       "                .geemap-colab .jupyter-button {\n",
       "                    --jp-layout-color3: var(--colab-primary-surface-color, white);\n",
       "                }\n",
       "            </style>\n",
       "            "
      ],
      "text/plain": [
       "<IPython.core.display.HTML object>"
      ]
     },
     "metadata": {},
     "output_type": "display_data"
    }
   ],
   "source": [
    "field_data = ee.FeatureCollection(f\"{data_folder}/field\")\n",
    "\n",
    "# Reproject continuous variables using mean\n",
    "continuous_vars = [\n",
    "    nearest_mature.rename(\"nearest_mature\"),\n",
    "    soil,\n",
    "    terraclim.select([\"mean_soil\", \"mean_vpd\", \"mean_temp\", \"mean_def\", \n",
    "                      \"mean_srad\", \"mean_pr\", \"mean_aet\", \"mean_pdsi\"])\n",
    "]\n",
    "\n",
    "unified_data_field = ee.Image.cat([\n",
    "    floodable_forests,\n",
    "    distance_deep_forest,\n",
    "    sur_cover,\n",
    "    continuous_vars,  # Exclude ESA_CCI from field data\n",
    "    categorical_vars,\n",
    "    ee.Image.pixelLonLat().rename(['lon', 'lat'])\n",
    "])\n",
    "\n",
    "unified_fc = unified_data_field.reduceRegions(field_data, ee.Reducer.first(), 30)\n",
    "\n",
    "properties_to_export = unified_data_field.bandNames().getInfo()\n",
    "properties_to_export = properties_to_export + [\"age\", \"site_id\", \"plot_id\", \"field_biom\"]\n",
    "\n",
    "# Export task to Google Drive\n",
    "task = ee.batch.Export.table.toDrive(\n",
    "    collection = unified_fc,\n",
    "    description = 'field_predictors',\n",
    "    fileFormat = \"CSV\",\n",
    "    selectors = [p for p in properties_to_export if p not in ['system:index', '.geo']]\n",
    ")\n",
    "task.start()"
   ]
  },
  {
   "cell_type": "code",
   "execution_count": null,
   "id": "fdad0be8",
   "metadata": {},
   "outputs": [
    {
     "data": {
      "text/html": [
       "\n",
       "            <style>\n",
       "                .geemap-dark {\n",
       "                    --jp-widgets-color: white;\n",
       "                    --jp-widgets-label-color: white;\n",
       "                    --jp-ui-font-color1: white;\n",
       "                    --jp-layout-color2: #454545;\n",
       "                    background-color: #383838;\n",
       "                }\n",
       "\n",
       "                .geemap-dark .jupyter-button {\n",
       "                    --jp-layout-color3: #383838;\n",
       "                }\n",
       "\n",
       "                .geemap-colab {\n",
       "                    background-color: var(--colab-primary-surface-color, white);\n",
       "                }\n",
       "\n",
       "                .geemap-colab .jupyter-button {\n",
       "                    --jp-layout-color3: var(--colab-primary-surface-color, white);\n",
       "                }\n",
       "            </style>\n",
       "            "
      ],
      "text/plain": [
       "<IPython.core.display.HTML object>"
      ]
     },
     "metadata": {},
     "output_type": "display_data"
    },
    {
     "name": "stdout",
     "output_type": "stream",
     "text": [
      "Total biomass: {'mature_biomass': 19499281737}\n"
     ]
    }
   ],
   "source": [
    "mature_biomass = ee.Image(f\"{data_folder}/mature_biomass\")\n",
    "mature_biomass_area_2020 = ee.Image(f\"{data_folder}/mature_biomass_area_2020\")\n",
    "\n",
    "\n",
    "# Most efficient - uses reduceRegion with bestEffort\n",
    "total_biomass = mature_biomass.reduceRegion(\n",
    "    reducer=ee.Reducer.sum(),\n",
    "    geometry=mature_biomass.geometry(),\n",
    "    scale=mature_biomass.projection().nominalScale(),\n",
    "    maxPixels=1e9,\n",
    "    bestEffort=True\n",
    ").getInfo()\n",
    "\n",
    "print(f\"Total biomass: {total_biomass}\")"
   ]
  },
  {
   "cell_type": "code",
   "execution_count": 16,
   "id": "3fb8a113",
   "metadata": {},
   "outputs": [
    {
     "data": {
      "text/html": [
       "\n",
       "            <style>\n",
       "                .geemap-dark {\n",
       "                    --jp-widgets-color: white;\n",
       "                    --jp-widgets-label-color: white;\n",
       "                    --jp-ui-font-color1: white;\n",
       "                    --jp-layout-color2: #454545;\n",
       "                    background-color: #383838;\n",
       "                }\n",
       "\n",
       "                .geemap-dark .jupyter-button {\n",
       "                    --jp-layout-color3: #383838;\n",
       "                }\n",
       "\n",
       "                .geemap-colab {\n",
       "                    background-color: var(--colab-primary-surface-color, white);\n",
       "                }\n",
       "\n",
       "                .geemap-colab .jupyter-button {\n",
       "                    --jp-layout-color3: var(--colab-primary-surface-color, white);\n",
       "                }\n",
       "            </style>\n",
       "            "
      ],
      "text/plain": [
       "<IPython.core.display.HTML object>"
      ]
     },
     "metadata": {},
     "output_type": "display_data"
    },
    {
     "name": "stdout",
     "output_type": "stream",
     "text": [
      "Covered area: 422.36 million hectares\n"
     ]
    }
   ],
   "source": [
    "# Load the categorical image and select the 'biome' band\n",
    "biomes = ee.Image(f\"{data_folder}/categorical\").select(\"biome\")\n",
    "biomes_mask = biomes.eq(1).rename(\"biome_mask\")\n",
    "lulc = (ee.Image(\"projects/mapbiomas-public/assets/brazil/lulc/collection9/mapbiomas_collection90_integration_v1\")\n",
    "            .select([f\"classification_{year}\" for year in config.range_1985_2020])\n",
    "            .byte()\n",
    "            .rename([str(year) for year in config.range_1985_2020]))\n",
    "mature_mask = lulc.eq(3).reduce(ee.Reducer.allNonZero()).unmask(0).updateMask(biomes_mask)\n",
    "\n",
    "# Get area coverage in million hectares\n",
    "pixel_area = ee.Image.pixelArea()\n",
    "valid_pixels = mature_mask\n",
    "covered_area = pixel_area.updateMask(valid_pixels).reduceRegion(\n",
    "    reducer=ee.Reducer.sum(),\n",
    "    geometry=mature_biomass.geometry(),\n",
    "    scale=mature_biomass.projection().nominalScale(),\n",
    "    maxPixels=1e9,\n",
    "    bestEffort=True\n",
    ").getInfo()\n",
    "\n",
    "# Convert from m² to million hectares\n",
    "# 1 hectare = 10,000 m²\n",
    "# 1 million hectares = 10,000,000,000 m²\n",
    "area_million_hectares = covered_area['area'] / 1e10\n",
    "\n",
    "print(f\"Covered area: {area_million_hectares:.2f} million hectares\")"
   ]
  },
  {
   "cell_type": "code",
   "execution_count": 17,
   "id": "1c7cf42b",
   "metadata": {},
   "outputs": [
    {
     "data": {
      "text/html": [
       "\n",
       "            <style>\n",
       "                .geemap-dark {\n",
       "                    --jp-widgets-color: white;\n",
       "                    --jp-widgets-label-color: white;\n",
       "                    --jp-ui-font-color1: white;\n",
       "                    --jp-layout-color2: #454545;\n",
       "                    background-color: #383838;\n",
       "                }\n",
       "\n",
       "                .geemap-dark .jupyter-button {\n",
       "                    --jp-layout-color3: #383838;\n",
       "                }\n",
       "\n",
       "                .geemap-colab {\n",
       "                    background-color: var(--colab-primary-surface-color, white);\n",
       "                }\n",
       "\n",
       "                .geemap-colab .jupyter-button {\n",
       "                    --jp-layout-color3: var(--colab-primary-surface-color, white);\n",
       "                }\n",
       "            </style>\n",
       "            "
      ],
      "text/plain": [
       "<IPython.core.display.HTML object>"
      ]
     },
     "metadata": {},
     "output_type": "display_data"
    },
    {
     "ename": "KeyboardInterrupt",
     "evalue": "",
     "output_type": "error",
     "traceback": [
      "\u001b[31m---------------------------------------------------------------------------\u001b[39m",
      "\u001b[31mKeyboardInterrupt\u001b[39m                         Traceback (most recent call last)",
      "\u001b[36mCell\u001b[39m\u001b[36m \u001b[39m\u001b[32mIn[17]\u001b[39m\u001b[32m, line 19\u001b[39m\n\u001b[32m     11\u001b[39m pixel_area = ee.Image.pixelArea()\n\u001b[32m     12\u001b[39m valid_pixels = mature_mask\n\u001b[32m     13\u001b[39m covered_area = \u001b[43mpixel_area\u001b[49m\u001b[43m.\u001b[49m\u001b[43mupdateMask\u001b[49m\u001b[43m(\u001b[49m\u001b[43mvalid_pixels\u001b[49m\u001b[43m)\u001b[49m\u001b[43m.\u001b[49m\u001b[43mreduceRegion\u001b[49m\u001b[43m(\u001b[49m\n\u001b[32m     14\u001b[39m \u001b[43m    \u001b[49m\u001b[43mreducer\u001b[49m\u001b[43m=\u001b[49m\u001b[43mee\u001b[49m\u001b[43m.\u001b[49m\u001b[43mReducer\u001b[49m\u001b[43m.\u001b[49m\u001b[43msum\u001b[49m\u001b[43m(\u001b[49m\u001b[43m)\u001b[49m\u001b[43m,\u001b[49m\n\u001b[32m     15\u001b[39m \u001b[43m    \u001b[49m\u001b[43mgeometry\u001b[49m\u001b[43m=\u001b[49m\u001b[43mmature_biomass\u001b[49m\u001b[43m.\u001b[49m\u001b[43mgeometry\u001b[49m\u001b[43m(\u001b[49m\u001b[43m)\u001b[49m\u001b[43m,\u001b[49m\n\u001b[32m     16\u001b[39m \u001b[43m    \u001b[49m\u001b[43mscale\u001b[49m\u001b[43m=\u001b[49m\u001b[43mmature_biomass\u001b[49m\u001b[43m.\u001b[49m\u001b[43mprojection\u001b[49m\u001b[43m(\u001b[49m\u001b[43m)\u001b[49m\u001b[43m.\u001b[49m\u001b[43mnominalScale\u001b[49m\u001b[43m(\u001b[49m\u001b[43m)\u001b[49m\u001b[43m,\u001b[49m\n\u001b[32m     17\u001b[39m \u001b[43m    \u001b[49m\u001b[43mmaxPixels\u001b[49m\u001b[43m=\u001b[49m\u001b[32;43m1e9\u001b[39;49m\u001b[43m,\u001b[49m\n\u001b[32m     18\u001b[39m \u001b[43m    \u001b[49m\u001b[43mbestEffort\u001b[49m\u001b[43m=\u001b[49m\u001b[38;5;28;43;01mTrue\u001b[39;49;00m\n\u001b[32m---> \u001b[39m\u001b[32m19\u001b[39m \u001b[43m)\u001b[49m\u001b[43m.\u001b[49m\u001b[43mgetInfo\u001b[49m\u001b[43m(\u001b[49m\u001b[43m)\u001b[49m\n\u001b[32m     21\u001b[39m \u001b[38;5;66;03m# Convert from m² to million hectares\u001b[39;00m\n\u001b[32m     22\u001b[39m \u001b[38;5;66;03m# 1 hectare = 10,000 m²\u001b[39;00m\n\u001b[32m     23\u001b[39m \u001b[38;5;66;03m# 1 million hectares = 10,000,000,000 m²\u001b[39;00m\n\u001b[32m     24\u001b[39m area_million_hectares = covered_area[\u001b[33m'\u001b[39m\u001b[33marea\u001b[39m\u001b[33m'\u001b[39m] / \u001b[32m1e10\u001b[39m\n",
      "\u001b[36mFile \u001b[39m\u001b[32m~/miniconda3/envs/regrowth-env/lib/python3.11/site-packages/ee/computedobject.py:107\u001b[39m, in \u001b[36mComputedObject.getInfo\u001b[39m\u001b[34m(self)\u001b[39m\n\u001b[32m    101\u001b[39m \u001b[38;5;28;01mdef\u001b[39;00m\u001b[38;5;250m \u001b[39m\u001b[34mgetInfo\u001b[39m(\u001b[38;5;28mself\u001b[39m) -> Optional[Any]:\n\u001b[32m    102\u001b[39m \u001b[38;5;250m  \u001b[39m\u001b[33;03m\"\"\"Fetch and return information about this object.\u001b[39;00m\n\u001b[32m    103\u001b[39m \n\u001b[32m    104\u001b[39m \u001b[33;03m  Returns:\u001b[39;00m\n\u001b[32m    105\u001b[39m \u001b[33;03m    The object can evaluate to anything.\u001b[39;00m\n\u001b[32m    106\u001b[39m \u001b[33;03m  \"\"\"\u001b[39;00m\n\u001b[32m--> \u001b[39m\u001b[32m107\u001b[39m   \u001b[38;5;28;01mreturn\u001b[39;00m \u001b[43mdata\u001b[49m\u001b[43m.\u001b[49m\u001b[43mcomputeValue\u001b[49m\u001b[43m(\u001b[49m\u001b[38;5;28;43mself\u001b[39;49m\u001b[43m)\u001b[49m\n",
      "\u001b[36mFile \u001b[39m\u001b[32m~/miniconda3/envs/regrowth-env/lib/python3.11/site-packages/ee/data.py:1128\u001b[39m, in \u001b[36mcomputeValue\u001b[39m\u001b[34m(obj)\u001b[39m\n\u001b[32m   1125\u001b[39m body = {\u001b[33m'\u001b[39m\u001b[33mexpression\u001b[39m\u001b[33m'\u001b[39m: serializer.encode(obj, for_cloud_api=\u001b[38;5;28;01mTrue\u001b[39;00m)}\n\u001b[32m   1126\u001b[39m _maybe_populate_workload_tag(body)\n\u001b[32m-> \u001b[39m\u001b[32m1128\u001b[39m \u001b[38;5;28;01mreturn\u001b[39;00m \u001b[43m_execute_cloud_call\u001b[49m\u001b[43m(\u001b[49m\n\u001b[32m   1129\u001b[39m \u001b[43m    \u001b[49m\u001b[43m_get_cloud_projects\u001b[49m\u001b[43m(\u001b[49m\u001b[43m)\u001b[49m\n\u001b[32m   1130\u001b[39m \u001b[43m    \u001b[49m\u001b[43m.\u001b[49m\u001b[43mvalue\u001b[49m\u001b[43m(\u001b[49m\u001b[43m)\u001b[49m\n\u001b[32m   1131\u001b[39m \u001b[43m    \u001b[49m\u001b[43m.\u001b[49m\u001b[43mcompute\u001b[49m\u001b[43m(\u001b[49m\u001b[43mbody\u001b[49m\u001b[43m=\u001b[49m\u001b[43mbody\u001b[49m\u001b[43m,\u001b[49m\u001b[43m \u001b[49m\u001b[43mproject\u001b[49m\u001b[43m=\u001b[49m\u001b[43m_get_projects_path\u001b[49m\u001b[43m(\u001b[49m\u001b[43m)\u001b[49m\u001b[43m,\u001b[49m\u001b[43m \u001b[49m\u001b[43mprettyPrint\u001b[49m\u001b[43m=\u001b[49m\u001b[38;5;28;43;01mFalse\u001b[39;49;00m\u001b[43m)\u001b[49m\n\u001b[32m   1132\u001b[39m \u001b[43m\u001b[49m\u001b[43m)\u001b[49m[\u001b[33m'\u001b[39m\u001b[33mresult\u001b[39m\u001b[33m'\u001b[39m]\n",
      "\u001b[36mFile \u001b[39m\u001b[32m~/miniconda3/envs/regrowth-env/lib/python3.11/site-packages/ee/data.py:408\u001b[39m, in \u001b[36m_execute_cloud_call\u001b[39m\u001b[34m(call, num_retries)\u001b[39m\n\u001b[32m    406\u001b[39m num_retries = _max_retries \u001b[38;5;28;01mif\u001b[39;00m num_retries \u001b[38;5;129;01mis\u001b[39;00m \u001b[38;5;28;01mNone\u001b[39;00m \u001b[38;5;28;01melse\u001b[39;00m num_retries\n\u001b[32m    407\u001b[39m \u001b[38;5;28;01mtry\u001b[39;00m:\n\u001b[32m--> \u001b[39m\u001b[32m408\u001b[39m   \u001b[38;5;28;01mreturn\u001b[39;00m \u001b[43mcall\u001b[49m\u001b[43m.\u001b[49m\u001b[43mexecute\u001b[49m\u001b[43m(\u001b[49m\u001b[43mnum_retries\u001b[49m\u001b[43m=\u001b[49m\u001b[43mnum_retries\u001b[49m\u001b[43m)\u001b[49m\n\u001b[32m    409\u001b[39m \u001b[38;5;28;01mexcept\u001b[39;00m googleapiclient.errors.HttpError \u001b[38;5;28;01mas\u001b[39;00m e:\n\u001b[32m    410\u001b[39m   \u001b[38;5;28;01mraise\u001b[39;00m _translate_cloud_exception(e)\n",
      "\u001b[36mFile \u001b[39m\u001b[32m~/miniconda3/envs/regrowth-env/lib/python3.11/site-packages/googleapiclient/_helpers.py:130\u001b[39m, in \u001b[36mpositional.<locals>.positional_decorator.<locals>.positional_wrapper\u001b[39m\u001b[34m(*args, **kwargs)\u001b[39m\n\u001b[32m    128\u001b[39m     \u001b[38;5;28;01melif\u001b[39;00m positional_parameters_enforcement == POSITIONAL_WARNING:\n\u001b[32m    129\u001b[39m         logger.warning(message)\n\u001b[32m--> \u001b[39m\u001b[32m130\u001b[39m \u001b[38;5;28;01mreturn\u001b[39;00m \u001b[43mwrapped\u001b[49m\u001b[43m(\u001b[49m\u001b[43m*\u001b[49m\u001b[43margs\u001b[49m\u001b[43m,\u001b[49m\u001b[43m \u001b[49m\u001b[43m*\u001b[49m\u001b[43m*\u001b[49m\u001b[43mkwargs\u001b[49m\u001b[43m)\u001b[49m\n",
      "\u001b[36mFile \u001b[39m\u001b[32m~/miniconda3/envs/regrowth-env/lib/python3.11/site-packages/googleapiclient/http.py:923\u001b[39m, in \u001b[36mHttpRequest.execute\u001b[39m\u001b[34m(self, http, num_retries)\u001b[39m\n\u001b[32m    920\u001b[39m     \u001b[38;5;28mself\u001b[39m.headers[\u001b[33m\"\u001b[39m\u001b[33mcontent-length\u001b[39m\u001b[33m\"\u001b[39m] = \u001b[38;5;28mstr\u001b[39m(\u001b[38;5;28mlen\u001b[39m(\u001b[38;5;28mself\u001b[39m.body))\n\u001b[32m    922\u001b[39m \u001b[38;5;66;03m# Handle retries for server-side errors.\u001b[39;00m\n\u001b[32m--> \u001b[39m\u001b[32m923\u001b[39m resp, content = \u001b[43m_retry_request\u001b[49m\u001b[43m(\u001b[49m\n\u001b[32m    924\u001b[39m \u001b[43m    \u001b[49m\u001b[43mhttp\u001b[49m\u001b[43m,\u001b[49m\n\u001b[32m    925\u001b[39m \u001b[43m    \u001b[49m\u001b[43mnum_retries\u001b[49m\u001b[43m,\u001b[49m\n\u001b[32m    926\u001b[39m \u001b[43m    \u001b[49m\u001b[33;43m\"\u001b[39;49m\u001b[33;43mrequest\u001b[39;49m\u001b[33;43m\"\u001b[39;49m\u001b[43m,\u001b[49m\n\u001b[32m    927\u001b[39m \u001b[43m    \u001b[49m\u001b[38;5;28;43mself\u001b[39;49m\u001b[43m.\u001b[49m\u001b[43m_sleep\u001b[49m\u001b[43m,\u001b[49m\n\u001b[32m    928\u001b[39m \u001b[43m    \u001b[49m\u001b[38;5;28;43mself\u001b[39;49m\u001b[43m.\u001b[49m\u001b[43m_rand\u001b[49m\u001b[43m,\u001b[49m\n\u001b[32m    929\u001b[39m \u001b[43m    \u001b[49m\u001b[38;5;28;43mstr\u001b[39;49m\u001b[43m(\u001b[49m\u001b[38;5;28;43mself\u001b[39;49m\u001b[43m.\u001b[49m\u001b[43muri\u001b[49m\u001b[43m)\u001b[49m\u001b[43m,\u001b[49m\n\u001b[32m    930\u001b[39m \u001b[43m    \u001b[49m\u001b[43mmethod\u001b[49m\u001b[43m=\u001b[49m\u001b[38;5;28;43mstr\u001b[39;49m\u001b[43m(\u001b[49m\u001b[38;5;28;43mself\u001b[39;49m\u001b[43m.\u001b[49m\u001b[43mmethod\u001b[49m\u001b[43m)\u001b[49m\u001b[43m,\u001b[49m\n\u001b[32m    931\u001b[39m \u001b[43m    \u001b[49m\u001b[43mbody\u001b[49m\u001b[43m=\u001b[49m\u001b[38;5;28;43mself\u001b[39;49m\u001b[43m.\u001b[49m\u001b[43mbody\u001b[49m\u001b[43m,\u001b[49m\n\u001b[32m    932\u001b[39m \u001b[43m    \u001b[49m\u001b[43mheaders\u001b[49m\u001b[43m=\u001b[49m\u001b[38;5;28;43mself\u001b[39;49m\u001b[43m.\u001b[49m\u001b[43mheaders\u001b[49m\u001b[43m,\u001b[49m\n\u001b[32m    933\u001b[39m \u001b[43m\u001b[49m\u001b[43m)\u001b[49m\n\u001b[32m    935\u001b[39m \u001b[38;5;28;01mfor\u001b[39;00m callback \u001b[38;5;129;01min\u001b[39;00m \u001b[38;5;28mself\u001b[39m.response_callbacks:\n\u001b[32m    936\u001b[39m     callback(resp)\n",
      "\u001b[36mFile \u001b[39m\u001b[32m~/miniconda3/envs/regrowth-env/lib/python3.11/site-packages/googleapiclient/http.py:191\u001b[39m, in \u001b[36m_retry_request\u001b[39m\u001b[34m(http, num_retries, req_type, sleep, rand, uri, method, *args, **kwargs)\u001b[39m\n\u001b[32m    189\u001b[39m \u001b[38;5;28;01mtry\u001b[39;00m:\n\u001b[32m    190\u001b[39m     exception = \u001b[38;5;28;01mNone\u001b[39;00m\n\u001b[32m--> \u001b[39m\u001b[32m191\u001b[39m     resp, content = \u001b[43mhttp\u001b[49m\u001b[43m.\u001b[49m\u001b[43mrequest\u001b[49m\u001b[43m(\u001b[49m\u001b[43muri\u001b[49m\u001b[43m,\u001b[49m\u001b[43m \u001b[49m\u001b[43mmethod\u001b[49m\u001b[43m,\u001b[49m\u001b[43m \u001b[49m\u001b[43m*\u001b[49m\u001b[43margs\u001b[49m\u001b[43m,\u001b[49m\u001b[43m \u001b[49m\u001b[43m*\u001b[49m\u001b[43m*\u001b[49m\u001b[43mkwargs\u001b[49m\u001b[43m)\u001b[49m\n\u001b[32m    192\u001b[39m \u001b[38;5;66;03m# Retry on SSL errors and socket timeout errors.\u001b[39;00m\n\u001b[32m    193\u001b[39m \u001b[38;5;28;01mexcept\u001b[39;00m _ssl_SSLError \u001b[38;5;28;01mas\u001b[39;00m ssl_error:\n",
      "\u001b[36mFile \u001b[39m\u001b[32m~/miniconda3/envs/regrowth-env/lib/python3.11/site-packages/google_auth_httplib2.py:218\u001b[39m, in \u001b[36mAuthorizedHttp.request\u001b[39m\u001b[34m(self, uri, method, body, headers, redirections, connection_type, **kwargs)\u001b[39m\n\u001b[32m    215\u001b[39m     body_stream_position = body.tell()\n\u001b[32m    217\u001b[39m \u001b[38;5;66;03m# Make the request.\u001b[39;00m\n\u001b[32m--> \u001b[39m\u001b[32m218\u001b[39m response, content = \u001b[38;5;28;43mself\u001b[39;49m\u001b[43m.\u001b[49m\u001b[43mhttp\u001b[49m\u001b[43m.\u001b[49m\u001b[43mrequest\u001b[49m\u001b[43m(\u001b[49m\n\u001b[32m    219\u001b[39m \u001b[43m    \u001b[49m\u001b[43muri\u001b[49m\u001b[43m,\u001b[49m\n\u001b[32m    220\u001b[39m \u001b[43m    \u001b[49m\u001b[43mmethod\u001b[49m\u001b[43m,\u001b[49m\n\u001b[32m    221\u001b[39m \u001b[43m    \u001b[49m\u001b[43mbody\u001b[49m\u001b[43m=\u001b[49m\u001b[43mbody\u001b[49m\u001b[43m,\u001b[49m\n\u001b[32m    222\u001b[39m \u001b[43m    \u001b[49m\u001b[43mheaders\u001b[49m\u001b[43m=\u001b[49m\u001b[43mrequest_headers\u001b[49m\u001b[43m,\u001b[49m\n\u001b[32m    223\u001b[39m \u001b[43m    \u001b[49m\u001b[43mredirections\u001b[49m\u001b[43m=\u001b[49m\u001b[43mredirections\u001b[49m\u001b[43m,\u001b[49m\n\u001b[32m    224\u001b[39m \u001b[43m    \u001b[49m\u001b[43mconnection_type\u001b[49m\u001b[43m=\u001b[49m\u001b[43mconnection_type\u001b[49m\u001b[43m,\u001b[49m\n\u001b[32m    225\u001b[39m \u001b[43m    \u001b[49m\u001b[43m*\u001b[49m\u001b[43m*\u001b[49m\u001b[43mkwargs\u001b[49m\n\u001b[32m    226\u001b[39m \u001b[43m\u001b[49m\u001b[43m)\u001b[49m\n\u001b[32m    228\u001b[39m \u001b[38;5;66;03m# If the response indicated that the credentials needed to be\u001b[39;00m\n\u001b[32m    229\u001b[39m \u001b[38;5;66;03m# refreshed, then refresh the credentials and re-attempt the\u001b[39;00m\n\u001b[32m    230\u001b[39m \u001b[38;5;66;03m# request.\u001b[39;00m\n\u001b[32m    231\u001b[39m \u001b[38;5;66;03m# A stored token may expire between the time it is retrieved and\u001b[39;00m\n\u001b[32m    232\u001b[39m \u001b[38;5;66;03m# the time the request is made, so we may need to try twice.\u001b[39;00m\n\u001b[32m    233\u001b[39m \u001b[38;5;28;01mif\u001b[39;00m (\n\u001b[32m    234\u001b[39m     response.status \u001b[38;5;129;01min\u001b[39;00m \u001b[38;5;28mself\u001b[39m._refresh_status_codes\n\u001b[32m    235\u001b[39m     \u001b[38;5;129;01mand\u001b[39;00m _credential_refresh_attempt < \u001b[38;5;28mself\u001b[39m._max_refresh_attempts\n\u001b[32m    236\u001b[39m ):\n",
      "\u001b[36mFile \u001b[39m\u001b[32m~/miniconda3/envs/regrowth-env/lib/python3.11/site-packages/ee/_cloud_api_utils.py:70\u001b[39m, in \u001b[36m_Http.request\u001b[39m\u001b[34m(***failed resolving arguments***)\u001b[39m\n\u001b[32m     63\u001b[39m \u001b[38;5;28;01mdel\u001b[39;00m redirections  \u001b[38;5;66;03m# Ignored\u001b[39;00m\n\u001b[32m     65\u001b[39m \u001b[38;5;28;01mtry\u001b[39;00m:\n\u001b[32m     66\u001b[39m   \u001b[38;5;66;03m# googleapiclient is expecting an httplib2 object, and doesn't include\u001b[39;00m\n\u001b[32m     67\u001b[39m   \u001b[38;5;66;03m# requests error in the list of transient errors. Therefore, transient\u001b[39;00m\n\u001b[32m     68\u001b[39m   \u001b[38;5;66;03m# requests errors should be converted to kinds that googleapiclient\u001b[39;00m\n\u001b[32m     69\u001b[39m   \u001b[38;5;66;03m# consider transient.\u001b[39;00m\n\u001b[32m---> \u001b[39m\u001b[32m70\u001b[39m   response = \u001b[38;5;28;43mself\u001b[39;49m\u001b[43m.\u001b[49m\u001b[43m_session\u001b[49m\u001b[43m.\u001b[49m\u001b[43mrequest\u001b[49m\u001b[43m(\u001b[49m\n\u001b[32m     71\u001b[39m \u001b[43m      \u001b[49m\u001b[43mmethod\u001b[49m\u001b[43m,\u001b[49m\u001b[43m \u001b[49m\u001b[43muri\u001b[49m\u001b[43m,\u001b[49m\u001b[43m \u001b[49m\u001b[43mdata\u001b[49m\u001b[43m=\u001b[49m\u001b[43mbody\u001b[49m\u001b[43m,\u001b[49m\u001b[43m \u001b[49m\u001b[43mheaders\u001b[49m\u001b[43m=\u001b[49m\u001b[43mheaders\u001b[49m\u001b[43m,\u001b[49m\u001b[43m \u001b[49m\u001b[43mtimeout\u001b[49m\u001b[43m=\u001b[49m\u001b[38;5;28;43mself\u001b[39;49m\u001b[43m.\u001b[49m\u001b[43m_timeout\u001b[49m\n\u001b[32m     72\u001b[39m \u001b[43m  \u001b[49m\u001b[43m)\u001b[49m\n\u001b[32m     73\u001b[39m \u001b[38;5;28;01mexcept\u001b[39;00m requests.exceptions.ConnectionError \u001b[38;5;28;01mas\u001b[39;00m connection_error:\n\u001b[32m     74\u001b[39m   \u001b[38;5;28;01mraise\u001b[39;00m \u001b[38;5;167;01mConnectionError\u001b[39;00m(connection_error) \u001b[38;5;28;01mfrom\u001b[39;00m\u001b[38;5;250m \u001b[39m\u001b[34;01mconnection_error\u001b[39;00m\n",
      "\u001b[36mFile \u001b[39m\u001b[32m~/miniconda3/envs/regrowth-env/lib/python3.11/site-packages/requests/sessions.py:589\u001b[39m, in \u001b[36mSession.request\u001b[39m\u001b[34m(self, method, url, params, data, headers, cookies, files, auth, timeout, allow_redirects, proxies, hooks, stream, verify, cert, json)\u001b[39m\n\u001b[32m    584\u001b[39m send_kwargs = {\n\u001b[32m    585\u001b[39m     \u001b[33m\"\u001b[39m\u001b[33mtimeout\u001b[39m\u001b[33m\"\u001b[39m: timeout,\n\u001b[32m    586\u001b[39m     \u001b[33m\"\u001b[39m\u001b[33mallow_redirects\u001b[39m\u001b[33m\"\u001b[39m: allow_redirects,\n\u001b[32m    587\u001b[39m }\n\u001b[32m    588\u001b[39m send_kwargs.update(settings)\n\u001b[32m--> \u001b[39m\u001b[32m589\u001b[39m resp = \u001b[38;5;28;43mself\u001b[39;49m\u001b[43m.\u001b[49m\u001b[43msend\u001b[49m\u001b[43m(\u001b[49m\u001b[43mprep\u001b[49m\u001b[43m,\u001b[49m\u001b[43m \u001b[49m\u001b[43m*\u001b[49m\u001b[43m*\u001b[49m\u001b[43msend_kwargs\u001b[49m\u001b[43m)\u001b[49m\n\u001b[32m    591\u001b[39m \u001b[38;5;28;01mreturn\u001b[39;00m resp\n",
      "\u001b[36mFile \u001b[39m\u001b[32m~/miniconda3/envs/regrowth-env/lib/python3.11/site-packages/requests/sessions.py:703\u001b[39m, in \u001b[36mSession.send\u001b[39m\u001b[34m(self, request, **kwargs)\u001b[39m\n\u001b[32m    700\u001b[39m start = preferred_clock()\n\u001b[32m    702\u001b[39m \u001b[38;5;66;03m# Send the request\u001b[39;00m\n\u001b[32m--> \u001b[39m\u001b[32m703\u001b[39m r = \u001b[43madapter\u001b[49m\u001b[43m.\u001b[49m\u001b[43msend\u001b[49m\u001b[43m(\u001b[49m\u001b[43mrequest\u001b[49m\u001b[43m,\u001b[49m\u001b[43m \u001b[49m\u001b[43m*\u001b[49m\u001b[43m*\u001b[49m\u001b[43mkwargs\u001b[49m\u001b[43m)\u001b[49m\n\u001b[32m    705\u001b[39m \u001b[38;5;66;03m# Total elapsed time of the request (approximately)\u001b[39;00m\n\u001b[32m    706\u001b[39m elapsed = preferred_clock() - start\n",
      "\u001b[36mFile \u001b[39m\u001b[32m~/miniconda3/envs/regrowth-env/lib/python3.11/site-packages/requests/adapters.py:667\u001b[39m, in \u001b[36mHTTPAdapter.send\u001b[39m\u001b[34m(self, request, stream, timeout, verify, cert, proxies)\u001b[39m\n\u001b[32m    664\u001b[39m     timeout = TimeoutSauce(connect=timeout, read=timeout)\n\u001b[32m    666\u001b[39m \u001b[38;5;28;01mtry\u001b[39;00m:\n\u001b[32m--> \u001b[39m\u001b[32m667\u001b[39m     resp = \u001b[43mconn\u001b[49m\u001b[43m.\u001b[49m\u001b[43murlopen\u001b[49m\u001b[43m(\u001b[49m\n\u001b[32m    668\u001b[39m \u001b[43m        \u001b[49m\u001b[43mmethod\u001b[49m\u001b[43m=\u001b[49m\u001b[43mrequest\u001b[49m\u001b[43m.\u001b[49m\u001b[43mmethod\u001b[49m\u001b[43m,\u001b[49m\n\u001b[32m    669\u001b[39m \u001b[43m        \u001b[49m\u001b[43murl\u001b[49m\u001b[43m=\u001b[49m\u001b[43murl\u001b[49m\u001b[43m,\u001b[49m\n\u001b[32m    670\u001b[39m \u001b[43m        \u001b[49m\u001b[43mbody\u001b[49m\u001b[43m=\u001b[49m\u001b[43mrequest\u001b[49m\u001b[43m.\u001b[49m\u001b[43mbody\u001b[49m\u001b[43m,\u001b[49m\n\u001b[32m    671\u001b[39m \u001b[43m        \u001b[49m\u001b[43mheaders\u001b[49m\u001b[43m=\u001b[49m\u001b[43mrequest\u001b[49m\u001b[43m.\u001b[49m\u001b[43mheaders\u001b[49m\u001b[43m,\u001b[49m\n\u001b[32m    672\u001b[39m \u001b[43m        \u001b[49m\u001b[43mredirect\u001b[49m\u001b[43m=\u001b[49m\u001b[38;5;28;43;01mFalse\u001b[39;49;00m\u001b[43m,\u001b[49m\n\u001b[32m    673\u001b[39m \u001b[43m        \u001b[49m\u001b[43massert_same_host\u001b[49m\u001b[43m=\u001b[49m\u001b[38;5;28;43;01mFalse\u001b[39;49;00m\u001b[43m,\u001b[49m\n\u001b[32m    674\u001b[39m \u001b[43m        \u001b[49m\u001b[43mpreload_content\u001b[49m\u001b[43m=\u001b[49m\u001b[38;5;28;43;01mFalse\u001b[39;49;00m\u001b[43m,\u001b[49m\n\u001b[32m    675\u001b[39m \u001b[43m        \u001b[49m\u001b[43mdecode_content\u001b[49m\u001b[43m=\u001b[49m\u001b[38;5;28;43;01mFalse\u001b[39;49;00m\u001b[43m,\u001b[49m\n\u001b[32m    676\u001b[39m \u001b[43m        \u001b[49m\u001b[43mretries\u001b[49m\u001b[43m=\u001b[49m\u001b[38;5;28;43mself\u001b[39;49m\u001b[43m.\u001b[49m\u001b[43mmax_retries\u001b[49m\u001b[43m,\u001b[49m\n\u001b[32m    677\u001b[39m \u001b[43m        \u001b[49m\u001b[43mtimeout\u001b[49m\u001b[43m=\u001b[49m\u001b[43mtimeout\u001b[49m\u001b[43m,\u001b[49m\n\u001b[32m    678\u001b[39m \u001b[43m        \u001b[49m\u001b[43mchunked\u001b[49m\u001b[43m=\u001b[49m\u001b[43mchunked\u001b[49m\u001b[43m,\u001b[49m\n\u001b[32m    679\u001b[39m \u001b[43m    \u001b[49m\u001b[43m)\u001b[49m\n\u001b[32m    681\u001b[39m \u001b[38;5;28;01mexcept\u001b[39;00m (ProtocolError, \u001b[38;5;167;01mOSError\u001b[39;00m) \u001b[38;5;28;01mas\u001b[39;00m err:\n\u001b[32m    682\u001b[39m     \u001b[38;5;28;01mraise\u001b[39;00m \u001b[38;5;167;01mConnectionError\u001b[39;00m(err, request=request)\n",
      "\u001b[36mFile \u001b[39m\u001b[32m~/miniconda3/envs/regrowth-env/lib/python3.11/site-packages/urllib3/connectionpool.py:787\u001b[39m, in \u001b[36mHTTPConnectionPool.urlopen\u001b[39m\u001b[34m(self, method, url, body, headers, retries, redirect, assert_same_host, timeout, pool_timeout, release_conn, chunked, body_pos, preload_content, decode_content, **response_kw)\u001b[39m\n\u001b[32m    784\u001b[39m response_conn = conn \u001b[38;5;28;01mif\u001b[39;00m \u001b[38;5;129;01mnot\u001b[39;00m release_conn \u001b[38;5;28;01melse\u001b[39;00m \u001b[38;5;28;01mNone\u001b[39;00m\n\u001b[32m    786\u001b[39m \u001b[38;5;66;03m# Make the request on the HTTPConnection object\u001b[39;00m\n\u001b[32m--> \u001b[39m\u001b[32m787\u001b[39m response = \u001b[38;5;28;43mself\u001b[39;49m\u001b[43m.\u001b[49m\u001b[43m_make_request\u001b[49m\u001b[43m(\u001b[49m\n\u001b[32m    788\u001b[39m \u001b[43m    \u001b[49m\u001b[43mconn\u001b[49m\u001b[43m,\u001b[49m\n\u001b[32m    789\u001b[39m \u001b[43m    \u001b[49m\u001b[43mmethod\u001b[49m\u001b[43m,\u001b[49m\n\u001b[32m    790\u001b[39m \u001b[43m    \u001b[49m\u001b[43murl\u001b[49m\u001b[43m,\u001b[49m\n\u001b[32m    791\u001b[39m \u001b[43m    \u001b[49m\u001b[43mtimeout\u001b[49m\u001b[43m=\u001b[49m\u001b[43mtimeout_obj\u001b[49m\u001b[43m,\u001b[49m\n\u001b[32m    792\u001b[39m \u001b[43m    \u001b[49m\u001b[43mbody\u001b[49m\u001b[43m=\u001b[49m\u001b[43mbody\u001b[49m\u001b[43m,\u001b[49m\n\u001b[32m    793\u001b[39m \u001b[43m    \u001b[49m\u001b[43mheaders\u001b[49m\u001b[43m=\u001b[49m\u001b[43mheaders\u001b[49m\u001b[43m,\u001b[49m\n\u001b[32m    794\u001b[39m \u001b[43m    \u001b[49m\u001b[43mchunked\u001b[49m\u001b[43m=\u001b[49m\u001b[43mchunked\u001b[49m\u001b[43m,\u001b[49m\n\u001b[32m    795\u001b[39m \u001b[43m    \u001b[49m\u001b[43mretries\u001b[49m\u001b[43m=\u001b[49m\u001b[43mretries\u001b[49m\u001b[43m,\u001b[49m\n\u001b[32m    796\u001b[39m \u001b[43m    \u001b[49m\u001b[43mresponse_conn\u001b[49m\u001b[43m=\u001b[49m\u001b[43mresponse_conn\u001b[49m\u001b[43m,\u001b[49m\n\u001b[32m    797\u001b[39m \u001b[43m    \u001b[49m\u001b[43mpreload_content\u001b[49m\u001b[43m=\u001b[49m\u001b[43mpreload_content\u001b[49m\u001b[43m,\u001b[49m\n\u001b[32m    798\u001b[39m \u001b[43m    \u001b[49m\u001b[43mdecode_content\u001b[49m\u001b[43m=\u001b[49m\u001b[43mdecode_content\u001b[49m\u001b[43m,\u001b[49m\n\u001b[32m    799\u001b[39m \u001b[43m    \u001b[49m\u001b[43m*\u001b[49m\u001b[43m*\u001b[49m\u001b[43mresponse_kw\u001b[49m\u001b[43m,\u001b[49m\n\u001b[32m    800\u001b[39m \u001b[43m\u001b[49m\u001b[43m)\u001b[49m\n\u001b[32m    802\u001b[39m \u001b[38;5;66;03m# Everything went great!\u001b[39;00m\n\u001b[32m    803\u001b[39m clean_exit = \u001b[38;5;28;01mTrue\u001b[39;00m\n",
      "\u001b[36mFile \u001b[39m\u001b[32m~/miniconda3/envs/regrowth-env/lib/python3.11/site-packages/urllib3/connectionpool.py:534\u001b[39m, in \u001b[36mHTTPConnectionPool._make_request\u001b[39m\u001b[34m(self, conn, method, url, body, headers, retries, timeout, chunked, response_conn, preload_content, decode_content, enforce_content_length)\u001b[39m\n\u001b[32m    532\u001b[39m \u001b[38;5;66;03m# Receive the response from the server\u001b[39;00m\n\u001b[32m    533\u001b[39m \u001b[38;5;28;01mtry\u001b[39;00m:\n\u001b[32m--> \u001b[39m\u001b[32m534\u001b[39m     response = \u001b[43mconn\u001b[49m\u001b[43m.\u001b[49m\u001b[43mgetresponse\u001b[49m\u001b[43m(\u001b[49m\u001b[43m)\u001b[49m\n\u001b[32m    535\u001b[39m \u001b[38;5;28;01mexcept\u001b[39;00m (BaseSSLError, \u001b[38;5;167;01mOSError\u001b[39;00m) \u001b[38;5;28;01mas\u001b[39;00m e:\n\u001b[32m    536\u001b[39m     \u001b[38;5;28mself\u001b[39m._raise_timeout(err=e, url=url, timeout_value=read_timeout)\n",
      "\u001b[36mFile \u001b[39m\u001b[32m~/miniconda3/envs/regrowth-env/lib/python3.11/site-packages/urllib3/connection.py:516\u001b[39m, in \u001b[36mHTTPConnection.getresponse\u001b[39m\u001b[34m(self)\u001b[39m\n\u001b[32m    513\u001b[39m _shutdown = \u001b[38;5;28mgetattr\u001b[39m(\u001b[38;5;28mself\u001b[39m.sock, \u001b[33m\"\u001b[39m\u001b[33mshutdown\u001b[39m\u001b[33m\"\u001b[39m, \u001b[38;5;28;01mNone\u001b[39;00m)\n\u001b[32m    515\u001b[39m \u001b[38;5;66;03m# Get the response from http.client.HTTPConnection\u001b[39;00m\n\u001b[32m--> \u001b[39m\u001b[32m516\u001b[39m httplib_response = \u001b[38;5;28;43msuper\u001b[39;49m\u001b[43m(\u001b[49m\u001b[43m)\u001b[49m\u001b[43m.\u001b[49m\u001b[43mgetresponse\u001b[49m\u001b[43m(\u001b[49m\u001b[43m)\u001b[49m\n\u001b[32m    518\u001b[39m \u001b[38;5;28;01mtry\u001b[39;00m:\n\u001b[32m    519\u001b[39m     assert_header_parsing(httplib_response.msg)\n",
      "\u001b[36mFile \u001b[39m\u001b[32m~/miniconda3/envs/regrowth-env/lib/python3.11/http/client.py:1395\u001b[39m, in \u001b[36mHTTPConnection.getresponse\u001b[39m\u001b[34m(self)\u001b[39m\n\u001b[32m   1393\u001b[39m \u001b[38;5;28;01mtry\u001b[39;00m:\n\u001b[32m   1394\u001b[39m     \u001b[38;5;28;01mtry\u001b[39;00m:\n\u001b[32m-> \u001b[39m\u001b[32m1395\u001b[39m         \u001b[43mresponse\u001b[49m\u001b[43m.\u001b[49m\u001b[43mbegin\u001b[49m\u001b[43m(\u001b[49m\u001b[43m)\u001b[49m\n\u001b[32m   1396\u001b[39m     \u001b[38;5;28;01mexcept\u001b[39;00m \u001b[38;5;167;01mConnectionError\u001b[39;00m:\n\u001b[32m   1397\u001b[39m         \u001b[38;5;28mself\u001b[39m.close()\n",
      "\u001b[36mFile \u001b[39m\u001b[32m~/miniconda3/envs/regrowth-env/lib/python3.11/http/client.py:325\u001b[39m, in \u001b[36mHTTPResponse.begin\u001b[39m\u001b[34m(self)\u001b[39m\n\u001b[32m    323\u001b[39m \u001b[38;5;66;03m# read until we get a non-100 response\u001b[39;00m\n\u001b[32m    324\u001b[39m \u001b[38;5;28;01mwhile\u001b[39;00m \u001b[38;5;28;01mTrue\u001b[39;00m:\n\u001b[32m--> \u001b[39m\u001b[32m325\u001b[39m     version, status, reason = \u001b[38;5;28;43mself\u001b[39;49m\u001b[43m.\u001b[49m\u001b[43m_read_status\u001b[49m\u001b[43m(\u001b[49m\u001b[43m)\u001b[49m\n\u001b[32m    326\u001b[39m     \u001b[38;5;28;01mif\u001b[39;00m status != CONTINUE:\n\u001b[32m    327\u001b[39m         \u001b[38;5;28;01mbreak\u001b[39;00m\n",
      "\u001b[36mFile \u001b[39m\u001b[32m~/miniconda3/envs/regrowth-env/lib/python3.11/http/client.py:286\u001b[39m, in \u001b[36mHTTPResponse._read_status\u001b[39m\u001b[34m(self)\u001b[39m\n\u001b[32m    285\u001b[39m \u001b[38;5;28;01mdef\u001b[39;00m\u001b[38;5;250m \u001b[39m\u001b[34m_read_status\u001b[39m(\u001b[38;5;28mself\u001b[39m):\n\u001b[32m--> \u001b[39m\u001b[32m286\u001b[39m     line = \u001b[38;5;28mstr\u001b[39m(\u001b[38;5;28mself\u001b[39m.fp.readline(_MAXLINE + \u001b[32m1\u001b[39m), \u001b[33m\"\u001b[39m\u001b[33miso-8859-1\u001b[39m\u001b[33m\"\u001b[39m)\n\u001b[32m    287\u001b[39m     \u001b[38;5;28;01mif\u001b[39;00m \u001b[38;5;28mlen\u001b[39m(line) > _MAXLINE:\n\u001b[32m    288\u001b[39m         \u001b[38;5;28;01mraise\u001b[39;00m LineTooLong(\u001b[33m\"\u001b[39m\u001b[33mstatus line\u001b[39m\u001b[33m\"\u001b[39m)\n",
      "\u001b[36mFile \u001b[39m\u001b[32m~/miniconda3/envs/regrowth-env/lib/python3.11/socket.py:718\u001b[39m, in \u001b[36mSocketIO.readinto\u001b[39m\u001b[34m(self, b)\u001b[39m\n\u001b[32m    716\u001b[39m \u001b[38;5;28;01mwhile\u001b[39;00m \u001b[38;5;28;01mTrue\u001b[39;00m:\n\u001b[32m    717\u001b[39m     \u001b[38;5;28;01mtry\u001b[39;00m:\n\u001b[32m--> \u001b[39m\u001b[32m718\u001b[39m         \u001b[38;5;28;01mreturn\u001b[39;00m \u001b[38;5;28;43mself\u001b[39;49m\u001b[43m.\u001b[49m\u001b[43m_sock\u001b[49m\u001b[43m.\u001b[49m\u001b[43mrecv_into\u001b[49m\u001b[43m(\u001b[49m\u001b[43mb\u001b[49m\u001b[43m)\u001b[49m\n\u001b[32m    719\u001b[39m     \u001b[38;5;28;01mexcept\u001b[39;00m timeout:\n\u001b[32m    720\u001b[39m         \u001b[38;5;28mself\u001b[39m._timeout_occurred = \u001b[38;5;28;01mTrue\u001b[39;00m\n",
      "\u001b[36mFile \u001b[39m\u001b[32m~/miniconda3/envs/regrowth-env/lib/python3.11/ssl.py:1314\u001b[39m, in \u001b[36mSSLSocket.recv_into\u001b[39m\u001b[34m(self, buffer, nbytes, flags)\u001b[39m\n\u001b[32m   1310\u001b[39m     \u001b[38;5;28;01mif\u001b[39;00m flags != \u001b[32m0\u001b[39m:\n\u001b[32m   1311\u001b[39m         \u001b[38;5;28;01mraise\u001b[39;00m \u001b[38;5;167;01mValueError\u001b[39;00m(\n\u001b[32m   1312\u001b[39m           \u001b[33m\"\u001b[39m\u001b[33mnon-zero flags not allowed in calls to recv_into() on \u001b[39m\u001b[38;5;132;01m%s\u001b[39;00m\u001b[33m\"\u001b[39m %\n\u001b[32m   1313\u001b[39m           \u001b[38;5;28mself\u001b[39m.\u001b[34m__class__\u001b[39m)\n\u001b[32m-> \u001b[39m\u001b[32m1314\u001b[39m     \u001b[38;5;28;01mreturn\u001b[39;00m \u001b[38;5;28;43mself\u001b[39;49m\u001b[43m.\u001b[49m\u001b[43mread\u001b[49m\u001b[43m(\u001b[49m\u001b[43mnbytes\u001b[49m\u001b[43m,\u001b[49m\u001b[43m \u001b[49m\u001b[43mbuffer\u001b[49m\u001b[43m)\u001b[49m\n\u001b[32m   1315\u001b[39m \u001b[38;5;28;01melse\u001b[39;00m:\n\u001b[32m   1316\u001b[39m     \u001b[38;5;28;01mreturn\u001b[39;00m \u001b[38;5;28msuper\u001b[39m().recv_into(buffer, nbytes, flags)\n",
      "\u001b[36mFile \u001b[39m\u001b[32m~/miniconda3/envs/regrowth-env/lib/python3.11/ssl.py:1166\u001b[39m, in \u001b[36mSSLSocket.read\u001b[39m\u001b[34m(self, len, buffer)\u001b[39m\n\u001b[32m   1164\u001b[39m \u001b[38;5;28;01mtry\u001b[39;00m:\n\u001b[32m   1165\u001b[39m     \u001b[38;5;28;01mif\u001b[39;00m buffer \u001b[38;5;129;01mis\u001b[39;00m \u001b[38;5;129;01mnot\u001b[39;00m \u001b[38;5;28;01mNone\u001b[39;00m:\n\u001b[32m-> \u001b[39m\u001b[32m1166\u001b[39m         \u001b[38;5;28;01mreturn\u001b[39;00m \u001b[38;5;28;43mself\u001b[39;49m\u001b[43m.\u001b[49m\u001b[43m_sslobj\u001b[49m\u001b[43m.\u001b[49m\u001b[43mread\u001b[49m\u001b[43m(\u001b[49m\u001b[38;5;28;43mlen\u001b[39;49m\u001b[43m,\u001b[49m\u001b[43m \u001b[49m\u001b[43mbuffer\u001b[49m\u001b[43m)\u001b[49m\n\u001b[32m   1167\u001b[39m     \u001b[38;5;28;01melse\u001b[39;00m:\n\u001b[32m   1168\u001b[39m         \u001b[38;5;28;01mreturn\u001b[39;00m \u001b[38;5;28mself\u001b[39m._sslobj.read(\u001b[38;5;28mlen\u001b[39m)\n",
      "\u001b[31mKeyboardInterrupt\u001b[39m: "
     ]
    }
   ],
   "source": [
    "# Load the categorical image and select the 'biome' band\n",
    "biomes = ee.Image(f\"{data_folder}/categorical\").select(\"biome\")\n",
    "biomes_mask = biomes.eq(1).rename(\"biome_mask\")\n",
    "lulc = (ee.Image(\"projects/mapbiomas-public/assets/brazil/lulc/collection9/mapbiomas_collection90_integration_v1\")\n",
    "            .select([f\"classification_{year}\" for year in config.range_1985_2020])\n",
    "            .byte()\n",
    "            .rename([str(year) for year in config.range_1985_2020]))\n",
    "mature_mask = lulc.eq(15).reduce(ee.Reducer.allNonZero()).unmask(0).updateMask(biomes_mask)\n",
    "\n",
    "# Get area coverage in million hectares\n",
    "pixel_area = ee.Image.pixelArea()\n",
    "valid_pixels = mature_mask\n",
    "covered_area = pixel_area.updateMask(valid_pixels).reduceRegion(\n",
    "    reducer=ee.Reducer.sum(),\n",
    "    geometry=mature_biomass.geometry(),\n",
    "    scale=mature_biomass.projection().nominalScale(),\n",
    "    maxPixels=1e9,\n",
    "    bestEffort=True\n",
    ").getInfo()\n",
    "\n",
    "# Convert from m² to million hectares\n",
    "# 1 hectare = 10,000 m²\n",
    "# 1 million hectares = 10,000,000,000 m²\n",
    "area_million_hectares = covered_area['area'] / 1e10\n",
    "\n",
    "print(f\"Covered area: {area_million_hectares:.2f} million hectares\")"
   ]
  }
 ],
 "metadata": {
  "kernelspec": {
   "display_name": "regrowth-env",
   "language": "python",
   "name": "python3"
  },
  "language_info": {
   "codemirror_mode": {
    "name": "ipython",
    "version": 3
   },
   "file_extension": ".py",
   "mimetype": "text/x-python",
   "name": "python",
   "nbconvert_exporter": "python",
   "pygments_lexer": "ipython3",
   "version": "3.11.12"
  }
 },
 "nbformat": 4,
 "nbformat_minor": 5
}
