{
 "cells": [
  {
   "cell_type": "code",
   "execution_count": null,
   "metadata": {},
   "outputs": [],
   "source": [
    "\n",
    "import ee\n",
    "from utils import *\n",
    "initialize()\n"
   ]
  },
  {
   "cell_type": "code",
   "execution_count": 2,
   "metadata": {},
   "outputs": [
    {
     "data": {
      "text/html": [
       "\n",
       "            <style>\n",
       "                .geemap-dark {\n",
       "                    --jp-widgets-color: white;\n",
       "                    --jp-widgets-label-color: white;\n",
       "                    --jp-ui-font-color1: white;\n",
       "                    --jp-layout-color2: #454545;\n",
       "                    background-color: #383838;\n",
       "                }\n",
       "\n",
       "                .geemap-dark .jupyter-button {\n",
       "                    --jp-layout-color3: #383838;\n",
       "                }\n",
       "\n",
       "                .geemap-colab {\n",
       "                    background-color: var(--colab-primary-surface-color, white);\n",
       "                }\n",
       "\n",
       "                .geemap-colab .jupyter-button {\n",
       "                    --jp-layout-color3: var(--colab-primary-surface-color, white);\n",
       "                }\n",
       "            </style>\n",
       "            "
      ],
      "text/plain": [
       "<IPython.core.display.HTML object>"
      ]
     },
     "metadata": {},
     "output_type": "display_data"
    }
   ],
   "source": [
    "\n",
    "# Deleting assets in bulk from projects. Taken from https://gis.stackexchange.com/questions/467363/batch-deleting-of-earth-engine-assets\n",
    "\n",
    "\n",
    "def conditional_asset_rm(asset_list, starts_with):\n",
    "    \"\"\"Deletes assets from a list if they start with starts_with.\"\"\"\n",
    "    success_messages = []\n",
    "    for asset in asset_list:\n",
    "        id = asset[\"id\"]\n",
    "        name = asset[\"name\"]\n",
    "        findex = 5 if id.startswith(\"users\") else 3\n",
    "        f = name.split(\"/\")[findex]\n",
    "        if f.startswith(starts_with):\n",
    "            ee.data.deleteAsset(id)\n",
    "            success_messages.append(f\"Deleted asset {id}\")\n",
    "    return success_messages\n",
    "\n",
    "\n",
    "def move_assets_to_folder(starts_with, destination_folder):\n",
    "    \"\"\"\n",
    "    Moves assets from the specified asset list to a given folder \n",
    "    if their names start with the specified prefix.\n",
    "\n",
    "    Args:\n",
    "        starts_with (str): The prefix string to match.\n",
    "        destination_folder (str): The folder path to move the assets into.\n",
    "\n",
    "    Returns:\n",
    "        list: List of success messages for moved assets.\n",
    "    \"\"\"\n",
    "    success_messages = []\n",
    "    \n",
    "    for asset in asset_list:\n",
    "        id = asset[\"id\"]\n",
    "        name = asset[\"name\"]\n",
    "        findex = 5 if id.startswith(\"users\") else 3\n",
    "        f = name.split(\"/\")[findex]\n",
    "        \n",
    "        if f.startswith(starts_with):\n",
    "            # Define the new asset ID within the destination folder\n",
    "            new_id = f\"{destination_folder}/{f}\"\n",
    "            # Move the asset to the new ID\n",
    "            ee.data.copyAsset(id, new_id)\n",
    "            ee.data.deleteAsset(id)\n",
    "            success_messages.append(f\"Moved asset {id} to {new_id}\")\n",
    "    \n",
    "    return success_messages\n"
   ]
  },
  {
   "cell_type": "code",
   "execution_count": 3,
   "metadata": {},
   "outputs": [
    {
     "data": {
      "text/html": [
       "\n",
       "            <style>\n",
       "                .geemap-dark {\n",
       "                    --jp-widgets-color: white;\n",
       "                    --jp-widgets-label-color: white;\n",
       "                    --jp-ui-font-color1: white;\n",
       "                    --jp-layout-color2: #454545;\n",
       "                    background-color: #383838;\n",
       "                }\n",
       "\n",
       "                .geemap-dark .jupyter-button {\n",
       "                    --jp-layout-color3: #383838;\n",
       "                }\n",
       "\n",
       "                .geemap-colab {\n",
       "                    background-color: var(--colab-primary-surface-color, white);\n",
       "                }\n",
       "\n",
       "                .geemap-colab .jupyter-button {\n",
       "                    --jp-layout-color3: var(--colab-primary-surface-color, white);\n",
       "                }\n",
       "            </style>\n",
       "            "
      ],
      "text/plain": [
       "<IPython.core.display.HTML object>"
      ]
     },
     "metadata": {},
     "output_type": "display_data"
    },
    {
     "data": {
      "text/plain": [
       "[{'type': 'IMAGE',\n",
       "  'name': 'projects/amazon-forest-regrowth/assets/CMIP6/moisture_in_upper_portion_of_soil_column_historical',\n",
       "  'id': 'projects/amazon-forest-regrowth/assets/CMIP6/moisture_in_upper_portion_of_soil_column_historical',\n",
       "  'updateTime': '2025-06-01T00:12:45.686533Z'},\n",
       " {'type': 'IMAGE',\n",
       "  'name': 'projects/amazon-forest-regrowth/assets/CMIP6/moisture_in_upper_portion_of_soil_column_ssp126',\n",
       "  'id': 'projects/amazon-forest-regrowth/assets/CMIP6/moisture_in_upper_portion_of_soil_column_ssp126',\n",
       "  'updateTime': '2025-06-01T00:12:44.551446Z'},\n",
       " {'type': 'IMAGE',\n",
       "  'name': 'projects/amazon-forest-regrowth/assets/CMIP6/moisture_in_upper_portion_of_soil_column_ssp245',\n",
       "  'id': 'projects/amazon-forest-regrowth/assets/CMIP6/moisture_in_upper_portion_of_soil_column_ssp245',\n",
       "  'updateTime': '2025-06-01T00:12:53.906946Z'},\n",
       " {'type': 'IMAGE',\n",
       "  'name': 'projects/amazon-forest-regrowth/assets/CMIP6/moisture_in_upper_portion_of_soil_column_ssp585',\n",
       "  'id': 'projects/amazon-forest-regrowth/assets/CMIP6/moisture_in_upper_portion_of_soil_column_ssp585',\n",
       "  'updateTime': '2025-06-01T00:12:34.041866Z'},\n",
       " {'type': 'IMAGE',\n",
       "  'name': 'projects/amazon-forest-regrowth/assets/CMIP6/near_surface_air_temperature_historical',\n",
       "  'id': 'projects/amazon-forest-regrowth/assets/CMIP6/near_surface_air_temperature_historical',\n",
       "  'updateTime': '2025-06-01T00:12:52.932519Z'},\n",
       " {'type': 'IMAGE',\n",
       "  'name': 'projects/amazon-forest-regrowth/assets/CMIP6/near_surface_air_temperature_ssp126',\n",
       "  'id': 'projects/amazon-forest-regrowth/assets/CMIP6/near_surface_air_temperature_ssp126',\n",
       "  'updateTime': '2025-06-01T00:12:28.038036Z'},\n",
       " {'type': 'IMAGE',\n",
       "  'name': 'projects/amazon-forest-regrowth/assets/CMIP6/near_surface_air_temperature_ssp245',\n",
       "  'id': 'projects/amazon-forest-regrowth/assets/CMIP6/near_surface_air_temperature_ssp245',\n",
       "  'updateTime': '2025-06-01T00:12:38.655790Z'},\n",
       " {'type': 'IMAGE',\n",
       "  'name': 'projects/amazon-forest-regrowth/assets/CMIP6/near_surface_air_temperature_ssp585',\n",
       "  'id': 'projects/amazon-forest-regrowth/assets/CMIP6/near_surface_air_temperature_ssp585',\n",
       "  'updateTime': '2025-06-01T00:12:40.511190Z'},\n",
       " {'type': 'IMAGE',\n",
       "  'name': 'projects/amazon-forest-regrowth/assets/CMIP6/near_surface_specific_humidity_historical',\n",
       "  'id': 'projects/amazon-forest-regrowth/assets/CMIP6/near_surface_specific_humidity_historical',\n",
       "  'updateTime': '2025-06-01T00:12:39.750328Z'},\n",
       " {'type': 'IMAGE',\n",
       "  'name': 'projects/amazon-forest-regrowth/assets/CMIP6/near_surface_specific_humidity_ssp126',\n",
       "  'id': 'projects/amazon-forest-regrowth/assets/CMIP6/near_surface_specific_humidity_ssp126',\n",
       "  'updateTime': '2025-06-01T00:12:40.004194Z'},\n",
       " {'type': 'IMAGE',\n",
       "  'name': 'projects/amazon-forest-regrowth/assets/CMIP6/near_surface_specific_humidity_ssp245',\n",
       "  'id': 'projects/amazon-forest-regrowth/assets/CMIP6/near_surface_specific_humidity_ssp245',\n",
       "  'updateTime': '2025-06-01T00:13:05.429548Z'},\n",
       " {'type': 'IMAGE',\n",
       "  'name': 'projects/amazon-forest-regrowth/assets/CMIP6/near_surface_specific_humidity_ssp585',\n",
       "  'id': 'projects/amazon-forest-regrowth/assets/CMIP6/near_surface_specific_humidity_ssp585',\n",
       "  'updateTime': '2025-06-01T00:13:10.059224Z'},\n",
       " {'type': 'IMAGE',\n",
       "  'name': 'projects/amazon-forest-regrowth/assets/CMIP6/precipitation_historical',\n",
       "  'id': 'projects/amazon-forest-regrowth/assets/CMIP6/precipitation_historical',\n",
       "  'updateTime': '2025-06-01T00:12:44.194211Z'},\n",
       " {'type': 'IMAGE',\n",
       "  'name': 'projects/amazon-forest-regrowth/assets/CMIP6/precipitation_ssp126',\n",
       "  'id': 'projects/amazon-forest-regrowth/assets/CMIP6/precipitation_ssp126',\n",
       "  'updateTime': '2025-06-01T00:13:15.238962Z'},\n",
       " {'type': 'IMAGE',\n",
       "  'name': 'projects/amazon-forest-regrowth/assets/CMIP6/precipitation_ssp245',\n",
       "  'id': 'projects/amazon-forest-regrowth/assets/CMIP6/precipitation_ssp245',\n",
       "  'updateTime': '2025-06-01T00:13:21.932261Z'},\n",
       " {'type': 'IMAGE',\n",
       "  'name': 'projects/amazon-forest-regrowth/assets/CMIP6/precipitation_ssp585',\n",
       "  'id': 'projects/amazon-forest-regrowth/assets/CMIP6/precipitation_ssp585',\n",
       "  'updateTime': '2025-06-01T00:13:07.464582Z'},\n",
       " {'type': 'IMAGE',\n",
       "  'name': 'projects/amazon-forest-regrowth/assets/CMIP6/surface_downwelling_shortwave_radiation_historical',\n",
       "  'id': 'projects/amazon-forest-regrowth/assets/CMIP6/surface_downwelling_shortwave_radiation_historical',\n",
       "  'updateTime': '2025-06-01T00:13:21.817946Z'},\n",
       " {'type': 'IMAGE',\n",
       "  'name': 'projects/amazon-forest-regrowth/assets/CMIP6/surface_downwelling_shortwave_radiation_ssp126',\n",
       "  'id': 'projects/amazon-forest-regrowth/assets/CMIP6/surface_downwelling_shortwave_radiation_ssp126',\n",
       "  'updateTime': '2025-06-01T00:12:57.364516Z'},\n",
       " {'type': 'IMAGE',\n",
       "  'name': 'projects/amazon-forest-regrowth/assets/CMIP6/surface_downwelling_shortwave_radiation_ssp245',\n",
       "  'id': 'projects/amazon-forest-regrowth/assets/CMIP6/surface_downwelling_shortwave_radiation_ssp245',\n",
       "  'updateTime': '2025-06-01T00:12:55.926329Z'},\n",
       " {'type': 'IMAGE',\n",
       "  'name': 'projects/amazon-forest-regrowth/assets/CMIP6/surface_downwelling_shortwave_radiation_ssp585',\n",
       "  'id': 'projects/amazon-forest-regrowth/assets/CMIP6/surface_downwelling_shortwave_radiation_ssp585',\n",
       "  'updateTime': '2025-06-01T00:13:00.265849Z'}]"
      ]
     },
     "execution_count": 3,
     "metadata": {},
     "output_type": "execute_result"
    }
   ],
   "source": [
    "\n",
    "asset_list = ee.data.listAssets(\"projects/amazon-forest-regrowth/assets/CMIP6\")[\"assets\"]\n",
    "asset_list"
   ]
  },
  {
   "cell_type": "code",
   "execution_count": 4,
   "metadata": {},
   "outputs": [
    {
     "data": {
      "text/html": [
       "\n",
       "            <style>\n",
       "                .geemap-dark {\n",
       "                    --jp-widgets-color: white;\n",
       "                    --jp-widgets-label-color: white;\n",
       "                    --jp-ui-font-color1: white;\n",
       "                    --jp-layout-color2: #454545;\n",
       "                    background-color: #383838;\n",
       "                }\n",
       "\n",
       "                .geemap-dark .jupyter-button {\n",
       "                    --jp-layout-color3: #383838;\n",
       "                }\n",
       "\n",
       "                .geemap-colab {\n",
       "                    background-color: var(--colab-primary-surface-color, white);\n",
       "                }\n",
       "\n",
       "                .geemap-colab .jupyter-button {\n",
       "                    --jp-layout-color3: var(--colab-primary-surface-color, white);\n",
       "                }\n",
       "            </style>\n",
       "            "
      ],
      "text/plain": [
       "<IPython.core.display.HTML object>"
      ]
     },
     "metadata": {},
     "output_type": "display_data"
    }
   ],
   "source": [
    "\n",
    "# move_assets_to_folder(\"near\", \"projects/amazon-forest-regrowth/assets/mapbiomas\")\n",
    "\n",
    "# conditional_asset_rm(asset_list, \"land\")\n",
    "\n",
    "\n",
    "for asset in asset_list:\n",
    "    id = asset[\"id\"]\n",
    "    ee.data.deleteAsset(id)"
   ]
  }
 ],
 "metadata": {
  "kernelspec": {
   "display_name": "regrowth-env",
   "language": "python",
   "name": "python3"
  },
  "language_info": {
   "codemirror_mode": {
    "name": "ipython",
    "version": 3
   },
   "file_extension": ".py",
   "mimetype": "text/x-python",
   "name": "python",
   "nbconvert_exporter": "python",
   "pygments_lexer": "ipython3",
   "version": "3.11.12"
  }
 },
 "nbformat": 4,
 "nbformat_minor": 2
}
