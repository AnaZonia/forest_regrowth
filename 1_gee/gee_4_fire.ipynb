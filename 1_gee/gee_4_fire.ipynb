{
 "cells": [
  {
   "cell_type": "code",
   "execution_count": 1,
   "metadata": {},
   "outputs": [],
   "source": [
    "import ee\n",
    "import geemap\n",
    "from gee_0_utils import *\n",
    "\n",
    "initialize()\n",
    "\n",
    "config = ProjectConfig()\n",
    "roi = config.roi\n",
    "data_folder = config.data_folder\n",
    "last_year = config.last_year\n",
    "\n",
    "age, _, fire = desired_lulc()"
   ]
  },
  {
   "cell_type": "markdown",
   "metadata": {},
   "source": [
    "## Fire\n",
    "\n",
    "### Total number of fires per pixel\n",
    "\n",
    "Each burned pixel contains the value of the land use type that burned (such as the desired_values vector specified in the land use section) - unburned pixels are zero.\n",
    "\n",
    "There are instances of fires:\n",
    "- after the first observation of anthropogenic land use\n",
    "- before the first observation of anthropogenic land use (forest fire)\n",
    "- after the last observation of anthropogenic land use (burn in regrowing forest)\n",
    "\n",
    "*Note that fire has different transform than lulc, and the projections will be adjusted when exporting.*\n",
    "\n",
    "### How many years ago was the last fire?\n",
    "\n",
    "Make one image with 34 bands, each with the number of years from the instance of burn to 2020.\n",
    "Each pixel is 0 if unburned, and \"time since fire\" in number of years if it's burned."
   ]
  },
  {
   "cell_type": "code",
   "execution_count": null,
   "metadata": {},
   "outputs": [
    {
     "data": {
      "text/html": [
       "\n",
       "            <style>\n",
       "                .geemap-dark {\n",
       "                    --jp-widgets-color: white;\n",
       "                    --jp-widgets-label-color: white;\n",
       "                    --jp-ui-font-color1: white;\n",
       "                    --jp-layout-color2: #454545;\n",
       "                    background-color: #383838;\n",
       "                }\n",
       "\n",
       "                .geemap-dark .jupyter-button {\n",
       "                    --jp-layout-color3: #383838;\n",
       "                }\n",
       "\n",
       "                .geemap-colab {\n",
       "                    background-color: var(--colab-primary-surface-color, white);\n",
       "                }\n",
       "\n",
       "                .geemap-colab .jupyter-button {\n",
       "                    --jp-layout-color3: var(--colab-primary-surface-color, white);\n",
       "                }\n",
       "            </style>\n",
       "            "
      ],
      "text/plain": [
       "<IPython.core.display.HTML object>"
      ]
     },
     "metadata": {},
     "output_type": "display_data"
    }
   ],
   "source": [
    "# Load the FireCCI dataset\n",
    "dataset = ee.ImageCollection('ESA/CCI/FireCCI/5_1')\n",
    "\n",
    "# Define the list of years you want to process\n",
    "years = list(range(2001, 2021))\n",
    "\n",
    "# Function to calculate the burn count for a specific year\n",
    "def annual_burn_count(year):\n",
    "    year_collection = dataset.filterDate(f'{year}-01-01', f'{year}-12-31')\n",
    "    burn_occurrences = year_collection.select('BurnDate').map(lambda img: img.gt(0).selfMask())\n",
    "    return burn_occurrences.sum().rename(str(year))\n",
    "\n",
    "# Map over the years to generate an image for each year's burn count\n",
    "annual_burn_images = [annual_burn_count(year) for year in years]\n",
    "\n",
    "fire = ee.Image.cat(annual_burn_images).byte().updateMask(age)\n",
    "first_year_considered = 2001\n",
    "years_regrowth_considered = range(2001, 2020)"
   ]
  },
  {
   "cell_type": "code",
   "execution_count": null,
   "metadata": {},
   "outputs": [
    {
     "data": {
      "text/html": [
       "\n",
       "            <style>\n",
       "                .geemap-dark {\n",
       "                    --jp-widgets-color: white;\n",
       "                    --jp-widgets-label-color: white;\n",
       "                    --jp-ui-font-color1: white;\n",
       "                    --jp-layout-color2: #454545;\n",
       "                    background-color: #383838;\n",
       "                }\n",
       "\n",
       "                .geemap-dark .jupyter-button {\n",
       "                    --jp-layout-color3: #383838;\n",
       "                }\n",
       "\n",
       "                .geemap-colab {\n",
       "                    background-color: var(--colab-primary-surface-color, white);\n",
       "                }\n",
       "\n",
       "                .geemap-colab .jupyter-button {\n",
       "                    --jp-layout-color3: var(--colab-primary-surface-color, white);\n",
       "                }\n",
       "            </style>\n",
       "            "
      ],
      "text/plain": [
       "<IPython.core.display.HTML object>"
      ]
     },
     "metadata": {},
     "output_type": "display_data"
    }
   ],
   "source": [
    "\n",
    "\n",
    "# Calculate burn information and add yearly bands to the corresponding images\n",
    "for yr in years_regrowth_considered:\n",
    "    yrs_ago = last_year - yr\n",
    "    age_mask = age.eq(yrs_ago).selfMask()\n",
    "    \n",
    "    bands_after = fire.select([str(year) for year in range(yr, last_year+1)]).updateMask(age_mask)\n",
    "    num_fires_after_regrowth = num_fires_after_regrowth.addBands(\n",
    "    bands_after.reduce(ee.Reducer.sum()).byte().rename(f\"{yrs_ago}\"))\n",
    "\n",
    "    # Add bands for before regrowth\n",
    "    bands_before = fire.select([str(year) for year in range(first_year_considered, yr+1)]).updateMask(age_mask)\n",
    "    num_fires_before_regrowth = num_fires_before_regrowth.addBands(\n",
    "        bands_before.reduce(ee.Reducer.sum()).byte().rename(f\"{yrs_ago}\")\n",
    "    )\n",
    "\n",
    "# Remove the first band (assuming it's an unwanted initial band)\n",
    "num_fires_before_regrowth = num_fires_before_regrowth.reduce(ee.Reducer.sum()).selfMask().unmask(0) \\\n",
    "    .rename(\"num_fires\")\n",
    "\n",
    "num_fires_after_regrowth = num_fires_after_regrowth.reduce(ee.Reducer.sum()).unmask(0) \\\n",
    "    .rename(\"num_fires_after_regrowth\")\n",
    "unburned_mask = num_fires_after_regrowth.eq(0).rename(\"unburned_mask\")\n",
    "\n",
    "\n"
   ]
  },
  {
   "cell_type": "code",
   "execution_count": null,
   "metadata": {},
   "outputs": [
    {
     "data": {
      "text/html": [
       "\n",
       "            <style>\n",
       "                .geemap-dark {\n",
       "                    --jp-widgets-color: white;\n",
       "                    --jp-widgets-label-color: white;\n",
       "                    --jp-ui-font-color1: white;\n",
       "                    --jp-layout-color2: #454545;\n",
       "                    background-color: #383838;\n",
       "                }\n",
       "\n",
       "                .geemap-dark .jupyter-button {\n",
       "                    --jp-layout-color3: #383838;\n",
       "                }\n",
       "\n",
       "                .geemap-colab {\n",
       "                    background-color: var(--colab-primary-surface-color, white);\n",
       "                }\n",
       "\n",
       "                .geemap-colab .jupyter-button {\n",
       "                    --jp-layout-color3: var(--colab-primary-surface-color, white);\n",
       "                }\n",
       "            </style>\n",
       "            "
      ],
      "text/plain": [
       "<IPython.core.display.HTML object>"
      ]
     },
     "metadata": {},
     "output_type": "display_data"
    }
   ],
   "source": [
    "\n",
    "if ESA_fire:\n",
    "    num_fires_before_regrowth = num_fires_before_regrowth.updateMask(unburned_mask)\n",
    "    export_image(num_fires_before_regrowth, \"ESA_fires\", region = roi, scale = 30, folder = folder)\n",
    "if method == \"eu\":\n",
    "    num_fires_before_regrowth = num_fires_before_regrowth.updateMask(unburned_mask)\n",
    "    # export_image(num_fires_before_regrowth, \"eu_mapbiomas_fires\", region = roi, scale = 30, folder = folder)\n",
    "    export_image(unburned_mask, \"mapbiomas_unburned_mask\", region = roi, scale = 30, folder = folder)\n",
    "else:\n",
    "    export_image(land_use, f\"land_use{name_LU}\", region = roi, scale = 30, folder = folder)"
   ]
  }
 ],
 "metadata": {
  "kernelspec": {
   "display_name": "regrowth-env",
   "language": "python",
   "name": "python3"
  },
  "language_info": {
   "codemirror_mode": {
    "name": "ipython",
    "version": 3
   },
   "file_extension": ".py",
   "mimetype": "text/x-python",
   "name": "python",
   "nbconvert_exporter": "python",
   "pygments_lexer": "ipython3",
   "version": "3.12.8"
  }
 },
 "nbformat": 4,
 "nbformat_minor": 2
}
