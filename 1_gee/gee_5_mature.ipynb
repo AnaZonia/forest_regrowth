{
 "cells": [
  {
   "cell_type": "markdown",
   "metadata": {},
   "source": [
    "# Surrounding Landscape\n",
    "\n",
    "This script outputs the satellite-based rasters into the Google Earth Engine Cloud.\n",
    "\n",
    "Inputs:\n",
    "\n",
    "\n"
   ]
  },
  {
   "cell_type": "code",
   "execution_count": 1,
   "metadata": {},
   "outputs": [],
   "source": [
    "import ee\n",
    "import geemap\n",
    "from gee_0_utils import *\n",
    "\n",
    "initialize()\n",
    "\n",
    "config = ProjectConfig()\n",
    "roi = config.roi\n",
    "data_folder = config.data_folder\n",
    "last_year = config.last_year\n",
    "\n",
    "method = 'mapbiomas'\n",
    "biomass_raw = (ee.Image(f\"projects/sat-io/open-datasets/ESA/ESA_CCI_AGB/CCI_BIOMASS_100m_AGB_{last_year}_v51\")\n",
    "           .select(\"AGB\").rename(f\"ESA_CCI_{last_year}\"))\n",
    "\n",
    "# Load the categorical image and select the 'biome' band\n",
    "biomes = ee.Image(f\"{data_folder}/categorical\").select(\"biome\")\n",
    "biomes_mask = biomes.eq(1).Or(biomes.eq(4)).rename(\"biome_mask\")\n"
   ]
  },
  {
   "cell_type": "markdown",
   "metadata": {},
   "source": [
    "## Surrounding mature forest biomass\n",
    "\n",
    "- Mean biomass of surrounding mature forests (interpolated with Gaussian kernel)\n",
    "- Total surrounding mature forest cover (normalized from 0-1) at a 500m distance"
   ]
  },
  {
   "cell_type": "code",
   "execution_count": 2,
   "metadata": {},
   "outputs": [
    {
     "data": {
      "text/html": [
       "\n",
       "            <style>\n",
       "                .geemap-dark {\n",
       "                    --jp-widgets-color: white;\n",
       "                    --jp-widgets-label-color: white;\n",
       "                    --jp-ui-font-color1: white;\n",
       "                    --jp-layout-color2: #454545;\n",
       "                    background-color: #383838;\n",
       "                }\n",
       "\n",
       "                .geemap-dark .jupyter-button {\n",
       "                    --jp-layout-color3: #383838;\n",
       "                }\n",
       "\n",
       "                .geemap-colab {\n",
       "                    background-color: var(--colab-primary-surface-color, white);\n",
       "                }\n",
       "\n",
       "                .geemap-colab .jupyter-button {\n",
       "                    --jp-layout-color3: var(--colab-primary-surface-color, white);\n",
       "                }\n",
       "            </style>\n",
       "            "
      ],
      "text/plain": [
       "<IPython.core.display.HTML object>"
      ]
     },
     "metadata": {},
     "output_type": "display_data"
    }
   ],
   "source": [
    "if method == 'tmf':\n",
    "    transition = ee.ImageCollection('projects/JRC/TMF/v1_2023/TransitionMap_Subtypes').mosaic().clip(roi)\n",
    "    mature_mask = transition.eq(10).selfMask()\n",
    "    age = ee.Image(f\"{data_folder}/tmf_{last_year}\")\n",
    "\n",
    "elif method == 'mapbiomas':\n",
    "    lulc = (ee.Image(\"projects/mapbiomas-public/assets/brazil/lulc/collection9/mapbiomas_collection90_integration_v1\")\n",
    "                .select([f\"classification_{year}\" for year in config.range_1985_2020])\n",
    "                .byte()\n",
    "                .rename([str(year) for year in config.range_1985_2020]))\n",
    "    mature_mask = lulc.eq(3).reduce(ee.Reducer.allNonZero()).selfMask().updateMask(biomes_mask)\n",
    "    age = ee.Image(f\"{data_folder}/mapbiomas_{last_year}\")\n",
    "\n",
    "mature_biomass = biomass_raw.updateMask(mature_mask).rename(\"mature_biomass\")\n",
    "\n",
    "# keep only forests that are 1500m away from any non-forest area\n",
    "edge_detec = mature_mask.unmask(-1).zeroCrossing()\n",
    "distance_to_forest_edge = (edge_detec.fastDistanceTransform(1000, 'pixels').sqrt() # 30m per pixel, 30 * 1000 = 30000m radius of search\n",
    "    .multiply(ee.Image.pixelArea().sqrt()).toInt16().rename(\"dist\"))\n",
    "\n",
    "# sur_cover = mature_mask.unmask(0).focalMean(radius = 500, units = \"meters\").float().updateMask(age).rename(\"sur_cover\")\n",
    "sur_cover = mature_mask.unmask(0).reduceResolution(reducer=ee.Reducer.mean(), bestEffort=True).float().updateMask(age).rename(\"sur_cover\")"
   ]
  },
  {
   "cell_type": "markdown",
   "metadata": {},
   "source": [
    "## Biomass of nearest mature forest"
   ]
  },
  {
   "cell_type": "code",
   "execution_count": null,
   "metadata": {},
   "outputs": [
    {
     "data": {
      "text/html": [
       "\n",
       "            <style>\n",
       "                .geemap-dark {\n",
       "                    --jp-widgets-color: white;\n",
       "                    --jp-widgets-label-color: white;\n",
       "                    --jp-ui-font-color1: white;\n",
       "                    --jp-layout-color2: #454545;\n",
       "                    background-color: #383838;\n",
       "                }\n",
       "\n",
       "                .geemap-dark .jupyter-button {\n",
       "                    --jp-layout-color3: #383838;\n",
       "                }\n",
       "\n",
       "                .geemap-colab {\n",
       "                    background-color: var(--colab-primary-surface-color, white);\n",
       "                }\n",
       "\n",
       "                .geemap-colab .jupyter-button {\n",
       "                    --jp-layout-color3: var(--colab-primary-surface-color, white);\n",
       "                }\n",
       "            </style>\n",
       "            "
      ],
      "text/plain": [
       "<IPython.core.display.HTML object>"
      ]
     },
     "metadata": {},
     "output_type": "display_data"
    }
   ],
   "source": [
    "distance_gt_1000 = distance_to_forest_edge.gt(1000).selfMask()\n",
    "mature_biomass_exclude_edge = mature_biomass.updateMask(distance_gt_1000).rename(\"mature_biomass\")\n",
    "\n",
    "# Aggregate the high-resolution pixels into the 10 km grid\n",
    "mature_biomass_10k = mature_biomass_exclude_edge.updateMask(biomes_mask).reduceResolution(\n",
    "    reducer=ee.Reducer.mean(),  # Use mean to calculate the average\n",
    "    maxPixels=1024,\n",
    "    bestEffort=True # Use all pixels that can fit in the larger pixel\n",
    ").reproject(\n",
    "    crs='EPSG:4326',\n",
    "    scale=10000\n",
    ").toInt16().rename(\"mature_biomass\")"
   ]
  },
  {
   "cell_type": "markdown",
   "metadata": {},
   "source": [
    "Export at a 100m resolution (same as ESA CCI Biomass) to argue for the distance-to-edge effect."
   ]
  },
  {
   "cell_type": "code",
   "execution_count": 3,
   "metadata": {},
   "outputs": [
    {
     "data": {
      "text/html": [
       "\n",
       "            <style>\n",
       "                .geemap-dark {\n",
       "                    --jp-widgets-color: white;\n",
       "                    --jp-widgets-label-color: white;\n",
       "                    --jp-ui-font-color1: white;\n",
       "                    --jp-layout-color2: #454545;\n",
       "                    background-color: #383838;\n",
       "                }\n",
       "\n",
       "                .geemap-dark .jupyter-button {\n",
       "                    --jp-layout-color3: #383838;\n",
       "                }\n",
       "\n",
       "                .geemap-colab {\n",
       "                    background-color: var(--colab-primary-surface-color, white);\n",
       "                }\n",
       "\n",
       "                .geemap-colab .jupyter-button {\n",
       "                    --jp-layout-color3: var(--colab-primary-surface-color, white);\n",
       "                }\n",
       "            </style>\n",
       "            "
      ],
      "text/plain": [
       "<IPython.core.display.HTML object>"
      ]
     },
     "metadata": {},
     "output_type": "display_data"
    }
   ],
   "source": [
    "# export_image(distance_to_forest_edge, \"distance_to_forest_edge\", region = roi, scale = 30)\n",
    "export_image(sur_cover, \"sur_cover_reduce_resol\", region = roi, scale = 30)\n",
    "# export_image(mature_biomass, \"mature_biomass\", region = roi, scale = 100)\n",
    "# export_image(mature_biomass_10k, \"mature_biomass_10k\", scale = 10000, region = roi)"
   ]
  },
  {
   "cell_type": "markdown",
   "metadata": {},
   "source": [
    "## Amazon Quarters\n",
    "Mean Biomass Value Per Climatic Region"
   ]
  },
  {
   "cell_type": "code",
   "execution_count": 12,
   "metadata": {},
   "outputs": [
    {
     "data": {
      "text/html": [
       "\n",
       "            <style>\n",
       "                .geemap-dark {\n",
       "                    --jp-widgets-color: white;\n",
       "                    --jp-widgets-label-color: white;\n",
       "                    --jp-ui-font-color1: white;\n",
       "                    --jp-layout-color2: #454545;\n",
       "                    background-color: #383838;\n",
       "                }\n",
       "\n",
       "                .geemap-dark .jupyter-button {\n",
       "                    --jp-layout-color3: #383838;\n",
       "                }\n",
       "\n",
       "                .geemap-colab {\n",
       "                    background-color: var(--colab-primary-surface-color, white);\n",
       "                }\n",
       "\n",
       "                .geemap-colab .jupyter-button {\n",
       "                    --jp-layout-color3: var(--colab-primary-surface-color, white);\n",
       "                }\n",
       "            </style>\n",
       "            "
      ],
      "text/plain": [
       "<IPython.core.display.HTML object>"
      ]
     },
     "metadata": {},
     "output_type": "display_data"
    }
   ],
   "source": [
    "# Load the mature biomass image\n",
    "distance_gt_1000 = distance_to_forest_edge.gt(1000).selfMask()\n",
    "mature_biomass = ee.Image(f\"{data_folder}/mature_biomass\")\n",
    "mature_biomass_exclude_edge = mature_biomass.updateMask(distance_gt_1000).rename(\"mature_biomass\")\n",
    "\n",
    "# Load the individual feature collections and combine them into a single FeatureCollection\n",
    "quarters = ee.FeatureCollection([\n",
    "    ee.FeatureCollection(f\"{data_folder}/raw/NE_outline_no_overlap\").map(lambda f: f.set('sector', 1)),\n",
    "    ee.FeatureCollection(f\"{data_folder}/raw/NW_outline_no_overlap\").map(lambda f: f.set('sector', 2)),\n",
    "    ee.FeatureCollection(f\"{data_folder}/raw/SW_outline_no_overlap\").map(lambda f: f.set('sector', 3)),\n",
    "    ee.FeatureCollection(f\"{data_folder}/raw/SE_outline_no_overlap\").map(lambda f: f.set('sector', 4)),\n",
    "]).flatten()\n",
    "\n",
    "ecoregions = (\n",
    "    ee.FeatureCollection(\"RESOLVE/ECOREGIONS/2017\")\n",
    "    .filterBounds(roi)\n",
    "    .map(lambda feature: feature.intersection(roi))\n",
    ")\n",
    "\n",
    "# Function to get mean biomass per Feature\n",
    "def create_biomass_image(feature):\n",
    "    mean_biomass = mature_biomass_exclude_edge.reduceRegion(\n",
    "        reducer = ee.Reducer.mean(),\n",
    "        geometry = feature.geometry(),\n",
    "        scale = 500,\n",
    "        maxPixels = 1e12\n",
    "    )\n",
    "    return feature.set(mean_biomass)\n",
    "\n",
    "# Apply the function to each feature in the FeatureCollection\n",
    "mean_biomass_quarters = quarters.map(create_biomass_image)\n",
    "mean_biomass_ecoregions = ecoregions.map(create_biomass_image)\n",
    "\n",
    "# Helper function to create an image from a property in the feature collection\n",
    "def create_property_image(feature_collection, property_name):\n",
    "    return feature_collection.reduceToImage(\n",
    "        properties = [property_name],\n",
    "        reducer = ee.Reducer.first()\n",
    "    ).rename(property_name)\n",
    "\n",
    "# Create images for the 'mature_biomass' and 'sector' properties\n",
    "quarter_biomass = create_property_image(mean_biomass_quarters, 'mature_biomass').toInt16()\n",
    "quarter = create_property_image(mean_biomass_quarters, 'sector').byte()\n",
    "ecoreg_biomass = create_property_image(mean_biomass_ecoregions, 'mature_biomass').toInt16()\n",
    "ecoreg = create_property_image(ecoregions, 'ECO_ID').toInt16()\n",
    "\n",
    "quarters_ecoreg_biomass = ee.Image.cat([quarter_biomass, quarter, ecoreg_biomass, ecoreg]).rename([\"quarter_biomass\", \"quarter\", \"ecoreg_biomass\", \"ecoreg\"])"
   ]
  },
  {
   "cell_type": "code",
   "execution_count": null,
   "metadata": {},
   "outputs": [],
   "source": [
    "atla_mask = biomes.eq(4)\n",
    "mature_biomass_exclude_edge = mature_biomass_exclude_edge.updateMask(atla_mask).rename(\"mature_biomass\")\n",
    "atla_ecoreg_biomass = "
   ]
  },
  {
   "cell_type": "code",
   "execution_count": 13,
   "metadata": {},
   "outputs": [
    {
     "data": {
      "text/html": [
       "\n",
       "            <style>\n",
       "                .geemap-dark {\n",
       "                    --jp-widgets-color: white;\n",
       "                    --jp-widgets-label-color: white;\n",
       "                    --jp-ui-font-color1: white;\n",
       "                    --jp-layout-color2: #454545;\n",
       "                    background-color: #383838;\n",
       "                }\n",
       "\n",
       "                .geemap-dark .jupyter-button {\n",
       "                    --jp-layout-color3: #383838;\n",
       "                }\n",
       "\n",
       "                .geemap-colab {\n",
       "                    background-color: var(--colab-primary-surface-color, white);\n",
       "                }\n",
       "\n",
       "                .geemap-colab .jupyter-button {\n",
       "                    --jp-layout-color3: var(--colab-primary-surface-color, white);\n",
       "                }\n",
       "            </style>\n",
       "            "
      ],
      "text/plain": [
       "<IPython.core.display.HTML object>"
      ]
     },
     "metadata": {},
     "output_type": "display_data"
    }
   ],
   "source": [
    "export_image(quarters_ecoreg_biomass, \"quarters_ecoreg_biomass\", region = roi, scale = 5000)"
   ]
  }
 ],
 "metadata": {
  "kernelspec": {
   "display_name": "regrowth-env",
   "language": "python",
   "name": "python3"
  },
  "language_info": {
   "codemirror_mode": {
    "name": "ipython",
    "version": 3
   },
   "file_extension": ".py",
   "mimetype": "text/x-python",
   "name": "python",
   "nbconvert_exporter": "python",
   "pygments_lexer": "ipython3",
   "version": "3.12.8"
  }
 },
 "nbformat": 4,
 "nbformat_minor": 2
}
