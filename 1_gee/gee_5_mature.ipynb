{
 "cells": [
  {
   "cell_type": "markdown",
   "metadata": {},
   "source": [
    "# Surrounding Landscape\n",
    "\n",
    "This script outputs the satellite-based rasters into the Google Earth Engine Cloud.\n",
    "\n",
    "Inputs:\n",
    "\n",
    "\n"
   ]
  },
  {
   "cell_type": "code",
   "execution_count": 11,
   "metadata": {},
   "outputs": [
    {
     "data": {
      "text/html": [
       "\n",
       "            <style>\n",
       "                .geemap-dark {\n",
       "                    --jp-widgets-color: white;\n",
       "                    --jp-widgets-label-color: white;\n",
       "                    --jp-ui-font-color1: white;\n",
       "                    --jp-layout-color2: #454545;\n",
       "                    background-color: #383838;\n",
       "                }\n",
       "\n",
       "                .geemap-dark .jupyter-button {\n",
       "                    --jp-layout-color3: #383838;\n",
       "                }\n",
       "\n",
       "                .geemap-colab {\n",
       "                    background-color: var(--colab-primary-surface-color, white);\n",
       "                }\n",
       "\n",
       "                .geemap-colab .jupyter-button {\n",
       "                    --jp-layout-color3: var(--colab-primary-surface-color, white);\n",
       "                }\n",
       "            </style>\n",
       "            "
      ],
      "text/plain": [
       "<IPython.core.display.HTML object>"
      ]
     },
     "metadata": {},
     "output_type": "display_data"
    }
   ],
   "source": [
    "import ee\n",
    "import geemap\n",
    "from gee_0_utils import *\n",
    "\n",
    "initialize()\n",
    "\n",
    "config = ProjectConfig()\n",
    "roi = config.roi\n",
    "data_folder = config.data_folder\n",
    "last_year = config.last_year\n",
    "\n",
    "method = 'mapbiomas'\n",
    "biomass_raw = (ee.Image(f\"projects/sat-io/open-datasets/ESA/ESA_CCI_AGB/CCI_BIOMASS_100m_AGB_{last_year}_v51\")\n",
    "           .select(\"AGB\").rename(f\"ESA_CCI_{last_year}\"))"
   ]
  },
  {
   "cell_type": "markdown",
   "metadata": {},
   "source": [
    "## Surrounding mature forest biomass\n",
    "\n",
    "- Mean biomass of surrounding mature forests (interpolated with Gaussian kernel)\n",
    "- Total surrounding mature forest cover (normalized from 0-1) at a 500m distance"
   ]
  },
  {
   "cell_type": "code",
   "execution_count": null,
   "metadata": {},
   "outputs": [
    {
     "data": {
      "text/html": [
       "\n",
       "            <style>\n",
       "                .geemap-dark {\n",
       "                    --jp-widgets-color: white;\n",
       "                    --jp-widgets-label-color: white;\n",
       "                    --jp-ui-font-color1: white;\n",
       "                    --jp-layout-color2: #454545;\n",
       "                    background-color: #383838;\n",
       "                }\n",
       "\n",
       "                .geemap-dark .jupyter-button {\n",
       "                    --jp-layout-color3: #383838;\n",
       "                }\n",
       "\n",
       "                .geemap-colab {\n",
       "                    background-color: var(--colab-primary-surface-color, white);\n",
       "                }\n",
       "\n",
       "                .geemap-colab .jupyter-button {\n",
       "                    --jp-layout-color3: var(--colab-primary-surface-color, white);\n",
       "                }\n",
       "            </style>\n",
       "            "
      ],
      "text/plain": [
       "<IPython.core.display.HTML object>"
      ]
     },
     "metadata": {},
     "output_type": "display_data"
    }
   ],
   "source": [
    "if method == 'tmf':\n",
    "    transition = ee.ImageCollection('projects/JRC/TMF/v1_2023/TransitionMap_Subtypes').mosaic().clip(roi)\n",
    "    mature_mask = transition.eq(10).selfMask()\n",
    "    age = ee.Image(f\"{data_folder}/tmf_{last_year}\")\n",
    "\n",
    "elif method == 'mapbiomas':\n",
    "    lulc = (ee.Image(\"projects/mapbiomas-public/assets/brazil/lulc/collection9/mapbiomas_collection90_integration_v1\")\n",
    "                .select([f\"classification_{year}\" for year in config.range_1985_2020])\n",
    "                .byte()\n",
    "                .rename([str(year) for year in config.range_1985_2020]))\n",
    "    mature_mask = lulc.eq(3).reduce(ee.Reducer.allNonZero()).selfMask()\n",
    "    age = ee.Image(f\"{data_folder}/mapbiomas_{last_year}\")\n",
    "\n",
    "mature_biomass = biomass_raw.updateMask(mature_mask).rename(\"mature_biomass\")\n",
    "\n",
    "# keep only forests that are 1500m away from any non-forest area\n",
    "edge_detec = mature_mask.unmask(-1).zeroCrossing()\n",
    "distance_to_forest_edge = edge_detec.fastDistanceTransform(1024, 'pixels').sqrt() \\\n",
    "    .multiply(ee.Image.pixelArea().sqrt()).toInt16().rename(\"dist\")\n",
    "\n",
    "sur_cover = mature_mask.unmask(0).focalMean(radius = 500, units = \"meters\").float().updateMask(age).rename(\"sur_cover\")"
   ]
  },
  {
   "cell_type": "markdown",
   "metadata": {},
   "source": [
    "Export at a 100m resolution (same as ESA CCI Biomass) to argue for the distance-to-edge effect."
   ]
  },
  {
   "cell_type": "code",
   "execution_count": null,
   "metadata": {},
   "outputs": [
    {
     "data": {
      "text/html": [
       "\n",
       "            <style>\n",
       "                .geemap-dark {\n",
       "                    --jp-widgets-color: white;\n",
       "                    --jp-widgets-label-color: white;\n",
       "                    --jp-ui-font-color1: white;\n",
       "                    --jp-layout-color2: #454545;\n",
       "                    background-color: #383838;\n",
       "                }\n",
       "\n",
       "                .geemap-dark .jupyter-button {\n",
       "                    --jp-layout-color3: #383838;\n",
       "                }\n",
       "\n",
       "                .geemap-colab {\n",
       "                    background-color: var(--colab-primary-surface-color, white);\n",
       "                }\n",
       "\n",
       "                .geemap-colab .jupyter-button {\n",
       "                    --jp-layout-color3: var(--colab-primary-surface-color, white);\n",
       "                }\n",
       "            </style>\n",
       "            "
      ],
      "text/plain": [
       "<IPython.core.display.HTML object>"
      ]
     },
     "metadata": {},
     "output_type": "display_data"
    }
   ],
   "source": [
    "# export_image(distance_to_forest_edge, \"distance_to_forest_edge\", region = roi, scale = 30)\n",
    "# export_image(sur_cover, \"sur_cover_500m\", region = roi, scale = 30)\n",
    "# export_image(mature_biomass, \"mature_biomass\", region = roi, scale = 100)"
   ]
  },
  {
   "cell_type": "markdown",
   "metadata": {},
   "source": [
    "## Biomass of nearest mature forest"
   ]
  },
  {
   "cell_type": "code",
   "execution_count": null,
   "metadata": {},
   "outputs": [
    {
     "data": {
      "text/html": [
       "\n",
       "            <style>\n",
       "                .geemap-dark {\n",
       "                    --jp-widgets-color: white;\n",
       "                    --jp-widgets-label-color: white;\n",
       "                    --jp-ui-font-color1: white;\n",
       "                    --jp-layout-color2: #454545;\n",
       "                    background-color: #383838;\n",
       "                }\n",
       "\n",
       "                .geemap-dark .jupyter-button {\n",
       "                    --jp-layout-color3: #383838;\n",
       "                }\n",
       "\n",
       "                .geemap-colab {\n",
       "                    background-color: var(--colab-primary-surface-color, white);\n",
       "                }\n",
       "\n",
       "                .geemap-colab .jupyter-button {\n",
       "                    --jp-layout-color3: var(--colab-primary-surface-color, white);\n",
       "                }\n",
       "            </style>\n",
       "            "
      ],
      "text/plain": [
       "<IPython.core.display.HTML object>"
      ]
     },
     "metadata": {},
     "output_type": "display_data"
    }
   ],
   "source": [
    "mature_biomass_resampled = mature_biomass_exclude_edge.resample('bilinear').reproject(crs='EPSG:4326', scale = 1000)\n",
    "\n",
    "edge_detec = mature_biomass_exclude_edge.unmask(-1).zeroCrossing()\n",
    "distance_to_deep_forest = edge_detec.fastDistanceTransform(1024, 'pixels').sqrt() \\\n",
    "    .multiply(ee.Image.pixelArea().sqrt()).rename(\"dist\")\n",
    "\n",
    "distance_to_deep_forest = distance_to_deep_forest.updateMask(age).add(10000)\n",
    "\n",
    "distances_vector = distance_to_deep_forest.sample(\n",
    "    region = roi,\n",
    "    scale = 1000,\n",
    "    projection = \"EPSG:4326\",\n",
    "    geometries = True\n",
    ")\n",
    "\n",
    "def create_buffer(feature):\n",
    "    distance = feature.getNumber('dist')\n",
    "    buffer = feature.geometry().buffer(distance)\n",
    "    return feature.setGeometry(buffer)\n",
    "\n",
    "# Apply the function to each feature in the FeatureCollection\n",
    "buffered_features = distances_vector.map(create_buffer)\n",
    "\n",
    "nearest_mature_biomass = mature_biomass_resampled.reduceRegions(\n",
    "    collection = buffered_features,\n",
    "    reducer = ee.Reducer.mean(),\n",
    "    crs = \"EPSG:4326\",\n",
    "    scale = 10000\n",
    ")\n",
    "\n",
    "# Export task to Google Drive\n",
    "task = ee.batch.Export.table.toAsset(\n",
    "    collection = nearest_mature_biomass,\n",
    "    description = \"nearest_mature_biomass\",\n",
    "    assetId=f\"{data_folder}/nearest_mature_biomass\"\n",
    ")\n",
    "\n",
    "task.start()"
   ]
  },
  {
   "cell_type": "code",
   "execution_count": 14,
   "metadata": {},
   "outputs": [
    {
     "data": {
      "text/html": [
       "\n",
       "            <style>\n",
       "                .geemap-dark {\n",
       "                    --jp-widgets-color: white;\n",
       "                    --jp-widgets-label-color: white;\n",
       "                    --jp-ui-font-color1: white;\n",
       "                    --jp-layout-color2: #454545;\n",
       "                    background-color: #383838;\n",
       "                }\n",
       "\n",
       "                .geemap-dark .jupyter-button {\n",
       "                    --jp-layout-color3: #383838;\n",
       "                }\n",
       "\n",
       "                .geemap-colab {\n",
       "                    background-color: var(--colab-primary-surface-color, white);\n",
       "                }\n",
       "\n",
       "                .geemap-colab .jupyter-button {\n",
       "                    --jp-layout-color3: var(--colab-primary-surface-color, white);\n",
       "                }\n",
       "            </style>\n",
       "            "
      ],
      "text/plain": [
       "<IPython.core.display.HTML object>"
      ]
     },
     "metadata": {},
     "output_type": "display_data"
    },
    {
     "ename": "EEException",
     "evalue": "Collection.loadTable: Collection asset 'projects/amazon-forest-regrowth/assets/nearest_mature_biomass' not found.",
     "output_type": "error",
     "traceback": [
      "\u001b[0;31m---------------------------------------------------------------------------\u001b[0m",
      "\u001b[0;31mHttpError\u001b[0m                                 Traceback (most recent call last)",
      "File \u001b[0;32m~/miniconda3/envs/regrowth-env/lib/python3.12/site-packages/ee/data.py:408\u001b[0m, in \u001b[0;36m_execute_cloud_call\u001b[0;34m(call, num_retries)\u001b[0m\n\u001b[1;32m    407\u001b[0m \u001b[38;5;28;01mtry\u001b[39;00m:\n\u001b[0;32m--> 408\u001b[0m   \u001b[38;5;28;01mreturn\u001b[39;00m call\u001b[38;5;241m.\u001b[39mexecute(num_retries\u001b[38;5;241m=\u001b[39mnum_retries)\n\u001b[1;32m    409\u001b[0m \u001b[38;5;28;01mexcept\u001b[39;00m googleapiclient\u001b[38;5;241m.\u001b[39merrors\u001b[38;5;241m.\u001b[39mHttpError \u001b[38;5;28;01mas\u001b[39;00m e:\n",
      "File \u001b[0;32m~/miniconda3/envs/regrowth-env/lib/python3.12/site-packages/googleapiclient/_helpers.py:130\u001b[0m, in \u001b[0;36mpositional.<locals>.positional_decorator.<locals>.positional_wrapper\u001b[0;34m(*args, **kwargs)\u001b[0m\n\u001b[1;32m    129\u001b[0m         logger\u001b[38;5;241m.\u001b[39mwarning(message)\n\u001b[0;32m--> 130\u001b[0m \u001b[38;5;28;01mreturn\u001b[39;00m wrapped(\u001b[38;5;241m*\u001b[39margs, \u001b[38;5;241m*\u001b[39m\u001b[38;5;241m*\u001b[39mkwargs)\n",
      "File \u001b[0;32m~/miniconda3/envs/regrowth-env/lib/python3.12/site-packages/googleapiclient/http.py:938\u001b[0m, in \u001b[0;36mHttpRequest.execute\u001b[0;34m(self, http, num_retries)\u001b[0m\n\u001b[1;32m    937\u001b[0m \u001b[38;5;28;01mif\u001b[39;00m resp\u001b[38;5;241m.\u001b[39mstatus \u001b[38;5;241m>\u001b[39m\u001b[38;5;241m=\u001b[39m \u001b[38;5;241m300\u001b[39m:\n\u001b[0;32m--> 938\u001b[0m     \u001b[38;5;28;01mraise\u001b[39;00m HttpError(resp, content, uri\u001b[38;5;241m=\u001b[39m\u001b[38;5;28mself\u001b[39m\u001b[38;5;241m.\u001b[39muri)\n\u001b[1;32m    939\u001b[0m \u001b[38;5;28;01mreturn\u001b[39;00m \u001b[38;5;28mself\u001b[39m\u001b[38;5;241m.\u001b[39mpostproc(resp, content)\n",
      "\u001b[0;31mHttpError\u001b[0m: <HttpError 400 when requesting https://earthengine.googleapis.com/v1/projects/668012729420/maps?fields=name&alt=json returned \"Collection.loadTable: Collection asset 'projects/amazon-forest-regrowth/assets/nearest_mature_biomass' not found.\". Details: \"Collection.loadTable: Collection asset 'projects/amazon-forest-regrowth/assets/nearest_mature_biomass' not found.\">",
      "\nDuring handling of the above exception, another exception occurred:\n",
      "\u001b[0;31mEEException\u001b[0m                               Traceback (most recent call last)",
      "Cell \u001b[0;32mIn[14], line 7\u001b[0m\n\u001b[1;32m      5\u001b[0m \u001b[38;5;28mmap\u001b[39m \u001b[38;5;241m=\u001b[39m geemap\u001b[38;5;241m.\u001b[39mMap()\n\u001b[1;32m      6\u001b[0m \u001b[38;5;28mmap\u001b[39m\u001b[38;5;241m.\u001b[39maddLayer(mature_biomass_exclude_edge,  {\u001b[38;5;124m'\u001b[39m\u001b[38;5;124mmin\u001b[39m\u001b[38;5;124m'\u001b[39m: \u001b[38;5;241m0\u001b[39m, \u001b[38;5;124m'\u001b[39m\u001b[38;5;124mmax\u001b[39m\u001b[38;5;124m'\u001b[39m: \u001b[38;5;241m260\u001b[39m, \u001b[38;5;124m'\u001b[39m\u001b[38;5;124mpalette\u001b[39m\u001b[38;5;124m'\u001b[39m: [\u001b[38;5;124m'\u001b[39m\u001b[38;5;124myellow\u001b[39m\u001b[38;5;124m'\u001b[39m, \u001b[38;5;124m'\u001b[39m\u001b[38;5;124mgreen\u001b[39m\u001b[38;5;124m'\u001b[39m, \u001b[38;5;124m'\u001b[39m\u001b[38;5;124mblue\u001b[39m\u001b[38;5;124m'\u001b[39m]}, \u001b[38;5;124m\"\u001b[39m\u001b[38;5;124mmature_biomass_exclude_edge\u001b[39m\u001b[38;5;124m\"\u001b[39m)\n\u001b[0;32m----> 7\u001b[0m \u001b[38;5;28mmap\u001b[39m\u001b[38;5;241m.\u001b[39maddLayer(nearest_mature_biomass_centroids, {}, \u001b[38;5;124m\"\u001b[39m\u001b[38;5;124mnearest_mature_biomass_centroids\u001b[39m\u001b[38;5;124m\"\u001b[39m)\n\u001b[1;32m      8\u001b[0m \u001b[38;5;28mmap\u001b[39m\n",
      "File \u001b[0;32m~/miniconda3/envs/regrowth-env/lib/python3.12/site-packages/geemap/geemap.py:444\u001b[0m, in \u001b[0;36mMap.add_ee_layer\u001b[0;34m(self, ee_object, vis_params, name, shown, opacity)\u001b[0m\n\u001b[1;32m    439\u001b[0m         \u001b[38;5;28;01mif\u001b[39;00m has_plot_dropdown:\n\u001b[1;32m    440\u001b[0m             \u001b[38;5;28mself\u001b[39m\u001b[38;5;241m.\u001b[39m_plot_dropdown_widget\u001b[38;5;241m.\u001b[39moptions \u001b[38;5;241m=\u001b[39m \u001b[38;5;28mlist\u001b[39m(\n\u001b[1;32m    441\u001b[0m                 \u001b[38;5;28mself\u001b[39m\u001b[38;5;241m.\u001b[39mee_raster_layers\u001b[38;5;241m.\u001b[39mkeys()\n\u001b[1;32m    442\u001b[0m             )\n\u001b[0;32m--> 444\u001b[0m \u001b[38;5;28msuper\u001b[39m()\u001b[38;5;241m.\u001b[39madd_layer(ee_object, vis_params, name, shown, opacity)\n\u001b[1;32m    446\u001b[0m \u001b[38;5;28;01mif\u001b[39;00m \u001b[38;5;28misinstance\u001b[39m(ee_object, (ee\u001b[38;5;241m.\u001b[39mImage, ee\u001b[38;5;241m.\u001b[39mImageCollection)):\n\u001b[1;32m    447\u001b[0m     \u001b[38;5;28;01mif\u001b[39;00m has_plot_dropdown:\n",
      "File \u001b[0;32m~/miniconda3/envs/regrowth-env/lib/python3.12/site-packages/geemap/core.py:1138\u001b[0m, in \u001b[0;36mMap.add_layer\u001b[0;34m(self, ee_object, vis_params, name, shown, opacity)\u001b[0m\n\u001b[1;32m   1136\u001b[0m \u001b[38;5;28;01mif\u001b[39;00m \u001b[38;5;28misinstance\u001b[39m(ee_object, ee\u001b[38;5;241m.\u001b[39mImageCollection):\n\u001b[1;32m   1137\u001b[0m     ee_object \u001b[38;5;241m=\u001b[39m ee_object\u001b[38;5;241m.\u001b[39mmosaic()\n\u001b[0;32m-> 1138\u001b[0m tile_layer \u001b[38;5;241m=\u001b[39m ee_tile_layers\u001b[38;5;241m.\u001b[39mEELeafletTileLayer(\n\u001b[1;32m   1139\u001b[0m     ee_object, vis_params, name, shown, opacity\n\u001b[1;32m   1140\u001b[0m )\n\u001b[1;32m   1142\u001b[0m \u001b[38;5;66;03m# Remove the layer if it already exists.\u001b[39;00m\n\u001b[1;32m   1143\u001b[0m \u001b[38;5;28mself\u001b[39m\u001b[38;5;241m.\u001b[39mremove(name)\n",
      "File \u001b[0;32m~/miniconda3/envs/regrowth-env/lib/python3.12/site-packages/geemap/ee_tile_layers.py:206\u001b[0m, in \u001b[0;36mEELeafletTileLayer.__init__\u001b[0;34m(self, ee_object, vis_params, name, shown, opacity, **kwargs)\u001b[0m\n\u001b[1;32m    192\u001b[0m \u001b[38;5;250m\u001b[39m\u001b[38;5;124;03m\"\"\"Initialize the ipyleaflet tile layer.\u001b[39;00m\n\u001b[1;32m    193\u001b[0m \n\u001b[1;32m    194\u001b[0m \u001b[38;5;124;03mArgs:\u001b[39;00m\n\u001b[0;32m   (...)\u001b[0m\n\u001b[1;32m    203\u001b[0m \u001b[38;5;124;03m        number between 0 and 1. Defaults to 1.\u001b[39;00m\n\u001b[1;32m    204\u001b[0m \u001b[38;5;124;03m\"\"\"\u001b[39;00m\n\u001b[1;32m    205\u001b[0m \u001b[38;5;28mself\u001b[39m\u001b[38;5;241m.\u001b[39m_ee_object \u001b[38;5;241m=\u001b[39m ee_object\n\u001b[0;32m--> 206\u001b[0m \u001b[38;5;28mself\u001b[39m\u001b[38;5;241m.\u001b[39murl_format \u001b[38;5;241m=\u001b[39m _get_tile_url_format(\n\u001b[1;32m    207\u001b[0m     ee_object, _validate_vis_params(vis_params)\n\u001b[1;32m    208\u001b[0m )\n\u001b[1;32m    209\u001b[0m \u001b[38;5;28msuper\u001b[39m()\u001b[38;5;241m.\u001b[39m\u001b[38;5;21m__init__\u001b[39m(\n\u001b[1;32m    210\u001b[0m     url\u001b[38;5;241m=\u001b[39m\u001b[38;5;28mself\u001b[39m\u001b[38;5;241m.\u001b[39murl_format,\n\u001b[1;32m    211\u001b[0m     attribution\u001b[38;5;241m=\u001b[39m\u001b[38;5;124m\"\u001b[39m\u001b[38;5;124mGoogle Earth Engine\u001b[39m\u001b[38;5;124m\"\u001b[39m,\n\u001b[0;32m   (...)\u001b[0m\n\u001b[1;32m    216\u001b[0m     \u001b[38;5;241m*\u001b[39m\u001b[38;5;241m*\u001b[39mkwargs,\n\u001b[1;32m    217\u001b[0m )\n",
      "File \u001b[0;32m~/miniconda3/envs/regrowth-env/lib/python3.12/site-packages/geemap/ee_tile_layers.py:36\u001b[0m, in \u001b[0;36m_get_tile_url_format\u001b[0;34m(ee_object, vis_params)\u001b[0m\n\u001b[1;32m     25\u001b[0m \u001b[38;5;250m\u001b[39m\u001b[38;5;124;03m\"\"\"Gets the tile URL format for an EE object.\u001b[39;00m\n\u001b[1;32m     26\u001b[0m \n\u001b[1;32m     27\u001b[0m \u001b[38;5;124;03mArgs:\u001b[39;00m\n\u001b[0;32m   (...)\u001b[0m\n\u001b[1;32m     33\u001b[0m \u001b[38;5;124;03m    str: The tile URL format.\u001b[39;00m\n\u001b[1;32m     34\u001b[0m \u001b[38;5;124;03m\"\"\"\u001b[39;00m\n\u001b[1;32m     35\u001b[0m image \u001b[38;5;241m=\u001b[39m _ee_object_to_image(ee_object, vis_params)\n\u001b[0;32m---> 36\u001b[0m map_id_dict \u001b[38;5;241m=\u001b[39m ee\u001b[38;5;241m.\u001b[39mImage(image)\u001b[38;5;241m.\u001b[39mgetMapId(vis_params)\n\u001b[1;32m     37\u001b[0m \u001b[38;5;28;01mreturn\u001b[39;00m map_id_dict[\u001b[38;5;124m\"\u001b[39m\u001b[38;5;124mtile_fetcher\u001b[39m\u001b[38;5;124m\"\u001b[39m]\u001b[38;5;241m.\u001b[39murl_format\n",
      "File \u001b[0;32m~/miniconda3/envs/regrowth-env/lib/python3.12/site-packages/ee/image.py:156\u001b[0m, in \u001b[0;36mImage.getMapId\u001b[0;34m(self, vis_params)\u001b[0m\n\u001b[1;32m    154\u001b[0m vis_image, request \u001b[38;5;241m=\u001b[39m \u001b[38;5;28mself\u001b[39m\u001b[38;5;241m.\u001b[39m_apply_visualization(vis_params)\n\u001b[1;32m    155\u001b[0m request[\u001b[38;5;124m'\u001b[39m\u001b[38;5;124mimage\u001b[39m\u001b[38;5;124m'\u001b[39m] \u001b[38;5;241m=\u001b[39m vis_image\n\u001b[0;32m--> 156\u001b[0m response \u001b[38;5;241m=\u001b[39m data\u001b[38;5;241m.\u001b[39mgetMapId(request)\n\u001b[1;32m    157\u001b[0m response[\u001b[38;5;124m'\u001b[39m\u001b[38;5;124mimage\u001b[39m\u001b[38;5;124m'\u001b[39m] \u001b[38;5;241m=\u001b[39m \u001b[38;5;28mself\u001b[39m\n\u001b[1;32m    158\u001b[0m \u001b[38;5;28;01mreturn\u001b[39;00m response\n",
      "File \u001b[0;32m~/miniconda3/envs/regrowth-env/lib/python3.12/site-packages/ee/data.py:750\u001b[0m, in \u001b[0;36mgetMapId\u001b[0;34m(params)\u001b[0m\n\u001b[1;32m    745\u001b[0m queryParams \u001b[38;5;241m=\u001b[39m {\n\u001b[1;32m    746\u001b[0m     \u001b[38;5;124m'\u001b[39m\u001b[38;5;124mfields\u001b[39m\u001b[38;5;124m'\u001b[39m: \u001b[38;5;124m'\u001b[39m\u001b[38;5;124mname\u001b[39m\u001b[38;5;124m'\u001b[39m,\n\u001b[1;32m    747\u001b[0m     \u001b[38;5;124m'\u001b[39m\u001b[38;5;124mbody\u001b[39m\u001b[38;5;124m'\u001b[39m: request,\n\u001b[1;32m    748\u001b[0m }\n\u001b[1;32m    749\u001b[0m _maybe_populate_workload_tag(queryParams)\n\u001b[0;32m--> 750\u001b[0m result \u001b[38;5;241m=\u001b[39m _execute_cloud_call(\n\u001b[1;32m    751\u001b[0m     _get_cloud_projects()\n\u001b[1;32m    752\u001b[0m     \u001b[38;5;241m.\u001b[39mmaps()\n\u001b[1;32m    753\u001b[0m     \u001b[38;5;241m.\u001b[39mcreate(parent\u001b[38;5;241m=\u001b[39m_get_projects_path(), \u001b[38;5;241m*\u001b[39m\u001b[38;5;241m*\u001b[39mqueryParams)\n\u001b[1;32m    754\u001b[0m )\n\u001b[1;32m    755\u001b[0m map_name \u001b[38;5;241m=\u001b[39m result[\u001b[38;5;124m'\u001b[39m\u001b[38;5;124mname\u001b[39m\u001b[38;5;124m'\u001b[39m]\n\u001b[1;32m    756\u001b[0m url_format \u001b[38;5;241m=\u001b[39m \u001b[38;5;124m'\u001b[39m\u001b[38;5;132;01m%s\u001b[39;00m\u001b[38;5;124m/\u001b[39m\u001b[38;5;132;01m%s\u001b[39;00m\u001b[38;5;124m/\u001b[39m\u001b[38;5;132;01m%s\u001b[39;00m\u001b[38;5;124m/tiles/\u001b[39m\u001b[38;5;132;01m{z}\u001b[39;00m\u001b[38;5;124m/\u001b[39m\u001b[38;5;132;01m{x}\u001b[39;00m\u001b[38;5;124m/\u001b[39m\u001b[38;5;132;01m{y}\u001b[39;00m\u001b[38;5;124m'\u001b[39m \u001b[38;5;241m%\u001b[39m (\n\u001b[1;32m    757\u001b[0m     _tile_base_url, _cloud_api_utils\u001b[38;5;241m.\u001b[39mVERSION, map_name)\n",
      "File \u001b[0;32m~/miniconda3/envs/regrowth-env/lib/python3.12/site-packages/ee/data.py:410\u001b[0m, in \u001b[0;36m_execute_cloud_call\u001b[0;34m(call, num_retries)\u001b[0m\n\u001b[1;32m    408\u001b[0m   \u001b[38;5;28;01mreturn\u001b[39;00m call\u001b[38;5;241m.\u001b[39mexecute(num_retries\u001b[38;5;241m=\u001b[39mnum_retries)\n\u001b[1;32m    409\u001b[0m \u001b[38;5;28;01mexcept\u001b[39;00m googleapiclient\u001b[38;5;241m.\u001b[39merrors\u001b[38;5;241m.\u001b[39mHttpError \u001b[38;5;28;01mas\u001b[39;00m e:\n\u001b[0;32m--> 410\u001b[0m   \u001b[38;5;28;01mraise\u001b[39;00m _translate_cloud_exception(e)\n",
      "\u001b[0;31mEEException\u001b[0m: Collection.loadTable: Collection asset 'projects/amazon-forest-regrowth/assets/nearest_mature_biomass' not found."
     ]
    }
   ],
   "source": [
    "nearest_mature_biomass = ee.FeatureCollection(f\"{data_folder}/nearest_mature_biomass\")\n",
    "\n",
    "nearest_mature_biomass_centroids = nearest_mature_biomass.map(lambda f: ee.Feature(f.geometry().centroid()).copyProperties(f))\n",
    "\n",
    "map = geemap.Map()\n",
    "map.addLayer(mature_biomass_exclude_edge,  {'min': 0, 'max': 260, 'palette': ['yellow', 'green', 'blue']}, \"mature_biomass_exclude_edge\")\n",
    "map.addLayer(nearest_mature_biomass_centroids, {}, \"nearest_mature_biomass_centroids\")\n",
    "map"
   ]
  },
  {
   "cell_type": "code",
   "execution_count": null,
   "metadata": {},
   "outputs": [
    {
     "data": {
      "text/html": [
       "\n",
       "            <style>\n",
       "                .geemap-dark {\n",
       "                    --jp-widgets-color: white;\n",
       "                    --jp-widgets-label-color: white;\n",
       "                    --jp-ui-font-color1: white;\n",
       "                    --jp-layout-color2: #454545;\n",
       "                    background-color: #383838;\n",
       "                }\n",
       "\n",
       "                .geemap-dark .jupyter-button {\n",
       "                    --jp-layout-color3: #383838;\n",
       "                }\n",
       "\n",
       "                .geemap-colab {\n",
       "                    background-color: var(--colab-primary-surface-color, white);\n",
       "                }\n",
       "\n",
       "                .geemap-colab .jupyter-button {\n",
       "                    --jp-layout-color3: var(--colab-primary-surface-color, white);\n",
       "                }\n",
       "            </style>\n",
       "            "
      ],
      "text/plain": [
       "<IPython.core.display.HTML object>"
      ]
     },
     "metadata": {},
     "output_type": "display_data"
    },
    {
     "data": {
      "application/vnd.jupyter.widget-view+json": {
       "model_id": "05d5517f5436433881b611479d6f97f8",
       "version_major": 2,
       "version_minor": 0
      },
      "text/plain": [
       "Map(center=[0, 0], controls=(WidgetControl(options=['position', 'transparent_bg'], widget=SearchDataGUI(childr…"
      ]
     },
     "execution_count": 6,
     "metadata": {},
     "output_type": "execute_result"
    }
   ],
   "source": [
    "nearest_mature_biomass = ee.FeatureCollection(f\"{data_folder}/nearest_mature_biomass\")\n",
    "\n",
    "nearest_mature_biomass_centroids = nearest_mature_biomass.map(lambda f: ee.Feature(f.geometry().centroid()).copyProperties(f))\n",
    "\n",
    "# Convert the FeatureCollection to an image\n",
    "nearest_mature_biomass_image = nearest_mature_biomass_centroids.reduceToImage([\"mean\"], ee.Reducer.first()).byte().rename(\"nearest_mature_biomass\")\n",
    "\n",
    "export_image(nearest_mature_biomass_image, \"nearest_mature_biomass_image1\", region = roi, scale = 10000)\n",
    "\n",
    "# nearest_mature_biomass_image = ee.Image(\"projects/amazon-forest-regrowth/assets/nearest_mature_biomass_image1\")\n",
    "\n",
    "# Map = geemap.Map()\n",
    "# Map.addLayer(mature_biomass_exclude_edge,  {'min': 0, 'max': 260, 'palette': ['yellow', 'green', 'blue']}, \"mature_biomass_exclude_edge\")\n",
    "\n",
    "# Map.addLayer(nearest_mature_biomass_image, {'min': 0, 'max': 260, 'palette': ['yellow', 'green', 'blue']}, 'Nearest Mature Biomass')\n",
    "\n",
    "# Map"
   ]
  },
  {
   "cell_type": "markdown",
   "metadata": {},
   "source": [
    "## Amazon Quarters\n",
    "Mean Biomass Value Per Climatic Region"
   ]
  },
  {
   "cell_type": "code",
   "execution_count": 7,
   "metadata": {},
   "outputs": [
    {
     "data": {
      "text/html": [
       "\n",
       "            <style>\n",
       "                .geemap-dark {\n",
       "                    --jp-widgets-color: white;\n",
       "                    --jp-widgets-label-color: white;\n",
       "                    --jp-ui-font-color1: white;\n",
       "                    --jp-layout-color2: #454545;\n",
       "                    background-color: #383838;\n",
       "                }\n",
       "\n",
       "                .geemap-dark .jupyter-button {\n",
       "                    --jp-layout-color3: #383838;\n",
       "                }\n",
       "\n",
       "                .geemap-colab {\n",
       "                    background-color: var(--colab-primary-surface-color, white);\n",
       "                }\n",
       "\n",
       "                .geemap-colab .jupyter-button {\n",
       "                    --jp-layout-color3: var(--colab-primary-surface-color, white);\n",
       "                }\n",
       "            </style>\n",
       "            "
      ],
      "text/plain": [
       "<IPython.core.display.HTML object>"
      ]
     },
     "metadata": {},
     "output_type": "display_data"
    }
   ],
   "source": [
    "# Load the mature biomass image\n",
    "mature_biomass_exclude_edge = ee.Image(f\"{data_folder}/mapbiomas/mature_biomass_exclude_edge_1500m\")\n",
    "\n",
    "# Load the individual feature collections and combine them into a single FeatureCollection\n",
    "quarters = ee.FeatureCollection([\n",
    "    ee.FeatureCollection(f\"{data_folder}/raw/NE_outline_no_overlap\").map(lambda f: f.set('sector', 1)),\n",
    "    ee.FeatureCollection(f\"{data_folder}/raw/NW_outline_no_overlap\").map(lambda f: f.set('sector', 2)),\n",
    "    ee.FeatureCollection(f\"{data_folder}/raw/SW_outline_no_overlap\").map(lambda f: f.set('sector', 3)),\n",
    "    ee.FeatureCollection(f\"{data_folder}/raw/SE_outline_no_overlap\").map(lambda f: f.set('sector', 4)),\n",
    "]).flatten()\n",
    "\n",
    "ecoregions = (\n",
    "    ee.FeatureCollection(\"RESOLVE/ECOREGIONS/2017\")\n",
    "    .filterBounds(roi)\n",
    "    .map(lambda feature: feature.intersection(roi))\n",
    ")\n",
    "\n",
    "# Function to get mean biomass per Feature\n",
    "def create_biomass_image(feature):\n",
    "    mean_biomass = mature_biomass.reduceRegion(\n",
    "        reducer = ee.Reducer.mean(),\n",
    "        geometry = feature.geometry(),\n",
    "        scale = 500,\n",
    "        maxPixels = 1e12\n",
    "    )\n",
    "    return feature.set(mean_biomass)\n",
    "\n",
    "# Apply the function to each feature in the FeatureCollection\n",
    "mean_biomass_quarters = quarters.map(create_biomass_image)\n",
    "mean_biomass_ecoregions = ecoregions.map(create_biomass_image)\n",
    "\n",
    "# Helper function to create an image from a property in the feature collection\n",
    "def create_property_image(feature_collection, property_name):\n",
    "    return feature_collection.reduceToImage(\n",
    "        properties = [property_name],\n",
    "        reducer = ee.Reducer.first()\n",
    "    ).rename(property_name)\n",
    "\n",
    "# Create images for the 'mature_biomass' and 'sector' properties\n",
    "quarter_biomass = create_property_image(mean_biomass_quarters, 'mature_biomass')\n",
    "quarter = create_property_image(mean_biomass_quarters, 'sector')\n",
    "ecoreg_biomass = create_property_image(mean_biomass_quarters, 'mature_biomass')\n",
    "ecoreg = create_property_image(mean_biomass_quarters, 'ECO_ID')\n",
    "\n",
    "quarters_ecoreg_biomass = ee.Image.cat([quarter_biomass, quarter, ecoreg_biomass, ecoreg]).rename([\"quarter_biomass\", \"quarter\", \"ecoreg_biomass\", \"ecoreg\"])"
   ]
  },
  {
   "cell_type": "code",
   "execution_count": 8,
   "metadata": {},
   "outputs": [
    {
     "data": {
      "text/html": [
       "\n",
       "            <style>\n",
       "                .geemap-dark {\n",
       "                    --jp-widgets-color: white;\n",
       "                    --jp-widgets-label-color: white;\n",
       "                    --jp-ui-font-color1: white;\n",
       "                    --jp-layout-color2: #454545;\n",
       "                    background-color: #383838;\n",
       "                }\n",
       "\n",
       "                .geemap-dark .jupyter-button {\n",
       "                    --jp-layout-color3: #383838;\n",
       "                }\n",
       "\n",
       "                .geemap-colab {\n",
       "                    background-color: var(--colab-primary-surface-color, white);\n",
       "                }\n",
       "\n",
       "                .geemap-colab .jupyter-button {\n",
       "                    --jp-layout-color3: var(--colab-primary-surface-color, white);\n",
       "                }\n",
       "            </style>\n",
       "            "
      ],
      "text/plain": [
       "<IPython.core.display.HTML object>"
      ]
     },
     "metadata": {},
     "output_type": "display_data"
    }
   ],
   "source": [
    "export_image(quarters_ecoreg_biomass, \"quarters_ecoreg_biomass\", region = roi, scale = 5000)"
   ]
  }
 ],
 "metadata": {
  "kernelspec": {
   "display_name": "regrowth-env",
   "language": "python",
   "name": "python3"
  },
  "language_info": {
   "codemirror_mode": {
    "name": "ipython",
    "version": 3
   },
   "file_extension": ".py",
   "mimetype": "text/x-python",
   "name": "python",
   "nbconvert_exporter": "python",
   "pygments_lexer": "ipython3",
   "version": "3.12.8"
  }
 },
 "nbformat": 4,
 "nbformat_minor": 2
}
