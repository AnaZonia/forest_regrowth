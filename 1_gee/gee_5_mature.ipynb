{
 "cells": [
  {
   "cell_type": "markdown",
   "metadata": {},
   "source": [
    "# Surrounding Landscape\n",
    "\n",
    "This script outputs the satellite-based rasters into the Google Earth Engine Cloud.\n",
    "\n",
    "Inputs:\n",
    "\n",
    "\n"
   ]
  },
  {
   "cell_type": "code",
   "execution_count": null,
   "metadata": {},
   "outputs": [],
   "source": [
    "import ee\n",
    "import geemap\n",
    "from gee_0_utils import *\n",
    "\n",
    "initialize()\n",
    "\n",
    "config = ProjectConfig()\n",
    "roi = config.roi\n",
    "data_folder = config.data_folder\n",
    "last_year = config.last_year\n",
    "\n",
    "biomass_raw = ee.Image(f\"{data_folder}/ESA_CCI_2020\")\n",
    "age = ee.Image(f\"{data_folder}/mapbiomas_2020\").select(\"age\")\n",
    "\n",
    "method = 'mapbiomas'"
   ]
  },
  {
   "cell_type": "markdown",
   "metadata": {},
   "source": [
    "## Surrounding mature forests\n",
    "\n",
    "- Mean biomass of surrounding mature forests (interpolated with Gaussian kernel)\n",
    "- Total surrounding mature forest cover (normalized from 0-1) at a 500m distance"
   ]
  },
  {
   "cell_type": "code",
   "execution_count": null,
   "metadata": {},
   "outputs": [
    {
     "data": {
      "text/html": [
       "\n",
       "            <style>\n",
       "                .geemap-dark {\n",
       "                    --jp-widgets-color: white;\n",
       "                    --jp-widgets-label-color: white;\n",
       "                    --jp-ui-font-color1: white;\n",
       "                    --jp-layout-color2: #454545;\n",
       "                    background-color: #383838;\n",
       "                }\n",
       "\n",
       "                .geemap-dark .jupyter-button {\n",
       "                    --jp-layout-color3: #383838;\n",
       "                }\n",
       "\n",
       "                .geemap-colab {\n",
       "                    background-color: var(--colab-primary-surface-color, white);\n",
       "                }\n",
       "\n",
       "                .geemap-colab .jupyter-button {\n",
       "                    --jp-layout-color3: var(--colab-primary-surface-color, white);\n",
       "                }\n",
       "            </style>\n",
       "            "
      ],
      "text/plain": [
       "<IPython.core.display.HTML object>"
      ]
     },
     "metadata": {},
     "output_type": "display_data"
    },
    {
     "ename": "NameError",
     "evalue": "name 'folder' is not defined",
     "output_type": "error",
     "traceback": [
      "\u001b[0;31m---------------------------------------------------------------------------\u001b[0m",
      "\u001b[0;31mNameError\u001b[0m                                 Traceback (most recent call last)",
      "Cell \u001b[0;32mIn[11], line 36\u001b[0m\n\u001b[1;32m     32\u001b[0m     export_image(sur_cover, \u001b[38;5;124m\"\u001b[39m\u001b[38;5;124msur_cover\u001b[39m\u001b[38;5;124m\"\u001b[39m, region \u001b[38;5;241m=\u001b[39m roi, folder \u001b[38;5;241m=\u001b[39m folder, scale \u001b[38;5;241m=\u001b[39m \u001b[38;5;241m30\u001b[39m)\n\u001b[1;32m     34\u001b[0m     \u001b[38;5;28;01mreturn\u001b[39;00m mature_biomass\n\u001b[0;32m---> 36\u001b[0m export_mature_biomass()\n",
      "Cell \u001b[0;32mIn[11], line 31\u001b[0m, in \u001b[0;36mexport_mature_biomass\u001b[0;34m()\u001b[0m\n\u001b[1;32m     28\u001b[0m sur_cover \u001b[38;5;241m=\u001b[39m mature_mask\u001b[38;5;241m.\u001b[39munmask(\u001b[38;5;241m0\u001b[39m)\u001b[38;5;241m.\u001b[39mfocalMean(radius \u001b[38;5;241m=\u001b[39m \u001b[38;5;241m500\u001b[39m, units \u001b[38;5;241m=\u001b[39m \u001b[38;5;124m\"\u001b[39m\u001b[38;5;124mmeters\u001b[39m\u001b[38;5;124m\"\u001b[39m)\u001b[38;5;241m.\u001b[39mfloat()\u001b[38;5;241m.\u001b[39mupdateMask(age)\u001b[38;5;241m.\u001b[39mrename(\u001b[38;5;124m\"\u001b[39m\u001b[38;5;124msur_cover\u001b[39m\u001b[38;5;124m\"\u001b[39m)\n\u001b[1;32m     29\u001b[0m mature_biomass \u001b[38;5;241m=\u001b[39m get_mature_biomass(biomass_raw, mature_mask)\n\u001b[0;32m---> 31\u001b[0m export_image(mature_biomass, \u001b[38;5;124m\"\u001b[39m\u001b[38;5;124mmature_biomass_500\u001b[39m\u001b[38;5;124m\"\u001b[39m, region \u001b[38;5;241m=\u001b[39m roi, folder \u001b[38;5;241m=\u001b[39m folder, scale \u001b[38;5;241m=\u001b[39m \u001b[38;5;241m500\u001b[39m)\n\u001b[1;32m     32\u001b[0m export_image(sur_cover, \u001b[38;5;124m\"\u001b[39m\u001b[38;5;124msur_cover\u001b[39m\u001b[38;5;124m\"\u001b[39m, region \u001b[38;5;241m=\u001b[39m roi, folder \u001b[38;5;241m=\u001b[39m folder, scale \u001b[38;5;241m=\u001b[39m \u001b[38;5;241m30\u001b[39m)\n\u001b[1;32m     34\u001b[0m \u001b[38;5;28;01mreturn\u001b[39;00m mature_biomass\n",
      "\u001b[0;31mNameError\u001b[0m: name 'folder' is not defined"
     ]
    }
   ],
   "source": [
    "def get_mature_mask():\n",
    "    \n",
    "    if method == 'eu':\n",
    "        \n",
    "        transition = ee.ImageCollection('projects/JRC/TMF/v1_2023/TransitionMap_Subtypes').mosaic().clip(roi)\n",
    "        return transition.eq(10).selfMask()\n",
    "    \n",
    "    elif method == 'mapbiomas':\n",
    "        lulc = (ee.Image(\"projects/mapbiomas-public/assets/brazil/lulc/collection9/mapbiomas_collection90_integration_v1\")\n",
    "        .select([f\"classification_{year}\" for year in config.range_1985_2020])\n",
    "        .byte()\n",
    "        .rename([str(year) for year in config.range_1985_2020]))\n",
    "\n",
    "        return lulc.eq(3).reduce(ee.Reducer.allNonZero()).selfMask()\n",
    "\n",
    "def get_mature_biomass(biomass_raw, mature_mask):\n",
    "    if method == 'eu':\n",
    "        return biomass_raw.updateMask(mature_mask).rename(\"mature_biomass\")\n",
    "    elif method == 'mapbiomas':\n",
    "        # keep only forests that are 1000m away from any non-forest area\n",
    "        edge_detec = mature_mask.unmask(-1).zeroCrossing()\n",
    "        distance_to_edge = edge_detec.fastDistanceTransform().sqrt() \\\n",
    "            .multiply(ee.Image.pixelArea().sqrt()).rename(\"distance_to_edge\")\n",
    "        distance_to_edge = distance_to_edge.gt(1000).selfMask().updateMask(mature_mask)\n",
    "        return biomass_raw.updateMask(distance_to_edge).rename(\"mature_biomass\")\n",
    "\n",
    "def export_mature_biomass():\n",
    "    mature_mask = get_mature_mask()\n",
    "    sur_cover = mature_mask.unmask(0).focalMean(radius = 500, units = \"meters\").float().updateMask(age).rename(\"sur_cover\")\n",
    "    mature_biomass = get_mature_biomass(biomass_raw, mature_mask)\n",
    "\n",
    "    export_image(mature_biomass, \"mature_biomass_500\", region = roi, folder = folder, scale = 500)\n",
    "    export_image(sur_cover, \"sur_cover\", region = roi, folder = folder, scale = 30)\n",
    "\n",
    "    return mature_biomass\n",
    "\n",
    "export_mature_biomass()"
   ]
  },
  {
   "cell_type": "code",
   "execution_count": null,
   "metadata": {},
   "outputs": [
    {
     "data": {
      "text/html": [
       "\n",
       "            <style>\n",
       "                .geemap-dark {\n",
       "                    --jp-widgets-color: white;\n",
       "                    --jp-widgets-label-color: white;\n",
       "                    --jp-ui-font-color1: white;\n",
       "                    --jp-layout-color2: #454545;\n",
       "                    background-color: #383838;\n",
       "                }\n",
       "\n",
       "                .geemap-dark .jupyter-button {\n",
       "                    --jp-layout-color3: #383838;\n",
       "                }\n",
       "\n",
       "                .geemap-colab {\n",
       "                    background-color: var(--colab-primary-surface-color, white);\n",
       "                }\n",
       "\n",
       "                .geemap-colab .jupyter-button {\n",
       "                    --jp-layout-color3: var(--colab-primary-surface-color, white);\n",
       "                }\n",
       "            </style>\n",
       "            "
      ],
      "text/plain": [
       "<IPython.core.display.HTML object>"
      ]
     },
     "metadata": {},
     "output_type": "display_data"
    },
    {
     "data": {
      "application/vnd.jupyter.widget-view+json": {
       "model_id": "ebba226fccc64352a34b0a4711fa6ab9",
       "version_major": 2,
       "version_minor": 0
      },
      "text/plain": [
       "Map(center=[0, 0], controls=(WidgetControl(options=['position', 'transparent_bg'], widget=SearchDataGUI(childr…"
      ]
     },
     "execution_count": 13,
     "metadata": {},
     "output_type": "execute_result"
    }
   ],
   "source": [
    "\n",
    "\n",
    "ecoregions = ee.FeatureCollection(\"RESOLVE/ECOREGIONS/2017\")\n",
    "basemap = ee.ImageCollection('projects/planet-nicfi/assets/basemaps/americas').filter(ee.Filter.date('2020-01-01', '2020-07-01')).first()\n",
    "vis_planet = {'bands': ['R', 'G', 'B'], 'min': 64, 'max': 5454, 'gamma': 1.8}\n",
    "\n",
    "\n",
    "map = geemap.Map()\n",
    "map.addLayer(ecoregions, {}, \"ecoregions\", opacity = 0.01)\n",
    "map.addLayer(basemap, vis_planet, 'basemap')\n",
    "map.addLayer(mature_biomass_neighborhood_1km, {'min': 150, 'max': 250, 'palette': ['yellow', 'blue']}, \"1km\")\n",
    "# map.addLayer(mature_biomass_neighborhood_5km, {'min': 150, 'max': 250, 'palette': ['yellow', 'blue']}, \"5km\")\n",
    "# map.addLayer(mature_biomass_neighborhood_10km, {'min': 150, 'max': 250, 'palette': ['yellow', 'blue']}, \"10km\")\n",
    "map\n",
    "# export_image(mature_biomass_10km, \"mature_biomass_10km\", region = roi, scale = 10000)\n",
    "\n"
   ]
  },
  {
   "cell_type": "code",
   "execution_count": null,
   "metadata": {},
   "outputs": [
    {
     "data": {
      "text/html": [
       "\n",
       "            <style>\n",
       "                .geemap-dark {\n",
       "                    --jp-widgets-color: white;\n",
       "                    --jp-widgets-label-color: white;\n",
       "                    --jp-ui-font-color1: white;\n",
       "                    --jp-layout-color2: #454545;\n",
       "                    background-color: #383838;\n",
       "                }\n",
       "\n",
       "                .geemap-dark .jupyter-button {\n",
       "                    --jp-layout-color3: #383838;\n",
       "                }\n",
       "\n",
       "                .geemap-colab {\n",
       "                    background-color: var(--colab-primary-surface-color, white);\n",
       "                }\n",
       "\n",
       "                .geemap-colab .jupyter-button {\n",
       "                    --jp-layout-color3: var(--colab-primary-surface-color, white);\n",
       "                }\n",
       "            </style>\n",
       "            "
      ],
      "text/plain": [
       "<IPython.core.display.HTML object>"
      ]
     },
     "metadata": {},
     "output_type": "display_data"
    }
   ],
   "source": [
    "TransitionMap = ee.ImageCollection('projects/JRC/TMF/v1_2023/TransitionMap_Subtypes')\n",
    "\n",
    "map = geemap.Map()\n",
    "map.addLayer(TransitionMap.first(), {}, \"TransitionMap\")\n",
    "map"
   ]
  },
  {
   "cell_type": "code",
   "execution_count": null,
   "metadata": {},
   "outputs": [
    {
     "data": {
      "text/html": [
       "\n",
       "            <style>\n",
       "                .geemap-dark {\n",
       "                    --jp-widgets-color: white;\n",
       "                    --jp-widgets-label-color: white;\n",
       "                    --jp-ui-font-color1: white;\n",
       "                    --jp-layout-color2: #454545;\n",
       "                    background-color: #383838;\n",
       "                }\n",
       "\n",
       "                .geemap-dark .jupyter-button {\n",
       "                    --jp-layout-color3: #383838;\n",
       "                }\n",
       "\n",
       "                .geemap-colab {\n",
       "                    background-color: var(--colab-primary-surface-color, white);\n",
       "                }\n",
       "\n",
       "                .geemap-colab .jupyter-button {\n",
       "                    --jp-layout-color3: var(--colab-primary-surface-color, white);\n",
       "                }\n",
       "            </style>\n",
       "            "
      ],
      "text/plain": [
       "<IPython.core.display.HTML object>"
      ]
     },
     "metadata": {},
     "output_type": "display_data"
    }
   ],
   "source": [
    "def get_mature_biomass_vector(mature_biomass):\n",
    "    # there are time out issues with larger mature_biomass images.\n",
    "    # to get around it, we reduce to vectors over the geometries of the biomes we are considering\n",
    "    # and we exclude the pixels that are within the given search radius of the biome edges\n",
    "    biome = ee.FeatureCollection(f\"{data_folder}/raw/biomes_br\")\n",
    "    amaz_atla_pant = biome.filter(ee.Filter.inList('CD_Bioma', [1, 4, 6]))\n",
    "    mature_biomass = mature_biomass.clip(amaz_atla_pant)\n",
    "\n",
    "    mature_biomass_vector = mature_biomass.sample(region = mature_biomass.geometry(), scale = 1000, geometries = True)\n",
    "\n",
    "    # Export the mean_biomass_image as an asset\n",
    "    task = ee.batch.Export.table.toAsset(\n",
    "        collection = mature_biomass_vector,\n",
    "        assetId = f\"{data_folder}/{folder}/mature_biomass_vector_neighborhood\",\n",
    "        description = \"mature_biomass_vector\"\n",
    "    )\n",
    "        \n",
    "    task.start()\n",
    "\n",
    "# mature_biomass = ee.Image(f\"{data_folder}/{folder}/mature_biomass\")\n",
    "mature_biomass = ee.Image(\"projects/amazon-forest-regrowth/assets/mature_biomass_neighborhood\")\n",
    "\n",
    "get_mature_biomass_vector(mature_biomass)\n"
   ]
  },
  {
   "cell_type": "code",
   "execution_count": null,
   "metadata": {},
   "outputs": [
    {
     "data": {
      "text/html": [
       "\n",
       "            <style>\n",
       "                .geemap-dark {\n",
       "                    --jp-widgets-color: white;\n",
       "                    --jp-widgets-label-color: white;\n",
       "                    --jp-ui-font-color1: white;\n",
       "                    --jp-layout-color2: #454545;\n",
       "                    background-color: #383838;\n",
       "                }\n",
       "\n",
       "                .geemap-dark .jupyter-button {\n",
       "                    --jp-layout-color3: #383838;\n",
       "                }\n",
       "\n",
       "                .geemap-colab {\n",
       "                    background-color: var(--colab-primary-surface-color, white);\n",
       "                }\n",
       "\n",
       "                .geemap-colab .jupyter-button {\n",
       "                    --jp-layout-color3: var(--colab-primary-surface-color, white);\n",
       "                }\n",
       "            </style>\n",
       "            "
      ],
      "text/plain": [
       "<IPython.core.display.HTML object>"
      ]
     },
     "metadata": {},
     "output_type": "display_data"
    }
   ],
   "source": [
    "def get_distance_to_nearest_mature(method):\n",
    "\n",
    "    mature_biomass_vector = ee.FeatureCollection(f\"{data_folder}/{folder}/mature_biomass_vector_neighborhood\")\n",
    "    # change radius depending on data resolution and patterns\n",
    "    distance_to_nearest_mature = mature_biomass_vector.distance(searchRadius = 10000)\\\n",
    "        .toInt()\n",
    "\n",
    "    export_image(distance_to_nearest_mature, \"distance_to_nearest_mature_neighborhood\", \\\n",
    "                 region = roi, folder = method, scale = 1000)\n",
    "\n",
    "    return distance_to_nearest_mature\n",
    "\n",
    "distance_to_nearest_mature = get_distance_to_nearest_mature(method)\n"
   ]
  },
  {
   "cell_type": "code",
   "execution_count": null,
   "metadata": {},
   "outputs": [
    {
     "data": {
      "text/html": [
       "\n",
       "            <style>\n",
       "                .geemap-dark {\n",
       "                    --jp-widgets-color: white;\n",
       "                    --jp-widgets-label-color: white;\n",
       "                    --jp-ui-font-color1: white;\n",
       "                    --jp-layout-color2: #454545;\n",
       "                    background-color: #383838;\n",
       "                }\n",
       "\n",
       "                .geemap-dark .jupyter-button {\n",
       "                    --jp-layout-color3: #383838;\n",
       "                }\n",
       "\n",
       "                .geemap-colab {\n",
       "                    background-color: var(--colab-primary-surface-color, white);\n",
       "                }\n",
       "\n",
       "                .geemap-colab .jupyter-button {\n",
       "                    --jp-layout-color3: var(--colab-primary-surface-color, white);\n",
       "                }\n",
       "            </style>\n",
       "            "
      ],
      "text/plain": [
       "<IPython.core.display.HTML object>"
      ]
     },
     "metadata": {},
     "output_type": "display_data"
    }
   ],
   "source": [
    "def buffer_distance(f):\n",
    "    distance = ee.Number(f.get('distance'))\n",
    "    buffered = ee.Feature(f.buffer(distance.add(1000)))\n",
    "    return buffered\n",
    "\n",
    "def get_distances_vector_buffer(distance_to_nearest_mature, method):\n",
    "    \n",
    "    categorical = ee.Image(f\"{data_folder}/categorical\")\n",
    "    biome_mask = categorical.select('biome').eq(1) \\\n",
    "    .Or(categorical.select('biome').eq(4)) \\\n",
    "    .Or(categorical.select('biome').eq(6))\n",
    "\n",
    "    distance_to_nearest_mature = distance_to_nearest_mature \\\n",
    "        .addBands(biome_mask)\n",
    "\n",
    "    distances_vector = distance_to_nearest_mature.stratifiedSample(\n",
    "        numPoints = 50000, classBand = \"biome\", region = roi, geometries = True\n",
    "    )\n",
    "\n",
    "    distances_vector_buffer = distances_vector.map(buffer_distance)\n",
    "\n",
    "    # Export the mean_biomass_image as an asset\n",
    "    task = ee.batch.Export.table.toAsset(\n",
    "        collection = distances_vector_buffer,\n",
    "        assetId = f\"{data_folder}/{folder}/distances_vector_buffer\",\n",
    "        description = \"distances_vector_buffer\"\n",
    "    )\n",
    "\n",
    "    task.start()\n",
    "\n",
    "distance_to_nearest_mature = ee.Image(f\"{data_folder}/{folder}/distance_to_nearest_mature_neighborhood\")\n",
    "get_distances_vector_buffer(distance_to_nearest_mature, method)"
   ]
  },
  {
   "cell_type": "code",
   "execution_count": 29,
   "metadata": {},
   "outputs": [
    {
     "data": {
      "text/html": [
       "\n",
       "            <style>\n",
       "                .geemap-dark {\n",
       "                    --jp-widgets-color: white;\n",
       "                    --jp-widgets-label-color: white;\n",
       "                    --jp-ui-font-color1: white;\n",
       "                    --jp-layout-color2: #454545;\n",
       "                    background-color: #383838;\n",
       "                }\n",
       "\n",
       "                .geemap-dark .jupyter-button {\n",
       "                    --jp-layout-color3: #383838;\n",
       "                }\n",
       "\n",
       "                .geemap-colab {\n",
       "                    background-color: var(--colab-primary-surface-color, white);\n",
       "                }\n",
       "\n",
       "                .geemap-colab .jupyter-button {\n",
       "                    --jp-layout-color3: var(--colab-primary-surface-color, white);\n",
       "                }\n",
       "            </style>\n",
       "            "
      ],
      "text/plain": [
       "<IPython.core.display.HTML object>"
      ]
     },
     "metadata": {},
     "output_type": "display_data"
    }
   ],
   "source": [
    "def export_nearest_mature_biomass(distances_vector_buffer, mature_biomass, method):\n",
    "\n",
    "    nearest_mature_biomass = mature_biomass.reduceRegions(distances_vector_buffer, ee.Reducer.firstNonNull(), \n",
    "                                            crs = proj['crs'], crsTransform = proj['transform'])\n",
    "\n",
    "    # Export the mean_biomass_image as an asset\n",
    "    task = ee.batch.Export.table.toAsset(\n",
    "        collection = nearest_mature_biomass,\n",
    "        assetId = f\"{data_folder}/{folder}/nearest_mature_biomass_neighborhood\",\n",
    "        description = \"nearest_mature_biomass\"\n",
    "    )\n",
    "\n",
    "    task.start()\n",
    "\n",
    "# mature_biomass = ee.Image(f\"{data_folder}/{folder}/mature_biomass_500\")\n",
    "mature_biomass = ee.Image(\"projects/amazon-forest-regrowth/assets/mature_biomass_neighborhood\")\n",
    "distances_vector_buffer = ee.FeatureCollection(f\"{data_folder}/{folder}/distances_vector_buffer\")\n",
    "export_nearest_mature_biomass(distances_vector_buffer, mature_biomass, method)"
   ]
  },
  {
   "cell_type": "code",
   "execution_count": 34,
   "metadata": {},
   "outputs": [
    {
     "data": {
      "text/html": [
       "\n",
       "            <style>\n",
       "                .geemap-dark {\n",
       "                    --jp-widgets-color: white;\n",
       "                    --jp-widgets-label-color: white;\n",
       "                    --jp-ui-font-color1: white;\n",
       "                    --jp-layout-color2: #454545;\n",
       "                    background-color: #383838;\n",
       "                }\n",
       "\n",
       "                .geemap-dark .jupyter-button {\n",
       "                    --jp-layout-color3: #383838;\n",
       "                }\n",
       "\n",
       "                .geemap-colab {\n",
       "                    background-color: var(--colab-primary-surface-color, white);\n",
       "                }\n",
       "\n",
       "                .geemap-colab .jupyter-button {\n",
       "                    --jp-layout-color3: var(--colab-primary-surface-color, white);\n",
       "                }\n",
       "            </style>\n",
       "            "
      ],
      "text/plain": [
       "<IPython.core.display.HTML object>"
      ]
     },
     "metadata": {},
     "output_type": "display_data"
    }
   ],
   "source": [
    "def export_nearest_mature_biomass_image(nearest_mature_biomass, method):\n",
    "\n",
    "    # change geometries from polygons to points\n",
    "    nearest_mature_biomass = nearest_mature_biomass.map(lambda f: ee.Feature(f.geometry().centroid()).copyProperties(f))\n",
    "\n",
    "    # Convert the FeatureCollection to an image\n",
    "    nearest_mature_biomass_image = nearest_mature_biomass.reduceToImage(\n",
    "        properties = ['first'],\n",
    "        reducer = ee.Reducer.first()\n",
    "    ).toInt16().rename('nearest_mature_biomass')\n",
    "\n",
    "    export_image(nearest_mature_biomass_image, \"nearest_mature_biomass_image_neighborhood\", \\\n",
    "                 region = roi, folder = method, scale = 1000)\n",
    "\n",
    "nearest_mature_biomass = ee.FeatureCollection(f\"{data_folder}/{folder}/nearest_mature_biomass_neighborhood\")\n",
    "export_nearest_mature_biomass_image(nearest_mature_biomass, method)\n"
   ]
  },
  {
   "cell_type": "code",
   "execution_count": null,
   "metadata": {},
   "outputs": [],
   "source": [
    "assetId = 'users/your-username/your-asset-name'\n",
    "ee.data.deleteAsset(assetId)"
   ]
  },
  {
   "cell_type": "markdown",
   "metadata": {},
   "source": [
    "## Amazon Quarters\n",
    "Mean Biomass Value Per Climatic Region"
   ]
  },
  {
   "cell_type": "code",
   "execution_count": null,
   "metadata": {},
   "outputs": [],
   "source": [
    "# Load the mature biomass image\n",
    "mature_biomass = ee.Image(f\"{data_folder}/mapbiomas/mature_biomass_500\")\n",
    "\n",
    "# Load the individual feature collections and combine them into a single FeatureCollection\n",
    "regions = ee.FeatureCollection([\n",
    "    ee.FeatureCollection(f\"{data_folder}/raw/NE_outline_no_overlap\").map(lambda f: f.set('sector', 1)),\n",
    "    ee.FeatureCollection(f\"{data_folder}/raw/NW_outline_no_overlap\").map(lambda f: f.set('sector', 2)),\n",
    "    ee.FeatureCollection(f\"{data_folder}/raw/SW_outline_no_overlap\").map(lambda f: f.set('sector', 3)),\n",
    "    ee.FeatureCollection(f\"{data_folder}/raw/SE_outline_no_overlap\").map(lambda f: f.set('sector', 4)),\n",
    "]).flatten()\n",
    "\n",
    "# Function to get mean biomass per Feature\n",
    "def create_biomass_image(feature):\n",
    "    mean_biomass = mature_biomass.reduceRegion(\n",
    "        reducer=ee.Reducer.mean(),\n",
    "        geometry=feature.geometry(),\n",
    "        scale=500\n",
    "    )\n",
    "    return feature.set(mean_biomass)\n",
    "\n",
    "# Apply the function to each feature in the FeatureCollection\n",
    "mean_biomass_features = regions.map(create_biomass_image)\n",
    "\n",
    "# Helper function to create an image from a property in the feature collection\n",
    "def create_property_image(feature_collection, property_name):\n",
    "    return feature_collection.reduceToImage(\n",
    "        properties=[property_name],\n",
    "        reducer=ee.Reducer.first()\n",
    "    ).rename(property_name)\n",
    "\n",
    "# Create images for the 'mature_biomass' and 'sector' properties\n",
    "mature_biomass_image = create_property_image(mean_biomass_features, 'mature_biomass')\n",
    "sector_image = create_property_image(mean_biomass_features, 'sector')\n",
    "\n",
    "# Combine the images into a single multi-band image\n",
    "amazon_quarters = ee.Image.cat([mature_biomass_image, sector_image]).rename([\"mean_mat_biomass_quarter\", \"quarter\"])\n",
    "\n",
    "# export_image(amazon_quarters, \"amazon_quarters\", region = roi, scale = 10000)\n"
   ]
  }
 ],
 "metadata": {
  "kernelspec": {
   "display_name": "regrowth-env",
   "language": "python",
   "name": "python3"
  },
  "language_info": {
   "codemirror_mode": {
    "name": "ipython",
    "version": 3
   },
   "file_extension": ".py",
   "mimetype": "text/x-python",
   "name": "python",
   "nbconvert_exporter": "python",
   "pygments_lexer": "ipython3",
   "version": "3.12.8"
  }
 },
 "nbformat": 4,
 "nbformat_minor": 2
}
