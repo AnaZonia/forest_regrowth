{
 "cells": [
  {
   "cell_type": "code",
   "execution_count": 1,
   "metadata": {},
   "outputs": [],
   "source": [
    "import ee\n",
    "import geemap\n",
    "from gee_0_utils import *\n",
    "\n",
    "initialize()\n",
    "config = ProjectConfig()\n",
    "\n",
    "roi = config.roi\n",
    "data_folder = config.data_folder\n",
    "\n",
    "lulc = (ee.Image(\"projects/mapbiomas-public/assets/brazil/lulc/collection9/mapbiomas_collection90_integration_v1\")\n",
    "        .select([f\"classification_{year}\" for year in config.range_1985_2020])\n",
    "        .byte()\n",
    "        .rename([str(year) for year in config.range_1985_2020]))\n",
    "\n",
    "biomass_raw = ee.Image(f\"{data_folder}/raw/biomass\")\n",
    "proj = biomass_raw.projection().getInfo()\n",
    "\n",
    "method = 'mapbiomas'\n",
    "\n",
    "folder = method"
   ]
  },
  {
   "cell_type": "code",
   "execution_count": 45,
   "metadata": {},
   "outputs": [
    {
     "data": {
      "text/html": [
       "\n",
       "            <style>\n",
       "                .geemap-dark {\n",
       "                    --jp-widgets-color: white;\n",
       "                    --jp-widgets-label-color: white;\n",
       "                    --jp-ui-font-color1: white;\n",
       "                    --jp-layout-color2: #454545;\n",
       "                    background-color: #383838;\n",
       "                }\n",
       "\n",
       "                .geemap-dark .jupyter-button {\n",
       "                    --jp-layout-color3: #383838;\n",
       "                }\n",
       "\n",
       "                .geemap-colab {\n",
       "                    background-color: var(--colab-primary-surface-color, white);\n",
       "                }\n",
       "\n",
       "                .geemap-colab .jupyter-button {\n",
       "                    --jp-layout-color3: var(--colab-primary-surface-color, white);\n",
       "                }\n",
       "            </style>\n",
       "            "
      ],
      "text/plain": [
       "<IPython.core.display.HTML object>"
      ]
     },
     "metadata": {},
     "output_type": "display_data"
    },
    {
     "data": {
      "application/vnd.jupyter.widget-view+json": {
       "model_id": "271945a5c7414a65a7a16326e7a1c1e6",
       "version_major": 2,
       "version_minor": 0
      },
      "text/plain": [
       "Map(center=[0, 0], controls=(WidgetControl(options=['position', 'transparent_bg'], widget=SearchDataGUI(childr…"
      ]
     },
     "execution_count": 45,
     "metadata": {},
     "output_type": "execute_result"
    }
   ],
   "source": [
    "mature_biomass = ee.Image(f\"{data_folder}/mapbiomas/mature_biomass_500\")\n",
    "\n",
    "# Load the individual feature collections\n",
    "NE_outline = ee.FeatureCollection(f\"{data_folder}/NE_outline_no_overlap\").map(lambda f: f.set('sector', 1))\n",
    "NW_outline = ee.FeatureCollection(f\"{data_folder}/NW_outline_no_overlap\").map(lambda f: f.set('sector', 2))\n",
    "SW_outline = ee.FeatureCollection(f\"{data_folder}/SW_outline_no_overlap\").map(lambda f: f.set('sector', 3))\n",
    "SE_outline = ee.FeatureCollection(f\"{data_folder}/SE_outline_no_overlap\").map(lambda f: f.set('sector', 4))\n",
    "\n",
    "# Function to get mean biomass per FeatureCollection\n",
    "def get_mean_biomass(featureCollection):\n",
    "    return mature_biomass.reduceRegions(\n",
    "        reducer=ee.Reducer.mean(),\n",
    "        collection=featureCollection,\n",
    "        scale=500  # Adjust this based on your image resolution\n",
    "    )\n",
    "\n",
    "# Get mean biomass for each region\n",
    "mean_biomass_NE = get_mean_biomass(NE_outline)\n",
    "mean_biomass_NW = get_mean_biomass(NW_outline)\n",
    "mean_biomass_SW = get_mean_biomass(SW_outline)\n",
    "mean_biomass_SE = get_mean_biomass(SE_outline)\n",
    "\n",
    "mean_biomass_NE_img = mean_biomass_NE.reduceToImage([\"mean\"], ee.Reducer.first()).byte().rename(\"mean_biomass_NE\")\n",
    "mean_biomass_NW_img = mean_biomass_NW.reduceToImage([\"mean\"], ee.Reducer.first()).byte().rename(\"mean_biomass_NW\")\n",
    "mean_biomass_SW_img = mean_biomass_SW.reduceToImage([\"mean\"], ee.Reducer.first()).byte().rename(\"mean_biomass_SW\")\n",
    "mean_biomass_SE_img = mean_biomass_SE.reduceToImage([\"mean\"], ee.Reducer.first()).byte().rename(\"mean_biomass_SE\")\n",
    "\n",
    "mean_biomass_quarter = mean_biomass_NE_img.addBands([mean_biomass_NW_img, mean_biomass_SW_img, mean_biomass_SE_img]).reduce('sum').byte().rename(\"mean_biomass_quarter\")\n",
    "\n",
    "\n",
    "merged_outline = NE_outline.merge(NW_outline).merge(SW_outline).merge(SE_outline)\n",
    "amazon_quarter_regions = merged_outline.reduceToImage([\"sector\"], ee.Reducer.first()).byte().rename(\"amazon_quarter_regions\")\n",
    "\n",
    "\n",
    "# export_image(mean_biomass_quarter, \"mean_biomass_quarter\", region = roi, scale = 1000)\n",
    "# export_image(amazon_quarter_regions, \"amazon_quarter_regions\", region = roi, scale = 1000)\n",
    "\n",
    "map = geemap.Map()\n",
    "# map.addLayer(mature_biomass, {'min':1, 'max':400, 'palette': ['yellow', 'blue']}, \"mature_biomass\")\n",
    "# map.addLayer(NE_outline, {}, \"NE_outline\", opacity=0.5)\n",
    "# map.addLayer(NW_outline, {}, \"NW_outline\", opacity=0.5)\n",
    "# map.addLayer(SW_outline, {}, \"SW_outline\", opacity=0.5)\n",
    "map.addLayer(amazon_quarter_regions, {'min':1, 'max':4, 'palette': ['yellow', 'blue']}, \"amazon_quarter_regions\", opacity=0.5)\n",
    "# map.addLayer(mean_biomass_quarter, {'min': 225, 'max': 275, 'palette': ['blue', 'red']}, \"mean_biomass_quarter\")\n",
    "# map.addLayer(regions_img, {'min': 1, 'max': 4, 'palette': ['red', 'green', 'blue', 'yellow']}, \"regions\")\n",
    "map"
   ]
  },
  {
   "cell_type": "code",
   "execution_count": 43,
   "metadata": {},
   "outputs": [
    {
     "data": {
      "text/html": [
       "\n",
       "            <style>\n",
       "                .geemap-dark {\n",
       "                    --jp-widgets-color: white;\n",
       "                    --jp-widgets-label-color: white;\n",
       "                    --jp-ui-font-color1: white;\n",
       "                    --jp-layout-color2: #454545;\n",
       "                    background-color: #383838;\n",
       "                }\n",
       "\n",
       "                .geemap-dark .jupyter-button {\n",
       "                    --jp-layout-color3: #383838;\n",
       "                }\n",
       "\n",
       "                .geemap-colab {\n",
       "                    background-color: var(--colab-primary-surface-color, white);\n",
       "                }\n",
       "\n",
       "                .geemap-colab .jupyter-button {\n",
       "                    --jp-layout-color3: var(--colab-primary-surface-color, white);\n",
       "                }\n",
       "            </style>\n",
       "            "
      ],
      "text/plain": [
       "<IPython.core.display.HTML object>"
      ]
     },
     "metadata": {},
     "output_type": "display_data"
    }
   ],
   "source": [
    "mature_biomass = ee.Image(f\"{data_folder}/mapbiomas/mature_biomass_500\")\n",
    "\n",
    "mature_biomass_10km = mature_biomass.reproject(\n",
    "    crs=mature_biomass.projection(),  # Use the same projection as the original image\n",
    "    scale=10000  # Set the resolution to 10 km (10000 meters)\n",
    ")\n",
    "\n",
    "mature_biomass_neighborhood = mature_biomass_10km.reduceNeighborhood(\n",
    "    reducer=ee.Reducer.mean(),  # Calculate the mean within the neighborhood\n",
    "    kernel=ee.Kernel.circle(70)\n",
    ")\n",
    "\n",
    "# map = geemap.Map()\n",
    "# map.addLayer(mature_biomass_neighborhood, {'min': 1, 'max': 400, 'palette': ['yellow', 'blue']}, \"mature_biomass_neighborhood\")\n",
    "# map\n",
    "export_image(mature_biomass_neighborhood, \"mature_biomass_neighborhood\", region = roi, scale = 10000)\n"
   ]
  },
  {
   "cell_type": "markdown",
   "metadata": {},
   "source": [
    "## Surrounding mature forests\n",
    "\n",
    "- Mean biomass of surrounding mature forests (interpolated with Gaussian kernel)\n",
    "- Mean fragmentation of surrounding mature forests (interpolated with Gaussian kernel)\n",
    "- Total surrounding mature forest cover (normalized from 0-1)"
   ]
  },
  {
   "cell_type": "code",
   "execution_count": 18,
   "metadata": {},
   "outputs": [
    {
     "data": {
      "text/html": [
       "\n",
       "            <style>\n",
       "                .geemap-dark {\n",
       "                    --jp-widgets-color: white;\n",
       "                    --jp-widgets-label-color: white;\n",
       "                    --jp-ui-font-color1: white;\n",
       "                    --jp-layout-color2: #454545;\n",
       "                    background-color: #383838;\n",
       "                }\n",
       "\n",
       "                .geemap-dark .jupyter-button {\n",
       "                    --jp-layout-color3: #383838;\n",
       "                }\n",
       "\n",
       "                .geemap-colab {\n",
       "                    background-color: var(--colab-primary-surface-color, white);\n",
       "                }\n",
       "\n",
       "                .geemap-colab .jupyter-button {\n",
       "                    --jp-layout-color3: var(--colab-primary-surface-color, white);\n",
       "                }\n",
       "            </style>\n",
       "            "
      ],
      "text/plain": [
       "<IPython.core.display.HTML object>"
      ]
     },
     "metadata": {},
     "output_type": "display_data"
    },
    {
     "data": {
      "text/html": [
       "<div><style>:root {\n",
       "  --font-color-primary: var(--jp-content-font-color0, rgba(0, 0, 0, 1));\n",
       "  --font-color-secondary: var(--jp-content-font-color2, rgba(0, 0, 0, 0.6));\n",
       "  --font-color-accent: rgba(123, 31, 162, 1);\n",
       "  --border-color: var(--jp-border-color2, #e0e0e0);\n",
       "  --background-color: var(--jp-layout-color0, white);\n",
       "  --background-color-row-even: var(--jp-layout-color1, white);\n",
       "  --background-color-row-odd: var(--jp-layout-color2, #eeeeee);\n",
       "}\n",
       "\n",
       "html[theme=\"dark\"],\n",
       "body[data-theme=\"dark\"],\n",
       "body.vscode-dark {\n",
       "  --font-color-primary: rgba(255, 255, 255, 1);\n",
       "  --font-color-secondary: rgba(255, 255, 255, 0.6);\n",
       "  --font-color-accent: rgb(173, 132, 190);\n",
       "  --border-color: #2e2e2e;\n",
       "  --background-color: #111111;\n",
       "  --background-color-row-even: #111111;\n",
       "  --background-color-row-odd: #313131;\n",
       "}\n",
       "\n",
       ".ee {\n",
       "  padding: 1em;\n",
       "  line-height: 1.5em;\n",
       "  min-width: 300px;\n",
       "  max-width: 1200px;\n",
       "  overflow-y: scroll;\n",
       "  max-height: 600px;\n",
       "  border: 1px solid var(--border-color);\n",
       "  font-family: monospace;\n",
       "}\n",
       "\n",
       ".ee li {\n",
       "  list-style-type: none;\n",
       "}\n",
       "\n",
       ".ee ul {\n",
       "  padding-left: 1.5em !important;\n",
       "  margin: 0;\n",
       "}\n",
       "\n",
       ".ee > ul {\n",
       "  padding-left: 0 !important;\n",
       "}\n",
       "\n",
       ".ee-open,\n",
       ".ee-shut {\n",
       "  color: var(--font-color-secondary);\n",
       "  cursor: pointer;\n",
       "  margin: 0;\n",
       "}\n",
       "\n",
       ".ee-open:hover,\n",
       ".ee-shut:hover {\n",
       "  color: var(--font-color-primary);\n",
       "}\n",
       "\n",
       ".ee-k {\n",
       "  color: var(--font-color-accent);\n",
       "  margin-right: 6px;\n",
       "}\n",
       "\n",
       ".ee-v {\n",
       "  color: var(--font-color-primary);\n",
       "}\n",
       "\n",
       ".ee-toggle {\n",
       "  display: none;\n",
       "}\n",
       "\n",
       ".ee-shut + ul {\n",
       "  display: none;\n",
       "}\n",
       "\n",
       ".ee-open + ul {\n",
       "  display: block;\n",
       "}\n",
       "\n",
       ".ee-shut::before {\n",
       "  display: inline-block;\n",
       "  content: \"▼\";\n",
       "  margin-right: 6px;\n",
       "  transform: rotate(-90deg);\n",
       "  transition: transform 0.2s;\n",
       "}\n",
       "\n",
       ".ee-open::before {\n",
       "  transform: rotate(0deg);\n",
       "  display: inline-block;\n",
       "  content: \"▼\";\n",
       "  margin-right: 6px;\n",
       "  transition: transform 0.2s;\n",
       "}\n",
       "</style><div class='ee'><ul><li><label class='ee-shut'>Image projects/amazon-forest-regrowth/assets/raw/biomass (1 band)<input type='checkbox' class='ee-toggle'></label><ul><li><span class='ee-k'>type:</span><span class='ee-v'>Image</span></li><li><span class='ee-k'>id:</span><span class='ee-v'>projects/amazon-forest-regrowth/assets/raw/biomass</span></li><li><span class='ee-k'>version:</span><span class='ee-v'>1715618721293362</span></li><li><label class='ee-shut'>bands: List (1 element)<input type='checkbox' class='ee-toggle'></label><ul><li><label class='ee-shut'>0: \"mature_biomass\", unsigned int16, EPSG:4326, 9001x5626 px<input type='checkbox' class='ee-toggle'></label><ul><li><span class='ee-k'>id:</span><span class='ee-v'>mature_biomass</span></li><li><span class='ee-k'>crs:</span><span class='ee-v'>EPSG:4326</span></li><li><label class='ee-shut'>crs_transform: List (6 elements)<input type='checkbox' class='ee-toggle'></label><ul><li><span class='ee-k'>0:</span><span class='ee-v'>0.00088888888888</span></li><li><span class='ee-k'>1:</span><span class='ee-v'>0</span></li><li><span class='ee-k'>2:</span><span class='ee-v'>-89.9999999995</span></li><li><span class='ee-k'>3:</span><span class='ee-v'>0</span></li><li><span class='ee-k'>4:</span><span class='ee-v'>-0.00088888888888</span></li><li><span class='ee-k'>5:</span><span class='ee-v'>19.9999999998</span></li></ul></li><li><label class='ee-shut'>data_type: unsigned int16<input type='checkbox' class='ee-toggle'></label><ul><li><span class='ee-k'>type:</span><span class='ee-v'>PixelType</span></li><li><span class='ee-k'>max:</span><span class='ee-v'>65535</span></li><li><span class='ee-k'>min:</span><span class='ee-v'>0</span></li><li><span class='ee-k'>precision:</span><span class='ee-v'>int</span></li></ul></li><li><label class='ee-shut'>dimensions: [9001, 5626]<input type='checkbox' class='ee-toggle'></label><ul><li><span class='ee-k'>0:</span><span class='ee-v'>9001</span></li><li><span class='ee-k'>1:</span><span class='ee-v'>5626</span></li></ul></li><li><label class='ee-shut'>origin: [6749, 10124]<input type='checkbox' class='ee-toggle'></label><ul><li><span class='ee-k'>0:</span><span class='ee-v'>6749</span></li><li><span class='ee-k'>1:</span><span class='ee-v'>10124</span></li></ul></li></ul></li></ul></li><li><label class='ee-shut'>properties: Object (2 properties)<input type='checkbox' class='ee-toggle'></label><ul><li><span class='ee-k'>system:asset_size:</span><span class='ee-v'>1844696479</span></li><li><label class='ee-shut'>system:footprint: LinearRing (17 vertices)<input type='checkbox' class='ee-toggle'></label><ul><li><span class='ee-k'>type:</span><span class='ee-v'>LinearRing</span></li><li><label class='ee-shut'>coordinates: List (17 elements)<input type='checkbox' class='ee-toggle'></label><ul><li><label class='ee-shut'>0: [-66.56240280849863, 20.0004459762166]<input type='checkbox' class='ee-toggle'></label><ul><li><span class='ee-k'>0:</span><span class='ee-v'>-66.56240280849863</span></li><li><span class='ee-k'>1:</span><span class='ee-v'>20.0004459762166</span></li></ul></li><li><label class='ee-shut'>1: [-74.06229166871628, 20.000445973165387]<input type='checkbox' class='ee-toggle'></label><ul><li><span class='ee-k'>0:</span><span class='ee-v'>-74.06229166871628</span></li><li><span class='ee-k'>1:</span><span class='ee-v'>20.000445973165387</span></li></ul></li><li><label class='ee-shut'>2: [-84.37463888291377, 20.00044597434634]<input type='checkbox' class='ee-toggle'></label><ul><li><span class='ee-k'>0:</span><span class='ee-v'>-84.37463888291377</span></li><li><span class='ee-k'>1:</span><span class='ee-v'>20.00044597434634</span></li></ul></li><li><label class='ee-shut'>3: [-90.00050312500844, 20.00044470698247]<input type='checkbox' class='ee-toggle'></label><ul><li><span class='ee-k'>0:</span><span class='ee-v'>-90.00050312500844</span></li><li><span class='ee-k'>1:</span><span class='ee-v'>20.00044470698247</span></li></ul></li><li><label class='ee-shut'>4: [-90.00071792366138, -40.00044483778798]<input type='checkbox' class='ee-toggle'></label><ul><li><span class='ee-k'>0:</span><span class='ee-v'>-90.00071792366138</span></li><li><span class='ee-k'>1:</span><span class='ee-v'>-40.00044483778798</span></li></ul></li><li><label class='ee-shut'>5: [-80.15595138023508, -40.000445999728115]<input type='checkbox' class='ee-toggle'></label><ul><li><span class='ee-k'>0:</span><span class='ee-v'>-80.15595138023508</span></li><li><span class='ee-k'>1:</span><span class='ee-v'>-40.000445999728115</span></li></ul></li><li><label class='ee-shut'>6: [-74.76540627772421, -40.00044600701895]<input type='checkbox' class='ee-toggle'></label><ul><li><span class='ee-k'>0:</span><span class='ee-v'>-74.76540627772421</span></li><li><span class='ee-k'>1:</span><span class='ee-v'>-40.00044600701895</span></li></ul></li><li><label class='ee-shut'>7: [-65.39054516748645, -40.00044601680402]<input type='checkbox' class='ee-toggle'></label><ul><li><span class='ee-k'>0:</span><span class='ee-v'>-65.39054516748645</span></li><li><span class='ee-k'>1:</span><span class='ee-v'>-40.00044601680402</span></li></ul></li><li><label class='ee-shut'>8: [-53.67196873132351, -40.000446023031024]<input type='checkbox' class='ee-toggle'></label><ul><li><span class='ee-k'>0:</span><span class='ee-v'>-53.67196873132351</span></li><li><span class='ee-k'>1:</span><span class='ee-v'>-40.000446023031024</span></li></ul></li><li><label class='ee-shut'>9: [-43.593993083698585, -40.00044598489428]<input type='checkbox' class='ee-toggle'></label><ul><li><span class='ee-k'>0:</span><span class='ee-v'>-43.593993083698585</span></li><li><span class='ee-k'>1:</span><span class='ee-v'>-40.00044598489428</span></li></ul></li><li><label class='ee-shut'>10: [-35.156618032465744, -40.000446018939144]<input type='checkbox' class='ee-toggle'></label><ul><li><span class='ee-k'>0:</span><span class='ee-v'>-35.156618032465744</span></li><li><span class='ee-k'>1:</span><span class='ee-v'>-40.000446018939144</span></li></ul></li><li><label class='ee-shut'>11: [-29.99928203275417, -40.000444805344046]<input type='checkbox' class='ee-toggle'></label><ul><li><span class='ee-k'>0:</span><span class='ee-v'>-29.99928203275417</span></li><li><span class='ee-k'>1:</span><span class='ee-v'>-40.000444805344046</span></li></ul></li><li><label class='ee-shut'>12: [-29.999496888210953, 20.00044473705016]<input type='checkbox' class='ee-toggle'></label><ul><li><span class='ee-k'>0:</span><span class='ee-v'>-29.999496888210953</span></li><li><span class='ee-k'>1:</span><span class='ee-v'>20.00044473705016</span></li></ul></li><li><label class='ee-shut'>13: [-41.71902080378656, 20.000446037809677]<input type='checkbox' class='ee-toggle'></label><ul><li><span class='ee-k'>0:</span><span class='ee-v'>-41.71902080378656</span></li><li><span class='ee-k'>1:</span><span class='ee-v'>20.000446037809677</span></li></ul></li><li><label class='ee-shut'>14: [-53.43759726242445, 20.000445980187184]<input type='checkbox' class='ee-toggle'></label><ul><li><span class='ee-k'>0:</span><span class='ee-v'>-53.43759726242445</span></li><li><span class='ee-k'>1:</span><span class='ee-v'>20.000445980187184</span></li></ul></li><li><label class='ee-shut'>15: [-61.40622914864061, 20.000445986603168]<input type='checkbox' class='ee-toggle'></label><ul><li><span class='ee-k'>0:</span><span class='ee-v'>-61.40622914864061</span></li><li><span class='ee-k'>1:</span><span class='ee-v'>20.000445986603168</span></li></ul></li><li><label class='ee-shut'>16: [-66.56240280849863, 20.0004459762166]<input type='checkbox' class='ee-toggle'></label><ul><li><span class='ee-k'>0:</span><span class='ee-v'>-66.56240280849863</span></li><li><span class='ee-k'>1:</span><span class='ee-v'>20.0004459762166</span></li></ul></li></ul></li></ul></li></ul></li></ul></li></ul></div><script>function toggleHeader() {\n",
       "    const parent = this.parentElement;\n",
       "    parent.className = parent.className === \"ee-open\" ? \"ee-shut\" : \"ee-open\";\n",
       "}\n",
       "\n",
       "for (let c of document.getElementsByClassName(\"ee-toggle\")) {\n",
       "    c.onclick = toggleHeader;\n",
       "}</script></div>"
      ],
      "text/plain": [
       "<ee.image.Image at 0x7f1cb8e7f550>"
      ]
     },
     "execution_count": 18,
     "metadata": {},
     "output_type": "execute_result"
    }
   ],
   "source": [
    "def get_mature_mask():\n",
    "    if method == 'eu':\n",
    "        annual_changes = ee.ImageCollection('projects/JRC/TMF/v1_2023/AnnualChanges').mosaic().clip(roi)\n",
    "        return annual_changes.select('Dec2020').eq(1).selfMask()\n",
    "    elif method == 'mapbiomas':\n",
    "        return lulc.eq(3).reduce(ee.Reducer.allNonZero()).selfMask()\n",
    "\n",
    "def get_mature_biomass(biomass_raw, mature_mask):\n",
    "    if method == 'eu':\n",
    "        return biomass_raw.updateMask(mature_mask).rename(\"mature_biomass\")\n",
    "    elif method == 'mapbiomas':\n",
    "        # keep only forests that are 1000m away from any non-forest area\n",
    "        edge_detec = mature_mask.unmask(-1).zeroCrossing()\n",
    "        distance_to_edge = edge_detec.fastDistanceTransform().sqrt() \\\n",
    "            .multiply(ee.Image.pixelArea().sqrt()).rename(\"distance_to_edge\")\n",
    "        distance_to_edge = distance_to_edge.gt(1000).selfMask().updateMask(mature_mask)\n",
    "        return biomass_raw.updateMask(distance_to_edge).rename(\"mature_biomass\")\n",
    "\n",
    "def export_mature_biomass():\n",
    "    age = ee.Image(f\"{data_folder}/{folder}/secondary\").select(\"age\")\n",
    "    biomass_raw = ee.Image(f\"{data_folder}/raw/biomass\")\n",
    "    proj = biomass_raw.projection().getInfo()\n",
    "\n",
    "    mature_mask = get_mature_mask()\n",
    "    sur_cover = mature_mask.unmask(0).focalMean(radius = 1000, units = \"meters\").float().updateMask(age).rename(\"sur_cover\")\n",
    "    mature_biomass = get_mature_biomass(biomass_raw, mature_mask)\n",
    "\n",
    "    export_image(mature_biomass, \"mature_biomass\", region = roi, folder = folder, crsTransform = proj['transform'])\n",
    "    export_image(mature_biomass, \"mature_biomass_500\", region = roi, folder = folder, scale = 500)\n",
    "    export_image(sur_cover, \"sur_cover\", region = roi, folder = folder, scale = 30)\n",
    "\n",
    "    return mature_biomass\n",
    "\n",
    "export_mature_biomass()"
   ]
  },
  {
   "cell_type": "code",
   "execution_count": 27,
   "metadata": {},
   "outputs": [
    {
     "data": {
      "text/html": [
       "\n",
       "            <style>\n",
       "                .geemap-dark {\n",
       "                    --jp-widgets-color: white;\n",
       "                    --jp-widgets-label-color: white;\n",
       "                    --jp-ui-font-color1: white;\n",
       "                    --jp-layout-color2: #454545;\n",
       "                    background-color: #383838;\n",
       "                }\n",
       "\n",
       "                .geemap-dark .jupyter-button {\n",
       "                    --jp-layout-color3: #383838;\n",
       "                }\n",
       "\n",
       "                .geemap-colab {\n",
       "                    background-color: var(--colab-primary-surface-color, white);\n",
       "                }\n",
       "\n",
       "                .geemap-colab .jupyter-button {\n",
       "                    --jp-layout-color3: var(--colab-primary-surface-color, white);\n",
       "                }\n",
       "            </style>\n",
       "            "
      ],
      "text/plain": [
       "<IPython.core.display.HTML object>"
      ]
     },
     "metadata": {},
     "output_type": "display_data"
    }
   ],
   "source": [
    "def get_mature_biomass_vector(mature_biomass):\n",
    "    # there are time out issues with larger mature_biomass images.\n",
    "    # to get around it, we reduce to vectors over the geometries of the biomes we are considering\n",
    "    # and we exclude the pixels that are within the given search radius of the biome edges\n",
    "    if not panama:\n",
    "        biome = ee.FeatureCollection(f\"{data_folder}/raw/biomes_br\")\n",
    "        amaz_atla_pant = biome.filter(ee.Filter.inList('CD_Bioma', [1, 4, 6]))\n",
    "        mature_biomass = mature_biomass.clip(amaz_atla_pant)\n",
    "\n",
    "    mature_biomass_vector = mature_biomass.sample(region = mature_biomass.geometry(), scale = 1000, geometries = True)\n",
    "\n",
    "    # Export the mean_biomass_image as an asset\n",
    "    task = ee.batch.Export.table.toAsset(\n",
    "        collection = mature_biomass_vector,\n",
    "        assetId = f\"{data_folder}/{folder}/mature_biomass_vector_neighborhood\",\n",
    "        description = \"mature_biomass_vector\"\n",
    "    )\n",
    "        \n",
    "    task.start()\n",
    "\n",
    "# mature_biomass = ee.Image(f\"{data_folder}/{folder}/mature_biomass\")\n",
    "mature_biomass = ee.Image(\"projects/amazon-forest-regrowth/assets/mature_biomass_neighborhood\")\n",
    "\n",
    "get_mature_biomass_vector(mature_biomass)\n"
   ]
  },
  {
   "cell_type": "code",
   "execution_count": 6,
   "metadata": {},
   "outputs": [
    {
     "data": {
      "text/html": [
       "\n",
       "            <style>\n",
       "                .geemap-dark {\n",
       "                    --jp-widgets-color: white;\n",
       "                    --jp-widgets-label-color: white;\n",
       "                    --jp-ui-font-color1: white;\n",
       "                    --jp-layout-color2: #454545;\n",
       "                    background-color: #383838;\n",
       "                }\n",
       "\n",
       "                .geemap-dark .jupyter-button {\n",
       "                    --jp-layout-color3: #383838;\n",
       "                }\n",
       "\n",
       "                .geemap-colab {\n",
       "                    background-color: var(--colab-primary-surface-color, white);\n",
       "                }\n",
       "\n",
       "                .geemap-colab .jupyter-button {\n",
       "                    --jp-layout-color3: var(--colab-primary-surface-color, white);\n",
       "                }\n",
       "            </style>\n",
       "            "
      ],
      "text/plain": [
       "<IPython.core.display.HTML object>"
      ]
     },
     "metadata": {},
     "output_type": "display_data"
    }
   ],
   "source": [
    "def get_distance_to_nearest_mature(method):\n",
    "\n",
    "    # secondary = ee.Image(f\"{data_folder}/{folder}/secondary\").select(\"age\")\n",
    "\n",
    "    mature_biomass_vector = ee.FeatureCollection(f\"{data_folder}/{folder}/mature_biomass_vector_neighborhood\")\n",
    "    # change radius depending on data resolution and patterns\n",
    "    distance_to_nearest_mature = mature_biomass_vector.distance(searchRadius = 10000)\\\n",
    "        .toInt()\n",
    "\n",
    "    export_image(distance_to_nearest_mature, \"distance_to_nearest_mature_neighborhood\", \\\n",
    "                 region = roi, folder = method, scale = 1000)\n",
    "\n",
    "    return distance_to_nearest_mature\n",
    "\n",
    "distance_to_nearest_mature = get_distance_to_nearest_mature(method)\n"
   ]
  },
  {
   "cell_type": "code",
   "execution_count": 2,
   "metadata": {},
   "outputs": [
    {
     "data": {
      "text/html": [
       "\n",
       "            <style>\n",
       "                .geemap-dark {\n",
       "                    --jp-widgets-color: white;\n",
       "                    --jp-widgets-label-color: white;\n",
       "                    --jp-ui-font-color1: white;\n",
       "                    --jp-layout-color2: #454545;\n",
       "                    background-color: #383838;\n",
       "                }\n",
       "\n",
       "                .geemap-dark .jupyter-button {\n",
       "                    --jp-layout-color3: #383838;\n",
       "                }\n",
       "\n",
       "                .geemap-colab {\n",
       "                    background-color: var(--colab-primary-surface-color, white);\n",
       "                }\n",
       "\n",
       "                .geemap-colab .jupyter-button {\n",
       "                    --jp-layout-color3: var(--colab-primary-surface-color, white);\n",
       "                }\n",
       "            </style>\n",
       "            "
      ],
      "text/plain": [
       "<IPython.core.display.HTML object>"
      ]
     },
     "metadata": {},
     "output_type": "display_data"
    }
   ],
   "source": [
    "def buffer_distance(f):\n",
    "    distance = ee.Number(f.get('distance'))\n",
    "    buffered = ee.Feature(f.buffer(distance.add(1000)))\n",
    "    return buffered\n",
    "\n",
    "def get_distances_vector_buffer(distance_to_nearest_mature, method):\n",
    "    \n",
    "    if panama:\n",
    "        distance_to_nearest_mature = distance_to_nearest_mature \\\n",
    "        .addBands(distance_to_nearest_mature.gt(0).selfMask().rename(\"biome\"))\n",
    "    else:\n",
    "        categorical = ee.Image(f\"{data_folder}/categorical\")\n",
    "        biome_mask = categorical.select('biome').eq(1) \\\n",
    "        .Or(categorical.select('biome').eq(4)) \\\n",
    "        .Or(categorical.select('biome').eq(6))\n",
    "\n",
    "        distance_to_nearest_mature = distance_to_nearest_mature \\\n",
    "            .addBands(biome_mask)\n",
    "\n",
    "    distances_vector = distance_to_nearest_mature.stratifiedSample(\n",
    "        numPoints = 50000, classBand = \"biome\", region = roi, geometries = True\n",
    "    )\n",
    "\n",
    "    distances_vector_buffer = distances_vector.map(buffer_distance)\n",
    "\n",
    "    # Export the mean_biomass_image as an asset\n",
    "    task = ee.batch.Export.table.toAsset(\n",
    "        collection = distances_vector_buffer,\n",
    "        assetId = f\"{data_folder}/{folder}/distances_vector_buffer\",\n",
    "        description = \"distances_vector_buffer\"\n",
    "    )\n",
    "\n",
    "    task.start()\n",
    "\n",
    "distance_to_nearest_mature = ee.Image(f\"{data_folder}/{folder}/distance_to_nearest_mature_neighborhood\")\n",
    "get_distances_vector_buffer(distance_to_nearest_mature, method)"
   ]
  },
  {
   "cell_type": "code",
   "execution_count": 29,
   "metadata": {},
   "outputs": [
    {
     "data": {
      "text/html": [
       "\n",
       "            <style>\n",
       "                .geemap-dark {\n",
       "                    --jp-widgets-color: white;\n",
       "                    --jp-widgets-label-color: white;\n",
       "                    --jp-ui-font-color1: white;\n",
       "                    --jp-layout-color2: #454545;\n",
       "                    background-color: #383838;\n",
       "                }\n",
       "\n",
       "                .geemap-dark .jupyter-button {\n",
       "                    --jp-layout-color3: #383838;\n",
       "                }\n",
       "\n",
       "                .geemap-colab {\n",
       "                    background-color: var(--colab-primary-surface-color, white);\n",
       "                }\n",
       "\n",
       "                .geemap-colab .jupyter-button {\n",
       "                    --jp-layout-color3: var(--colab-primary-surface-color, white);\n",
       "                }\n",
       "            </style>\n",
       "            "
      ],
      "text/plain": [
       "<IPython.core.display.HTML object>"
      ]
     },
     "metadata": {},
     "output_type": "display_data"
    }
   ],
   "source": [
    "def export_nearest_mature_biomass(distances_vector_buffer, mature_biomass, method):\n",
    "\n",
    "    nearest_mature_biomass = mature_biomass.reduceRegions(distances_vector_buffer, ee.Reducer.firstNonNull(), \n",
    "                                            crs = proj['crs'], crsTransform = proj['transform'])\n",
    "\n",
    "    # Export the mean_biomass_image as an asset\n",
    "    task = ee.batch.Export.table.toAsset(\n",
    "        collection = nearest_mature_biomass,\n",
    "        assetId = f\"{data_folder}/{folder}/nearest_mature_biomass_neighborhood\",\n",
    "        description = \"nearest_mature_biomass\"\n",
    "    )\n",
    "\n",
    "    task.start()\n",
    "\n",
    "# mature_biomass = ee.Image(f\"{data_folder}/{folder}/mature_biomass_500\")\n",
    "mature_biomass = ee.Image(\"projects/amazon-forest-regrowth/assets/mature_biomass_neighborhood\")\n",
    "distances_vector_buffer = ee.FeatureCollection(f\"{data_folder}/{folder}/distances_vector_buffer\")\n",
    "export_nearest_mature_biomass(distances_vector_buffer, mature_biomass, method)"
   ]
  },
  {
   "cell_type": "code",
   "execution_count": 34,
   "metadata": {},
   "outputs": [
    {
     "data": {
      "text/html": [
       "\n",
       "            <style>\n",
       "                .geemap-dark {\n",
       "                    --jp-widgets-color: white;\n",
       "                    --jp-widgets-label-color: white;\n",
       "                    --jp-ui-font-color1: white;\n",
       "                    --jp-layout-color2: #454545;\n",
       "                    background-color: #383838;\n",
       "                }\n",
       "\n",
       "                .geemap-dark .jupyter-button {\n",
       "                    --jp-layout-color3: #383838;\n",
       "                }\n",
       "\n",
       "                .geemap-colab {\n",
       "                    background-color: var(--colab-primary-surface-color, white);\n",
       "                }\n",
       "\n",
       "                .geemap-colab .jupyter-button {\n",
       "                    --jp-layout-color3: var(--colab-primary-surface-color, white);\n",
       "                }\n",
       "            </style>\n",
       "            "
      ],
      "text/plain": [
       "<IPython.core.display.HTML object>"
      ]
     },
     "metadata": {},
     "output_type": "display_data"
    }
   ],
   "source": [
    "def export_nearest_mature_biomass_image(nearest_mature_biomass, method):\n",
    "\n",
    "    # change geometries from polygons to points\n",
    "    nearest_mature_biomass = nearest_mature_biomass.map(lambda f: ee.Feature(f.geometry().centroid()).copyProperties(f))\n",
    "\n",
    "    # Convert the FeatureCollection to an image\n",
    "    nearest_mature_biomass_image = nearest_mature_biomass.reduceToImage(\n",
    "        properties = ['first'],\n",
    "        reducer = ee.Reducer.first()\n",
    "    ).toInt16().rename('nearest_mature_biomass')\n",
    "\n",
    "    export_image(nearest_mature_biomass_image, \"nearest_mature_biomass_image_neighborhood\", \\\n",
    "                 region = roi, folder = method, scale = 1000)\n",
    "\n",
    "nearest_mature_biomass = ee.FeatureCollection(f\"{data_folder}/{folder}/nearest_mature_biomass_neighborhood\")\n",
    "export_nearest_mature_biomass_image(nearest_mature_biomass, method)\n"
   ]
  },
  {
   "cell_type": "code",
   "execution_count": null,
   "metadata": {},
   "outputs": [],
   "source": [
    "assetId = 'users/your-username/your-asset-name'\n",
    "ee.data.deleteAsset(assetId)"
   ]
  }
 ],
 "metadata": {
  "kernelspec": {
   "display_name": "regrowth-env",
   "language": "python",
   "name": "python3"
  },
  "language_info": {
   "codemirror_mode": {
    "name": "ipython",
    "version": 3
   },
   "file_extension": ".py",
   "mimetype": "text/x-python",
   "name": "python",
   "nbconvert_exporter": "python",
   "pygments_lexer": "ipython3",
   "version": "3.12.8"
  }
 },
 "nbformat": 4,
 "nbformat_minor": 2
}
