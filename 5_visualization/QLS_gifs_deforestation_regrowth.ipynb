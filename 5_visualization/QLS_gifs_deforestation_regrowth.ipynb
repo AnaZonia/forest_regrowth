{
 "cells": [
  {
   "cell_type": "code",
   "execution_count": null,
   "metadata": {},
   "outputs": [],
   "source": [
    "import ee\n",
    "import geemap\n",
    "\n",
    "# Authenticate to Earth Engine\n",
    "try:\n",
    "    ee.Initialize()\n",
    "except Exception as e:\n",
    "    ee.Authenticate()\n",
    "    ee.Initialize()\n",
    "\n",
    "first_year = 1985\n",
    "last_year = 2020\n",
    "\n",
    "data_folder = \"projects/amazon-forest-regrowth/assets\""
   ]
  },
  {
   "cell_type": "code",
   "execution_count": null,
   "metadata": {},
   "outputs": [],
   "source": [
    "# This collection is not publicly accessible. To sign up for access,\n",
    "# please see https://developers.planet.com/docs/integrations/gee/nicfi\n",
    "nicfi = ee.ImageCollection('projects/planet-nicfi/assets/basemaps/americas')\n",
    "\n",
    "# # Filter basemaps by date and get the first image from filtered results\n",
    "# basemap = nicfi.filter(ee.Filter.date('2016-03-01', '2016-07-01')).first()\n",
    "# basemap2 = nicfi.filter(ee.Filter.date('2018-03-01', '2018-07-01')).first()\n",
    "basemap = nicfi.filter(ee.Filter.date('2020-03-01', '2020-07-01')).first()\n",
    "\n",
    "vis_planet = {'bands': ['R', 'G', 'B'], 'min': 64, 'max': 5454, 'gamma': 1.8}\n",
    "\n",
    "\n"
   ]
  }
 ],
 "metadata": {
  "kernelspec": {
   "display_name": "regrowth-env",
   "language": "python",
   "name": "python3"
  },
  "language_info": {
   "codemirror_mode": {
    "name": "ipython",
    "version": 3
   },
   "file_extension": ".py",
   "mimetype": "text/x-python",
   "name": "python",
   "nbconvert_exporter": "python",
   "pygments_lexer": "ipython3",
   "version": "3.12.8"
  }
 },
 "nbformat": 4,
 "nbformat_minor": 2
}
