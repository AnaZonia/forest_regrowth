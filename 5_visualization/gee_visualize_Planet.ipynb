{
 "cells": [
  {
   "cell_type": "code",
   "execution_count": 2,
   "metadata": {},
   "outputs": [
    {
     "data": {
      "text/html": [
       "\n",
       "            <style>\n",
       "                .geemap-dark {\n",
       "                    --jp-widgets-color: white;\n",
       "                    --jp-widgets-label-color: white;\n",
       "                    --jp-ui-font-color1: white;\n",
       "                    --jp-layout-color2: #454545;\n",
       "                    background-color: #383838;\n",
       "                }\n",
       "\n",
       "                .geemap-dark .jupyter-button {\n",
       "                    --jp-layout-color3: #383838;\n",
       "                }\n",
       "\n",
       "                .geemap-colab {\n",
       "                    background-color: var(--colab-primary-surface-color, white);\n",
       "                }\n",
       "\n",
       "                .geemap-colab .jupyter-button {\n",
       "                    --jp-layout-color3: var(--colab-primary-surface-color, white);\n",
       "                }\n",
       "            </style>\n",
       "            "
      ],
      "text/plain": [
       "<IPython.core.display.HTML object>"
      ]
     },
     "metadata": {},
     "output_type": "display_data"
    }
   ],
   "source": [
    "import ee\n",
    "import geemap\n",
    "\n",
    "# Authenticate to Earth Engine\n",
    "try:\n",
    "    ee.Initialize()\n",
    "except Exception as e:\n",
    "    ee.Authenticate()\n",
    "    ee.Initialize()\n",
    "\n",
    "first_year = 1985\n",
    "last_year = 2020\n",
    "\n",
    "data_folder = \"projects/amazon-forest-regrowth/assets\"\n",
    "\n",
    "\n"
   ]
  },
  {
   "cell_type": "code",
   "execution_count": 12,
   "metadata": {},
   "outputs": [
    {
     "data": {
      "text/html": [
       "\n",
       "            <style>\n",
       "                .geemap-dark {\n",
       "                    --jp-widgets-color: white;\n",
       "                    --jp-widgets-label-color: white;\n",
       "                    --jp-ui-font-color1: white;\n",
       "                    --jp-layout-color2: #454545;\n",
       "                    background-color: #383838;\n",
       "                }\n",
       "\n",
       "                .geemap-dark .jupyter-button {\n",
       "                    --jp-layout-color3: #383838;\n",
       "                }\n",
       "\n",
       "                .geemap-colab {\n",
       "                    background-color: var(--colab-primary-surface-color, white);\n",
       "                }\n",
       "\n",
       "                .geemap-colab .jupyter-button {\n",
       "                    --jp-layout-color3: var(--colab-primary-surface-color, white);\n",
       "                }\n",
       "            </style>\n",
       "            "
      ],
      "text/plain": [
       "<IPython.core.display.HTML object>"
      ]
     },
     "metadata": {},
     "output_type": "display_data"
    },
    {
     "data": {
      "application/vnd.jupyter.widget-view+json": {
       "model_id": "34b8e65e1f1f4ba0bec511c5d28ad6af",
       "version_major": 2,
       "version_minor": 0
      },
      "text/plain": [
       "Output()"
      ]
     },
     "execution_count": 12,
     "metadata": {},
     "output_type": "execute_result"
    }
   ],
   "source": []
  },
  {
   "cell_type": "code",
   "execution_count": 2,
   "metadata": {},
   "outputs": [
    {
     "data": {
      "text/html": [
       "\n",
       "            <style>\n",
       "                .geemap-dark {\n",
       "                    --jp-widgets-color: white;\n",
       "                    --jp-widgets-label-color: white;\n",
       "                    --jp-ui-font-color1: white;\n",
       "                    --jp-layout-color2: #454545;\n",
       "                    background-color: #383838;\n",
       "                }\n",
       "\n",
       "                .geemap-dark .jupyter-button {\n",
       "                    --jp-layout-color3: #383838;\n",
       "                }\n",
       "\n",
       "                .geemap-colab {\n",
       "                    background-color: var(--colab-primary-surface-color, white);\n",
       "                }\n",
       "\n",
       "                .geemap-colab .jupyter-button {\n",
       "                    --jp-layout-color3: var(--colab-primary-surface-color, white);\n",
       "                }\n",
       "            </style>\n",
       "            "
      ],
      "text/plain": [
       "<IPython.core.display.HTML object>"
      ]
     },
     "metadata": {},
     "output_type": "display_data"
    }
   ],
   "source": [
    "# This collection is not publicly accessible. To sign up for access,\n",
    "# please see https://developers.planet.com/docs/integrations/gee/nicfi\n",
    "nicfi = ee.ImageCollection('projects/planet-nicfi/assets/basemaps/americas')\n",
    "\n",
    "# # Filter basemaps by date and get the first image from filtered results\n",
    "# basemap = nicfi.filter(ee.Filter.date('2016-03-01', '2016-07-01')).first()\n",
    "# basemap2 = nicfi.filter(ee.Filter.date('2018-03-01', '2018-07-01')).first()\n",
    "basemap = nicfi.filter(ee.Filter.date('2023-01-01', '2023-07-01')).first()\n",
    "\n",
    "vis_planet = {'bands': ['R', 'G', 'B'], 'min': 64, 'max': 5454, 'gamma': 1.8}\n",
    "\n",
    "age = ee.Image(\"projects/mapbiomas-public/assets/brazil/lulc/collection9/mapbiomas_collection90_secondary_vegetation_age_v1\")\n",
    "\n",
    "\n"
   ]
  },
  {
   "cell_type": "code",
   "execution_count": 19,
   "metadata": {},
   "outputs": [
    {
     "data": {
      "text/html": [
       "\n",
       "            <style>\n",
       "                .geemap-dark {\n",
       "                    --jp-widgets-color: white;\n",
       "                    --jp-widgets-label-color: white;\n",
       "                    --jp-ui-font-color1: white;\n",
       "                    --jp-layout-color2: #454545;\n",
       "                    background-color: #383838;\n",
       "                }\n",
       "\n",
       "                .geemap-dark .jupyter-button {\n",
       "                    --jp-layout-color3: #383838;\n",
       "                }\n",
       "\n",
       "                .geemap-colab {\n",
       "                    background-color: var(--colab-primary-surface-color, white);\n",
       "                }\n",
       "\n",
       "                .geemap-colab .jupyter-button {\n",
       "                    --jp-layout-color3: var(--colab-primary-surface-color, white);\n",
       "                }\n",
       "            </style>\n",
       "            "
      ],
      "text/plain": [
       "<IPython.core.display.HTML object>"
      ]
     },
     "metadata": {},
     "output_type": "display_data"
    },
    {
     "name": "stdout",
     "output_type": "stream",
     "text": [
      "Year: 2020, Bands: ['secondary_vegetation_age_2020']\n",
      "Year: 2021, Bands: ['secondary_vegetation_age_2021']\n",
      "Year: 2022, Bands: ['secondary_vegetation_age_2022']\n",
      "Year: 2023, Bands: ['secondary_vegetation_age_2023']\n"
     ]
    },
    {
     "data": {
      "application/vnd.jupyter.widget-view+json": {
       "model_id": "a2d6cd7380c343378fa3a369ed2a146f",
       "version_major": 2,
       "version_minor": 0
      },
      "text/plain": [
       "Map(center=[0, 0], controls=(WidgetControl(options=['position', 'transparent_bg'], widget=SearchDataGUI(childr…"
      ]
     },
     "execution_count": 19,
     "metadata": {},
     "output_type": "execute_result"
    }
   ],
   "source": [
    "import ee\n",
    "import geemap\n",
    "\n",
    "# Initialize the Earth Engine module\n",
    "ee.Initialize()\n",
    "\n",
    "# Define the NICFI Image Collection\n",
    "nicfi = ee.ImageCollection('projects/planet-nicfi/assets/basemaps/americas')\n",
    "\n",
    "# Define visualization parameters for Planet basemaps\n",
    "vis_planet = {'bands': ['R', 'G', 'B'], 'min': 64, 'max': 5454, 'gamma': 1.8}\n",
    "\n",
    "all_ages = ee.Image(f\"projects/mapbiomas-public/assets/brazil/lulc/collection9/mapbiomas_collection90_secondary_vegetation_age_v1\")\n",
    "\n",
    "# Define a function to get secondary vegetation age for a specific year\n",
    "def get_age_image(year):\n",
    "    return all_ages.select(f\"secondary_vegetation_age_{year}\")\n",
    "\n",
    "# Create an ImageCollection for each year from 2020 to 2023\n",
    "years = [2020, 2021, 2022, 2023]\n",
    "age_images = ee.ImageCollection([get_age_image(year) for year in years])\n",
    "\n",
    "for year in years:\n",
    "    age_image = get_age_image(year)\n",
    "    print(f\"Year: {year}, Bands: {age_image.bandNames().getInfo()}\")\n",
    "\n",
    "map = geemap.Map()\n",
    "map.addLayer(all_ages.select(\"secondary_vegetation_age_1986\"), {'min': 0, 'max': 30, 'palette': ['red', 'green', 'blue']}, '1985')\n",
    "map.addLayer(age_images.first(), {'min': 0, 'max': 30, 'palette': ['red', 'green', 'blue']}, '2020')\n",
    "map\n"
   ]
  },
  {
   "cell_type": "code",
   "execution_count": 12,
   "metadata": {},
   "outputs": [
    {
     "data": {
      "text/html": [
       "\n",
       "            <style>\n",
       "                .geemap-dark {\n",
       "                    --jp-widgets-color: white;\n",
       "                    --jp-widgets-label-color: white;\n",
       "                    --jp-ui-font-color1: white;\n",
       "                    --jp-layout-color2: #454545;\n",
       "                    background-color: #383838;\n",
       "                }\n",
       "\n",
       "                .geemap-dark .jupyter-button {\n",
       "                    --jp-layout-color3: #383838;\n",
       "                }\n",
       "\n",
       "                .geemap-colab {\n",
       "                    background-color: var(--colab-primary-surface-color, white);\n",
       "                }\n",
       "\n",
       "                .geemap-colab .jupyter-button {\n",
       "                    --jp-layout-color3: var(--colab-primary-surface-color, white);\n",
       "                }\n",
       "            </style>\n",
       "            "
      ],
      "text/plain": [
       "<IPython.core.display.HTML object>"
      ]
     },
     "metadata": {},
     "output_type": "display_data"
    },
    {
     "data": {
      "text/plain": [
       "{'type': 'ImageCollection',\n",
       " 'bands': [],\n",
       " 'features': [{'type': 'Image',\n",
       "   'bands': [{'id': 'secondary_vegetation_age_2020',\n",
       "     'data_type': {'type': 'PixelType',\n",
       "      'precision': 'int',\n",
       "      'min': 0,\n",
       "      'max': 255},\n",
       "     'dimensions': [155239, 158459],\n",
       "     'crs': 'EPSG:4326',\n",
       "     'crs_transform': [0.00026949458523585647,\n",
       "      0,\n",
       "      -74.89739613957876,\n",
       "      0,\n",
       "      -0.00026949458523585647,\n",
       "      7.91209152793951]}],\n",
       "   'version': 1724225835531157,\n",
       "   'id': 'projects/mapbiomas-public/assets/brazil/lulc/collection9/mapbiomas_collection90_secondary_vegetation_age_v1',\n",
       "   'properties': {'system:footprint': {'type': 'LinearRing',\n",
       "     'coordinates': [[-44.99120091146869, -34.79188619133721],\n",
       "      [-39.925146999777766, -34.79188617797568],\n",
       "      [-33.06113219577002, -34.791885974087286],\n",
       "      [-33.06118844262496, 7.9122266386845],\n",
       "      [-40.25198918862905, 7.912226776789873],\n",
       "      [-45.154622064354704, 7.912226754546059],\n",
       "      [-54.30620338690848, 7.912226723010938],\n",
       "      [-61.82357376194945, 7.9122267647797],\n",
       "      [-67.0530487992823, 7.912226736069681],\n",
       "      [-74.89753394200451, 7.912226654196493],\n",
       "      [-74.89759014548251, -34.79188593842208],\n",
       "      [-66.39936443186834, -34.791886164255445],\n",
       "      [-62.6406792145872, -34.791886185410064],\n",
       "      [-57.41120416895494, -34.79188618482935],\n",
       "      [-53.65251899146853, -34.791886180055464],\n",
       "      [-48.25962287443402, -34.79188616177485],\n",
       "      [-44.99120091146869, -34.79188619133721]]},\n",
       "    'system:asset_size': 22679331619,\n",
       "    'system:index': '0'}},\n",
       "  {'type': 'Image',\n",
       "   'bands': [{'id': 'secondary_vegetation_age_2021',\n",
       "     'data_type': {'type': 'PixelType',\n",
       "      'precision': 'int',\n",
       "      'min': 0,\n",
       "      'max': 255},\n",
       "     'dimensions': [155239, 158459],\n",
       "     'crs': 'EPSG:4326',\n",
       "     'crs_transform': [0.00026949458523585647,\n",
       "      0,\n",
       "      -74.89739613957876,\n",
       "      0,\n",
       "      -0.00026949458523585647,\n",
       "      7.91209152793951]}],\n",
       "   'version': 1724225835531157,\n",
       "   'id': 'projects/mapbiomas-public/assets/brazil/lulc/collection9/mapbiomas_collection90_secondary_vegetation_age_v1',\n",
       "   'properties': {'system:footprint': {'type': 'LinearRing',\n",
       "     'coordinates': [[-44.99120091146869, -34.79188619133721],\n",
       "      [-39.925146999777766, -34.79188617797568],\n",
       "      [-33.06113219577002, -34.791885974087286],\n",
       "      [-33.06118844262496, 7.9122266386845],\n",
       "      [-40.25198918862905, 7.912226776789873],\n",
       "      [-45.154622064354704, 7.912226754546059],\n",
       "      [-54.30620338690848, 7.912226723010938],\n",
       "      [-61.82357376194945, 7.9122267647797],\n",
       "      [-67.0530487992823, 7.912226736069681],\n",
       "      [-74.89753394200451, 7.912226654196493],\n",
       "      [-74.89759014548251, -34.79188593842208],\n",
       "      [-66.39936443186834, -34.791886164255445],\n",
       "      [-62.6406792145872, -34.791886185410064],\n",
       "      [-57.41120416895494, -34.79188618482935],\n",
       "      [-53.65251899146853, -34.791886180055464],\n",
       "      [-48.25962287443402, -34.79188616177485],\n",
       "      [-44.99120091146869, -34.79188619133721]]},\n",
       "    'system:asset_size': 22679331619,\n",
       "    'system:index': '1'}},\n",
       "  {'type': 'Image',\n",
       "   'bands': [{'id': 'secondary_vegetation_age_2022',\n",
       "     'data_type': {'type': 'PixelType',\n",
       "      'precision': 'int',\n",
       "      'min': 0,\n",
       "      'max': 255},\n",
       "     'dimensions': [155239, 158459],\n",
       "     'crs': 'EPSG:4326',\n",
       "     'crs_transform': [0.00026949458523585647,\n",
       "      0,\n",
       "      -74.89739613957876,\n",
       "      0,\n",
       "      -0.00026949458523585647,\n",
       "      7.91209152793951]}],\n",
       "   'version': 1724225835531157,\n",
       "   'id': 'projects/mapbiomas-public/assets/brazil/lulc/collection9/mapbiomas_collection90_secondary_vegetation_age_v1',\n",
       "   'properties': {'system:footprint': {'type': 'LinearRing',\n",
       "     'coordinates': [[-44.99120091146869, -34.79188619133721],\n",
       "      [-39.925146999777766, -34.79188617797568],\n",
       "      [-33.06113219577002, -34.791885974087286],\n",
       "      [-33.06118844262496, 7.9122266386845],\n",
       "      [-40.25198918862905, 7.912226776789873],\n",
       "      [-45.154622064354704, 7.912226754546059],\n",
       "      [-54.30620338690848, 7.912226723010938],\n",
       "      [-61.82357376194945, 7.9122267647797],\n",
       "      [-67.0530487992823, 7.912226736069681],\n",
       "      [-74.89753394200451, 7.912226654196493],\n",
       "      [-74.89759014548251, -34.79188593842208],\n",
       "      [-66.39936443186834, -34.791886164255445],\n",
       "      [-62.6406792145872, -34.791886185410064],\n",
       "      [-57.41120416895494, -34.79188618482935],\n",
       "      [-53.65251899146853, -34.791886180055464],\n",
       "      [-48.25962287443402, -34.79188616177485],\n",
       "      [-44.99120091146869, -34.79188619133721]]},\n",
       "    'system:asset_size': 22679331619,\n",
       "    'system:index': '2'}},\n",
       "  {'type': 'Image',\n",
       "   'bands': [{'id': 'secondary_vegetation_age_2023',\n",
       "     'data_type': {'type': 'PixelType',\n",
       "      'precision': 'int',\n",
       "      'min': 0,\n",
       "      'max': 255},\n",
       "     'dimensions': [155239, 158459],\n",
       "     'crs': 'EPSG:4326',\n",
       "     'crs_transform': [0.00026949458523585647,\n",
       "      0,\n",
       "      -74.89739613957876,\n",
       "      0,\n",
       "      -0.00026949458523585647,\n",
       "      7.91209152793951]}],\n",
       "   'version': 1724225835531157,\n",
       "   'id': 'projects/mapbiomas-public/assets/brazil/lulc/collection9/mapbiomas_collection90_secondary_vegetation_age_v1',\n",
       "   'properties': {'system:footprint': {'type': 'LinearRing',\n",
       "     'coordinates': [[-44.99120091146869, -34.79188619133721],\n",
       "      [-39.925146999777766, -34.79188617797568],\n",
       "      [-33.06113219577002, -34.791885974087286],\n",
       "      [-33.06118844262496, 7.9122266386845],\n",
       "      [-40.25198918862905, 7.912226776789873],\n",
       "      [-45.154622064354704, 7.912226754546059],\n",
       "      [-54.30620338690848, 7.912226723010938],\n",
       "      [-61.82357376194945, 7.9122267647797],\n",
       "      [-67.0530487992823, 7.912226736069681],\n",
       "      [-74.89753394200451, 7.912226654196493],\n",
       "      [-74.89759014548251, -34.79188593842208],\n",
       "      [-66.39936443186834, -34.791886164255445],\n",
       "      [-62.6406792145872, -34.791886185410064],\n",
       "      [-57.41120416895494, -34.79188618482935],\n",
       "      [-53.65251899146853, -34.791886180055464],\n",
       "      [-48.25962287443402, -34.79188616177485],\n",
       "      [-44.99120091146869, -34.79188619133721]]},\n",
       "    'system:asset_size': 22679331619,\n",
       "    'system:index': '3'}}]}"
      ]
     },
     "execution_count": 12,
     "metadata": {},
     "output_type": "execute_result"
    }
   ],
   "source": [
    "\n",
    "# Create a GIF from the ImageCollection\n",
    "gif_params = {\n",
    "    'dimensions': 600,\n",
    "    'region': ee.Geometry.Rectangle([-75, -33, -34, 5]), # Adjust this region as needed\n",
    "    'framesPerSecond': 2,\n",
    "    'crs': 'EPSG:3857'\n",
    "}\n",
    "\n",
    "# Export the GIF to Google Drive\n",
    "task = ee.batch.Export.video.toDrive(\n",
    "    collection=age_images,\n",
    "    description='Secondary_Forest_Age_GIF',\n",
    "    **gif_params\n",
    ")\n",
    "\n",
    "task.start()"
   ]
  },
  {
   "cell_type": "code",
   "execution_count": 6,
   "metadata": {},
   "outputs": [
    {
     "data": {
      "text/html": [
       "\n",
       "            <style>\n",
       "                .geemap-dark {\n",
       "                    --jp-widgets-color: white;\n",
       "                    --jp-widgets-label-color: white;\n",
       "                    --jp-ui-font-color1: white;\n",
       "                    --jp-layout-color2: #454545;\n",
       "                    background-color: #383838;\n",
       "                }\n",
       "\n",
       "                .geemap-dark .jupyter-button {\n",
       "                    --jp-layout-color3: #383838;\n",
       "                }\n",
       "\n",
       "                .geemap-colab {\n",
       "                    background-color: var(--colab-primary-surface-color, white);\n",
       "                }\n",
       "\n",
       "                .geemap-colab .jupyter-button {\n",
       "                    --jp-layout-color3: var(--colab-primary-surface-color, white);\n",
       "                }\n",
       "            </style>\n",
       "            "
      ],
      "text/plain": [
       "<IPython.core.display.HTML object>"
      ]
     },
     "metadata": {},
     "output_type": "display_data"
    },
    {
     "data": {
      "application/vnd.jupyter.widget-view+json": {
       "model_id": "c8ac6939d20243b197eaeb2540d6297a",
       "version_major": 2,
       "version_minor": 0
      },
      "text/plain": [
       "Map(center=[-0.0013335310118573354, -73.54611700899127], controls=(WidgetControl(options=['position', 'transpa…"
      ]
     },
     "execution_count": 6,
     "metadata": {},
     "output_type": "execute_result"
    }
   ],
   "source": [
    "roi = ee.FeatureCollection(\"USDOS/LSIB_SIMPLE/2017\").filterMetadata(\"country_na\", \"equals\", \"Panama\").geometry()\n",
    "\n",
    "# Load the image collections\n",
    "transition = ee.ImageCollection('projects/JRC/TMF/v1_2023/TransitionMap_Subtypes').mosaic().clip(roi)\n",
    "annual_changes = ee.ImageCollection('projects/JRC/TMF/v1_2023/AnnualChanges').mosaic().clip(roi)\n",
    "\n",
    "# Define regrowth and degraded conditions\n",
    "regrowth = transition.gte(31).And(transition.lte(33))\n",
    "\n",
    "# Initialize AgeRegrowth and AgeDegraded\n",
    "age = ee.Image.constant(0)\n",
    "\n",
    "# Calculate AgeRegrowth\n",
    "for i in range(1990, 2023):\n",
    "    year = 'Dec' + str(i)\n",
    "    annual_changes_year = annual_changes.select(year)\n",
    "    condition = annual_changes_year.eq(4).And(regrowth) # were regrowing then AND are regrowing now\n",
    "    age = age.add(condition.eq(1))\n",
    "\n",
    "age = age.selfMask().rename(\"age\")\n",
    "\n",
    "# Visualization parameters\n",
    "vis_ages = {'min': 0, 'max': 35, 'palette': ['yellow', 'red']}\n",
    "\n",
    "Map = geemap.Map()\n",
    "Map.centerObject(basemap, 4)\n",
    "Map.addLayer(basemap, vis_planet, '2023 mosaic')\n",
    "Map.addLayer(age, vis_ages, 'ages')\n",
    "Map"
   ]
  },
  {
   "cell_type": "code",
   "execution_count": 3,
   "metadata": {},
   "outputs": [
    {
     "data": {
      "text/html": [
       "\n",
       "            <style>\n",
       "                .geemap-dark {\n",
       "                    --jp-widgets-color: white;\n",
       "                    --jp-widgets-label-color: white;\n",
       "                    --jp-ui-font-color1: white;\n",
       "                    --jp-layout-color2: #454545;\n",
       "                    background-color: #383838;\n",
       "                }\n",
       "\n",
       "                .geemap-dark .jupyter-button {\n",
       "                    --jp-layout-color3: #383838;\n",
       "                }\n",
       "\n",
       "                .geemap-colab {\n",
       "                    background-color: var(--colab-primary-surface-color, white);\n",
       "                }\n",
       "\n",
       "                .geemap-colab .jupyter-button {\n",
       "                    --jp-layout-color3: var(--colab-primary-surface-color, white);\n",
       "                }\n",
       "            </style>\n",
       "            "
      ],
      "text/plain": [
       "<IPython.core.display.HTML object>"
      ]
     },
     "metadata": {},
     "output_type": "display_data"
    },
    {
     "data": {
      "application/vnd.jupyter.widget-view+json": {
       "model_id": "fb378b6b47d649d486054fce489fbfa7",
       "version_major": 2,
       "version_minor": 0
      },
      "text/plain": [
       "Map(center=[-0.03247460684437231, -73.82115720575285], controls=(WidgetControl(options=['position', 'transpare…"
      ]
     },
     "execution_count": 3,
     "metadata": {},
     "output_type": "execute_result"
    }
   ],
   "source": [
    "mature = ee.Image(f\"{data_folder}/mature_biomass\")\n",
    "agbd = ee.Image(f\"{data_folder}/age_agbd\").select('agbd')\n",
    "mask = ee.Image(f\"{data_folder}/mapbiomas/one_hectare_mask\")\n",
    "ages = ee.Image(f\"{data_folder}/mapbiomas/secondary\").select('age').updateMask(mask)\n",
    "pantanal = ee.FeatureCollection(f\"{data_folder}/raw/biomes_br\") \\\n",
    "        .filter(ee.Filter.eq(\"CD_Bioma\", 6)).geometry()\n",
    "\n",
    "# Visualization parameters\n",
    "vis_ages = {'min': 0, 'max': 35, 'palette': ['yellow', 'red']}\n",
    "vis_agbd = {'min': 0, 'max': 300, 'palette': ['yellow', 'green']}\n",
    "vis_mature = {'min': 0, 'max': 300, 'palette': ['blue', 'red']}\n",
    "vis_geom = {\n",
    "    'color': 'red',      # Color of the edge\n",
    "    'width': 2           # Width of the edge\n",
    "}\n",
    "\n",
    "Map = geemap.Map()\n",
    "Map.centerObject(basemap, 4)\n",
    "# Map.addLayer(basemap, vis, '2016 mosaic')\n",
    "Map.addLayer(basemap, vis_planet, '2020 mosaic')\n",
    "# Map.addLayer(pantanal, vis_geom, 'pantanal')\n",
    "Map.addLayer(ages, vis_ages, 'ages')\n",
    "# Map.addLayer(lulc, {}, 'lulc')\n",
    "# Map.addLayer(agbd, vis_agbd, 'agbd')\n",
    "# Map.addLayer(mature, vis_mature, 'mature')\n",
    "Map"
   ]
  }
 ],
 "metadata": {
  "kernelspec": {
   "display_name": "regrowth-env",
   "language": "python",
   "name": "python3"
  },
  "language_info": {
   "codemirror_mode": {
    "name": "ipython",
    "version": 3
   },
   "file_extension": ".py",
   "mimetype": "text/x-python",
   "name": "python",
   "nbconvert_exporter": "python",
   "pygments_lexer": "ipython3",
   "version": "3.12.8"
  }
 },
 "nbformat": 4,
 "nbformat_minor": 2
}
